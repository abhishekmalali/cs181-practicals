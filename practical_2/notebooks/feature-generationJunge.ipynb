{
 "cells": [
  {
   "cell_type": "code",
   "execution_count": 6,
   "metadata": {
    "collapsed": true
   },
   "outputs": [],
   "source": [
    "import os\n",
    "import pandas as pd\n",
    "import numpy as np\n",
    "from collections import Counter\n",
    "try:\n",
    "    import xml.etree.cElementTree as ET\n",
    "except ImportError:\n",
    "    import xml.etree.ElementTree as ET\n",
    "from scipy import sparse\n",
    "import util"
   ]
  },
  {
   "cell_type": "code",
   "execution_count": 7,
   "metadata": {
    "collapsed": true
   },
   "outputs": [],
   "source": [
    "TRAIN_DIR = \"../data/train\""
   ]
  },
  {
   "cell_type": "code",
   "execution_count": 8,
   "metadata": {
    "collapsed": true
   },
   "outputs": [],
   "source": [
    "call_set = set([])"
   ]
  },
  {
   "cell_type": "code",
   "execution_count": 9,
   "metadata": {
    "collapsed": true
   },
   "outputs": [],
   "source": [
    "def add_to_set(tree):\n",
    "    for el in tree.iter():\n",
    "        call = el.tag\n",
    "        call_set.add(call)"
   ]
  },
  {
   "cell_type": "code",
   "execution_count": 10,
   "metadata": {
    "collapsed": true
   },
   "outputs": [],
   "source": [
    "#creating a set of features counting the number of tags\n",
    "def call_feats(tree, good_calls):\n",
    "    #Inputs\n",
    "    #tree - tree object for every file\n",
    "    #good_calls - list of tags for which we create the features\n",
    "    call_counter = {}\n",
    "    for el in tree.iter():\n",
    "        call = el.tag\n",
    "        if call not in call_counter:\n",
    "            call_counter[call] = 0\n",
    "        else:\n",
    "            call_counter[call] += 1\n",
    "\n",
    "    call_feat_array = np.zeros(len(good_calls))\n",
    "    for i in range(len(good_calls)):\n",
    "        call = good_calls[i]\n",
    "        call_feat_array[i] = 0\n",
    "        if call in call_counter:\n",
    "            call_feat_array[i] = call_counter[call]\n",
    "    return call_feat_array"
   ]
  },
  {
   "cell_type": "code",
   "execution_count": 11,
   "metadata": {
    "collapsed": true
   },
   "outputs": [],
   "source": [
    "###Creating function for loading data\n",
    "def create_matrix(start_index, end_index, tags, direc=\"../data/train\"):\n",
    "    X = None\n",
    "    classes = []\n",
    "    ids = []\n",
    "    i = -1\n",
    "    for datafile in os.listdir(direc):\n",
    "        if datafile == '.DS_Store':\n",
    "            continue\n",
    "            \n",
    "        i += 1\n",
    "        if i < start_index:\n",
    "            continue\n",
    "        if i >= end_index:\n",
    "            break\n",
    "        id_str, clas = datafile.split('.')[:2]\n",
    "        ids.append(id_str)\n",
    "        #adding target class to training data\n",
    "        try:\n",
    "            classes.append(util.malware_classes.index(clas))\n",
    "        except ValueError:\n",
    "            assert clas == \"X\"\n",
    "            classes.append(-1)\n",
    "            \n",
    "        #parse file as an xml document\n",
    "        tree = ET.parse(os.path.join(direc,datafile))\n",
    "        add_to_set(tree)\n",
    "        this_row = call_feats(tree, tags)\n",
    "        if X is None:\n",
    "            X = this_row \n",
    "        else:\n",
    "            X = np.vstack((X, this_row))\n",
    "            \n",
    "    return X, np.array(classes), ids    "
   ]
  },
  {
   "cell_type": "markdown",
   "metadata": {},
   "source": [
    "#### Data Exploration"
   ]
  },
  {
   "cell_type": "code",
   "execution_count": 12,
   "metadata": {
    "collapsed": false
   },
   "outputs": [],
   "source": [
    "#Data exploration\n",
    "#Loading the files\n",
    "fileList = os.listdir(TRAIN_DIR)\n",
    "numFiles = len(fileList)"
   ]
  },
  {
   "cell_type": "code",
   "execution_count": 13,
   "metadata": {
    "collapsed": false
   },
   "outputs": [],
   "source": [
    "#List of unique tags\n",
    "tags = []\n",
    "for idx in range(numFiles):\n",
    "    tree = ET.parse(os.path.join(TRAIN_DIR,fileList[idx]))\n",
    "    for el in tree.iter():\n",
    "        call = el.tag\n",
    "        tags.append(call)\n",
    "    tags = list(np.unique(tags))\n",
    "unique_tags = np.unique(tags)"
   ]
  },
  {
   "cell_type": "code",
   "execution_count": 14,
   "metadata": {
    "collapsed": false
   },
   "outputs": [],
   "source": [
    "#Converting all tags to 'str' from  numpy.string_\n",
    "unique_tags = [str(tag) for tag in unique_tags]"
   ]
  },
  {
   "cell_type": "markdown",
   "metadata": {},
   "source": [
    "## After looking through the log files manually, a few ideas for features came to me.  I add these below:"
   ]
  },
  {
   "cell_type": "code",
   "execution_count": 15,
   "metadata": {
    "collapsed": false,
    "scrolled": false
   },
   "outputs": [
    {
     "name": "stderr",
     "output_type": "stream",
     "text": [
      "/Users/vinaysubbiah/anaconda/lib/python2.7/site-packages/numpy/core/_methods.py:59: RuntimeWarning: Mean of empty slice.\n",
      "  warnings.warn(\"Mean of empty slice.\", RuntimeWarning)\n"
     ]
    }
   ],
   "source": [
    "# I noticed that all the Swizzor files have this really characteristic dump line of evenly spaced characters.  I\n",
    "#   tried taking the average length of each dump line.  \n",
    "dump_line_len = np.zeros(len(fileList))\n",
    "for idx in range(numFiles):\n",
    "    dump_lens=[]\n",
    "    tree = ET.parse(os.path.join(TRAIN_DIR,fileList[idx]))\n",
    "    for el in tree.iter():\n",
    "        call = el.tag\n",
    "        if call == 'dump_line':\n",
    "            dump_lens.append(len(el.items()[1][1]))\n",
    "    dump_lens_mean = np.mean(dump_lens)\n",
    "    if np.isnan(dump_lens_mean): \n",
    "        dump_line_len[idx]=0\n",
    "    else:\n",
    "        dump_line_len[idx]=dump_lens_mean\n",
    "Mean_Dump_Line_Length = pd.Series(dump_line_len,name=\"Mean_Dump_Line_Length\")"
   ]
  },
  {
   "cell_type": "code",
   "execution_count": 16,
   "metadata": {
    "collapsed": false,
    "scrolled": false
   },
   "outputs": [],
   "source": [
    "## Total amount of time spent sleeping in each file\n",
    "total_sleep_time = np.zeros(len(fileList))\n",
    "for idx in range(numFiles):\n",
    "    sleep_sum=[]\n",
    "    tree = ET.parse(os.path.join(TRAIN_DIR,fileList[idx]))\n",
    "    for el in tree.iter():\n",
    "        call = el.tag\n",
    "        if call == 'sleep':\n",
    "            sleep_sum.append(np.int(el.items()[0][1]))\n",
    "    total_sleep_time[idx]= np.sum(sleep_sum)\n",
    "    \n",
    "Total_Sleep_Time = pd.Series(total_sleep_time,name=\"Total_Sleep_Time\")"
   ]
  },
  {
   "cell_type": "code",
   "execution_count": 17,
   "metadata": {
    "collapsed": true
   },
   "outputs": [],
   "source": [
    "def time_parser(time):\n",
    "    ## Returns time in seconds from a time string\n",
    "    ## Takes in a time in the format 'mm:ss.ddd' and returns a float of seconds\n",
    "    ## ex: time_parser('02:13.250') = 133.25\n",
    "    minutes = float(time[0:2])\n",
    "    seconds = float(time[-6:])\n",
    "    return 60*minutes+seconds"
   ]
  },
  {
   "cell_type": "code",
   "execution_count": 18,
   "metadata": {
    "collapsed": false
   },
   "outputs": [],
   "source": [
    "## Total run-time for each file.  \n",
    "total_run_time = np.zeros(numFiles)\n",
    "for idx in range(numFiles):\n",
    "    runtimes=[]\n",
    "    tree = ET.parse(os.path.join(TRAIN_DIR,fileList[idx]))\n",
    "    for el in tree.iter():\n",
    "        end=0\n",
    "        start=0\n",
    "        call = el.tag\n",
    "        if call == 'process':\n",
    "            for item in el.items():\n",
    "                if item[0]=='starttime':\n",
    "                    start=time_parser(item[1])\n",
    "                if item[0]=='terminationtime':\n",
    "                    end=time_parser(item[1])\n",
    "        runtimes.append(end - start)\n",
    "    total_run_time[idx] = sum(runtimes)\n",
    "Total_Run_Time = pd.Series(total_run_time,name=\"Total_Run_Time\")           \n",
    "            "
   ]
  },
  {
   "cell_type": "code",
   "execution_count": 24,
   "metadata": {
    "collapsed": false
   },
   "outputs": [],
   "source": [
    "## Total run-time for each file.  \n",
    "# total_run_time = np.zeros(numFiles)\n",
    "num_failed_createprocesses = np.zeros(numFiles)\n",
    "mean_failed_createprocesses = np.zeros(numFiles)\n",
    "for idx in range(numFiles):\n",
    "    runtimes=[]\n",
    "    tree = ET.parse(os.path.join(TRAIN_DIR,fileList[idx]))\n",
    "    successfuls=[]\n",
    "    for el in tree.iter():\n",
    "        end=0\n",
    "        start=0\n",
    "        call = el.tag\n",
    "        if call == 'create_process':\n",
    "            for item in el.items():\n",
    "                if item[0]=='successful': \n",
    "                    successfuls.append(int(item[1]))\n",
    "    if not np.isnan(np.mean(successfuls)):\n",
    "        mean_failed_createprocesses[idx] = np.mean(successfuls)\n",
    "    else: mean_failed_createprocesses[idx]=0\n",
    "    num_failed_createprocesses[idx] = sum(np.array(successfuls)==0)\n",
    "                    \n",
    "\n",
    "Mean_Failed_CreateProcesses = pd.Series(mean_failed_createprocesses,name=\"Mean_Failed_Createprocesses\")  \n",
    "Num_Failed_CreateProcesses = pd.Series(num_failed_createprocesses,name=\"Num_Failed_Createprocesses\")\n",
    "            "
   ]
  },
  {
   "cell_type": "markdown",
   "metadata": {},
   "source": [
    "## I'll put these three features onto the DataFrame"
   ]
  },
  {
   "cell_type": "code",
   "execution_count": 25,
   "metadata": {
    "collapsed": true
   },
   "outputs": [],
   "source": [
    "features_df = pd.read_csv('../outputs/features_v1.csv')"
   ]
  },
  {
   "cell_type": "code",
   "execution_count": 26,
   "metadata": {
    "collapsed": true
   },
   "outputs": [],
   "source": [
    "features_df['Total_Run_Time']=Total_Run_Time"
   ]
  },
  {
   "cell_type": "code",
   "execution_count": 27,
   "metadata": {
    "collapsed": false
   },
   "outputs": [],
   "source": [
    "features_df['Total_Sleep_Time']=Total_Sleep_Time"
   ]
  },
  {
   "cell_type": "code",
   "execution_count": 28,
   "metadata": {
    "collapsed": true
   },
   "outputs": [],
   "source": [
    "features_df['Mean_Dump_Line_length'] =Mean_Dump_Line_Length"
   ]
  },
  {
   "cell_type": "code",
   "execution_count": 29,
   "metadata": {
    "collapsed": false
   },
   "outputs": [],
   "source": [
    "features_df['Mean_Failed_CreateProcesses']=Mean_Failed_CreateProcesses\n",
    "features_df['Num_Failed_CreateProcesses']=Num_Failed_CreateProcesses"
   ]
  },
  {
   "cell_type": "markdown",
   "metadata": {},
   "source": [
    "## Now I save the dataframe with the new features"
   ]
  },
  {
   "cell_type": "code",
   "execution_count": 30,
   "metadata": {
    "collapsed": true
   },
   "outputs": [],
   "source": [
    "features_df.to_csv('../outputs/features_vJunge1.csv')"
   ]
  },
  {
   "cell_type": "markdown",
   "metadata": {},
   "source": [
    "## Now I'll add the same features to the Test set"
   ]
  },
  {
   "cell_type": "code",
   "execution_count": 31,
   "metadata": {
    "collapsed": true
   },
   "outputs": [],
   "source": [
    "features_test_df = pd.read_csv('../outputs/features_test_v1.csv')"
   ]
  },
  {
   "cell_type": "code",
   "execution_count": 32,
   "metadata": {
    "collapsed": true
   },
   "outputs": [],
   "source": [
    "TEST_DIR = \"../data/test\"\n",
    "testFileList = os.listdir(TEST_DIR)\n",
    "numTestFiles = len(testFileList)"
   ]
  },
  {
   "cell_type": "code",
   "execution_count": 33,
   "metadata": {
    "collapsed": false
   },
   "outputs": [],
   "source": [
    "dump_line_len = np.zeros(numTestFiles)\n",
    "for idx in range(numTestFiles):\n",
    "    dump_lens=[]\n",
    "    tree = ET.parse(os.path.join(TEST_DIR,testFileList[idx]))\n",
    "    for el in tree.iter():\n",
    "        call = el.tag\n",
    "        if call == 'dump_line':\n",
    "            dump_lens.append(len(el.items()[1][1]))\n",
    "    dump_lens_mean = np.mean(dump_lens)\n",
    "    if np.isnan(dump_lens_mean): \n",
    "        dump_line_len[idx]=0\n",
    "    else:\n",
    "        dump_line_len[idx]=dump_lens_mean\n",
    "Mean_Dump_Line_Length = pd.Series(dump_line_len,name=\"Mean_Dump_Line_Length\")"
   ]
  },
  {
   "cell_type": "code",
   "execution_count": 34,
   "metadata": {
    "collapsed": true
   },
   "outputs": [],
   "source": [
    "## Total amount of time spent sleeping in each file\n",
    "total_sleep_time = np.zeros(numTestFiles)\n",
    "for idx in range(numTestFiles):\n",
    "    sleep_sum=[]\n",
    "    tree = ET.parse(os.path.join(TEST_DIR,testFileList[idx]))\n",
    "    for el in tree.iter():\n",
    "        call = el.tag\n",
    "        if call == 'sleep':\n",
    "            sleep_sum.append(np.int(el.items()[0][1]))\n",
    "    total_sleep_time[idx]= np.sum(sleep_sum)\n",
    "    \n",
    "Total_Sleep_Time = pd.Series(total_sleep_time,name=\"Total_Sleep_Time\")"
   ]
  },
  {
   "cell_type": "code",
   "execution_count": 286,
   "metadata": {
    "collapsed": true
   },
   "outputs": [],
   "source": [
    "## Total run-time for each file.  \n",
    "total_run_time = np.zeros(numTestFiles)\n",
    "for idx in range(numTestFiles):\n",
    "    runtimes=[]\n",
    "    tree = ET.parse(os.path.join(TEST_DIR,testFileList[idx]))\n",
    "    for el in tree.iter():\n",
    "        end=0\n",
    "        start=0\n",
    "        call = el.tag\n",
    "        if call == 'process':\n",
    "            for item in el.items():\n",
    "                if item[0]=='starttime':\n",
    "                    start=time_parser(item[1])\n",
    "                if item[0]=='terminationtime':\n",
    "                    end=time_parser(item[1])\n",
    "        runtimes.append(end - start)\n",
    "    total_run_time[idx] = sum(runtimes)\n",
    "Total_Run_Time = pd.Series(total_run_time,name=\"Total_Run_Time\")           \n",
    "      "
   ]
  },
  {
   "cell_type": "code",
   "execution_count": 35,
   "metadata": {
    "collapsed": true
   },
   "outputs": [],
   "source": [
    "## Total run-time for each file.  \n",
    "# total_run_time = np.zeros(numFiles)\n",
    "num_failed_createprocesses = np.zeros(numTestFiles)\n",
    "mean_failed_createprocesses = np.zeros(numTestFiles)\n",
    "for idx in range(numTestFiles):\n",
    "    runtimes=[]\n",
    "    tree = ET.parse(os.path.join(TEST_DIR,testFileList[idx]))\n",
    "    successfuls=[]\n",
    "    for el in tree.iter():\n",
    "        end=0\n",
    "        start=0\n",
    "        call = el.tag\n",
    "        if call == 'create_process':\n",
    "            for item in el.items():\n",
    "                if item[0]=='successful': \n",
    "                    successfuls.append(int(item[1]))\n",
    "    if not np.isnan(np.mean(successfuls)):\n",
    "        mean_failed_createprocesses[idx] = np.mean(successfuls)\n",
    "    else: mean_failed_createprocesses[idx]=0\n",
    "    num_failed_createprocesses[idx] = sum(np.array(successfuls)==0)\n",
    "                    \n",
    "\n",
    "Mean_Failed_CreateProcesses = pd.Series(mean_failed_createprocesses,name=\"Mean_Failed_Createprocesses\")  \n",
    "Num_Failed_CreateProcesses = pd.Series(num_failed_createprocesses,name=\"Num_Failed_Createprocesses\")\n",
    "            "
   ]
  },
  {
   "cell_type": "code",
   "execution_count": 289,
   "metadata": {
    "collapsed": true
   },
   "outputs": [],
   "source": [
    "features_test_df['Num_Failed_CreateProcesses']=Num_Failed_CreateProcesses\n",
    "features_test_df['Mean_Failed_CreateProcesses']=Mean_Failed_CreateProcesses\n",
    "features_test_df['Mean_Dump_Line_Length']=Mean_Dump_Line_Length\n",
    "features_test_df['Total_Run_Time']=Total_Run_Time\n",
    "features_test_df['Total_Sleep_Time']=Total_Sleep_Time"
   ]
  },
  {
   "cell_type": "code",
   "execution_count": 36,
   "metadata": {
    "collapsed": true
   },
   "outputs": [],
   "source": [
    "features_test_df.to_csv('../outputs/features_test_vJunge1.csv')"
   ]
  },
  {
   "cell_type": "markdown",
   "metadata": {},
   "source": [
    "## Below is some exploration I did looking at the features class by class.  I did all this before generating the features above, and nothing really useful came of it.  "
   ]
  },
  {
   "cell_type": "code",
   "execution_count": 16,
   "metadata": {
    "collapsed": false
   },
   "outputs": [],
   "source": [
    "grouped = features_df.groupby('class')"
   ]
  },
  {
   "cell_type": "code",
   "execution_count": 21,
   "metadata": {
    "collapsed": false
   },
   "outputs": [],
   "source": [
    "feature_means = grouped.mean()"
   ]
  },
  {
   "cell_type": "code",
   "execution_count": 27,
   "metadata": {
    "collapsed": false,
    "scrolled": true
   },
   "outputs": [
    {
     "data": {
      "text/html": [
       "<div>\n",
       "<table border=\"1\" class=\"dataframe\">\n",
       "  <thead>\n",
       "    <tr style=\"text-align: right;\">\n",
       "      <th></th>\n",
       "      <th>Unnamed: 0</th>\n",
       "      <th>accept_socket</th>\n",
       "      <th>add_netjob</th>\n",
       "      <th>all_section</th>\n",
       "      <th>bind_socket</th>\n",
       "      <th>change_service_config</th>\n",
       "      <th>check_for_debugger</th>\n",
       "      <th>com_create_instance</th>\n",
       "      <th>com_createole_object</th>\n",
       "      <th>com_get_class_object</th>\n",
       "      <th>...</th>\n",
       "      <th>start_service</th>\n",
       "      <th>thread</th>\n",
       "      <th>trimmed_bytes</th>\n",
       "      <th>unload_driver</th>\n",
       "      <th>vm_allocate</th>\n",
       "      <th>vm_mapviewofsection</th>\n",
       "      <th>vm_protect</th>\n",
       "      <th>vm_read</th>\n",
       "      <th>vm_write</th>\n",
       "      <th>write_value</th>\n",
       "    </tr>\n",
       "    <tr>\n",
       "      <th>class</th>\n",
       "      <th></th>\n",
       "      <th></th>\n",
       "      <th></th>\n",
       "      <th></th>\n",
       "      <th></th>\n",
       "      <th></th>\n",
       "      <th></th>\n",
       "      <th></th>\n",
       "      <th></th>\n",
       "      <th></th>\n",
       "      <th></th>\n",
       "      <th></th>\n",
       "      <th></th>\n",
       "      <th></th>\n",
       "      <th></th>\n",
       "      <th></th>\n",
       "      <th></th>\n",
       "      <th></th>\n",
       "      <th></th>\n",
       "      <th></th>\n",
       "      <th></th>\n",
       "    </tr>\n",
       "  </thead>\n",
       "  <tbody>\n",
       "    <tr>\n",
       "      <th>0</th>\n",
       "      <td>1405.771930</td>\n",
       "      <td>0</td>\n",
       "      <td>0</td>\n",
       "      <td>12.596491</td>\n",
       "      <td>2.526316</td>\n",
       "      <td>0.008772</td>\n",
       "      <td>2.552632</td>\n",
       "      <td>28.947368</td>\n",
       "      <td>0</td>\n",
       "      <td>7.017544</td>\n",
       "      <td>...</td>\n",
       "      <td>0.210526</td>\n",
       "      <td>12.842105</td>\n",
       "      <td>39.105263</td>\n",
       "      <td>0</td>\n",
       "      <td>5.754386</td>\n",
       "      <td>0</td>\n",
       "      <td>1099.078947</td>\n",
       "      <td>48.438596</td>\n",
       "      <td>12.114035</td>\n",
       "      <td>5.833333</td>\n",
       "    </tr>\n",
       "    <tr>\n",
       "      <th>1</th>\n",
       "      <td>1493.280000</td>\n",
       "      <td>0</td>\n",
       "      <td>0</td>\n",
       "      <td>9.240000</td>\n",
       "      <td>4.040000</td>\n",
       "      <td>0.000000</td>\n",
       "      <td>0.900000</td>\n",
       "      <td>8.760000</td>\n",
       "      <td>0</td>\n",
       "      <td>0.180000</td>\n",
       "      <td>...</td>\n",
       "      <td>0.000000</td>\n",
       "      <td>9.340000</td>\n",
       "      <td>4.040000</td>\n",
       "      <td>0</td>\n",
       "      <td>6.280000</td>\n",
       "      <td>0</td>\n",
       "      <td>138.700000</td>\n",
       "      <td>0.020000</td>\n",
       "      <td>6.000000</td>\n",
       "      <td>0.480000</td>\n",
       "    </tr>\n",
       "    <tr>\n",
       "      <th>2</th>\n",
       "      <td>1689.891892</td>\n",
       "      <td>0</td>\n",
       "      <td>0</td>\n",
       "      <td>16.297297</td>\n",
       "      <td>8.351351</td>\n",
       "      <td>0.000000</td>\n",
       "      <td>2.810811</td>\n",
       "      <td>109.243243</td>\n",
       "      <td>0</td>\n",
       "      <td>5.810811</td>\n",
       "      <td>...</td>\n",
       "      <td>0.000000</td>\n",
       "      <td>16.972973</td>\n",
       "      <td>89.351351</td>\n",
       "      <td>0</td>\n",
       "      <td>0.108108</td>\n",
       "      <td>0</td>\n",
       "      <td>295.756757</td>\n",
       "      <td>0.216216</td>\n",
       "      <td>0.000000</td>\n",
       "      <td>0.027027</td>\n",
       "    </tr>\n",
       "    <tr>\n",
       "      <th>3</th>\n",
       "      <td>1701.218750</td>\n",
       "      <td>0</td>\n",
       "      <td>0</td>\n",
       "      <td>9.000000</td>\n",
       "      <td>25.906250</td>\n",
       "      <td>0.000000</td>\n",
       "      <td>0.187500</td>\n",
       "      <td>215.718750</td>\n",
       "      <td>0</td>\n",
       "      <td>7.937500</td>\n",
       "      <td>...</td>\n",
       "      <td>0.000000</td>\n",
       "      <td>9.000000</td>\n",
       "      <td>154.250000</td>\n",
       "      <td>0</td>\n",
       "      <td>0.000000</td>\n",
       "      <td>0</td>\n",
       "      <td>200.500000</td>\n",
       "      <td>0.000000</td>\n",
       "      <td>0.000000</td>\n",
       "      <td>0.000000</td>\n",
       "    </tr>\n",
       "    <tr>\n",
       "      <th>4</th>\n",
       "      <td>1633.878049</td>\n",
       "      <td>0</td>\n",
       "      <td>0</td>\n",
       "      <td>4.487805</td>\n",
       "      <td>1.268293</td>\n",
       "      <td>0.000000</td>\n",
       "      <td>0.853659</td>\n",
       "      <td>9.048780</td>\n",
       "      <td>0</td>\n",
       "      <td>0.000000</td>\n",
       "      <td>...</td>\n",
       "      <td>0.000000</td>\n",
       "      <td>4.756098</td>\n",
       "      <td>4.707317</td>\n",
       "      <td>0</td>\n",
       "      <td>0.000000</td>\n",
       "      <td>0</td>\n",
       "      <td>44.000000</td>\n",
       "      <td>0.000000</td>\n",
       "      <td>0.073171</td>\n",
       "      <td>0.000000</td>\n",
       "    </tr>\n",
       "  </tbody>\n",
       "</table>\n",
       "<p>5 rows × 107 columns</p>\n",
       "</div>"
      ],
      "text/plain": [
       "        Unnamed: 0  accept_socket  add_netjob  all_section  bind_socket  \\\n",
       "class                                                                     \n",
       "0      1405.771930              0           0    12.596491     2.526316   \n",
       "1      1493.280000              0           0     9.240000     4.040000   \n",
       "2      1689.891892              0           0    16.297297     8.351351   \n",
       "3      1701.218750              0           0     9.000000    25.906250   \n",
       "4      1633.878049              0           0     4.487805     1.268293   \n",
       "\n",
       "       change_service_config  check_for_debugger  com_create_instance  \\\n",
       "class                                                                   \n",
       "0                   0.008772            2.552632            28.947368   \n",
       "1                   0.000000            0.900000             8.760000   \n",
       "2                   0.000000            2.810811           109.243243   \n",
       "3                   0.000000            0.187500           215.718750   \n",
       "4                   0.000000            0.853659             9.048780   \n",
       "\n",
       "       com_createole_object  com_get_class_object     ...       start_service  \\\n",
       "class                                                 ...                       \n",
       "0                         0              7.017544     ...            0.210526   \n",
       "1                         0              0.180000     ...            0.000000   \n",
       "2                         0              5.810811     ...            0.000000   \n",
       "3                         0              7.937500     ...            0.000000   \n",
       "4                         0              0.000000     ...            0.000000   \n",
       "\n",
       "          thread  trimmed_bytes  unload_driver  vm_allocate  \\\n",
       "class                                                         \n",
       "0      12.842105      39.105263              0     5.754386   \n",
       "1       9.340000       4.040000              0     6.280000   \n",
       "2      16.972973      89.351351              0     0.108108   \n",
       "3       9.000000     154.250000              0     0.000000   \n",
       "4       4.756098       4.707317              0     0.000000   \n",
       "\n",
       "       vm_mapviewofsection   vm_protect    vm_read   vm_write  write_value  \n",
       "class                                                                       \n",
       "0                        0  1099.078947  48.438596  12.114035     5.833333  \n",
       "1                        0   138.700000   0.020000   6.000000     0.480000  \n",
       "2                        0   295.756757   0.216216   0.000000     0.027027  \n",
       "3                        0   200.500000   0.000000   0.000000     0.000000  \n",
       "4                        0    44.000000   0.000000   0.073171     0.000000  \n",
       "\n",
       "[5 rows x 107 columns]"
      ]
     },
     "execution_count": 27,
     "metadata": {},
     "output_type": "execute_result"
    }
   ],
   "source": [
    "feature_means.head()"
   ]
  },
  {
   "cell_type": "code",
   "execution_count": 39,
   "metadata": {
    "collapsed": true
   },
   "outputs": [],
   "source": [
    "# Helper function to tell us if the means of any feature values has only 2 unique values, in other words\n",
    "#    are all of the values 0 except for one class.  \n",
    "def has_unique(series):\n",
    "    return len(np.unique(series))==2"
   ]
  },
  {
   "cell_type": "code",
   "execution_count": 44,
   "metadata": {
    "collapsed": false
   },
   "outputs": [],
   "source": [
    "unique_features = []\n",
    "for i in unique_tags: \n",
    "    if has_unique(feature_means[i]): unique_features.append(feature_means[i].name)"
   ]
  },
  {
   "cell_type": "code",
   "execution_count": 45,
   "metadata": {
    "collapsed": false
   },
   "outputs": [
    {
     "data": {
      "text/plain": [
       "['accept_socket',\n",
       " 'create_interface',\n",
       " 'create_process_as_user',\n",
       " 'delete_share',\n",
       " 'get_userinfo',\n",
       " 'unload_driver',\n",
       " 'vm_mapviewofsection']"
      ]
     },
     "execution_count": 45,
     "metadata": {},
     "output_type": "execute_result"
    }
   ],
   "source": [
    "unique_features"
   ]
  },
  {
   "cell_type": "code",
   "execution_count": 46,
   "metadata": {
    "collapsed": false
   },
   "outputs": [
    {
     "data": {
      "text/html": [
       "<div>\n",
       "<table border=\"1\" class=\"dataframe\">\n",
       "  <thead>\n",
       "    <tr style=\"text-align: right;\">\n",
       "      <th></th>\n",
       "      <th>accept_socket</th>\n",
       "      <th>create_interface</th>\n",
       "      <th>create_process_as_user</th>\n",
       "      <th>delete_share</th>\n",
       "      <th>get_userinfo</th>\n",
       "      <th>unload_driver</th>\n",
       "      <th>vm_mapviewofsection</th>\n",
       "    </tr>\n",
       "    <tr>\n",
       "      <th>class</th>\n",
       "      <th></th>\n",
       "      <th></th>\n",
       "      <th></th>\n",
       "      <th></th>\n",
       "      <th></th>\n",
       "      <th></th>\n",
       "      <th></th>\n",
       "    </tr>\n",
       "  </thead>\n",
       "  <tbody>\n",
       "    <tr>\n",
       "      <th>0</th>\n",
       "      <td>0.000000</td>\n",
       "      <td>0.000000</td>\n",
       "      <td>0.0000</td>\n",
       "      <td>0.000000</td>\n",
       "      <td>0.000000</td>\n",
       "      <td>0.000000</td>\n",
       "      <td>0.00000</td>\n",
       "    </tr>\n",
       "    <tr>\n",
       "      <th>1</th>\n",
       "      <td>0.000000</td>\n",
       "      <td>0.000000</td>\n",
       "      <td>0.0000</td>\n",
       "      <td>0.000000</td>\n",
       "      <td>0.000000</td>\n",
       "      <td>0.000000</td>\n",
       "      <td>0.00000</td>\n",
       "    </tr>\n",
       "    <tr>\n",
       "      <th>2</th>\n",
       "      <td>0.000000</td>\n",
       "      <td>0.000000</td>\n",
       "      <td>0.0000</td>\n",
       "      <td>0.000000</td>\n",
       "      <td>0.000000</td>\n",
       "      <td>0.000000</td>\n",
       "      <td>0.00000</td>\n",
       "    </tr>\n",
       "    <tr>\n",
       "      <th>3</th>\n",
       "      <td>0.000000</td>\n",
       "      <td>0.000000</td>\n",
       "      <td>0.0000</td>\n",
       "      <td>0.000000</td>\n",
       "      <td>0.000000</td>\n",
       "      <td>0.000000</td>\n",
       "      <td>0.00000</td>\n",
       "    </tr>\n",
       "    <tr>\n",
       "      <th>4</th>\n",
       "      <td>0.000000</td>\n",
       "      <td>0.000000</td>\n",
       "      <td>0.0000</td>\n",
       "      <td>0.000000</td>\n",
       "      <td>0.000000</td>\n",
       "      <td>0.000000</td>\n",
       "      <td>0.00000</td>\n",
       "    </tr>\n",
       "    <tr>\n",
       "      <th>5</th>\n",
       "      <td>0.000000</td>\n",
       "      <td>0.000000</td>\n",
       "      <td>0.0000</td>\n",
       "      <td>0.000000</td>\n",
       "      <td>0.000000</td>\n",
       "      <td>0.051282</td>\n",
       "      <td>0.00000</td>\n",
       "    </tr>\n",
       "    <tr>\n",
       "      <th>6</th>\n",
       "      <td>0.000000</td>\n",
       "      <td>0.000000</td>\n",
       "      <td>0.0000</td>\n",
       "      <td>0.000000</td>\n",
       "      <td>0.000000</td>\n",
       "      <td>0.000000</td>\n",
       "      <td>0.00000</td>\n",
       "    </tr>\n",
       "    <tr>\n",
       "      <th>7</th>\n",
       "      <td>0.000000</td>\n",
       "      <td>0.000000</td>\n",
       "      <td>0.0000</td>\n",
       "      <td>0.000000</td>\n",
       "      <td>0.000000</td>\n",
       "      <td>0.000000</td>\n",
       "      <td>0.00000</td>\n",
       "    </tr>\n",
       "    <tr>\n",
       "      <th>8</th>\n",
       "      <td>0.006837</td>\n",
       "      <td>0.000622</td>\n",
       "      <td>0.0000</td>\n",
       "      <td>0.000000</td>\n",
       "      <td>0.000622</td>\n",
       "      <td>0.000000</td>\n",
       "      <td>0.00000</td>\n",
       "    </tr>\n",
       "    <tr>\n",
       "      <th>9</th>\n",
       "      <td>0.000000</td>\n",
       "      <td>0.000000</td>\n",
       "      <td>0.0000</td>\n",
       "      <td>0.000000</td>\n",
       "      <td>0.000000</td>\n",
       "      <td>0.000000</td>\n",
       "      <td>0.00000</td>\n",
       "    </tr>\n",
       "    <tr>\n",
       "      <th>10</th>\n",
       "      <td>0.000000</td>\n",
       "      <td>0.000000</td>\n",
       "      <td>0.0000</td>\n",
       "      <td>0.000000</td>\n",
       "      <td>0.000000</td>\n",
       "      <td>0.000000</td>\n",
       "      <td>0.00000</td>\n",
       "    </tr>\n",
       "    <tr>\n",
       "      <th>11</th>\n",
       "      <td>0.000000</td>\n",
       "      <td>0.000000</td>\n",
       "      <td>0.1875</td>\n",
       "      <td>0.000000</td>\n",
       "      <td>0.000000</td>\n",
       "      <td>0.000000</td>\n",
       "      <td>0.00000</td>\n",
       "    </tr>\n",
       "    <tr>\n",
       "      <th>12</th>\n",
       "      <td>0.000000</td>\n",
       "      <td>0.000000</td>\n",
       "      <td>0.0000</td>\n",
       "      <td>0.005319</td>\n",
       "      <td>0.000000</td>\n",
       "      <td>0.000000</td>\n",
       "      <td>0.00000</td>\n",
       "    </tr>\n",
       "    <tr>\n",
       "      <th>13</th>\n",
       "      <td>0.000000</td>\n",
       "      <td>0.000000</td>\n",
       "      <td>0.0000</td>\n",
       "      <td>0.000000</td>\n",
       "      <td>0.000000</td>\n",
       "      <td>0.000000</td>\n",
       "      <td>0.59322</td>\n",
       "    </tr>\n",
       "    <tr>\n",
       "      <th>14</th>\n",
       "      <td>0.000000</td>\n",
       "      <td>0.000000</td>\n",
       "      <td>0.0000</td>\n",
       "      <td>0.000000</td>\n",
       "      <td>0.000000</td>\n",
       "      <td>0.000000</td>\n",
       "      <td>0.00000</td>\n",
       "    </tr>\n",
       "  </tbody>\n",
       "</table>\n",
       "</div>"
      ],
      "text/plain": [
       "       accept_socket  create_interface  create_process_as_user  delete_share  \\\n",
       "class                                                                          \n",
       "0           0.000000          0.000000                  0.0000      0.000000   \n",
       "1           0.000000          0.000000                  0.0000      0.000000   \n",
       "2           0.000000          0.000000                  0.0000      0.000000   \n",
       "3           0.000000          0.000000                  0.0000      0.000000   \n",
       "4           0.000000          0.000000                  0.0000      0.000000   \n",
       "5           0.000000          0.000000                  0.0000      0.000000   \n",
       "6           0.000000          0.000000                  0.0000      0.000000   \n",
       "7           0.000000          0.000000                  0.0000      0.000000   \n",
       "8           0.006837          0.000622                  0.0000      0.000000   \n",
       "9           0.000000          0.000000                  0.0000      0.000000   \n",
       "10          0.000000          0.000000                  0.0000      0.000000   \n",
       "11          0.000000          0.000000                  0.1875      0.000000   \n",
       "12          0.000000          0.000000                  0.0000      0.005319   \n",
       "13          0.000000          0.000000                  0.0000      0.000000   \n",
       "14          0.000000          0.000000                  0.0000      0.000000   \n",
       "\n",
       "       get_userinfo  unload_driver  vm_mapviewofsection  \n",
       "class                                                    \n",
       "0          0.000000       0.000000              0.00000  \n",
       "1          0.000000       0.000000              0.00000  \n",
       "2          0.000000       0.000000              0.00000  \n",
       "3          0.000000       0.000000              0.00000  \n",
       "4          0.000000       0.000000              0.00000  \n",
       "5          0.000000       0.051282              0.00000  \n",
       "6          0.000000       0.000000              0.00000  \n",
       "7          0.000000       0.000000              0.00000  \n",
       "8          0.000622       0.000000              0.00000  \n",
       "9          0.000000       0.000000              0.00000  \n",
       "10         0.000000       0.000000              0.00000  \n",
       "11         0.000000       0.000000              0.00000  \n",
       "12         0.000000       0.000000              0.00000  \n",
       "13         0.000000       0.000000              0.59322  \n",
       "14         0.000000       0.000000              0.00000  "
      ]
     },
     "execution_count": 46,
     "metadata": {},
     "output_type": "execute_result"
    }
   ],
   "source": [
    "feature_means[unique_features]"
   ]
  },
  {
   "cell_type": "markdown",
   "metadata": {},
   "source": [
    "So, if any of the data contains one of these features at all, we can automatically assign it to the class that is the only one that every has that feature.  Unfortunately, most of these features have very low average values, so they don't occur frequently in the data."
   ]
  },
  {
   "cell_type": "code",
   "execution_count": 47,
   "metadata": {
    "collapsed": false,
    "scrolled": true
   },
   "outputs": [
    {
     "data": {
      "text/html": [
       "<div>\n",
       "<table border=\"1\" class=\"dataframe\">\n",
       "  <thead>\n",
       "    <tr style=\"text-align: right;\">\n",
       "      <th></th>\n",
       "      <th>Unnamed: 0</th>\n",
       "      <th>accept_socket</th>\n",
       "      <th>add_netjob</th>\n",
       "      <th>all_section</th>\n",
       "      <th>bind_socket</th>\n",
       "      <th>change_service_config</th>\n",
       "      <th>check_for_debugger</th>\n",
       "      <th>com_create_instance</th>\n",
       "      <th>com_createole_object</th>\n",
       "      <th>com_get_class_object</th>\n",
       "      <th>...</th>\n",
       "      <th>start_service</th>\n",
       "      <th>thread</th>\n",
       "      <th>trimmed_bytes</th>\n",
       "      <th>unload_driver</th>\n",
       "      <th>vm_allocate</th>\n",
       "      <th>vm_mapviewofsection</th>\n",
       "      <th>vm_protect</th>\n",
       "      <th>vm_read</th>\n",
       "      <th>vm_write</th>\n",
       "      <th>write_value</th>\n",
       "    </tr>\n",
       "    <tr>\n",
       "      <th>class</th>\n",
       "      <th></th>\n",
       "      <th></th>\n",
       "      <th></th>\n",
       "      <th></th>\n",
       "      <th></th>\n",
       "      <th></th>\n",
       "      <th></th>\n",
       "      <th></th>\n",
       "      <th></th>\n",
       "      <th></th>\n",
       "      <th></th>\n",
       "      <th></th>\n",
       "      <th></th>\n",
       "      <th></th>\n",
       "      <th></th>\n",
       "      <th></th>\n",
       "      <th></th>\n",
       "      <th></th>\n",
       "      <th></th>\n",
       "      <th></th>\n",
       "      <th></th>\n",
       "    </tr>\n",
       "  </thead>\n",
       "  <tbody>\n",
       "    <tr>\n",
       "      <th>0</th>\n",
       "      <td>1405.771930</td>\n",
       "      <td>0.000000</td>\n",
       "      <td>0.000000</td>\n",
       "      <td>12.596491</td>\n",
       "      <td>2.526316</td>\n",
       "      <td>0.008772</td>\n",
       "      <td>2.552632</td>\n",
       "      <td>28.947368</td>\n",
       "      <td>0</td>\n",
       "      <td>7.017544</td>\n",
       "      <td>...</td>\n",
       "      <td>0.210526</td>\n",
       "      <td>12.842105</td>\n",
       "      <td>39.105263</td>\n",
       "      <td>0.000000</td>\n",
       "      <td>5.754386</td>\n",
       "      <td>0.00000</td>\n",
       "      <td>1099.078947</td>\n",
       "      <td>48.438596</td>\n",
       "      <td>12.114035</td>\n",
       "      <td>5.833333</td>\n",
       "    </tr>\n",
       "    <tr>\n",
       "      <th>1</th>\n",
       "      <td>1493.280000</td>\n",
       "      <td>0.000000</td>\n",
       "      <td>0.000000</td>\n",
       "      <td>9.240000</td>\n",
       "      <td>4.040000</td>\n",
       "      <td>0.000000</td>\n",
       "      <td>0.900000</td>\n",
       "      <td>8.760000</td>\n",
       "      <td>0</td>\n",
       "      <td>0.180000</td>\n",
       "      <td>...</td>\n",
       "      <td>0.000000</td>\n",
       "      <td>9.340000</td>\n",
       "      <td>4.040000</td>\n",
       "      <td>0.000000</td>\n",
       "      <td>6.280000</td>\n",
       "      <td>0.00000</td>\n",
       "      <td>138.700000</td>\n",
       "      <td>0.020000</td>\n",
       "      <td>6.000000</td>\n",
       "      <td>0.480000</td>\n",
       "    </tr>\n",
       "    <tr>\n",
       "      <th>2</th>\n",
       "      <td>1689.891892</td>\n",
       "      <td>0.000000</td>\n",
       "      <td>0.000000</td>\n",
       "      <td>16.297297</td>\n",
       "      <td>8.351351</td>\n",
       "      <td>0.000000</td>\n",
       "      <td>2.810811</td>\n",
       "      <td>109.243243</td>\n",
       "      <td>0</td>\n",
       "      <td>5.810811</td>\n",
       "      <td>...</td>\n",
       "      <td>0.000000</td>\n",
       "      <td>16.972973</td>\n",
       "      <td>89.351351</td>\n",
       "      <td>0.000000</td>\n",
       "      <td>0.108108</td>\n",
       "      <td>0.00000</td>\n",
       "      <td>295.756757</td>\n",
       "      <td>0.216216</td>\n",
       "      <td>0.000000</td>\n",
       "      <td>0.027027</td>\n",
       "    </tr>\n",
       "    <tr>\n",
       "      <th>3</th>\n",
       "      <td>1701.218750</td>\n",
       "      <td>0.000000</td>\n",
       "      <td>0.000000</td>\n",
       "      <td>9.000000</td>\n",
       "      <td>25.906250</td>\n",
       "      <td>0.000000</td>\n",
       "      <td>0.187500</td>\n",
       "      <td>215.718750</td>\n",
       "      <td>0</td>\n",
       "      <td>7.937500</td>\n",
       "      <td>...</td>\n",
       "      <td>0.000000</td>\n",
       "      <td>9.000000</td>\n",
       "      <td>154.250000</td>\n",
       "      <td>0.000000</td>\n",
       "      <td>0.000000</td>\n",
       "      <td>0.00000</td>\n",
       "      <td>200.500000</td>\n",
       "      <td>0.000000</td>\n",
       "      <td>0.000000</td>\n",
       "      <td>0.000000</td>\n",
       "    </tr>\n",
       "    <tr>\n",
       "      <th>4</th>\n",
       "      <td>1633.878049</td>\n",
       "      <td>0.000000</td>\n",
       "      <td>0.000000</td>\n",
       "      <td>4.487805</td>\n",
       "      <td>1.268293</td>\n",
       "      <td>0.000000</td>\n",
       "      <td>0.853659</td>\n",
       "      <td>9.048780</td>\n",
       "      <td>0</td>\n",
       "      <td>0.000000</td>\n",
       "      <td>...</td>\n",
       "      <td>0.000000</td>\n",
       "      <td>4.756098</td>\n",
       "      <td>4.707317</td>\n",
       "      <td>0.000000</td>\n",
       "      <td>0.000000</td>\n",
       "      <td>0.00000</td>\n",
       "      <td>44.000000</td>\n",
       "      <td>0.000000</td>\n",
       "      <td>0.073171</td>\n",
       "      <td>0.000000</td>\n",
       "    </tr>\n",
       "    <tr>\n",
       "      <th>5</th>\n",
       "      <td>1686.128205</td>\n",
       "      <td>0.000000</td>\n",
       "      <td>0.000000</td>\n",
       "      <td>7.589744</td>\n",
       "      <td>2.974359</td>\n",
       "      <td>0.000000</td>\n",
       "      <td>0.948718</td>\n",
       "      <td>34.384615</td>\n",
       "      <td>0</td>\n",
       "      <td>2.384615</td>\n",
       "      <td>...</td>\n",
       "      <td>0.102564</td>\n",
       "      <td>7.641026</td>\n",
       "      <td>32.487179</td>\n",
       "      <td>0.051282</td>\n",
       "      <td>1.410256</td>\n",
       "      <td>0.00000</td>\n",
       "      <td>124.410256</td>\n",
       "      <td>0.025641</td>\n",
       "      <td>1.051282</td>\n",
       "      <td>0.000000</td>\n",
       "    </tr>\n",
       "    <tr>\n",
       "      <th>6</th>\n",
       "      <td>1644.566038</td>\n",
       "      <td>0.000000</td>\n",
       "      <td>0.000000</td>\n",
       "      <td>35.490566</td>\n",
       "      <td>12.867925</td>\n",
       "      <td>0.000000</td>\n",
       "      <td>2.622642</td>\n",
       "      <td>263.509434</td>\n",
       "      <td>0</td>\n",
       "      <td>173.660377</td>\n",
       "      <td>...</td>\n",
       "      <td>0.000000</td>\n",
       "      <td>35.490566</td>\n",
       "      <td>453.075472</td>\n",
       "      <td>0.000000</td>\n",
       "      <td>0.056604</td>\n",
       "      <td>0.00000</td>\n",
       "      <td>236.905660</td>\n",
       "      <td>0.000000</td>\n",
       "      <td>0.018868</td>\n",
       "      <td>5.867925</td>\n",
       "    </tr>\n",
       "    <tr>\n",
       "      <th>7</th>\n",
       "      <td>1373.195122</td>\n",
       "      <td>0.000000</td>\n",
       "      <td>0.000000</td>\n",
       "      <td>4.219512</td>\n",
       "      <td>0.024390</td>\n",
       "      <td>0.024390</td>\n",
       "      <td>0.024390</td>\n",
       "      <td>1.975610</td>\n",
       "      <td>0</td>\n",
       "      <td>0.048780</td>\n",
       "      <td>...</td>\n",
       "      <td>0.048780</td>\n",
       "      <td>4.219512</td>\n",
       "      <td>0.000000</td>\n",
       "      <td>0.000000</td>\n",
       "      <td>0.000000</td>\n",
       "      <td>0.00000</td>\n",
       "      <td>58.365854</td>\n",
       "      <td>0.000000</td>\n",
       "      <td>0.000000</td>\n",
       "      <td>0.000000</td>\n",
       "    </tr>\n",
       "    <tr>\n",
       "      <th>8</th>\n",
       "      <td>1537.185208</td>\n",
       "      <td>0.006837</td>\n",
       "      <td>0.001243</td>\n",
       "      <td>3.698571</td>\n",
       "      <td>0.303294</td>\n",
       "      <td>0.002486</td>\n",
       "      <td>0.865755</td>\n",
       "      <td>6.969546</td>\n",
       "      <td>0</td>\n",
       "      <td>1.162834</td>\n",
       "      <td>...</td>\n",
       "      <td>0.006215</td>\n",
       "      <td>3.712865</td>\n",
       "      <td>10.543816</td>\n",
       "      <td>0.000000</td>\n",
       "      <td>0.060907</td>\n",
       "      <td>0.00000</td>\n",
       "      <td>31.362958</td>\n",
       "      <td>0.039776</td>\n",
       "      <td>0.054692</td>\n",
       "      <td>1.555003</td>\n",
       "    </tr>\n",
       "    <tr>\n",
       "      <th>9</th>\n",
       "      <td>1564.285714</td>\n",
       "      <td>0.000000</td>\n",
       "      <td>0.000000</td>\n",
       "      <td>2.761905</td>\n",
       "      <td>0.000000</td>\n",
       "      <td>0.000000</td>\n",
       "      <td>0.619048</td>\n",
       "      <td>1.190476</td>\n",
       "      <td>0</td>\n",
       "      <td>0.333333</td>\n",
       "      <td>...</td>\n",
       "      <td>0.000000</td>\n",
       "      <td>2.761905</td>\n",
       "      <td>0.000000</td>\n",
       "      <td>0.000000</td>\n",
       "      <td>59.380952</td>\n",
       "      <td>0.00000</td>\n",
       "      <td>106.666667</td>\n",
       "      <td>0.000000</td>\n",
       "      <td>34.952381</td>\n",
       "      <td>0.000000</td>\n",
       "    </tr>\n",
       "    <tr>\n",
       "      <th>10</th>\n",
       "      <td>1549.634686</td>\n",
       "      <td>0.000000</td>\n",
       "      <td>0.000000</td>\n",
       "      <td>9.944649</td>\n",
       "      <td>1.568266</td>\n",
       "      <td>0.000000</td>\n",
       "      <td>2.496310</td>\n",
       "      <td>3.108856</td>\n",
       "      <td>0</td>\n",
       "      <td>0.581181</td>\n",
       "      <td>...</td>\n",
       "      <td>0.000000</td>\n",
       "      <td>9.944649</td>\n",
       "      <td>52.280443</td>\n",
       "      <td>0.000000</td>\n",
       "      <td>15.448339</td>\n",
       "      <td>0.00000</td>\n",
       "      <td>176.588561</td>\n",
       "      <td>0.000000</td>\n",
       "      <td>9.282288</td>\n",
       "      <td>0.000000</td>\n",
       "    </tr>\n",
       "    <tr>\n",
       "      <th>11</th>\n",
       "      <td>1438.937500</td>\n",
       "      <td>0.000000</td>\n",
       "      <td>0.000000</td>\n",
       "      <td>10.625000</td>\n",
       "      <td>0.718750</td>\n",
       "      <td>0.000000</td>\n",
       "      <td>0.281250</td>\n",
       "      <td>2.000000</td>\n",
       "      <td>0</td>\n",
       "      <td>0.031250</td>\n",
       "      <td>...</td>\n",
       "      <td>0.000000</td>\n",
       "      <td>10.625000</td>\n",
       "      <td>8.968750</td>\n",
       "      <td>0.000000</td>\n",
       "      <td>0.187500</td>\n",
       "      <td>0.00000</td>\n",
       "      <td>70.968750</td>\n",
       "      <td>0.000000</td>\n",
       "      <td>0.062500</td>\n",
       "      <td>0.125000</td>\n",
       "    </tr>\n",
       "    <tr>\n",
       "      <th>12</th>\n",
       "      <td>1544.843085</td>\n",
       "      <td>0.000000</td>\n",
       "      <td>0.164894</td>\n",
       "      <td>4.824468</td>\n",
       "      <td>0.090426</td>\n",
       "      <td>0.247340</td>\n",
       "      <td>0.531915</td>\n",
       "      <td>2.832447</td>\n",
       "      <td>0</td>\n",
       "      <td>0.574468</td>\n",
       "      <td>...</td>\n",
       "      <td>0.000000</td>\n",
       "      <td>4.851064</td>\n",
       "      <td>0.263298</td>\n",
       "      <td>0.000000</td>\n",
       "      <td>0.925532</td>\n",
       "      <td>0.00000</td>\n",
       "      <td>41.162234</td>\n",
       "      <td>0.005319</td>\n",
       "      <td>0.763298</td>\n",
       "      <td>0.132979</td>\n",
       "    </tr>\n",
       "    <tr>\n",
       "      <th>13</th>\n",
       "      <td>1620.457627</td>\n",
       "      <td>0.000000</td>\n",
       "      <td>0.000000</td>\n",
       "      <td>1.728814</td>\n",
       "      <td>0.000000</td>\n",
       "      <td>0.016949</td>\n",
       "      <td>1.610169</td>\n",
       "      <td>3.576271</td>\n",
       "      <td>0</td>\n",
       "      <td>0.745763</td>\n",
       "      <td>...</td>\n",
       "      <td>0.000000</td>\n",
       "      <td>1.762712</td>\n",
       "      <td>0.016949</td>\n",
       "      <td>0.000000</td>\n",
       "      <td>0.033898</td>\n",
       "      <td>0.59322</td>\n",
       "      <td>16.949153</td>\n",
       "      <td>0.000000</td>\n",
       "      <td>2.728814</td>\n",
       "      <td>0.000000</td>\n",
       "    </tr>\n",
       "    <tr>\n",
       "      <th>14</th>\n",
       "      <td>1586.500000</td>\n",
       "      <td>0.000000</td>\n",
       "      <td>0.000000</td>\n",
       "      <td>34.975000</td>\n",
       "      <td>0.875000</td>\n",
       "      <td>0.000000</td>\n",
       "      <td>0.325000</td>\n",
       "      <td>0.475000</td>\n",
       "      <td>0</td>\n",
       "      <td>0.000000</td>\n",
       "      <td>...</td>\n",
       "      <td>0.000000</td>\n",
       "      <td>38.125000</td>\n",
       "      <td>5.325000</td>\n",
       "      <td>0.000000</td>\n",
       "      <td>95.250000</td>\n",
       "      <td>0.00000</td>\n",
       "      <td>6073.275000</td>\n",
       "      <td>0.000000</td>\n",
       "      <td>84.150000</td>\n",
       "      <td>0.000000</td>\n",
       "    </tr>\n",
       "  </tbody>\n",
       "</table>\n",
       "<p>15 rows × 107 columns</p>\n",
       "</div>"
      ],
      "text/plain": [
       "        Unnamed: 0  accept_socket  add_netjob  all_section  bind_socket  \\\n",
       "class                                                                     \n",
       "0      1405.771930       0.000000    0.000000    12.596491     2.526316   \n",
       "1      1493.280000       0.000000    0.000000     9.240000     4.040000   \n",
       "2      1689.891892       0.000000    0.000000    16.297297     8.351351   \n",
       "3      1701.218750       0.000000    0.000000     9.000000    25.906250   \n",
       "4      1633.878049       0.000000    0.000000     4.487805     1.268293   \n",
       "5      1686.128205       0.000000    0.000000     7.589744     2.974359   \n",
       "6      1644.566038       0.000000    0.000000    35.490566    12.867925   \n",
       "7      1373.195122       0.000000    0.000000     4.219512     0.024390   \n",
       "8      1537.185208       0.006837    0.001243     3.698571     0.303294   \n",
       "9      1564.285714       0.000000    0.000000     2.761905     0.000000   \n",
       "10     1549.634686       0.000000    0.000000     9.944649     1.568266   \n",
       "11     1438.937500       0.000000    0.000000    10.625000     0.718750   \n",
       "12     1544.843085       0.000000    0.164894     4.824468     0.090426   \n",
       "13     1620.457627       0.000000    0.000000     1.728814     0.000000   \n",
       "14     1586.500000       0.000000    0.000000    34.975000     0.875000   \n",
       "\n",
       "       change_service_config  check_for_debugger  com_create_instance  \\\n",
       "class                                                                   \n",
       "0                   0.008772            2.552632            28.947368   \n",
       "1                   0.000000            0.900000             8.760000   \n",
       "2                   0.000000            2.810811           109.243243   \n",
       "3                   0.000000            0.187500           215.718750   \n",
       "4                   0.000000            0.853659             9.048780   \n",
       "5                   0.000000            0.948718            34.384615   \n",
       "6                   0.000000            2.622642           263.509434   \n",
       "7                   0.024390            0.024390             1.975610   \n",
       "8                   0.002486            0.865755             6.969546   \n",
       "9                   0.000000            0.619048             1.190476   \n",
       "10                  0.000000            2.496310             3.108856   \n",
       "11                  0.000000            0.281250             2.000000   \n",
       "12                  0.247340            0.531915             2.832447   \n",
       "13                  0.016949            1.610169             3.576271   \n",
       "14                  0.000000            0.325000             0.475000   \n",
       "\n",
       "       com_createole_object  com_get_class_object     ...       start_service  \\\n",
       "class                                                 ...                       \n",
       "0                         0              7.017544     ...            0.210526   \n",
       "1                         0              0.180000     ...            0.000000   \n",
       "2                         0              5.810811     ...            0.000000   \n",
       "3                         0              7.937500     ...            0.000000   \n",
       "4                         0              0.000000     ...            0.000000   \n",
       "5                         0              2.384615     ...            0.102564   \n",
       "6                         0            173.660377     ...            0.000000   \n",
       "7                         0              0.048780     ...            0.048780   \n",
       "8                         0              1.162834     ...            0.006215   \n",
       "9                         0              0.333333     ...            0.000000   \n",
       "10                        0              0.581181     ...            0.000000   \n",
       "11                        0              0.031250     ...            0.000000   \n",
       "12                        0              0.574468     ...            0.000000   \n",
       "13                        0              0.745763     ...            0.000000   \n",
       "14                        0              0.000000     ...            0.000000   \n",
       "\n",
       "          thread  trimmed_bytes  unload_driver  vm_allocate  \\\n",
       "class                                                         \n",
       "0      12.842105      39.105263       0.000000     5.754386   \n",
       "1       9.340000       4.040000       0.000000     6.280000   \n",
       "2      16.972973      89.351351       0.000000     0.108108   \n",
       "3       9.000000     154.250000       0.000000     0.000000   \n",
       "4       4.756098       4.707317       0.000000     0.000000   \n",
       "5       7.641026      32.487179       0.051282     1.410256   \n",
       "6      35.490566     453.075472       0.000000     0.056604   \n",
       "7       4.219512       0.000000       0.000000     0.000000   \n",
       "8       3.712865      10.543816       0.000000     0.060907   \n",
       "9       2.761905       0.000000       0.000000    59.380952   \n",
       "10      9.944649      52.280443       0.000000    15.448339   \n",
       "11     10.625000       8.968750       0.000000     0.187500   \n",
       "12      4.851064       0.263298       0.000000     0.925532   \n",
       "13      1.762712       0.016949       0.000000     0.033898   \n",
       "14     38.125000       5.325000       0.000000    95.250000   \n",
       "\n",
       "       vm_mapviewofsection   vm_protect    vm_read   vm_write  write_value  \n",
       "class                                                                       \n",
       "0                  0.00000  1099.078947  48.438596  12.114035     5.833333  \n",
       "1                  0.00000   138.700000   0.020000   6.000000     0.480000  \n",
       "2                  0.00000   295.756757   0.216216   0.000000     0.027027  \n",
       "3                  0.00000   200.500000   0.000000   0.000000     0.000000  \n",
       "4                  0.00000    44.000000   0.000000   0.073171     0.000000  \n",
       "5                  0.00000   124.410256   0.025641   1.051282     0.000000  \n",
       "6                  0.00000   236.905660   0.000000   0.018868     5.867925  \n",
       "7                  0.00000    58.365854   0.000000   0.000000     0.000000  \n",
       "8                  0.00000    31.362958   0.039776   0.054692     1.555003  \n",
       "9                  0.00000   106.666667   0.000000  34.952381     0.000000  \n",
       "10                 0.00000   176.588561   0.000000   9.282288     0.000000  \n",
       "11                 0.00000    70.968750   0.000000   0.062500     0.125000  \n",
       "12                 0.00000    41.162234   0.005319   0.763298     0.132979  \n",
       "13                 0.59322    16.949153   0.000000   2.728814     0.000000  \n",
       "14                 0.00000  6073.275000   0.000000  84.150000     0.000000  \n",
       "\n",
       "[15 rows x 107 columns]"
      ]
     },
     "execution_count": 47,
     "metadata": {},
     "output_type": "execute_result"
    }
   ],
   "source": [
    "feature_means"
   ]
  },
  {
   "cell_type": "code",
   "execution_count": null,
   "metadata": {
    "collapsed": true
   },
   "outputs": [],
   "source": [
    "## Below is a closer examination of some of the existing features"
   ]
  },
  {
   "cell_type": "code",
   "execution_count": 117,
   "metadata": {
    "collapsed": false
   },
   "outputs": [
    {
     "data": {
      "text/plain": [
       "class\n",
       "0     13976\n",
       "1      2345\n",
       "2     22092\n",
       "3     14312\n",
       "4      2363\n",
       "5      9965\n",
       "6     22106\n",
       "7         1\n",
       "8     57669\n",
       "9         2\n",
       "10     3376\n",
       "11     2466\n",
       "12     1226\n",
       "13       53\n",
       "14      761\n",
       "Name: dump_line, dtype: float64"
      ]
     },
     "execution_count": 117,
     "metadata": {},
     "output_type": "execute_result"
    }
   ],
   "source": [
    "grouped['dump_line'].max()"
   ]
  },
  {
   "cell_type": "code",
   "execution_count": 128,
   "metadata": {
    "collapsed": false
   },
   "outputs": [
    {
     "data": {
      "text/plain": [
       "class\n",
       "0        0.00\n",
       "1        0.00\n",
       "2        0.00\n",
       "3       38.36\n",
       "4        0.00\n",
       "5        0.00\n",
       "6     1525.36\n",
       "7        0.00\n",
       "8        0.00\n",
       "9        0.00\n",
       "10      30.00\n",
       "11       0.00\n",
       "12       0.00\n",
       "13       0.00\n",
       "14       0.00\n",
       "Name: dump_line, dtype: float64"
      ]
     },
     "execution_count": 128,
     "metadata": {},
     "output_type": "execute_result"
    }
   ],
   "source": [
    "grouped['dump_line'].apply(lambda x: np.percentile(x,33))"
   ]
  },
  {
   "cell_type": "code",
   "execution_count": 106,
   "metadata": {
    "collapsed": false,
    "scrolled": true
   },
   "outputs": [
    {
     "data": {
      "text/plain": [
       "class\n",
       "0      664.833333\n",
       "1      105.620000\n",
       "2     1490.810811\n",
       "3     2611.406250\n",
       "4       82.634146\n",
       "5      587.256410\n",
       "6     7521.471698\n",
       "7        0.024390\n",
       "8      174.270976\n",
       "9        0.095238\n",
       "10     893.832103\n",
       "11     158.812500\n",
       "12       5.489362\n",
       "13       2.033898\n",
       "14      93.425000\n",
       "Name: dump_line, dtype: float64"
      ]
     },
     "execution_count": 106,
     "metadata": {},
     "output_type": "execute_result"
    }
   ],
   "source": [
    "feature_means['dump_line']"
   ]
  },
  {
   "cell_type": "code",
   "execution_count": 107,
   "metadata": {
    "collapsed": false
   },
   "outputs": [
    {
     "data": {
      "text/plain": [
       "class\n",
       "0      355.157895\n",
       "1      100.980000\n",
       "2      962.837838\n",
       "3      100.187500\n",
       "4       10.341463\n",
       "5     1789.435897\n",
       "6      201.150943\n",
       "7        5.731707\n",
       "8       61.876321\n",
       "9        5.761905\n",
       "10      11.457565\n",
       "11       6.468750\n",
       "12      26.385638\n",
       "13       0.762712\n",
       "14     419.875000\n",
       "Name: sleep, dtype: float64"
      ]
     },
     "execution_count": 107,
     "metadata": {},
     "output_type": "execute_result"
    }
   ],
   "source": [
    "feature_means['sleep']"
   ]
  },
  {
   "cell_type": "code",
   "execution_count": 108,
   "metadata": {
    "collapsed": false
   },
   "outputs": [
    {
     "data": {
      "text/plain": [
       "class\n",
       "0      2.456140\n",
       "1      9.360000\n",
       "2      2.945946\n",
       "3      0.281250\n",
       "4      0.658537\n",
       "5      1.307692\n",
       "6      2.471698\n",
       "7      0.073171\n",
       "8      0.205718\n",
       "9      0.523810\n",
       "10    12.354244\n",
       "11     0.500000\n",
       "12    24.409574\n",
       "13     0.271186\n",
       "14     0.075000\n",
       "Name: create_process, dtype: float64"
      ]
     },
     "execution_count": 108,
     "metadata": {},
     "output_type": "execute_result"
    }
   ],
   "source": [
    "feature_means['create_process']"
   ]
  },
  {
   "cell_type": "code",
   "execution_count": 109,
   "metadata": {
    "collapsed": false,
    "scrolled": true
   },
   "outputs": [
    {
     "data": {
      "text/plain": [
       "class\n",
       "0      447.631579\n",
       "1       62.640000\n",
       "2     1175.891892\n",
       "3      670.875000\n",
       "4       66.951220\n",
       "5      503.846154\n",
       "6     1987.886792\n",
       "7      209.878049\n",
       "8      206.079553\n",
       "9      113.666667\n",
       "10     319.476015\n",
       "11      38.218750\n",
       "12      70.936170\n",
       "13     110.559322\n",
       "14     220.000000\n",
       "Name: query_value, dtype: float64"
      ]
     },
     "execution_count": 109,
     "metadata": {},
     "output_type": "execute_result"
    }
   ],
   "source": [
    "feature_means['query_value']"
   ]
  },
  {
   "cell_type": "code",
   "execution_count": 111,
   "metadata": {
    "collapsed": false
   },
   "outputs": [
    {
     "data": {
      "text/plain": [
       "class\n",
       "0      49.412281\n",
       "1       0.140000\n",
       "2       4.756757\n",
       "3       0.312500\n",
       "4       0.707317\n",
       "5       1.717949\n",
       "6      18.641509\n",
       "7       1.829268\n",
       "8      20.950901\n",
       "9       0.476190\n",
       "10    173.225092\n",
       "11      1.937500\n",
       "12      1.625000\n",
       "13      0.474576\n",
       "14      1.250000\n",
       "Name: delete_file, dtype: float64"
      ]
     },
     "execution_count": 111,
     "metadata": {},
     "output_type": "execute_result"
    }
   ],
   "source": [
    "feature_means['delete_file']"
   ]
  },
  {
   "cell_type": "code",
   "execution_count": 249,
   "metadata": {
    "collapsed": false
   },
   "outputs": [
    {
     "data": {
      "text/plain": [
       "class\n",
       "0      114\n",
       "1       50\n",
       "2       37\n",
       "3       32\n",
       "4       41\n",
       "5       39\n",
       "6       53\n",
       "7       41\n",
       "8     1609\n",
       "9       21\n",
       "10     542\n",
       "11      32\n",
       "12     376\n",
       "13      59\n",
       "14      40\n",
       "Name: id, dtype: int64"
      ]
     },
     "execution_count": 249,
     "metadata": {},
     "output_type": "execute_result"
    }
   ],
   "source": [
    "grouped.count().id"
   ]
  },
  {
   "cell_type": "code",
   "execution_count": 60,
   "metadata": {
    "collapsed": true
   },
   "outputs": [],
   "source": [
    "feature_stds = grouped.std()"
   ]
  },
  {
   "cell_type": "code",
   "execution_count": 61,
   "metadata": {
    "collapsed": false
   },
   "outputs": [
    {
     "data": {
      "text/html": [
       "<div>\n",
       "<table border=\"1\" class=\"dataframe\">\n",
       "  <thead>\n",
       "    <tr style=\"text-align: right;\">\n",
       "      <th></th>\n",
       "      <th>Unnamed: 0</th>\n",
       "      <th>accept_socket</th>\n",
       "      <th>add_netjob</th>\n",
       "      <th>all_section</th>\n",
       "      <th>bind_socket</th>\n",
       "      <th>change_service_config</th>\n",
       "      <th>check_for_debugger</th>\n",
       "      <th>com_create_instance</th>\n",
       "      <th>com_createole_object</th>\n",
       "      <th>com_get_class_object</th>\n",
       "      <th>...</th>\n",
       "      <th>start_service</th>\n",
       "      <th>thread</th>\n",
       "      <th>trimmed_bytes</th>\n",
       "      <th>unload_driver</th>\n",
       "      <th>vm_allocate</th>\n",
       "      <th>vm_mapviewofsection</th>\n",
       "      <th>vm_protect</th>\n",
       "      <th>vm_read</th>\n",
       "      <th>vm_write</th>\n",
       "      <th>write_value</th>\n",
       "    </tr>\n",
       "    <tr>\n",
       "      <th>class</th>\n",
       "      <th></th>\n",
       "      <th></th>\n",
       "      <th></th>\n",
       "      <th></th>\n",
       "      <th></th>\n",
       "      <th></th>\n",
       "      <th></th>\n",
       "      <th></th>\n",
       "      <th></th>\n",
       "      <th></th>\n",
       "      <th></th>\n",
       "      <th></th>\n",
       "      <th></th>\n",
       "      <th></th>\n",
       "      <th></th>\n",
       "      <th></th>\n",
       "      <th></th>\n",
       "      <th></th>\n",
       "      <th></th>\n",
       "      <th></th>\n",
       "      <th></th>\n",
       "    </tr>\n",
       "  </thead>\n",
       "  <tbody>\n",
       "    <tr>\n",
       "      <th>0</th>\n",
       "      <td>850.033529</td>\n",
       "      <td>0.00000</td>\n",
       "      <td>0.000000</td>\n",
       "      <td>26.025760</td>\n",
       "      <td>10.320707</td>\n",
       "      <td>0.093659</td>\n",
       "      <td>8.364582</td>\n",
       "      <td>93.841690</td>\n",
       "      <td>0</td>\n",
       "      <td>34.023153</td>\n",
       "      <td>...</td>\n",
       "      <td>1.222747</td>\n",
       "      <td>26.402460</td>\n",
       "      <td>133.929473</td>\n",
       "      <td>0.000000</td>\n",
       "      <td>24.681175</td>\n",
       "      <td>0.000000</td>\n",
       "      <td>6934.397338</td>\n",
       "      <td>516.049202</td>\n",
       "      <td>63.464820</td>\n",
       "      <td>43.026009</td>\n",
       "    </tr>\n",
       "    <tr>\n",
       "      <th>1</th>\n",
       "      <td>961.077000</td>\n",
       "      <td>0.00000</td>\n",
       "      <td>0.000000</td>\n",
       "      <td>5.981468</td>\n",
       "      <td>19.992815</td>\n",
       "      <td>0.000000</td>\n",
       "      <td>0.614452</td>\n",
       "      <td>15.339106</td>\n",
       "      <td>0</td>\n",
       "      <td>1.272792</td>\n",
       "      <td>...</td>\n",
       "      <td>0.000000</td>\n",
       "      <td>6.492099</td>\n",
       "      <td>19.992815</td>\n",
       "      <td>0.000000</td>\n",
       "      <td>21.734990</td>\n",
       "      <td>0.000000</td>\n",
       "      <td>523.380154</td>\n",
       "      <td>0.141421</td>\n",
       "      <td>19.892569</td>\n",
       "      <td>1.668924</td>\n",
       "    </tr>\n",
       "    <tr>\n",
       "      <th>2</th>\n",
       "      <td>913.579225</td>\n",
       "      <td>0.00000</td>\n",
       "      <td>0.000000</td>\n",
       "      <td>15.062582</td>\n",
       "      <td>19.327896</td>\n",
       "      <td>0.000000</td>\n",
       "      <td>3.152053</td>\n",
       "      <td>155.400273</td>\n",
       "      <td>0</td>\n",
       "      <td>8.188196</td>\n",
       "      <td>...</td>\n",
       "      <td>0.000000</td>\n",
       "      <td>15.919043</td>\n",
       "      <td>249.467345</td>\n",
       "      <td>0.000000</td>\n",
       "      <td>0.657596</td>\n",
       "      <td>0.000000</td>\n",
       "      <td>295.275333</td>\n",
       "      <td>1.315192</td>\n",
       "      <td>0.000000</td>\n",
       "      <td>0.164399</td>\n",
       "    </tr>\n",
       "    <tr>\n",
       "      <th>3</th>\n",
       "      <td>914.245044</td>\n",
       "      <td>0.00000</td>\n",
       "      <td>0.000000</td>\n",
       "      <td>7.224510</td>\n",
       "      <td>41.399984</td>\n",
       "      <td>0.000000</td>\n",
       "      <td>0.396558</td>\n",
       "      <td>351.038205</td>\n",
       "      <td>0</td>\n",
       "      <td>10.413817</td>\n",
       "      <td>...</td>\n",
       "      <td>0.000000</td>\n",
       "      <td>7.224510</td>\n",
       "      <td>251.386991</td>\n",
       "      <td>0.000000</td>\n",
       "      <td>0.000000</td>\n",
       "      <td>0.000000</td>\n",
       "      <td>102.165268</td>\n",
       "      <td>0.000000</td>\n",
       "      <td>0.000000</td>\n",
       "      <td>0.000000</td>\n",
       "    </tr>\n",
       "    <tr>\n",
       "      <th>4</th>\n",
       "      <td>893.302300</td>\n",
       "      <td>0.00000</td>\n",
       "      <td>0.000000</td>\n",
       "      <td>4.000762</td>\n",
       "      <td>1.597254</td>\n",
       "      <td>0.000000</td>\n",
       "      <td>1.108174</td>\n",
       "      <td>56.987697</td>\n",
       "      <td>0</td>\n",
       "      <td>0.000000</td>\n",
       "      <td>...</td>\n",
       "      <td>0.000000</td>\n",
       "      <td>4.247237</td>\n",
       "      <td>22.768667</td>\n",
       "      <td>0.000000</td>\n",
       "      <td>0.000000</td>\n",
       "      <td>0.000000</td>\n",
       "      <td>54.890801</td>\n",
       "      <td>0.000000</td>\n",
       "      <td>0.468521</td>\n",
       "      <td>0.000000</td>\n",
       "    </tr>\n",
       "    <tr>\n",
       "      <th>5</th>\n",
       "      <td>904.066369</td>\n",
       "      <td>0.00000</td>\n",
       "      <td>0.000000</td>\n",
       "      <td>8.848782</td>\n",
       "      <td>9.998650</td>\n",
       "      <td>0.000000</td>\n",
       "      <td>0.944478</td>\n",
       "      <td>54.214785</td>\n",
       "      <td>0</td>\n",
       "      <td>3.476352</td>\n",
       "      <td>...</td>\n",
       "      <td>0.446912</td>\n",
       "      <td>8.877788</td>\n",
       "      <td>125.915776</td>\n",
       "      <td>0.223456</td>\n",
       "      <td>5.204846</td>\n",
       "      <td>0.000000</td>\n",
       "      <td>162.859274</td>\n",
       "      <td>0.160128</td>\n",
       "      <td>4.154571</td>\n",
       "      <td>0.000000</td>\n",
       "    </tr>\n",
       "    <tr>\n",
       "      <th>6</th>\n",
       "      <td>887.419856</td>\n",
       "      <td>0.00000</td>\n",
       "      <td>0.000000</td>\n",
       "      <td>27.579691</td>\n",
       "      <td>11.293357</td>\n",
       "      <td>0.000000</td>\n",
       "      <td>2.021294</td>\n",
       "      <td>201.110247</td>\n",
       "      <td>0</td>\n",
       "      <td>143.387713</td>\n",
       "      <td>...</td>\n",
       "      <td>0.000000</td>\n",
       "      <td>27.579691</td>\n",
       "      <td>435.705699</td>\n",
       "      <td>0.000000</td>\n",
       "      <td>0.412082</td>\n",
       "      <td>0.000000</td>\n",
       "      <td>162.516894</td>\n",
       "      <td>0.000000</td>\n",
       "      <td>0.137361</td>\n",
       "      <td>30.186623</td>\n",
       "    </tr>\n",
       "    <tr>\n",
       "      <th>7</th>\n",
       "      <td>925.899023</td>\n",
       "      <td>0.00000</td>\n",
       "      <td>0.000000</td>\n",
       "      <td>2.444506</td>\n",
       "      <td>0.156174</td>\n",
       "      <td>0.156174</td>\n",
       "      <td>0.156174</td>\n",
       "      <td>5.354847</td>\n",
       "      <td>0</td>\n",
       "      <td>0.218085</td>\n",
       "      <td>...</td>\n",
       "      <td>0.312348</td>\n",
       "      <td>2.444506</td>\n",
       "      <td>0.000000</td>\n",
       "      <td>0.000000</td>\n",
       "      <td>0.000000</td>\n",
       "      <td>0.000000</td>\n",
       "      <td>39.945435</td>\n",
       "      <td>0.000000</td>\n",
       "      <td>0.000000</td>\n",
       "      <td>0.000000</td>\n",
       "    </tr>\n",
       "    <tr>\n",
       "      <th>8</th>\n",
       "      <td>888.198176</td>\n",
       "      <td>0.27423</td>\n",
       "      <td>0.049860</td>\n",
       "      <td>5.851330</td>\n",
       "      <td>3.943317</td>\n",
       "      <td>0.078821</td>\n",
       "      <td>1.526915</td>\n",
       "      <td>57.513493</td>\n",
       "      <td>0</td>\n",
       "      <td>28.162368</td>\n",
       "      <td>...</td>\n",
       "      <td>0.179721</td>\n",
       "      <td>5.976183</td>\n",
       "      <td>133.786640</td>\n",
       "      <td>0.000000</td>\n",
       "      <td>1.224245</td>\n",
       "      <td>0.000000</td>\n",
       "      <td>46.938909</td>\n",
       "      <td>1.002315</td>\n",
       "      <td>0.848318</td>\n",
       "      <td>22.708752</td>\n",
       "    </tr>\n",
       "    <tr>\n",
       "      <th>9</th>\n",
       "      <td>792.778658</td>\n",
       "      <td>0.00000</td>\n",
       "      <td>0.000000</td>\n",
       "      <td>4.526641</td>\n",
       "      <td>0.000000</td>\n",
       "      <td>0.000000</td>\n",
       "      <td>1.687489</td>\n",
       "      <td>3.501700</td>\n",
       "      <td>0</td>\n",
       "      <td>0.966092</td>\n",
       "      <td>...</td>\n",
       "      <td>0.000000</td>\n",
       "      <td>4.526641</td>\n",
       "      <td>0.000000</td>\n",
       "      <td>0.000000</td>\n",
       "      <td>255.253889</td>\n",
       "      <td>0.000000</td>\n",
       "      <td>393.308827</td>\n",
       "      <td>0.000000</td>\n",
       "      <td>147.210895</td>\n",
       "      <td>0.000000</td>\n",
       "    </tr>\n",
       "    <tr>\n",
       "      <th>10</th>\n",
       "      <td>900.217196</td>\n",
       "      <td>0.00000</td>\n",
       "      <td>0.000000</td>\n",
       "      <td>7.595399</td>\n",
       "      <td>2.104908</td>\n",
       "      <td>0.000000</td>\n",
       "      <td>2.914522</td>\n",
       "      <td>2.877851</td>\n",
       "      <td>0</td>\n",
       "      <td>0.493821</td>\n",
       "      <td>...</td>\n",
       "      <td>0.000000</td>\n",
       "      <td>7.595399</td>\n",
       "      <td>59.415442</td>\n",
       "      <td>0.000000</td>\n",
       "      <td>14.159773</td>\n",
       "      <td>0.000000</td>\n",
       "      <td>153.015368</td>\n",
       "      <td>0.000000</td>\n",
       "      <td>8.847633</td>\n",
       "      <td>0.000000</td>\n",
       "    </tr>\n",
       "    <tr>\n",
       "      <th>11</th>\n",
       "      <td>866.871386</td>\n",
       "      <td>0.00000</td>\n",
       "      <td>0.000000</td>\n",
       "      <td>15.501821</td>\n",
       "      <td>3.530826</td>\n",
       "      <td>0.000000</td>\n",
       "      <td>0.683179</td>\n",
       "      <td>2.214323</td>\n",
       "      <td>0</td>\n",
       "      <td>0.176777</td>\n",
       "      <td>...</td>\n",
       "      <td>0.000000</td>\n",
       "      <td>15.501821</td>\n",
       "      <td>27.237882</td>\n",
       "      <td>0.000000</td>\n",
       "      <td>1.060660</td>\n",
       "      <td>0.000000</td>\n",
       "      <td>111.816521</td>\n",
       "      <td>0.000000</td>\n",
       "      <td>0.353553</td>\n",
       "      <td>0.707107</td>\n",
       "    </tr>\n",
       "    <tr>\n",
       "      <th>12</th>\n",
       "      <td>888.182414</td>\n",
       "      <td>0.00000</td>\n",
       "      <td>0.550821</td>\n",
       "      <td>10.814856</td>\n",
       "      <td>0.694599</td>\n",
       "      <td>0.826232</td>\n",
       "      <td>2.174775</td>\n",
       "      <td>14.244947</td>\n",
       "      <td>0</td>\n",
       "      <td>9.151454</td>\n",
       "      <td>...</td>\n",
       "      <td>0.000000</td>\n",
       "      <td>10.948079</td>\n",
       "      <td>3.618078</td>\n",
       "      <td>0.000000</td>\n",
       "      <td>11.658464</td>\n",
       "      <td>0.000000</td>\n",
       "      <td>376.031159</td>\n",
       "      <td>0.072835</td>\n",
       "      <td>9.243078</td>\n",
       "      <td>2.578553</td>\n",
       "    </tr>\n",
       "    <tr>\n",
       "      <th>13</th>\n",
       "      <td>877.056441</td>\n",
       "      <td>0.00000</td>\n",
       "      <td>0.000000</td>\n",
       "      <td>5.165637</td>\n",
       "      <td>0.000000</td>\n",
       "      <td>0.130189</td>\n",
       "      <td>11.580330</td>\n",
       "      <td>12.081909</td>\n",
       "      <td>0</td>\n",
       "      <td>3.432066</td>\n",
       "      <td>...</td>\n",
       "      <td>0.000000</td>\n",
       "      <td>5.207220</td>\n",
       "      <td>0.130189</td>\n",
       "      <td>0.000000</td>\n",
       "      <td>0.182521</td>\n",
       "      <td>3.195464</td>\n",
       "      <td>34.694938</td>\n",
       "      <td>0.000000</td>\n",
       "      <td>14.051421</td>\n",
       "      <td>0.000000</td>\n",
       "    </tr>\n",
       "    <tr>\n",
       "      <th>14</th>\n",
       "      <td>975.838614</td>\n",
       "      <td>0.00000</td>\n",
       "      <td>0.000000</td>\n",
       "      <td>20.064623</td>\n",
       "      <td>2.186057</td>\n",
       "      <td>0.000000</td>\n",
       "      <td>0.474342</td>\n",
       "      <td>1.154423</td>\n",
       "      <td>0</td>\n",
       "      <td>0.000000</td>\n",
       "      <td>...</td>\n",
       "      <td>0.000000</td>\n",
       "      <td>21.710434</td>\n",
       "      <td>13.052925</td>\n",
       "      <td>0.000000</td>\n",
       "      <td>55.816434</td>\n",
       "      <td>0.000000</td>\n",
       "      <td>10867.749032</td>\n",
       "      <td>0.000000</td>\n",
       "      <td>72.568818</td>\n",
       "      <td>0.000000</td>\n",
       "    </tr>\n",
       "  </tbody>\n",
       "</table>\n",
       "<p>15 rows × 107 columns</p>\n",
       "</div>"
      ],
      "text/plain": [
       "       Unnamed: 0  accept_socket  add_netjob  all_section  bind_socket  \\\n",
       "class                                                                    \n",
       "0      850.033529        0.00000    0.000000    26.025760    10.320707   \n",
       "1      961.077000        0.00000    0.000000     5.981468    19.992815   \n",
       "2      913.579225        0.00000    0.000000    15.062582    19.327896   \n",
       "3      914.245044        0.00000    0.000000     7.224510    41.399984   \n",
       "4      893.302300        0.00000    0.000000     4.000762     1.597254   \n",
       "5      904.066369        0.00000    0.000000     8.848782     9.998650   \n",
       "6      887.419856        0.00000    0.000000    27.579691    11.293357   \n",
       "7      925.899023        0.00000    0.000000     2.444506     0.156174   \n",
       "8      888.198176        0.27423    0.049860     5.851330     3.943317   \n",
       "9      792.778658        0.00000    0.000000     4.526641     0.000000   \n",
       "10     900.217196        0.00000    0.000000     7.595399     2.104908   \n",
       "11     866.871386        0.00000    0.000000    15.501821     3.530826   \n",
       "12     888.182414        0.00000    0.550821    10.814856     0.694599   \n",
       "13     877.056441        0.00000    0.000000     5.165637     0.000000   \n",
       "14     975.838614        0.00000    0.000000    20.064623     2.186057   \n",
       "\n",
       "       change_service_config  check_for_debugger  com_create_instance  \\\n",
       "class                                                                   \n",
       "0                   0.093659            8.364582            93.841690   \n",
       "1                   0.000000            0.614452            15.339106   \n",
       "2                   0.000000            3.152053           155.400273   \n",
       "3                   0.000000            0.396558           351.038205   \n",
       "4                   0.000000            1.108174            56.987697   \n",
       "5                   0.000000            0.944478            54.214785   \n",
       "6                   0.000000            2.021294           201.110247   \n",
       "7                   0.156174            0.156174             5.354847   \n",
       "8                   0.078821            1.526915            57.513493   \n",
       "9                   0.000000            1.687489             3.501700   \n",
       "10                  0.000000            2.914522             2.877851   \n",
       "11                  0.000000            0.683179             2.214323   \n",
       "12                  0.826232            2.174775            14.244947   \n",
       "13                  0.130189           11.580330            12.081909   \n",
       "14                  0.000000            0.474342             1.154423   \n",
       "\n",
       "       com_createole_object  com_get_class_object     ...       start_service  \\\n",
       "class                                                 ...                       \n",
       "0                         0             34.023153     ...            1.222747   \n",
       "1                         0              1.272792     ...            0.000000   \n",
       "2                         0              8.188196     ...            0.000000   \n",
       "3                         0             10.413817     ...            0.000000   \n",
       "4                         0              0.000000     ...            0.000000   \n",
       "5                         0              3.476352     ...            0.446912   \n",
       "6                         0            143.387713     ...            0.000000   \n",
       "7                         0              0.218085     ...            0.312348   \n",
       "8                         0             28.162368     ...            0.179721   \n",
       "9                         0              0.966092     ...            0.000000   \n",
       "10                        0              0.493821     ...            0.000000   \n",
       "11                        0              0.176777     ...            0.000000   \n",
       "12                        0              9.151454     ...            0.000000   \n",
       "13                        0              3.432066     ...            0.000000   \n",
       "14                        0              0.000000     ...            0.000000   \n",
       "\n",
       "          thread  trimmed_bytes  unload_driver  vm_allocate  \\\n",
       "class                                                         \n",
       "0      26.402460     133.929473       0.000000    24.681175   \n",
       "1       6.492099      19.992815       0.000000    21.734990   \n",
       "2      15.919043     249.467345       0.000000     0.657596   \n",
       "3       7.224510     251.386991       0.000000     0.000000   \n",
       "4       4.247237      22.768667       0.000000     0.000000   \n",
       "5       8.877788     125.915776       0.223456     5.204846   \n",
       "6      27.579691     435.705699       0.000000     0.412082   \n",
       "7       2.444506       0.000000       0.000000     0.000000   \n",
       "8       5.976183     133.786640       0.000000     1.224245   \n",
       "9       4.526641       0.000000       0.000000   255.253889   \n",
       "10      7.595399      59.415442       0.000000    14.159773   \n",
       "11     15.501821      27.237882       0.000000     1.060660   \n",
       "12     10.948079       3.618078       0.000000    11.658464   \n",
       "13      5.207220       0.130189       0.000000     0.182521   \n",
       "14     21.710434      13.052925       0.000000    55.816434   \n",
       "\n",
       "       vm_mapviewofsection    vm_protect     vm_read    vm_write  write_value  \n",
       "class                                                                          \n",
       "0                 0.000000   6934.397338  516.049202   63.464820    43.026009  \n",
       "1                 0.000000    523.380154    0.141421   19.892569     1.668924  \n",
       "2                 0.000000    295.275333    1.315192    0.000000     0.164399  \n",
       "3                 0.000000    102.165268    0.000000    0.000000     0.000000  \n",
       "4                 0.000000     54.890801    0.000000    0.468521     0.000000  \n",
       "5                 0.000000    162.859274    0.160128    4.154571     0.000000  \n",
       "6                 0.000000    162.516894    0.000000    0.137361    30.186623  \n",
       "7                 0.000000     39.945435    0.000000    0.000000     0.000000  \n",
       "8                 0.000000     46.938909    1.002315    0.848318    22.708752  \n",
       "9                 0.000000    393.308827    0.000000  147.210895     0.000000  \n",
       "10                0.000000    153.015368    0.000000    8.847633     0.000000  \n",
       "11                0.000000    111.816521    0.000000    0.353553     0.707107  \n",
       "12                0.000000    376.031159    0.072835    9.243078     2.578553  \n",
       "13                3.195464     34.694938    0.000000   14.051421     0.000000  \n",
       "14                0.000000  10867.749032    0.000000   72.568818     0.000000  \n",
       "\n",
       "[15 rows x 107 columns]"
      ]
     },
     "execution_count": 61,
     "metadata": {},
     "output_type": "execute_result"
    }
   ],
   "source": [
    "feature_stds"
   ]
  },
  {
   "cell_type": "code",
   "execution_count": 66,
   "metadata": {
    "collapsed": false
   },
   "outputs": [
    {
     "data": {
      "text/plain": [
       "283     1173\n",
       "544        0\n",
       "632        0\n",
       "651        0\n",
       "666        0\n",
       "1009       0\n",
       "1144       0\n",
       "1246       0\n",
       "1295       0\n",
       "1356       0\n",
       "1364      20\n",
       "1743      17\n",
       "1753       0\n",
       "1925      14\n",
       "2057      17\n",
       "2086       0\n",
       "2275       6\n",
       "2479       0\n",
       "2485       0\n",
       "2856       0\n",
       "3001       0\n",
       "Name: vm_allocate, dtype: float64"
      ]
     },
     "execution_count": 66,
     "metadata": {},
     "output_type": "execute_result"
    }
   ],
   "source": [
    "features_df[features_df['class']==9]['vm_allocate']"
   ]
  },
  {
   "cell_type": "markdown",
   "metadata": {},
   "source": [
    "I looked through several features that had mean values for a particular class that were very far from the mean of that feature for the data as a whole, and found that they were typically thrown off by a few extreme values for a particular data point.  "
   ]
  },
  {
   "cell_type": "code",
   "execution_count": 70,
   "metadata": {
    "collapsed": false,
    "scrolled": true
   },
   "outputs": [
    {
     "data": {
      "text/plain": [
       "class\n",
       "0      664.833333\n",
       "1      105.620000\n",
       "2     1490.810811\n",
       "3     2611.406250\n",
       "4       82.634146\n",
       "5      587.256410\n",
       "6     7521.471698\n",
       "7        0.024390\n",
       "8      174.270976\n",
       "9        0.095238\n",
       "10     893.832103\n",
       "11     158.812500\n",
       "12       5.489362\n",
       "13       2.033898\n",
       "14      93.425000\n",
       "Name: dump_line, dtype: float64"
      ]
     },
     "execution_count": 70,
     "metadata": {},
     "output_type": "execute_result"
    }
   ],
   "source": [
    "feature_means['dump_line']"
   ]
  },
  {
   "cell_type": "code",
   "execution_count": 71,
   "metadata": {
    "collapsed": false
   },
   "outputs": [
    {
     "data": {
      "text/plain": [
       "1        3433\n",
       "104         0\n",
       "192     10690\n",
       "253         0\n",
       "265         0\n",
       "362     13568\n",
       "410     16103\n",
       "517     10578\n",
       "606     19240\n",
       "625      4387\n",
       "827         0\n",
       "877         0\n",
       "878         0\n",
       "895      3970\n",
       "922      3467\n",
       "1120    11683\n",
       "1148    15004\n",
       "1153     4354\n",
       "1157    15891\n",
       "1359     3580\n",
       "1412    16665\n",
       "1484     4459\n",
       "1521        0\n",
       "1549    13404\n",
       "1563     6737\n",
       "1592        0\n",
       "1755        0\n",
       "1770    18277\n",
       "1817     9449\n",
       "1855    15627\n",
       "1876     4509\n",
       "1932     4412\n",
       "2031    11757\n",
       "2061        0\n",
       "2191        0\n",
       "2213     3577\n",
       "2234    10418\n",
       "2258        0\n",
       "2273    15451\n",
       "2319    22106\n",
       "2395        0\n",
       "2470        0\n",
       "2551        0\n",
       "2593    16582\n",
       "2659    11290\n",
       "2716     1162\n",
       "2806     7557\n",
       "2827    11022\n",
       "2851        0\n",
       "2914    16315\n",
       "2932        0\n",
       "2999    22006\n",
       "3072    19908\n",
       "Name: dump_line, dtype: float64"
      ]
     },
     "execution_count": 71,
     "metadata": {},
     "output_type": "execute_result"
    }
   ],
   "source": [
    "features_df['dump_line'][features_df['class']==6]"
   ]
  },
  {
   "cell_type": "code",
   "execution_count": 76,
   "metadata": {
    "collapsed": false
   },
   "outputs": [
    {
     "data": {
      "text/plain": [
       "class\n",
       "0      5771.307018\n",
       "1      3393.300000\n",
       "2      9158.000000\n",
       "3      7636.187500\n",
       "4      2237.731707\n",
       "5      9551.230769\n",
       "6     18718.226415\n",
       "7      2048.585366\n",
       "8      2734.945308\n",
       "9      2156.952381\n",
       "10     4126.044280\n",
       "11     2133.750000\n",
       "12     2447.505319\n",
       "13     2101.525424\n",
       "14    10549.500000\n",
       "dtype: float64"
      ]
     },
     "execution_count": 76,
     "metadata": {},
     "output_type": "execute_result"
    }
   ],
   "source": [
    "feature_means.sum(axis=1)"
   ]
  },
  {
   "cell_type": "code",
   "execution_count": null,
   "metadata": {
    "collapsed": true
   },
   "outputs": [],
   "source": []
  },
  {
   "cell_type": "code",
   "execution_count": null,
   "metadata": {
    "collapsed": true
   },
   "outputs": [],
   "source": []
  },
  {
   "cell_type": "code",
   "execution_count": null,
   "metadata": {
    "collapsed": true
   },
   "outputs": [],
   "source": []
  },
  {
   "cell_type": "code",
   "execution_count": null,
   "metadata": {
    "collapsed": true
   },
   "outputs": [],
   "source": []
  },
  {
   "cell_type": "markdown",
   "metadata": {},
   "source": [
    "#### Random forest classifiers"
   ]
  },
  {
   "cell_type": "code",
   "execution_count": 37,
   "metadata": {
    "collapsed": false,
    "scrolled": true
   },
   "outputs": [
    {
     "data": {
      "text/html": [
       "<div>\n",
       "<table border=\"1\" class=\"dataframe\">\n",
       "  <thead>\n",
       "    <tr style=\"text-align: right;\">\n",
       "      <th></th>\n",
       "      <th>Unnamed: 0</th>\n",
       "      <th>accept_socket</th>\n",
       "      <th>add_netjob</th>\n",
       "      <th>all_section</th>\n",
       "      <th>bind_socket</th>\n",
       "      <th>change_service_config</th>\n",
       "      <th>check_for_debugger</th>\n",
       "      <th>com_create_instance</th>\n",
       "      <th>com_createole_object</th>\n",
       "      <th>com_get_class_object</th>\n",
       "      <th>...</th>\n",
       "      <th>vm_read</th>\n",
       "      <th>vm_write</th>\n",
       "      <th>write_value</th>\n",
       "      <th>class</th>\n",
       "      <th>id</th>\n",
       "      <th>Total_Run_Time</th>\n",
       "      <th>Total_Sleep_Time</th>\n",
       "      <th>Mean_Dump_Line_length</th>\n",
       "      <th>Mean_Failed_CreateProcesses</th>\n",
       "      <th>Num_Failed_CreateProcesses</th>\n",
       "    </tr>\n",
       "  </thead>\n",
       "  <tbody>\n",
       "    <tr>\n",
       "      <th>0</th>\n",
       "      <td>0</td>\n",
       "      <td>0</td>\n",
       "      <td>0</td>\n",
       "      <td>5</td>\n",
       "      <td>0</td>\n",
       "      <td>0</td>\n",
       "      <td>1</td>\n",
       "      <td>1</td>\n",
       "      <td>0</td>\n",
       "      <td>0</td>\n",
       "      <td>...</td>\n",
       "      <td>0</td>\n",
       "      <td>0</td>\n",
       "      <td>0</td>\n",
       "      <td>8</td>\n",
       "      <td>00269ea50001a6c699d0222032d45b74b2e7e8be9</td>\n",
       "      <td>16.623</td>\n",
       "      <td>252</td>\n",
       "      <td>0</td>\n",
       "      <td>1.00</td>\n",
       "      <td>0</td>\n",
       "    </tr>\n",
       "    <tr>\n",
       "      <th>1</th>\n",
       "      <td>1</td>\n",
       "      <td>0</td>\n",
       "      <td>0</td>\n",
       "      <td>40</td>\n",
       "      <td>5</td>\n",
       "      <td>0</td>\n",
       "      <td>3</td>\n",
       "      <td>338</td>\n",
       "      <td>0</td>\n",
       "      <td>207</td>\n",
       "      <td>...</td>\n",
       "      <td>0</td>\n",
       "      <td>0</td>\n",
       "      <td>2</td>\n",
       "      <td>6</td>\n",
       "      <td>00278ec420236020d6121dffe0cc20034422e7228</td>\n",
       "      <td>443.124</td>\n",
       "      <td>305540</td>\n",
       "      <td>48</td>\n",
       "      <td>0.75</td>\n",
       "      <td>1</td>\n",
       "    </tr>\n",
       "    <tr>\n",
       "      <th>2</th>\n",
       "      <td>2</td>\n",
       "      <td>0</td>\n",
       "      <td>0</td>\n",
       "      <td>0</td>\n",
       "      <td>0</td>\n",
       "      <td>0</td>\n",
       "      <td>0</td>\n",
       "      <td>0</td>\n",
       "      <td>0</td>\n",
       "      <td>0</td>\n",
       "      <td>...</td>\n",
       "      <td>0</td>\n",
       "      <td>0</td>\n",
       "      <td>0</td>\n",
       "      <td>12</td>\n",
       "      <td>002d5615d19c851934dc481c607b6a74a6e9e536e</td>\n",
       "      <td>2.515</td>\n",
       "      <td>0</td>\n",
       "      <td>0</td>\n",
       "      <td>0.00</td>\n",
       "      <td>0</td>\n",
       "    </tr>\n",
       "    <tr>\n",
       "      <th>3</th>\n",
       "      <td>3</td>\n",
       "      <td>0</td>\n",
       "      <td>0</td>\n",
       "      <td>1</td>\n",
       "      <td>0</td>\n",
       "      <td>0</td>\n",
       "      <td>0</td>\n",
       "      <td>0</td>\n",
       "      <td>0</td>\n",
       "      <td>0</td>\n",
       "      <td>...</td>\n",
       "      <td>0</td>\n",
       "      <td>0</td>\n",
       "      <td>0</td>\n",
       "      <td>8</td>\n",
       "      <td>006be5Dc265600c19728c9747fb4c7bc9e8d6f106</td>\n",
       "      <td>234.516</td>\n",
       "      <td>0</td>\n",
       "      <td>0</td>\n",
       "      <td>0.00</td>\n",
       "      <td>0</td>\n",
       "    </tr>\n",
       "    <tr>\n",
       "      <th>4</th>\n",
       "      <td>4</td>\n",
       "      <td>0</td>\n",
       "      <td>0</td>\n",
       "      <td>6</td>\n",
       "      <td>0</td>\n",
       "      <td>0</td>\n",
       "      <td>1</td>\n",
       "      <td>4</td>\n",
       "      <td>0</td>\n",
       "      <td>1</td>\n",
       "      <td>...</td>\n",
       "      <td>0</td>\n",
       "      <td>4</td>\n",
       "      <td>0</td>\n",
       "      <td>10</td>\n",
       "      <td>0089453df77890cae95ce7d9130a4ef85eaea36e8</td>\n",
       "      <td>237.125</td>\n",
       "      <td>60500</td>\n",
       "      <td>48</td>\n",
       "      <td>0.50</td>\n",
       "      <td>1</td>\n",
       "    </tr>\n",
       "  </tbody>\n",
       "</table>\n",
       "<p>5 rows × 114 columns</p>\n",
       "</div>"
      ],
      "text/plain": [
       "   Unnamed: 0  accept_socket  add_netjob  all_section  bind_socket  \\\n",
       "0           0              0           0            5            0   \n",
       "1           1              0           0           40            5   \n",
       "2           2              0           0            0            0   \n",
       "3           3              0           0            1            0   \n",
       "4           4              0           0            6            0   \n",
       "\n",
       "   change_service_config  check_for_debugger  com_create_instance  \\\n",
       "0                      0                   1                    1   \n",
       "1                      0                   3                  338   \n",
       "2                      0                   0                    0   \n",
       "3                      0                   0                    0   \n",
       "4                      0                   1                    4   \n",
       "\n",
       "   com_createole_object  com_get_class_object             ...              \\\n",
       "0                     0                     0             ...               \n",
       "1                     0                   207             ...               \n",
       "2                     0                     0             ...               \n",
       "3                     0                     0             ...               \n",
       "4                     0                     1             ...               \n",
       "\n",
       "   vm_read  vm_write  write_value  class  \\\n",
       "0        0         0            0      8   \n",
       "1        0         0            2      6   \n",
       "2        0         0            0     12   \n",
       "3        0         0            0      8   \n",
       "4        0         4            0     10   \n",
       "\n",
       "                                          id  Total_Run_Time  \\\n",
       "0  00269ea50001a6c699d0222032d45b74b2e7e8be9          16.623   \n",
       "1  00278ec420236020d6121dffe0cc20034422e7228         443.124   \n",
       "2  002d5615d19c851934dc481c607b6a74a6e9e536e           2.515   \n",
       "3  006be5Dc265600c19728c9747fb4c7bc9e8d6f106         234.516   \n",
       "4  0089453df77890cae95ce7d9130a4ef85eaea36e8         237.125   \n",
       "\n",
       "   Total_Sleep_Time  Mean_Dump_Line_length  Mean_Failed_CreateProcesses  \\\n",
       "0               252                      0                         1.00   \n",
       "1            305540                     48                         0.75   \n",
       "2                 0                      0                         0.00   \n",
       "3                 0                      0                         0.00   \n",
       "4             60500                     48                         0.50   \n",
       "\n",
       "   Num_Failed_CreateProcesses  \n",
       "0                           0  \n",
       "1                           1  \n",
       "2                           0  \n",
       "3                           0  \n",
       "4                           1  \n",
       "\n",
       "[5 rows x 114 columns]"
      ]
     },
     "execution_count": 37,
     "metadata": {},
     "output_type": "execute_result"
    }
   ],
   "source": [
    "features_df.head()"
   ]
  },
  {
   "cell_type": "code",
   "execution_count": 38,
   "metadata": {
    "collapsed": false
   },
   "outputs": [],
   "source": [
    "X_train = np.array(features_df.drop(['class','id'],axis=1))"
   ]
  },
  {
   "cell_type": "code",
   "execution_count": 39,
   "metadata": {
    "collapsed": true
   },
   "outputs": [],
   "source": [
    "\n",
    "t_train = np.array(features_df['class'])"
   ]
  },
  {
   "cell_type": "code",
   "execution_count": 40,
   "metadata": {
    "collapsed": true
   },
   "outputs": [],
   "source": [
    "from sklearn.ensemble import RandomForestClassifier"
   ]
  },
  {
   "cell_type": "code",
   "execution_count": 56,
   "metadata": {
    "collapsed": true
   },
   "outputs": [],
   "source": [
    "RF = RandomForestClassifier(n_estimators=50, oob_score=True, n_jobs=-1, min_samples_leaf = 1, warm_start = True)"
   ]
  },
  {
   "cell_type": "code",
   "execution_count": 57,
   "metadata": {
    "collapsed": false
   },
   "outputs": [
    {
     "data": {
      "text/plain": [
       "RandomForestClassifier(bootstrap=True, class_weight=None, criterion='gini',\n",
       "            max_depth=None, max_features='auto', max_leaf_nodes=None,\n",
       "            min_samples_leaf=1, min_samples_split=2,\n",
       "            min_weight_fraction_leaf=0.0, n_estimators=50, n_jobs=1,\n",
       "            oob_score=True, random_state=None, verbose=0, warm_start=False)"
      ]
     },
     "execution_count": 57,
     "metadata": {},
     "output_type": "execute_result"
    }
   ],
   "source": [
    "RF.fit(X_train, t_train)"
   ]
  },
  {
   "cell_type": "code",
   "execution_count": 58,
   "metadata": {
    "collapsed": false
   },
   "outputs": [
    {
     "name": "stdout",
     "output_type": "stream",
     "text": [
      "0.048733553605\n"
     ]
    },
    {
     "data": {
      "text/plain": [
       "0.89338950097213221"
      ]
     },
     "execution_count": 58,
     "metadata": {},
     "output_type": "execute_result"
    }
   ],
   "source": [
    "print(np.max(RF.feature_importances_))\n",
    "RF.feature_importances_\n",
    "RF.oob_score_\n",
    "#RF.n_features_"
   ]
  },
  {
   "cell_type": "code",
   "execution_count": 339,
   "metadata": {
    "collapsed": false
   },
   "outputs": [],
   "source": [
    "# Note that in the test set, the id's are mislabeled as 'class'\n",
    "X_test = np.array(features_test_df.drop(['class'],axis=1))"
   ]
  },
  {
   "cell_type": "code",
   "execution_count": 343,
   "metadata": {
    "collapsed": true
   },
   "outputs": [],
   "source": [
    "test_ids = features_test_df['class']"
   ]
  },
  {
   "cell_type": "code",
   "execution_count": 340,
   "metadata": {
    "collapsed": false
   },
   "outputs": [],
   "source": [
    "pred = RF.predict(X_test)"
   ]
  },
  {
   "cell_type": "code",
   "execution_count": 355,
   "metadata": {
    "collapsed": false
   },
   "outputs": [],
   "source": [
    "out_df=pd.DataFrame(pred,columns=['Prediction'])"
   ]
  },
  {
   "cell_type": "code",
   "execution_count": 357,
   "metadata": {
    "collapsed": true
   },
   "outputs": [],
   "source": [
    "out_df['Id']=test_ids"
   ]
  },
  {
   "cell_type": "code",
   "execution_count": 361,
   "metadata": {
    "collapsed": false
   },
   "outputs": [],
   "source": [
    "out_df = out_df.set_index('Id')"
   ]
  },
  {
   "cell_type": "code",
   "execution_count": 350,
   "metadata": {
    "collapsed": false
   },
   "outputs": [],
   "source": [
    "# out_df = pd.DataFrame(test_ids, columns=['Id'])\n",
    "# out_df['Prediction'] = pred\n",
    "# out_df = out_df.set_index('Id')"
   ]
  },
  {
   "cell_type": "code",
   "execution_count": null,
   "metadata": {
    "collapsed": true
   },
   "outputs": [],
   "source": []
  },
  {
   "cell_type": "code",
   "execution_count": 362,
   "metadata": {
    "collapsed": false
   },
   "outputs": [],
   "source": [
    "out_df.to_csv('../outputs/RF_prediction_Junge1.csv')"
   ]
  },
  {
   "cell_type": "code",
   "execution_count": 376,
   "metadata": {
    "collapsed": false
   },
   "outputs": [],
   "source": [
    "## I submitted this and our score went down..."
   ]
  },
  {
   "cell_type": "code",
   "execution_count": null,
   "metadata": {
    "collapsed": true
   },
   "outputs": [],
   "source": []
  }
 ],
 "metadata": {
  "kernelspec": {
   "display_name": "Python 2",
   "language": "python",
   "name": "python2"
  },
  "language_info": {
   "codemirror_mode": {
    "name": "ipython",
    "version": 2
   },
   "file_extension": ".py",
   "mimetype": "text/x-python",
   "name": "python",
   "nbconvert_exporter": "python",
   "pygments_lexer": "ipython2",
   "version": "2.7.11"
  }
 },
 "nbformat": 4,
 "nbformat_minor": 0
}
