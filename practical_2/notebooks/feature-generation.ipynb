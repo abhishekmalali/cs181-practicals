{
 "cells": [
  {
   "cell_type": "code",
   "execution_count": 1,
   "metadata": {
    "collapsed": true
   },
   "outputs": [],
   "source": [
    "import os\n",
    "import pandas as pd\n",
    "import numpy as np\n",
    "from collections import Counter\n",
    "try:\n",
    "    import xml.etree.cElementTree as ET\n",
    "except ImportError:\n",
    "    import xml.etree.ElementTree as ET\n",
    "from scipy import sparse\n",
    "import util"
   ]
  },
  {
   "cell_type": "code",
   "execution_count": 2,
   "metadata": {
    "collapsed": true
   },
   "outputs": [],
   "source": [
    "TRAIN_DIR = \"../data/train\""
   ]
  },
  {
   "cell_type": "code",
   "execution_count": 3,
   "metadata": {
    "collapsed": true
   },
   "outputs": [],
   "source": [
    "call_set = set([])"
   ]
  },
  {
   "cell_type": "code",
   "execution_count": 4,
   "metadata": {
    "collapsed": true
   },
   "outputs": [],
   "source": [
    "def add_to_set(tree):\n",
    "    for el in tree.iter():\n",
    "        call = el.tag\n",
    "        call_set.add(call)"
   ]
  },
  {
   "cell_type": "code",
   "execution_count": 5,
   "metadata": {
    "collapsed": true
   },
   "outputs": [],
   "source": [
    "#creating a set of features counting the number of tags\n",
    "def call_feats(tree, good_calls):\n",
    "    #Inputs\n",
    "    #tree - tree object for every file\n",
    "    #good_calls - list of tags for which we create the features\n",
    "    call_counter = {}\n",
    "    for el in tree.iter():\n",
    "        call = el.tag\n",
    "        if call not in call_counter:\n",
    "            call_counter[call] = 0\n",
    "        else:\n",
    "            call_counter[call] += 1\n",
    "\n",
    "    call_feat_array = np.zeros(len(good_calls))\n",
    "    for i in range(len(good_calls)):\n",
    "        call = good_calls[i]\n",
    "        call_feat_array[i] = 0\n",
    "        if call in call_counter:\n",
    "            call_feat_array[i] = call_counter[call]\n",
    "    return call_feat_array"
   ]
  },
  {
   "cell_type": "code",
   "execution_count": 6,
   "metadata": {
    "collapsed": true
   },
   "outputs": [],
   "source": [
    "###Creating function for loading data\n",
    "def create_matrix(start_index, end_index, tags, direc=\"../data/train\"):\n",
    "    X = None\n",
    "    classes = []\n",
    "    ids = []\n",
    "    i = -1\n",
    "    for datafile in os.listdir(direc):\n",
    "        if datafile == '.DS_Store':\n",
    "            continue\n",
    "            \n",
    "        i += 1\n",
    "        if i < start_index:\n",
    "            continue\n",
    "        if i >= end_index:\n",
    "            break\n",
    "        id_str, clas = datafile.split('.')[:2]\n",
    "        ids.append(id_str)\n",
    "        #adding target class to training data\n",
    "        try:\n",
    "            classes.append(util.malware_classes.index(clas))\n",
    "        except ValueError:\n",
    "            assert clas == \"X\"\n",
    "            classes.append(-1)\n",
    "            \n",
    "        #parse file as an xml document\n",
    "        tree = ET.parse(os.path.join(direc,datafile))\n",
    "        add_to_set(tree)\n",
    "        this_row = call_feats(tree, tags)\n",
    "        if X is None:\n",
    "            X = this_row \n",
    "        else:\n",
    "            X = np.vstack((X, this_row))\n",
    "            \n",
    "    return X, np.array(classes), ids    "
   ]
  },
  {
   "cell_type": "markdown",
   "metadata": {},
   "source": [
    "#### Data Exploration"
   ]
  },
  {
   "cell_type": "code",
   "execution_count": 13,
   "metadata": {
    "collapsed": false
   },
   "outputs": [],
   "source": [
    "#Data exploration\n",
    "#Loading the files\n",
    "fileList = os.listdir(TRAIN_DIR)\n",
    "numFiles = len(fileList)"
   ]
  },
  {
   "cell_type": "code",
   "execution_count": 19,
   "metadata": {
    "collapsed": false
   },
   "outputs": [],
   "source": [
    "#List of unique tags\n",
    "tags = []\n",
    "for idx in range(numFiles):\n",
    "    tree = ET.parse(os.path.join(TRAIN_DIR,fileList[idx]))\n",
    "    for el in tree.iter():\n",
    "        call = el.tag\n",
    "        tags.append(call)\n",
    "    tags = list(np.unique(tags))\n",
    "unique_tags = np.unique(tags)"
   ]
  },
  {
   "cell_type": "code",
   "execution_count": 20,
   "metadata": {
    "collapsed": false
   },
   "outputs": [],
   "source": [
    "#Converting all tags to 'str' from  numpy.string_\n",
    "unique_tags = [str(tag) for tag in unique_tags]"
   ]
  },
  {
   "cell_type": "code",
   "execution_count": 83,
   "metadata": {
    "collapsed": false
   },
   "outputs": [],
   "source": [
    "X_train, t_train, train_ids = create_matrix(0, numFiles,\\\n",
    "                                            unique_tags, TRAIN_DIR)"
   ]
  },
  {
   "cell_type": "code",
   "execution_count": 22,
   "metadata": {
    "collapsed": false
   },
   "outputs": [],
   "source": [
    "features_df = pd.DataFrame(X_train,columns=unique_tags)\n",
    "features_df['class'] = t_train\n",
    "features_df['id'] = train_ids\n",
    "#Saving the features dataframe as a new file\n",
    "features_df.to_csv('../outputs/features_v1.csv')"
   ]
  },
  {
   "cell_type": "markdown",
   "metadata": {},
   "source": [
    "#### Cleaning and transforming the test data"
   ]
  },
  {
   "cell_type": "code",
   "execution_count": 126,
   "metadata": {
    "collapsed": false
   },
   "outputs": [],
   "source": [
    "TEST_DIR = \"../data/test\"\n",
    "testFileList = os.listdir(TEST_DIR)\n",
    "numTestFiles = len(testFileList)\n",
    "X_test_real, t_test, test_ids = create_matrix(0, numTestFiles,\\\n",
    "                                            unique_tags, TEST_DIR)"
   ]
  },
  {
   "cell_type": "code",
   "execution_count": 125,
   "metadata": {
    "collapsed": false
   },
   "outputs": [],
   "source": [
    "#Ignoring t_train since there is no response variable \n",
    "features_test_df = pd.DataFrame(X_test,columns=unique_tags)\n",
    "features_test_df['class'] = test_ids"
   ]
  },
  {
   "cell_type": "code",
   "execution_count": 25,
   "metadata": {
    "collapsed": false
   },
   "outputs": [
    {
     "data": {
      "text/html": [
       "<div>\n",
       "<table border=\"1\" class=\"dataframe\">\n",
       "  <thead>\n",
       "    <tr style=\"text-align: right;\">\n",
       "      <th></th>\n",
       "      <th>accept_socket</th>\n",
       "      <th>add_netjob</th>\n",
       "      <th>all_section</th>\n",
       "      <th>bind_socket</th>\n",
       "      <th>change_service_config</th>\n",
       "      <th>check_for_debugger</th>\n",
       "      <th>com_create_instance</th>\n",
       "      <th>com_createole_object</th>\n",
       "      <th>com_get_class_object</th>\n",
       "      <th>connect</th>\n",
       "      <th>...</th>\n",
       "      <th>thread</th>\n",
       "      <th>trimmed_bytes</th>\n",
       "      <th>unload_driver</th>\n",
       "      <th>vm_allocate</th>\n",
       "      <th>vm_mapviewofsection</th>\n",
       "      <th>vm_protect</th>\n",
       "      <th>vm_read</th>\n",
       "      <th>vm_write</th>\n",
       "      <th>write_value</th>\n",
       "      <th>class</th>\n",
       "    </tr>\n",
       "  </thead>\n",
       "  <tbody>\n",
       "    <tr>\n",
       "      <th>0</th>\n",
       "      <td>0</td>\n",
       "      <td>0</td>\n",
       "      <td>4</td>\n",
       "      <td>0</td>\n",
       "      <td>0</td>\n",
       "      <td>1</td>\n",
       "      <td>1</td>\n",
       "      <td>0</td>\n",
       "      <td>0</td>\n",
       "      <td>0</td>\n",
       "      <td>...</td>\n",
       "      <td>4</td>\n",
       "      <td>0</td>\n",
       "      <td>0</td>\n",
       "      <td>0</td>\n",
       "      <td>0</td>\n",
       "      <td>35</td>\n",
       "      <td>0</td>\n",
       "      <td>0</td>\n",
       "      <td>0</td>\n",
       "      <td>0015c8c9ff02fea9d0f45692b9eebfb4abff4e42f</td>\n",
       "    </tr>\n",
       "    <tr>\n",
       "      <th>1</th>\n",
       "      <td>0</td>\n",
       "      <td>0</td>\n",
       "      <td>5</td>\n",
       "      <td>1</td>\n",
       "      <td>0</td>\n",
       "      <td>1</td>\n",
       "      <td>0</td>\n",
       "      <td>0</td>\n",
       "      <td>0</td>\n",
       "      <td>0</td>\n",
       "      <td>...</td>\n",
       "      <td>5</td>\n",
       "      <td>0</td>\n",
       "      <td>0</td>\n",
       "      <td>7</td>\n",
       "      <td>0</td>\n",
       "      <td>254</td>\n",
       "      <td>0</td>\n",
       "      <td>4</td>\n",
       "      <td>0</td>\n",
       "      <td>001f298a534ae4b0db7f2707169250aa215c3b5f2</td>\n",
       "    </tr>\n",
       "    <tr>\n",
       "      <th>2</th>\n",
       "      <td>0</td>\n",
       "      <td>0</td>\n",
       "      <td>1</td>\n",
       "      <td>0</td>\n",
       "      <td>0</td>\n",
       "      <td>0</td>\n",
       "      <td>0</td>\n",
       "      <td>0</td>\n",
       "      <td>0</td>\n",
       "      <td>0</td>\n",
       "      <td>...</td>\n",
       "      <td>1</td>\n",
       "      <td>0</td>\n",
       "      <td>0</td>\n",
       "      <td>0</td>\n",
       "      <td>0</td>\n",
       "      <td>0</td>\n",
       "      <td>0</td>\n",
       "      <td>0</td>\n",
       "      <td>0</td>\n",
       "      <td>001f5fdaaa8bbe20303527198d09a30bb7ca3eb50</td>\n",
       "    </tr>\n",
       "    <tr>\n",
       "      <th>3</th>\n",
       "      <td>0</td>\n",
       "      <td>0</td>\n",
       "      <td>5</td>\n",
       "      <td>4</td>\n",
       "      <td>0</td>\n",
       "      <td>1</td>\n",
       "      <td>0</td>\n",
       "      <td>0</td>\n",
       "      <td>0</td>\n",
       "      <td>0</td>\n",
       "      <td>...</td>\n",
       "      <td>5</td>\n",
       "      <td>12</td>\n",
       "      <td>0</td>\n",
       "      <td>0</td>\n",
       "      <td>0</td>\n",
       "      <td>71</td>\n",
       "      <td>0</td>\n",
       "      <td>0</td>\n",
       "      <td>0</td>\n",
       "      <td>002ca2c41b649f85c05ae30013436781a932fecc6</td>\n",
       "    </tr>\n",
       "    <tr>\n",
       "      <th>4</th>\n",
       "      <td>0</td>\n",
       "      <td>0</td>\n",
       "      <td>0</td>\n",
       "      <td>0</td>\n",
       "      <td>0</td>\n",
       "      <td>0</td>\n",
       "      <td>0</td>\n",
       "      <td>0</td>\n",
       "      <td>0</td>\n",
       "      <td>0</td>\n",
       "      <td>...</td>\n",
       "      <td>0</td>\n",
       "      <td>0</td>\n",
       "      <td>0</td>\n",
       "      <td>0</td>\n",
       "      <td>0</td>\n",
       "      <td>0</td>\n",
       "      <td>0</td>\n",
       "      <td>0</td>\n",
       "      <td>0</td>\n",
       "      <td>003e109543b4ea22d2bcc1ec309bf2fd34e9a1a1d</td>\n",
       "    </tr>\n",
       "  </tbody>\n",
       "</table>\n",
       "<p>5 rows × 107 columns</p>\n",
       "</div>"
      ],
      "text/plain": [
       "   accept_socket  add_netjob  all_section  bind_socket  change_service_config  \\\n",
       "0              0           0            4            0                      0   \n",
       "1              0           0            5            1                      0   \n",
       "2              0           0            1            0                      0   \n",
       "3              0           0            5            4                      0   \n",
       "4              0           0            0            0                      0   \n",
       "\n",
       "   check_for_debugger  com_create_instance  com_createole_object  \\\n",
       "0                   1                    1                     0   \n",
       "1                   1                    0                     0   \n",
       "2                   0                    0                     0   \n",
       "3                   1                    0                     0   \n",
       "4                   0                    0                     0   \n",
       "\n",
       "   com_get_class_object  connect                    ...                      \\\n",
       "0                     0        0                    ...                       \n",
       "1                     0        0                    ...                       \n",
       "2                     0        0                    ...                       \n",
       "3                     0        0                    ...                       \n",
       "4                     0        0                    ...                       \n",
       "\n",
       "   thread  trimmed_bytes  unload_driver  vm_allocate  vm_mapviewofsection  \\\n",
       "0       4              0              0            0                    0   \n",
       "1       5              0              0            7                    0   \n",
       "2       1              0              0            0                    0   \n",
       "3       5             12              0            0                    0   \n",
       "4       0              0              0            0                    0   \n",
       "\n",
       "   vm_protect  vm_read  vm_write  write_value  \\\n",
       "0          35        0         0            0   \n",
       "1         254        0         4            0   \n",
       "2           0        0         0            0   \n",
       "3          71        0         0            0   \n",
       "4           0        0         0            0   \n",
       "\n",
       "                                       class  \n",
       "0  0015c8c9ff02fea9d0f45692b9eebfb4abff4e42f  \n",
       "1  001f298a534ae4b0db7f2707169250aa215c3b5f2  \n",
       "2  001f5fdaaa8bbe20303527198d09a30bb7ca3eb50  \n",
       "3  002ca2c41b649f85c05ae30013436781a932fecc6  \n",
       "4  003e109543b4ea22d2bcc1ec309bf2fd34e9a1a1d  \n",
       "\n",
       "[5 rows x 107 columns]"
      ]
     },
     "execution_count": 25,
     "metadata": {},
     "output_type": "execute_result"
    }
   ],
   "source": [
    "features_test_df.head()"
   ]
  },
  {
   "cell_type": "code",
   "execution_count": 26,
   "metadata": {
    "collapsed": true
   },
   "outputs": [],
   "source": [
    "features_test_df.to_csv('../outputs/features_test_v1.csv')"
   ]
  },
  {
   "cell_type": "markdown",
   "metadata": {},
   "source": [
    "#### Random forest classifiers"
   ]
  },
  {
   "cell_type": "code",
   "execution_count": 127,
   "metadata": {
    "collapsed": true
   },
   "outputs": [],
   "source": [
    "from sklearn.ensemble import RandomForestClassifier"
   ]
  },
  {
   "cell_type": "code",
   "execution_count": 128,
   "metadata": {
    "collapsed": true
   },
   "outputs": [],
   "source": [
    "RF = RandomForestClassifier(n_estimators=40, oob_score=True, n_jobs=-1, \n",
    "                            min_samples_leaf = 1, warm_start = False, class_weight = 'balanced_subsample')"
   ]
  },
  {
   "cell_type": "code",
   "execution_count": 129,
   "metadata": {
    "collapsed": false
   },
   "outputs": [
    {
     "data": {
      "text/plain": [
       "RandomForestClassifier(bootstrap=True, class_weight='balanced_subsample',\n",
       "            criterion='gini', max_depth=None, max_features='auto',\n",
       "            max_leaf_nodes=None, min_samples_leaf=1, min_samples_split=2,\n",
       "            min_weight_fraction_leaf=0.0, n_estimators=40, n_jobs=-1,\n",
       "            oob_score=True, random_state=None, verbose=0, warm_start=False)"
      ]
     },
     "execution_count": 129,
     "metadata": {},
     "output_type": "execute_result"
    }
   ],
   "source": [
    "RF.fit(X_train1, Y_train)"
   ]
  },
  {
   "cell_type": "code",
   "execution_count": 118,
   "metadata": {
    "collapsed": false
   },
   "outputs": [
    {
     "name": "stdout",
     "output_type": "stream",
     "text": [
      "0.0616244584318\n"
     ]
    },
    {
     "data": {
      "text/plain": [
       "0.87936622254231189"
      ]
     },
     "execution_count": 118,
     "metadata": {},
     "output_type": "execute_result"
    }
   ],
   "source": [
    "print(np.max(RF.feature_importances_))\n",
    "RF.feature_importances_\n",
    "RF.oob_score_\n",
    "#RF.n_features_"
   ]
  },
  {
   "cell_type": "code",
   "execution_count": 119,
   "metadata": {
    "collapsed": false
   },
   "outputs": [],
   "source": [
    "pred = RF.predict(X_test)"
   ]
  },
  {
   "cell_type": "code",
   "execution_count": 120,
   "metadata": {
    "collapsed": false
   },
   "outputs": [
    {
     "name": "stdout",
     "output_type": "stream",
     "text": [
      "0.873786407767\n"
     ]
    }
   ],
   "source": [
    "print(accuracy_score(Y_test, pred))"
   ]
  },
  {
   "cell_type": "code",
   "execution_count": 136,
   "metadata": {
    "collapsed": false
   },
   "outputs": [],
   "source": [
    "out_df = pd.DataFrame(test_ids, columns=['Id'])\n",
    "out_df['Prediction'] = LR_pred\n",
    "out_df = out_df.set_index('Id')"
   ]
  },
  {
   "cell_type": "code",
   "execution_count": 137,
   "metadata": {
    "collapsed": false
   },
   "outputs": [],
   "source": [
    "out_df.to_csv('../outputs/RF_prediction_V_LR.csv')"
   ]
  },
  {
   "cell_type": "markdown",
   "metadata": {
    "collapsed": true
   },
   "source": [
    "### Logistic Regression"
   ]
  },
  {
   "cell_type": "code",
   "execution_count": 130,
   "metadata": {
    "collapsed": false
   },
   "outputs": [],
   "source": [
    "from sklearn.cross_validation import train_test_split\n",
    "from harness import RMSE, train_test\n",
    "from sklearn.metrics import accuracy_score"
   ]
  },
  {
   "cell_type": "code",
   "execution_count": 131,
   "metadata": {
    "collapsed": false
   },
   "outputs": [],
   "source": [
    "X_train1, X_test_train, Y_train, Y_test = train_test_split(X_train, t_train, test_size=0.10, random_state=1)"
   ]
  },
  {
   "cell_type": "code",
   "execution_count": 132,
   "metadata": {
    "collapsed": true
   },
   "outputs": [],
   "source": [
    "from sklearn.linear_model import LogisticRegression"
   ]
  },
  {
   "cell_type": "code",
   "execution_count": 133,
   "metadata": {
    "collapsed": false
   },
   "outputs": [],
   "source": [
    "LR = LogisticRegression(penalty='l1', multi_class='ovr', \n",
    "                        n_jobs = -1, warm_start = True, solver = 'liblinear') \n",
    "LR.fit(X_train1, Y_train)\n",
    "LR_pred = LR.predict(X_test_train)"
   ]
  },
  {
   "cell_type": "code",
   "execution_count": 92,
   "metadata": {
    "collapsed": false
   },
   "outputs": [
    {
     "data": {
      "text/plain": [
       "array([[ 0.        , -0.13040704,  0.00469179, ...,  0.1231976 ,\n",
       "         0.0188992 ,  0.0110911 ],\n",
       "       [ 0.        ,  0.        , -0.0093725 , ...,  0.        ,\n",
       "         0.08925144, -0.00697102],\n",
       "       [ 0.        ,  0.        , -0.80817745, ...,  0.        ,\n",
       "        -2.2747892 , -0.57638944],\n",
       "       ..., \n",
       "       [ 0.        ,  0.        ,  0.        , ...,  0.        ,\n",
       "        -0.05801849, -0.25976336],\n",
       "       [ 0.        ,  0.        ,  0.        , ...,  0.        ,\n",
       "         1.06828763, -0.73372729],\n",
       "       [ 0.        ,  0.        , -0.31271708, ...,  0.        ,\n",
       "        -0.20380483,  0.        ]])"
      ]
     },
     "execution_count": 92,
     "metadata": {},
     "output_type": "execute_result"
    }
   ],
   "source": [
    "LR.coef_ "
   ]
  },
  {
   "cell_type": "code",
   "execution_count": 93,
   "metadata": {
    "collapsed": false
   },
   "outputs": [
    {
     "data": {
      "text/plain": [
       "array([-2.72103557, -4.37856669, -3.98507669, -4.11493566, -5.07022979,\n",
       "       -2.1809449 , -3.6603954 , -2.20111445, -2.20274042, -1.24999822,\n",
       "       -5.59980941,  0.        , -2.97100373, -0.64484034, -0.61372374])"
      ]
     },
     "execution_count": 93,
     "metadata": {},
     "output_type": "execute_result"
    }
   ],
   "source": [
    "LR.intercept_"
   ]
  },
  {
   "cell_type": "code",
   "execution_count": 134,
   "metadata": {
    "collapsed": false
   },
   "outputs": [
    {
     "name": "stdout",
     "output_type": "stream",
     "text": [
      "0.844660194175\n"
     ]
    }
   ],
   "source": [
    "print(accuracy_score(Y_test, LR_pred))\n"
   ]
  },
  {
   "cell_type": "markdown",
   "metadata": {},
   "source": [
    "LR = LogisticRegression(penalty='l1', multi_class='ovr', \n",
    "                        n_jobs = -1, warm_start = True, solver = 'liblinear')    \n",
    "\n",
    "0.844660194175    \n",
    "\n",
    "LR = LogisticRegression(penalty='l1', class_weight='balanced', multi_class='ovr', \n",
    "                        n_jobs = -1, warm_start = True, solver = 'liblinear')  \n",
    "0.799352750809\n",
    "LR = LogisticRegression(penalty='l2', class_weight='balanced', multi_class='ovr', \n",
    "                        n_jobs = -1, warm_start = True, solver = 'liblinear')    \n",
    "0.637540453074   "
   ]
  },
  {
   "cell_type": "code",
   "execution_count": null,
   "metadata": {
    "collapsed": true
   },
   "outputs": [],
   "source": []
  }
 ],
 "metadata": {
  "kernelspec": {
   "display_name": "Python 2",
   "language": "python",
   "name": "python2"
  },
  "language_info": {
   "codemirror_mode": {
    "name": "ipython",
    "version": 2
   },
   "file_extension": ".py",
   "mimetype": "text/x-python",
   "name": "python",
   "nbconvert_exporter": "python",
   "pygments_lexer": "ipython2",
   "version": "2.7.11"
  }
 },
 "nbformat": 4,
 "nbformat_minor": 0
}
