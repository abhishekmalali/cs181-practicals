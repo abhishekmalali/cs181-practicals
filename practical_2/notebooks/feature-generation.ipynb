{
 "cells": [
  {
   "cell_type": "code",
   "execution_count": 7,
   "metadata": {
    "collapsed": true
   },
   "outputs": [],
   "source": [
    "import os\n",
    "import pandas as pd\n",
    "import numpy as np\n",
    "from collections import Counter\n",
    "try:\n",
    "    import xml.etree.cElementTree as ET\n",
    "except ImportError:\n",
    "    import xml.etree.ElementTree as ET\n",
    "from scipy import sparse\n",
    "import util"
   ]
  },
  {
   "cell_type": "code",
   "execution_count": 8,
   "metadata": {
    "collapsed": true
   },
   "outputs": [],
   "source": [
    "TRAIN_DIR = \"../data/train\""
   ]
  },
  {
   "cell_type": "code",
   "execution_count": 12,
   "metadata": {
    "collapsed": true
   },
   "outputs": [],
   "source": [
    "call_set = set([])"
   ]
  },
  {
   "cell_type": "code",
   "execution_count": 11,
   "metadata": {
    "collapsed": true
   },
   "outputs": [],
   "source": [
    "def add_to_set(tree):\n",
    "    for el in tree.iter():\n",
    "        call = el.tag\n",
    "        call_set.add(call)"
   ]
  },
  {
   "cell_type": "code",
   "execution_count": 69,
   "metadata": {
    "collapsed": true
   },
   "outputs": [],
   "source": [
    "#creating a set of features counting the number of tags\n",
    "def call_feats(tree, good_calls):\n",
    "    #Inputs\n",
    "    #tree - tree object for every file\n",
    "    #good_calls - list of tags for which we create the features\n",
    "    call_counter = {}\n",
    "    for el in tree.iter():\n",
    "        call = el.tag\n",
    "        if call not in call_counter:\n",
    "            call_counter[call] = 0\n",
    "        else:\n",
    "            call_counter[call] += 1\n",
    "\n",
    "    call_feat_array = np.zeros(len(good_calls))\n",
    "    for i in range(len(good_calls)):\n",
    "        call = good_calls[i]\n",
    "        call_feat_array[i] = 0\n",
    "        if call in call_counter:\n",
    "            call_feat_array[i] = call_counter[call]\n",
    "    return call_feat_array"
   ]
  },
  {
   "cell_type": "code",
   "execution_count": 59,
   "metadata": {
    "collapsed": true
   },
   "outputs": [],
   "source": [
    "###Creating function for loading data\n",
    "def create_matrix(start_index, end_index, tags, direc=\"../data/train\"):\n",
    "    X = None\n",
    "    classes = []\n",
    "    ids = []\n",
    "    i = -1\n",
    "    for datafile in os.listdir(direc):\n",
    "        if datafile == '.DS_Store':\n",
    "            continue\n",
    "            \n",
    "        i += 1\n",
    "        if i < start_index:\n",
    "            continue\n",
    "        if i >= end_index:\n",
    "            break\n",
    "        id_str, clas = datafile.split('.')[:2]\n",
    "        ids.append(id_str)\n",
    "        #adding target class to training data\n",
    "        try:\n",
    "            classes.append(util.malware_classes.index(clas))\n",
    "        except ValueError:\n",
    "            assert clas == \"X\"\n",
    "            classes.append(-1)\n",
    "            \n",
    "        #parse file as an xml document\n",
    "        tree = ET.parse(os.path.join(direc,datafile))\n",
    "        add_to_set(tree)\n",
    "        this_row = call_feats(tree, tags)\n",
    "        if X is None:\n",
    "            X = this_row \n",
    "        else:\n",
    "            X = np.vstack((X, this_row))\n",
    "            \n",
    "    return X, np.array(classes), ids    "
   ]
  },
  {
   "cell_type": "markdown",
   "metadata": {},
   "source": [
    "#### Data Exploration"
   ]
  },
  {
   "cell_type": "code",
   "execution_count": 60,
   "metadata": {
    "collapsed": false
   },
   "outputs": [],
   "source": [
    "#Data exploration\n",
    "#Loading the files\n",
    "fileList = os.listdir(TRAIN_DIR)\n",
    "numFiles = len(fileList)"
   ]
  },
  {
   "cell_type": "code",
   "execution_count": 61,
   "metadata": {
    "collapsed": false
   },
   "outputs": [],
   "source": [
    "#List of unique tags\n",
    "tags = []\n",
    "for idx in range(numFiles):\n",
    "    tree = ET.parse(os.path.join(TRAIN_DIR,fileList[idx]))\n",
    "    for el in tree.iter():\n",
    "        call = el.tag\n",
    "        tags.append(call)\n",
    "    tags = list(np.unique(tags))\n",
    "unique_tags = np.unique(tags)"
   ]
  },
  {
   "cell_type": "code",
   "execution_count": 62,
   "metadata": {
    "collapsed": false
   },
   "outputs": [],
   "source": [
    "#Converting all tags to 'str' from  numpy.string_\n",
    "unique_tags = [str(tag) for tag in unique_tags]"
   ]
  },
  {
   "cell_type": "code",
   "execution_count": 107,
   "metadata": {
    "collapsed": false
   },
   "outputs": [],
   "source": [
    "X_train, t_train, train_ids = create_matrix(0, numFiles,\\\n",
    "                                            unique_tags, TRAIN_DIR)"
   ]
  },
  {
   "cell_type": "code",
   "execution_count": 92,
   "metadata": {
    "collapsed": false
   },
   "outputs": [],
   "source": [
    "features_df = pd.DataFrame(X_train,columns=unique_tags)\n",
    "features_df['class'] = t_train\n",
    "features_df['id'] = train_ids\n",
    "#Saving the features dataframe as a new file\n",
    "features_df.to_csv('../outputs/features_v1.csv')"
   ]
  },
  {
   "cell_type": "markdown",
   "metadata": {},
   "source": [
    "#### Cleaning and transforming the test data"
   ]
  },
  {
   "cell_type": "code",
   "execution_count": 124,
   "metadata": {
    "collapsed": true
   },
   "outputs": [],
   "source": [
    "TEST_DIR = \"../data/test\"\n",
    "testFileList = os.listdir(TEST_DIR)\n",
    "numTestFiles = len(testFileList)\n",
    "X_test, t_test, test_ids = create_matrix(0, numTestFiles,\\\n",
    "                                            unique_tags, TEST_DIR)"
   ]
  },
  {
   "cell_type": "code",
   "execution_count": 125,
   "metadata": {
    "collapsed": false
   },
   "outputs": [],
   "source": [
    "#Ignoring t_train since there is no response variable \n",
    "features_test_df = pd.DataFrame(X_test,columns=unique_tags)\n",
    "features_test_df['class'] = test_ids"
   ]
  },
  {
   "cell_type": "code",
   "execution_count": 126,
   "metadata": {
    "collapsed": false
   },
   "outputs": [
    {
     "data": {
      "text/html": [
       "<div>\n",
       "<table border=\"1\" class=\"dataframe\">\n",
       "  <thead>\n",
       "    <tr style=\"text-align: right;\">\n",
       "      <th></th>\n",
       "      <th>accept_socket</th>\n",
       "      <th>add_netjob</th>\n",
       "      <th>all_section</th>\n",
       "      <th>bind_socket</th>\n",
       "      <th>change_service_config</th>\n",
       "      <th>check_for_debugger</th>\n",
       "      <th>com_create_instance</th>\n",
       "      <th>com_createole_object</th>\n",
       "      <th>com_get_class_object</th>\n",
       "      <th>connect</th>\n",
       "      <th>...</th>\n",
       "      <th>thread</th>\n",
       "      <th>trimmed_bytes</th>\n",
       "      <th>unload_driver</th>\n",
       "      <th>vm_allocate</th>\n",
       "      <th>vm_mapviewofsection</th>\n",
       "      <th>vm_protect</th>\n",
       "      <th>vm_read</th>\n",
       "      <th>vm_write</th>\n",
       "      <th>write_value</th>\n",
       "      <th>class</th>\n",
       "    </tr>\n",
       "  </thead>\n",
       "  <tbody>\n",
       "    <tr>\n",
       "      <th>0</th>\n",
       "      <td>0</td>\n",
       "      <td>0</td>\n",
       "      <td>4</td>\n",
       "      <td>0</td>\n",
       "      <td>0</td>\n",
       "      <td>1</td>\n",
       "      <td>1</td>\n",
       "      <td>0</td>\n",
       "      <td>0</td>\n",
       "      <td>0</td>\n",
       "      <td>...</td>\n",
       "      <td>4</td>\n",
       "      <td>0</td>\n",
       "      <td>0</td>\n",
       "      <td>0</td>\n",
       "      <td>0</td>\n",
       "      <td>35</td>\n",
       "      <td>0</td>\n",
       "      <td>0</td>\n",
       "      <td>0</td>\n",
       "      <td>0015c8c9ff02fea9d0f45692b9eebfb4abff4e42f</td>\n",
       "    </tr>\n",
       "    <tr>\n",
       "      <th>1</th>\n",
       "      <td>0</td>\n",
       "      <td>0</td>\n",
       "      <td>5</td>\n",
       "      <td>1</td>\n",
       "      <td>0</td>\n",
       "      <td>1</td>\n",
       "      <td>0</td>\n",
       "      <td>0</td>\n",
       "      <td>0</td>\n",
       "      <td>0</td>\n",
       "      <td>...</td>\n",
       "      <td>5</td>\n",
       "      <td>0</td>\n",
       "      <td>0</td>\n",
       "      <td>7</td>\n",
       "      <td>0</td>\n",
       "      <td>254</td>\n",
       "      <td>0</td>\n",
       "      <td>4</td>\n",
       "      <td>0</td>\n",
       "      <td>001f298a534ae4b0db7f2707169250aa215c3b5f2</td>\n",
       "    </tr>\n",
       "    <tr>\n",
       "      <th>2</th>\n",
       "      <td>0</td>\n",
       "      <td>0</td>\n",
       "      <td>1</td>\n",
       "      <td>0</td>\n",
       "      <td>0</td>\n",
       "      <td>0</td>\n",
       "      <td>0</td>\n",
       "      <td>0</td>\n",
       "      <td>0</td>\n",
       "      <td>0</td>\n",
       "      <td>...</td>\n",
       "      <td>1</td>\n",
       "      <td>0</td>\n",
       "      <td>0</td>\n",
       "      <td>0</td>\n",
       "      <td>0</td>\n",
       "      <td>0</td>\n",
       "      <td>0</td>\n",
       "      <td>0</td>\n",
       "      <td>0</td>\n",
       "      <td>001f5fdaaa8bbe20303527198d09a30bb7ca3eb50</td>\n",
       "    </tr>\n",
       "    <tr>\n",
       "      <th>3</th>\n",
       "      <td>0</td>\n",
       "      <td>0</td>\n",
       "      <td>5</td>\n",
       "      <td>4</td>\n",
       "      <td>0</td>\n",
       "      <td>1</td>\n",
       "      <td>0</td>\n",
       "      <td>0</td>\n",
       "      <td>0</td>\n",
       "      <td>0</td>\n",
       "      <td>...</td>\n",
       "      <td>5</td>\n",
       "      <td>12</td>\n",
       "      <td>0</td>\n",
       "      <td>0</td>\n",
       "      <td>0</td>\n",
       "      <td>71</td>\n",
       "      <td>0</td>\n",
       "      <td>0</td>\n",
       "      <td>0</td>\n",
       "      <td>002ca2c41b649f85c05ae30013436781a932fecc6</td>\n",
       "    </tr>\n",
       "    <tr>\n",
       "      <th>4</th>\n",
       "      <td>0</td>\n",
       "      <td>0</td>\n",
       "      <td>0</td>\n",
       "      <td>0</td>\n",
       "      <td>0</td>\n",
       "      <td>0</td>\n",
       "      <td>0</td>\n",
       "      <td>0</td>\n",
       "      <td>0</td>\n",
       "      <td>0</td>\n",
       "      <td>...</td>\n",
       "      <td>0</td>\n",
       "      <td>0</td>\n",
       "      <td>0</td>\n",
       "      <td>0</td>\n",
       "      <td>0</td>\n",
       "      <td>0</td>\n",
       "      <td>0</td>\n",
       "      <td>0</td>\n",
       "      <td>0</td>\n",
       "      <td>003e109543b4ea22d2bcc1ec309bf2fd34e9a1a1d</td>\n",
       "    </tr>\n",
       "  </tbody>\n",
       "</table>\n",
       "<p>5 rows × 107 columns</p>\n",
       "</div>"
      ],
      "text/plain": [
       "   accept_socket  add_netjob  all_section  bind_socket  change_service_config  \\\n",
       "0              0           0            4            0                      0   \n",
       "1              0           0            5            1                      0   \n",
       "2              0           0            1            0                      0   \n",
       "3              0           0            5            4                      0   \n",
       "4              0           0            0            0                      0   \n",
       "\n",
       "   check_for_debugger  com_create_instance  com_createole_object  \\\n",
       "0                   1                    1                     0   \n",
       "1                   1                    0                     0   \n",
       "2                   0                    0                     0   \n",
       "3                   1                    0                     0   \n",
       "4                   0                    0                     0   \n",
       "\n",
       "   com_get_class_object  connect                    ...                      \\\n",
       "0                     0        0                    ...                       \n",
       "1                     0        0                    ...                       \n",
       "2                     0        0                    ...                       \n",
       "3                     0        0                    ...                       \n",
       "4                     0        0                    ...                       \n",
       "\n",
       "   thread  trimmed_bytes  unload_driver  vm_allocate  vm_mapviewofsection  \\\n",
       "0       4              0              0            0                    0   \n",
       "1       5              0              0            7                    0   \n",
       "2       1              0              0            0                    0   \n",
       "3       5             12              0            0                    0   \n",
       "4       0              0              0            0                    0   \n",
       "\n",
       "   vm_protect  vm_read  vm_write  write_value  \\\n",
       "0          35        0         0            0   \n",
       "1         254        0         4            0   \n",
       "2           0        0         0            0   \n",
       "3          71        0         0            0   \n",
       "4           0        0         0            0   \n",
       "\n",
       "                                       class  \n",
       "0  0015c8c9ff02fea9d0f45692b9eebfb4abff4e42f  \n",
       "1  001f298a534ae4b0db7f2707169250aa215c3b5f2  \n",
       "2  001f5fdaaa8bbe20303527198d09a30bb7ca3eb50  \n",
       "3  002ca2c41b649f85c05ae30013436781a932fecc6  \n",
       "4  003e109543b4ea22d2bcc1ec309bf2fd34e9a1a1d  \n",
       "\n",
       "[5 rows x 107 columns]"
      ]
     },
     "execution_count": 126,
     "metadata": {},
     "output_type": "execute_result"
    }
   ],
   "source": [
    "features_test_df.head()"
   ]
  },
  {
   "cell_type": "markdown",
   "metadata": {},
   "source": [
    "#### Random forest classifiers"
   ]
  },
  {
   "cell_type": "code",
   "execution_count": 113,
   "metadata": {
    "collapsed": true
   },
   "outputs": [],
   "source": [
    "from sklearn.ensemble import RandomForestClassifier"
   ]
  },
  {
   "cell_type": "code",
   "execution_count": 114,
   "metadata": {
    "collapsed": true
   },
   "outputs": [],
   "source": [
    "RF = RandomForestClassifier(n_estimators=50)"
   ]
  },
  {
   "cell_type": "code",
   "execution_count": 128,
   "metadata": {
    "collapsed": false
   },
   "outputs": [
    {
     "data": {
      "text/plain": [
       "RandomForestClassifier(bootstrap=True, class_weight=None, criterion='gini',\n",
       "            max_depth=None, max_features='auto', max_leaf_nodes=None,\n",
       "            min_samples_leaf=1, min_samples_split=2,\n",
       "            min_weight_fraction_leaf=0.0, n_estimators=50, n_jobs=1,\n",
       "            oob_score=False, random_state=None, verbose=0,\n",
       "            warm_start=False)"
      ]
     },
     "execution_count": 128,
     "metadata": {},
     "output_type": "execute_result"
    }
   ],
   "source": [
    "RF.fit(X_train, t_train)"
   ]
  },
  {
   "cell_type": "code",
   "execution_count": 129,
   "metadata": {
    "collapsed": false
   },
   "outputs": [],
   "source": [
    "pred = RF.predict(X_test)"
   ]
  },
  {
   "cell_type": "code",
   "execution_count": 136,
   "metadata": {
    "collapsed": false
   },
   "outputs": [],
   "source": [
    "out_df = pd.DataFrame(test_ids, columns=['Id'])\n",
    "out_df['Prediction'] = pred\n",
    "out_df = out_df.set_index('Id')"
   ]
  },
  {
   "cell_type": "code",
   "execution_count": 137,
   "metadata": {
    "collapsed": false
   },
   "outputs": [],
   "source": [
    "out_df.to_csv('../outputs/RF_prediction.csv')"
   ]
  },
  {
   "cell_type": "code",
   "execution_count": null,
   "metadata": {
    "collapsed": true
   },
   "outputs": [],
   "source": []
  }
 ],
 "metadata": {
  "kernelspec": {
   "display_name": "Python 2",
   "language": "python",
   "name": "python2"
  },
  "language_info": {
   "codemirror_mode": {
    "name": "ipython",
    "version": 2
   },
   "file_extension": ".py",
   "mimetype": "text/x-python",
   "name": "python",
   "nbconvert_exporter": "python",
   "pygments_lexer": "ipython2",
   "version": "2.7.11"
  }
 },
 "nbformat": 4,
 "nbformat_minor": 0
}
