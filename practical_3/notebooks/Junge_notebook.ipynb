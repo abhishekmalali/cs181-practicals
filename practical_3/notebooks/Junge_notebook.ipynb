{
 "cells": [
  {
   "cell_type": "code",
   "execution_count": 16,
   "metadata": {
    "collapsed": true
   },
   "outputs": [],
   "source": [
    "import numpy as np\n",
    "import pandas as pd\n",
    "import matplotlib.pyplot as plt\n",
    "%matplotlib inline"
   ]
  },
  {
   "cell_type": "code",
   "execution_count": 3,
   "metadata": {
    "collapsed": false
   },
   "outputs": [],
   "source": [
    "artists = pd.read_csv('../data/artists')"
   ]
  },
  {
   "cell_type": "code",
   "execution_count": 4,
   "metadata": {
    "collapsed": false
   },
   "outputs": [
    {
     "data": {
      "text/html": [
       "<div>\n",
       "<table border=\"1\" class=\"dataframe\">\n",
       "  <thead>\n",
       "    <tr style=\"text-align: right;\">\n",
       "      <th></th>\n",
       "      <th>artist</th>\n",
       "      <th>name</th>\n",
       "    </tr>\n",
       "  </thead>\n",
       "  <tbody>\n",
       "    <tr>\n",
       "      <th>0</th>\n",
       "      <td>03098741-08b3-4dd7-b3f6-1b0bfa2c879c</td>\n",
       "      <td>Liars</td>\n",
       "    </tr>\n",
       "    <tr>\n",
       "      <th>1</th>\n",
       "      <td>69c4cc43-8163-41c5-ac81-30946d27bb69</td>\n",
       "      <td>CunninLynguists</td>\n",
       "    </tr>\n",
       "    <tr>\n",
       "      <th>2</th>\n",
       "      <td>7a2e6b55-f149-4e74-be6a-30a1b1a387bb</td>\n",
       "      <td>The Desert Sessions</td>\n",
       "    </tr>\n",
       "    <tr>\n",
       "      <th>3</th>\n",
       "      <td>7002bf88-1269-4965-a772-4ba1e7a91eaa</td>\n",
       "      <td>Glenn Gould</td>\n",
       "    </tr>\n",
       "    <tr>\n",
       "      <th>4</th>\n",
       "      <td>dbf7c761-e332-467b-b4d9-aafe06bbcf8f</td>\n",
       "      <td>G. Love &amp; Special Sauce</td>\n",
       "    </tr>\n",
       "  </tbody>\n",
       "</table>\n",
       "</div>"
      ],
      "text/plain": [
       "                                 artist                     name\n",
       "0  03098741-08b3-4dd7-b3f6-1b0bfa2c879c                    Liars\n",
       "1  69c4cc43-8163-41c5-ac81-30946d27bb69          CunninLynguists\n",
       "2  7a2e6b55-f149-4e74-be6a-30a1b1a387bb      The Desert Sessions\n",
       "3  7002bf88-1269-4965-a772-4ba1e7a91eaa              Glenn Gould\n",
       "4  dbf7c761-e332-467b-b4d9-aafe06bbcf8f  G. Love & Special Sauce"
      ]
     },
     "execution_count": 4,
     "metadata": {},
     "output_type": "execute_result"
    }
   ],
   "source": [
    "artists.head()"
   ]
  },
  {
   "cell_type": "code",
   "execution_count": 6,
   "metadata": {
    "collapsed": false
   },
   "outputs": [],
   "source": [
    "global_median = pd.read_csv('../data/global_median')"
   ]
  },
  {
   "cell_type": "code",
   "execution_count": 7,
   "metadata": {
    "collapsed": false
   },
   "outputs": [
    {
     "data": {
      "text/html": [
       "<div>\n",
       "<table border=\"1\" class=\"dataframe\">\n",
       "  <thead>\n",
       "    <tr style=\"text-align: right;\">\n",
       "      <th></th>\n",
       "      <th>Id</th>\n",
       "      <th>plays</th>\n",
       "    </tr>\n",
       "  </thead>\n",
       "  <tbody>\n",
       "    <tr>\n",
       "      <th>0</th>\n",
       "      <td>1</td>\n",
       "      <td>118</td>\n",
       "    </tr>\n",
       "    <tr>\n",
       "      <th>1</th>\n",
       "      <td>2</td>\n",
       "      <td>118</td>\n",
       "    </tr>\n",
       "    <tr>\n",
       "      <th>2</th>\n",
       "      <td>3</td>\n",
       "      <td>118</td>\n",
       "    </tr>\n",
       "    <tr>\n",
       "      <th>3</th>\n",
       "      <td>4</td>\n",
       "      <td>118</td>\n",
       "    </tr>\n",
       "    <tr>\n",
       "      <th>4</th>\n",
       "      <td>5</td>\n",
       "      <td>118</td>\n",
       "    </tr>\n",
       "  </tbody>\n",
       "</table>\n",
       "</div>"
      ],
      "text/plain": [
       "   Id  plays\n",
       "0   1    118\n",
       "1   2    118\n",
       "2   3    118\n",
       "3   4    118\n",
       "4   5    118"
      ]
     },
     "execution_count": 7,
     "metadata": {},
     "output_type": "execute_result"
    }
   ],
   "source": [
    "global_median.head()"
   ]
  },
  {
   "cell_type": "code",
   "execution_count": 8,
   "metadata": {
    "collapsed": true
   },
   "outputs": [],
   "source": [
    "profiles = pd.read_csv('../data/profiles')"
   ]
  },
  {
   "cell_type": "code",
   "execution_count": 9,
   "metadata": {
    "collapsed": false,
    "scrolled": true
   },
   "outputs": [
    {
     "data": {
      "text/html": [
       "<div>\n",
       "<table border=\"1\" class=\"dataframe\">\n",
       "  <thead>\n",
       "    <tr style=\"text-align: right;\">\n",
       "      <th></th>\n",
       "      <th>user</th>\n",
       "      <th>sex</th>\n",
       "      <th>age</th>\n",
       "      <th>country</th>\n",
       "    </tr>\n",
       "  </thead>\n",
       "  <tbody>\n",
       "    <tr>\n",
       "      <th>0</th>\n",
       "      <td>fa40b43298ba3f8aa52e8e8863faf2e2171e0b5d</td>\n",
       "      <td>f</td>\n",
       "      <td>25</td>\n",
       "      <td>Sweden</td>\n",
       "    </tr>\n",
       "    <tr>\n",
       "      <th>1</th>\n",
       "      <td>5909125332c108365a26ccf0ee62636eee08215c</td>\n",
       "      <td>m</td>\n",
       "      <td>29</td>\n",
       "      <td>Iceland</td>\n",
       "    </tr>\n",
       "    <tr>\n",
       "      <th>2</th>\n",
       "      <td>d1867cbda35e0d48e9a8390d9f5e079c9d99ea96</td>\n",
       "      <td>m</td>\n",
       "      <td>30</td>\n",
       "      <td>United States</td>\n",
       "    </tr>\n",
       "    <tr>\n",
       "      <th>3</th>\n",
       "      <td>63268cce0d68127729890c1691f62d5be5abd87c</td>\n",
       "      <td>m</td>\n",
       "      <td>21</td>\n",
       "      <td>Germany</td>\n",
       "    </tr>\n",
       "    <tr>\n",
       "      <th>4</th>\n",
       "      <td>02871cd952d607ba69b64e2e107773012c708113</td>\n",
       "      <td>m</td>\n",
       "      <td>24</td>\n",
       "      <td>Netherlands</td>\n",
       "    </tr>\n",
       "  </tbody>\n",
       "</table>\n",
       "</div>"
      ],
      "text/plain": [
       "                                       user sex  age        country\n",
       "0  fa40b43298ba3f8aa52e8e8863faf2e2171e0b5d   f   25         Sweden\n",
       "1  5909125332c108365a26ccf0ee62636eee08215c   m   29        Iceland\n",
       "2  d1867cbda35e0d48e9a8390d9f5e079c9d99ea96   m   30  United States\n",
       "3  63268cce0d68127729890c1691f62d5be5abd87c   m   21        Germany\n",
       "4  02871cd952d607ba69b64e2e107773012c708113   m   24    Netherlands"
      ]
     },
     "execution_count": 9,
     "metadata": {},
     "output_type": "execute_result"
    }
   ],
   "source": [
    "profiles.head()"
   ]
  },
  {
   "cell_type": "code",
   "execution_count": 22,
   "metadata": {
    "collapsed": false
   },
   "outputs": [
    {
     "data": {
      "text/plain": [
       "239"
      ]
     },
     "execution_count": 22,
     "metadata": {},
     "output_type": "execute_result"
    }
   ],
   "source": [
    "len(profiles['country'].unique())"
   ]
  },
  {
   "cell_type": "code",
   "execution_count": 10,
   "metadata": {
    "collapsed": true
   },
   "outputs": [],
   "source": [
    "test = pd.read_csv('../data/test')"
   ]
  },
  {
   "cell_type": "code",
   "execution_count": 11,
   "metadata": {
    "collapsed": false
   },
   "outputs": [
    {
     "data": {
      "text/html": [
       "<div>\n",
       "<table border=\"1\" class=\"dataframe\">\n",
       "  <thead>\n",
       "    <tr style=\"text-align: right;\">\n",
       "      <th></th>\n",
       "      <th>Id</th>\n",
       "      <th>user</th>\n",
       "      <th>artist</th>\n",
       "    </tr>\n",
       "  </thead>\n",
       "  <tbody>\n",
       "    <tr>\n",
       "      <th>0</th>\n",
       "      <td>1</td>\n",
       "      <td>306e19cce2522fa2d39ff5dfc870992100ec22d2</td>\n",
       "      <td>4ac4e32b-bd18-402e-adad-ae00e72f8d85</td>\n",
       "    </tr>\n",
       "    <tr>\n",
       "      <th>1</th>\n",
       "      <td>2</td>\n",
       "      <td>9450d351278df4938bdea4ed86aec940a4e927ac</td>\n",
       "      <td>1f574ab1-a46d-4586-9331-f0ded23e0411</td>\n",
       "    </tr>\n",
       "    <tr>\n",
       "      <th>2</th>\n",
       "      <td>3</td>\n",
       "      <td>801909d6955f59033c88595d3d7f8a6a5dcd53cc</td>\n",
       "      <td>3eb72791-6322-466b-87d3-24d74901eb2d</td>\n",
       "    </tr>\n",
       "    <tr>\n",
       "      <th>3</th>\n",
       "      <td>4</td>\n",
       "      <td>e3ed47445c127fbeff47fb58f6bbf2f3b4535d82</td>\n",
       "      <td>61604b45-8a91-4e33-a1b6-45d7b1fec4e5</td>\n",
       "    </tr>\n",
       "    <tr>\n",
       "      <th>4</th>\n",
       "      <td>5</td>\n",
       "      <td>a73f46652103f3a5f7429159310f6928f79644aa</td>\n",
       "      <td>5dfdca28-9ddc-4853-933c-8bc97d87beec</td>\n",
       "    </tr>\n",
       "  </tbody>\n",
       "</table>\n",
       "</div>"
      ],
      "text/plain": [
       "   Id                                      user  \\\n",
       "0   1  306e19cce2522fa2d39ff5dfc870992100ec22d2   \n",
       "1   2  9450d351278df4938bdea4ed86aec940a4e927ac   \n",
       "2   3  801909d6955f59033c88595d3d7f8a6a5dcd53cc   \n",
       "3   4  e3ed47445c127fbeff47fb58f6bbf2f3b4535d82   \n",
       "4   5  a73f46652103f3a5f7429159310f6928f79644aa   \n",
       "\n",
       "                                 artist  \n",
       "0  4ac4e32b-bd18-402e-adad-ae00e72f8d85  \n",
       "1  1f574ab1-a46d-4586-9331-f0ded23e0411  \n",
       "2  3eb72791-6322-466b-87d3-24d74901eb2d  \n",
       "3  61604b45-8a91-4e33-a1b6-45d7b1fec4e5  \n",
       "4  5dfdca28-9ddc-4853-933c-8bc97d87beec  "
      ]
     },
     "execution_count": 11,
     "metadata": {},
     "output_type": "execute_result"
    }
   ],
   "source": [
    "test.head()"
   ]
  },
  {
   "cell_type": "code",
   "execution_count": 12,
   "metadata": {
    "collapsed": true
   },
   "outputs": [],
   "source": [
    "train = pd.read_csv('../data/train')"
   ]
  },
  {
   "cell_type": "code",
   "execution_count": 13,
   "metadata": {
    "collapsed": false,
    "scrolled": true
   },
   "outputs": [
    {
     "data": {
      "text/html": [
       "<div>\n",
       "<table border=\"1\" class=\"dataframe\">\n",
       "  <thead>\n",
       "    <tr style=\"text-align: right;\">\n",
       "      <th></th>\n",
       "      <th>user</th>\n",
       "      <th>artist</th>\n",
       "      <th>plays</th>\n",
       "    </tr>\n",
       "  </thead>\n",
       "  <tbody>\n",
       "    <tr>\n",
       "      <th>0</th>\n",
       "      <td>eb1c57ddc9e0e2d005169d3a1a96e8dd95e3af03</td>\n",
       "      <td>5a8e07d5-d932-4484-a7f7-e700793a9c94</td>\n",
       "      <td>554</td>\n",
       "    </tr>\n",
       "    <tr>\n",
       "      <th>1</th>\n",
       "      <td>44ce793a6cd9d20f13f4a576a818ef983314bb5d</td>\n",
       "      <td>a3a92047-be1c-4f3e-8960-c4f8570984df</td>\n",
       "      <td>81</td>\n",
       "    </tr>\n",
       "    <tr>\n",
       "      <th>2</th>\n",
       "      <td>da9cf3f557161d54b76f24db64be9cc76db008e3</td>\n",
       "      <td>eeb1195b-f213-4ce1-b28c-8565211f8e43</td>\n",
       "      <td>708</td>\n",
       "    </tr>\n",
       "    <tr>\n",
       "      <th>3</th>\n",
       "      <td>8fa49ab25d425edcf05d44bfc1d5aea895287d81</td>\n",
       "      <td>a1419808-65d3-4d40-998c-1a0bac65eabc</td>\n",
       "      <td>265</td>\n",
       "    </tr>\n",
       "    <tr>\n",
       "      <th>4</th>\n",
       "      <td>b85fcaef67d2669cd99b334b5e8c8705263db2cf</td>\n",
       "      <td>a3cb23fc-acd3-4ce0-8f36-1e5aa6a18432</td>\n",
       "      <td>220</td>\n",
       "    </tr>\n",
       "  </tbody>\n",
       "</table>\n",
       "</div>"
      ],
      "text/plain": [
       "                                       user  \\\n",
       "0  eb1c57ddc9e0e2d005169d3a1a96e8dd95e3af03   \n",
       "1  44ce793a6cd9d20f13f4a576a818ef983314bb5d   \n",
       "2  da9cf3f557161d54b76f24db64be9cc76db008e3   \n",
       "3  8fa49ab25d425edcf05d44bfc1d5aea895287d81   \n",
       "4  b85fcaef67d2669cd99b334b5e8c8705263db2cf   \n",
       "\n",
       "                                 artist  plays  \n",
       "0  5a8e07d5-d932-4484-a7f7-e700793a9c94    554  \n",
       "1  a3a92047-be1c-4f3e-8960-c4f8570984df     81  \n",
       "2  eeb1195b-f213-4ce1-b28c-8565211f8e43    708  \n",
       "3  a1419808-65d3-4d40-998c-1a0bac65eabc    265  \n",
       "4  a3cb23fc-acd3-4ce0-8f36-1e5aa6a18432    220  "
      ]
     },
     "execution_count": 13,
     "metadata": {},
     "output_type": "execute_result"
    }
   ],
   "source": [
    "train.head()"
   ]
  },
  {
   "cell_type": "code",
   "execution_count": 34,
   "metadata": {
    "collapsed": false
   },
   "outputs": [
    {
     "data": {
      "text/plain": [
       "419157"
      ]
     },
     "execution_count": 34,
     "metadata": {},
     "output_type": "execute_result"
    }
   ],
   "source": [
    "max(train['plays'])"
   ]
  },
  {
   "cell_type": "code",
   "execution_count": 18,
   "metadata": {
    "collapsed": false
   },
   "outputs": [
    {
     "data": {
      "text/plain": [
       "array([ 118.])"
      ]
     },
     "execution_count": 18,
     "metadata": {},
     "output_type": "execute_result"
    }
   ],
   "source": [
    "global_median['plays'].unique()"
   ]
  },
  {
   "cell_type": "code",
   "execution_count": 19,
   "metadata": {
    "collapsed": false
   },
   "outputs": [
    {
     "data": {
      "text/html": [
       "<div>\n",
       "<table border=\"1\" class=\"dataframe\">\n",
       "  <thead>\n",
       "    <tr style=\"text-align: right;\">\n",
       "      <th></th>\n",
       "      <th>age</th>\n",
       "      <th>artist</th>\n",
       "      <th>country</th>\n",
       "      <th>name</th>\n",
       "      <th>sex</th>\n",
       "      <th>user</th>\n",
       "    </tr>\n",
       "  </thead>\n",
       "  <tbody>\n",
       "    <tr>\n",
       "      <th>0</th>\n",
       "      <td>NaN</td>\n",
       "      <td>03098741-08b3-4dd7-b3f6-1b0bfa2c879c</td>\n",
       "      <td>NaN</td>\n",
       "      <td>Liars</td>\n",
       "      <td>NaN</td>\n",
       "      <td>NaN</td>\n",
       "    </tr>\n",
       "    <tr>\n",
       "      <th>1</th>\n",
       "      <td>NaN</td>\n",
       "      <td>69c4cc43-8163-41c5-ac81-30946d27bb69</td>\n",
       "      <td>NaN</td>\n",
       "      <td>CunninLynguists</td>\n",
       "      <td>NaN</td>\n",
       "      <td>NaN</td>\n",
       "    </tr>\n",
       "    <tr>\n",
       "      <th>2</th>\n",
       "      <td>NaN</td>\n",
       "      <td>7a2e6b55-f149-4e74-be6a-30a1b1a387bb</td>\n",
       "      <td>NaN</td>\n",
       "      <td>The Desert Sessions</td>\n",
       "      <td>NaN</td>\n",
       "      <td>NaN</td>\n",
       "    </tr>\n",
       "    <tr>\n",
       "      <th>3</th>\n",
       "      <td>NaN</td>\n",
       "      <td>7002bf88-1269-4965-a772-4ba1e7a91eaa</td>\n",
       "      <td>NaN</td>\n",
       "      <td>Glenn Gould</td>\n",
       "      <td>NaN</td>\n",
       "      <td>NaN</td>\n",
       "    </tr>\n",
       "    <tr>\n",
       "      <th>4</th>\n",
       "      <td>NaN</td>\n",
       "      <td>dbf7c761-e332-467b-b4d9-aafe06bbcf8f</td>\n",
       "      <td>NaN</td>\n",
       "      <td>G. Love &amp; Special Sauce</td>\n",
       "      <td>NaN</td>\n",
       "      <td>NaN</td>\n",
       "    </tr>\n",
       "    <tr>\n",
       "      <th>5</th>\n",
       "      <td>NaN</td>\n",
       "      <td>a3cb23fc-acd3-4ce0-8f36-1e5aa6a18432</td>\n",
       "      <td>NaN</td>\n",
       "      <td>U2</td>\n",
       "      <td>NaN</td>\n",
       "      <td>NaN</td>\n",
       "    </tr>\n",
       "    <tr>\n",
       "      <th>6</th>\n",
       "      <td>NaN</td>\n",
       "      <td>8b0f05ce-354e-4121-9e0b-8b4732ea844f</td>\n",
       "      <td>NaN</td>\n",
       "      <td>Juanes</td>\n",
       "      <td>NaN</td>\n",
       "      <td>NaN</td>\n",
       "    </tr>\n",
       "    <tr>\n",
       "      <th>7</th>\n",
       "      <td>NaN</td>\n",
       "      <td>8363f94f-fd86-41b8-a56b-26eacb34f499</td>\n",
       "      <td>NaN</td>\n",
       "      <td>Summoning</td>\n",
       "      <td>NaN</td>\n",
       "      <td>NaN</td>\n",
       "    </tr>\n",
       "    <tr>\n",
       "      <th>8</th>\n",
       "      <td>NaN</td>\n",
       "      <td>2e41ae9c-afd2-4f20-8f1e-17281ce9b472</td>\n",
       "      <td>NaN</td>\n",
       "      <td>Gwen Stefani</td>\n",
       "      <td>NaN</td>\n",
       "      <td>NaN</td>\n",
       "    </tr>\n",
       "    <tr>\n",
       "      <th>9</th>\n",
       "      <td>NaN</td>\n",
       "      <td>c17f08f4-2542-46fb-97f3-3202d60c225a</td>\n",
       "      <td>NaN</td>\n",
       "      <td>Fear Factory</td>\n",
       "      <td>NaN</td>\n",
       "      <td>NaN</td>\n",
       "    </tr>\n",
       "    <tr>\n",
       "      <th>10</th>\n",
       "      <td>NaN</td>\n",
       "      <td>4bd95eea-b9f6-4d70-a36c-cfea77431553</td>\n",
       "      <td>NaN</td>\n",
       "      <td>Alice in Chains</td>\n",
       "      <td>NaN</td>\n",
       "      <td>NaN</td>\n",
       "    </tr>\n",
       "    <tr>\n",
       "      <th>11</th>\n",
       "      <td>NaN</td>\n",
       "      <td>f467181e-d5e0-4285-b47e-e853dcc89ee7</td>\n",
       "      <td>NaN</td>\n",
       "      <td>Ratatat</td>\n",
       "      <td>NaN</td>\n",
       "      <td>NaN</td>\n",
       "    </tr>\n",
       "    <tr>\n",
       "      <th>12</th>\n",
       "      <td>NaN</td>\n",
       "      <td>4d9fb84a-8104-48c1-aa16-21f53c9053cc</td>\n",
       "      <td>NaN</td>\n",
       "      <td>Ignite</td>\n",
       "      <td>NaN</td>\n",
       "      <td>NaN</td>\n",
       "    </tr>\n",
       "    <tr>\n",
       "      <th>13</th>\n",
       "      <td>NaN</td>\n",
       "      <td>3ff72a59-f39d-411d-9f93-2d4a86413013</td>\n",
       "      <td>NaN</td>\n",
       "      <td>The Magnetic Fields</td>\n",
       "      <td>NaN</td>\n",
       "      <td>NaN</td>\n",
       "    </tr>\n",
       "    <tr>\n",
       "      <th>14</th>\n",
       "      <td>NaN</td>\n",
       "      <td>5f58803e-8c4c-478e-8b51-477f38483ede</td>\n",
       "      <td>NaN</td>\n",
       "      <td>Madness</td>\n",
       "      <td>NaN</td>\n",
       "      <td>NaN</td>\n",
       "    </tr>\n",
       "    <tr>\n",
       "      <th>15</th>\n",
       "      <td>NaN</td>\n",
       "      <td>ff9deaae-da4f-42b7-a19e-36fedd3fc706</td>\n",
       "      <td>NaN</td>\n",
       "      <td>Ben Kweller</td>\n",
       "      <td>NaN</td>\n",
       "      <td>NaN</td>\n",
       "    </tr>\n",
       "    <tr>\n",
       "      <th>16</th>\n",
       "      <td>NaN</td>\n",
       "      <td>3231d12a-c42d-4977-b2a4-a6e4d87978e1</td>\n",
       "      <td>NaN</td>\n",
       "      <td>Tosca</td>\n",
       "      <td>NaN</td>\n",
       "      <td>NaN</td>\n",
       "    </tr>\n",
       "    <tr>\n",
       "      <th>17</th>\n",
       "      <td>NaN</td>\n",
       "      <td>756cf672-d4ae-4470-a3af-a43d776a211d</td>\n",
       "      <td>NaN</td>\n",
       "      <td>Saul Williams</td>\n",
       "      <td>NaN</td>\n",
       "      <td>NaN</td>\n",
       "    </tr>\n",
       "    <tr>\n",
       "      <th>18</th>\n",
       "      <td>NaN</td>\n",
       "      <td>8ca01f46-53ac-4af2-8516-55a909c0905e</td>\n",
       "      <td>NaN</td>\n",
       "      <td>My Bloody Valentine</td>\n",
       "      <td>NaN</td>\n",
       "      <td>NaN</td>\n",
       "    </tr>\n",
       "    <tr>\n",
       "      <th>19</th>\n",
       "      <td>NaN</td>\n",
       "      <td>a0ef7e1d-44ff-4039-9435-7d5fefdeecc9</td>\n",
       "      <td>NaN</td>\n",
       "      <td>[theatre]</td>\n",
       "      <td>NaN</td>\n",
       "      <td>NaN</td>\n",
       "    </tr>\n",
       "    <tr>\n",
       "      <th>20</th>\n",
       "      <td>NaN</td>\n",
       "      <td>c83907ee-8b5a-4547-8f68-96572243ea7f</td>\n",
       "      <td>NaN</td>\n",
       "      <td>Hot Water Music</td>\n",
       "      <td>NaN</td>\n",
       "      <td>NaN</td>\n",
       "    </tr>\n",
       "    <tr>\n",
       "      <th>21</th>\n",
       "      <td>NaN</td>\n",
       "      <td>dbbc47a5-1338-4830-9298-a8d0b11c0a46</td>\n",
       "      <td>NaN</td>\n",
       "      <td>Joss Stone</td>\n",
       "      <td>NaN</td>\n",
       "      <td>NaN</td>\n",
       "    </tr>\n",
       "    <tr>\n",
       "      <th>22</th>\n",
       "      <td>NaN</td>\n",
       "      <td>f4a31f0a-51dd-4fa7-986d-3095c40c5ed9</td>\n",
       "      <td>NaN</td>\n",
       "      <td>Evanescence</td>\n",
       "      <td>NaN</td>\n",
       "      <td>NaN</td>\n",
       "    </tr>\n",
       "    <tr>\n",
       "      <th>23</th>\n",
       "      <td>NaN</td>\n",
       "      <td>a9965383-6bdd-49a3-a4bb-4f8008b9d80e</td>\n",
       "      <td>NaN</td>\n",
       "      <td>Stephen Lynch</td>\n",
       "      <td>NaN</td>\n",
       "      <td>NaN</td>\n",
       "    </tr>\n",
       "    <tr>\n",
       "      <th>24</th>\n",
       "      <td>NaN</td>\n",
       "      <td>c1e5344e-1bff-4727-9417-a4f55e41b5ff</td>\n",
       "      <td>NaN</td>\n",
       "      <td>Loreena McKennitt</td>\n",
       "      <td>NaN</td>\n",
       "      <td>NaN</td>\n",
       "    </tr>\n",
       "    <tr>\n",
       "      <th>25</th>\n",
       "      <td>NaN</td>\n",
       "      <td>b5a31e9b-1fa2-45f9-91f5-b3a25fb38038</td>\n",
       "      <td>NaN</td>\n",
       "      <td>Municipal Waste</td>\n",
       "      <td>NaN</td>\n",
       "      <td>NaN</td>\n",
       "    </tr>\n",
       "    <tr>\n",
       "      <th>26</th>\n",
       "      <td>NaN</td>\n",
       "      <td>96c1edac-1011-4cb8-882c-27248de35071</td>\n",
       "      <td>NaN</td>\n",
       "      <td>The Cramps</td>\n",
       "      <td>NaN</td>\n",
       "      <td>NaN</td>\n",
       "    </tr>\n",
       "    <tr>\n",
       "      <th>27</th>\n",
       "      <td>NaN</td>\n",
       "      <td>370bd5a3-4abf-4356-8576-3a8fc0c11d65</td>\n",
       "      <td>NaN</td>\n",
       "      <td>Above &amp; Beyond</td>\n",
       "      <td>NaN</td>\n",
       "      <td>NaN</td>\n",
       "    </tr>\n",
       "    <tr>\n",
       "      <th>28</th>\n",
       "      <td>NaN</td>\n",
       "      <td>1a120ec5-35b3-4f3e-aa49-7201550d9feb</td>\n",
       "      <td>NaN</td>\n",
       "      <td>RJD2</td>\n",
       "      <td>NaN</td>\n",
       "      <td>NaN</td>\n",
       "    </tr>\n",
       "    <tr>\n",
       "      <th>29</th>\n",
       "      <td>NaN</td>\n",
       "      <td>2819834e-4e08-47b0-a2c4-b7672318e8f0</td>\n",
       "      <td>NaN</td>\n",
       "      <td>The Byrds</td>\n",
       "      <td>NaN</td>\n",
       "      <td>NaN</td>\n",
       "    </tr>\n",
       "    <tr>\n",
       "      <th>...</th>\n",
       "      <td>...</td>\n",
       "      <td>...</td>\n",
       "      <td>...</td>\n",
       "      <td>...</td>\n",
       "      <td>...</td>\n",
       "      <td>...</td>\n",
       "    </tr>\n",
       "    <tr>\n",
       "      <th>233256</th>\n",
       "      <td>29</td>\n",
       "      <td>NaN</td>\n",
       "      <td>Portugal</td>\n",
       "      <td>NaN</td>\n",
       "      <td>m</td>\n",
       "      <td>9763fda96d905176c4aef9f8ba5549f2938ff97e</td>\n",
       "    </tr>\n",
       "    <tr>\n",
       "      <th>233257</th>\n",
       "      <td>21</td>\n",
       "      <td>NaN</td>\n",
       "      <td>Russian Federation</td>\n",
       "      <td>NaN</td>\n",
       "      <td>m</td>\n",
       "      <td>2a7a65fc6d743f81956485f43ccd4d72a5ca9324</td>\n",
       "    </tr>\n",
       "    <tr>\n",
       "      <th>233258</th>\n",
       "      <td>36</td>\n",
       "      <td>NaN</td>\n",
       "      <td>Austria</td>\n",
       "      <td>NaN</td>\n",
       "      <td>m</td>\n",
       "      <td>15d0c77f89cf2660d46308d412ffdabf80b43835</td>\n",
       "    </tr>\n",
       "    <tr>\n",
       "      <th>233259</th>\n",
       "      <td>24</td>\n",
       "      <td>NaN</td>\n",
       "      <td>Russian Federation</td>\n",
       "      <td>NaN</td>\n",
       "      <td>m</td>\n",
       "      <td>eb0020cb410f62cfef052cd1951dbd680f359e40</td>\n",
       "    </tr>\n",
       "    <tr>\n",
       "      <th>233260</th>\n",
       "      <td>21</td>\n",
       "      <td>NaN</td>\n",
       "      <td>France</td>\n",
       "      <td>NaN</td>\n",
       "      <td>m</td>\n",
       "      <td>523a97417d2ac77d4079810379aa6414bed8eb19</td>\n",
       "    </tr>\n",
       "    <tr>\n",
       "      <th>233261</th>\n",
       "      <td>23</td>\n",
       "      <td>NaN</td>\n",
       "      <td>United States</td>\n",
       "      <td>NaN</td>\n",
       "      <td>m</td>\n",
       "      <td>d7a1831a862edf517051ea43677a5a6298e4ae49</td>\n",
       "    </tr>\n",
       "    <tr>\n",
       "      <th>233262</th>\n",
       "      <td>18</td>\n",
       "      <td>NaN</td>\n",
       "      <td>Brazil</td>\n",
       "      <td>NaN</td>\n",
       "      <td>m</td>\n",
       "      <td>57d74bc9ef431c86170e7cdcacc4f494f7bdef37</td>\n",
       "    </tr>\n",
       "    <tr>\n",
       "      <th>233263</th>\n",
       "      <td>29</td>\n",
       "      <td>NaN</td>\n",
       "      <td>Switzerland</td>\n",
       "      <td>NaN</td>\n",
       "      <td>m</td>\n",
       "      <td>db33ebd706f4745ce31b97b7f441aeb3ce0d8dee</td>\n",
       "    </tr>\n",
       "    <tr>\n",
       "      <th>233264</th>\n",
       "      <td>24</td>\n",
       "      <td>NaN</td>\n",
       "      <td>Russian Federation</td>\n",
       "      <td>NaN</td>\n",
       "      <td>m</td>\n",
       "      <td>a9fedc220ffeed2516e103d96012509379dbaf9d</td>\n",
       "    </tr>\n",
       "    <tr>\n",
       "      <th>233265</th>\n",
       "      <td>23</td>\n",
       "      <td>NaN</td>\n",
       "      <td>Sweden</td>\n",
       "      <td>NaN</td>\n",
       "      <td>m</td>\n",
       "      <td>8330012ab9314d1f2a549801b98e63c6eea06161</td>\n",
       "    </tr>\n",
       "    <tr>\n",
       "      <th>233266</th>\n",
       "      <td>29</td>\n",
       "      <td>NaN</td>\n",
       "      <td>United States</td>\n",
       "      <td>NaN</td>\n",
       "      <td>m</td>\n",
       "      <td>3444ce714ab8abda550465246c92d13676862219</td>\n",
       "    </tr>\n",
       "    <tr>\n",
       "      <th>233267</th>\n",
       "      <td>16</td>\n",
       "      <td>NaN</td>\n",
       "      <td>Spain</td>\n",
       "      <td>NaN</td>\n",
       "      <td>f</td>\n",
       "      <td>2ae06ef75de38d510312a1c1117815f1cc79a84a</td>\n",
       "    </tr>\n",
       "    <tr>\n",
       "      <th>233268</th>\n",
       "      <td>17</td>\n",
       "      <td>NaN</td>\n",
       "      <td>United Kingdom</td>\n",
       "      <td>NaN</td>\n",
       "      <td>m</td>\n",
       "      <td>cb3122a7fbdea01b39d04bdfd2e981d8df0b3820</td>\n",
       "    </tr>\n",
       "    <tr>\n",
       "      <th>233269</th>\n",
       "      <td>35</td>\n",
       "      <td>NaN</td>\n",
       "      <td>Netherlands</td>\n",
       "      <td>NaN</td>\n",
       "      <td>f</td>\n",
       "      <td>2a15098ad4075186809c614b521358ee853e4010</td>\n",
       "    </tr>\n",
       "    <tr>\n",
       "      <th>233270</th>\n",
       "      <td>18</td>\n",
       "      <td>NaN</td>\n",
       "      <td>United States</td>\n",
       "      <td>NaN</td>\n",
       "      <td>m</td>\n",
       "      <td>5963c9aed160a05607efcdae29209a90fae0f7bf</td>\n",
       "    </tr>\n",
       "    <tr>\n",
       "      <th>233271</th>\n",
       "      <td>20</td>\n",
       "      <td>NaN</td>\n",
       "      <td>Finland</td>\n",
       "      <td>NaN</td>\n",
       "      <td>m</td>\n",
       "      <td>9c34997e5b77219785b9c34fc7733bc4612a53c8</td>\n",
       "    </tr>\n",
       "    <tr>\n",
       "      <th>233272</th>\n",
       "      <td>18</td>\n",
       "      <td>NaN</td>\n",
       "      <td>United States</td>\n",
       "      <td>NaN</td>\n",
       "      <td>f</td>\n",
       "      <td>bcdb72cc8c5c0109eaaeed326ff6f2d8205b2283</td>\n",
       "    </tr>\n",
       "    <tr>\n",
       "      <th>233273</th>\n",
       "      <td>30</td>\n",
       "      <td>NaN</td>\n",
       "      <td>Germany</td>\n",
       "      <td>NaN</td>\n",
       "      <td>f</td>\n",
       "      <td>a1bca71ebc26a6374bee683d6bc6f50bda31c0cd</td>\n",
       "    </tr>\n",
       "    <tr>\n",
       "      <th>233274</th>\n",
       "      <td>44</td>\n",
       "      <td>NaN</td>\n",
       "      <td>United Kingdom</td>\n",
       "      <td>NaN</td>\n",
       "      <td>m</td>\n",
       "      <td>7574ac82d225d8c09e0fa56efb805b4cc44ca4dc</td>\n",
       "    </tr>\n",
       "    <tr>\n",
       "      <th>233275</th>\n",
       "      <td>NaN</td>\n",
       "      <td>NaN</td>\n",
       "      <td>Sweden</td>\n",
       "      <td>NaN</td>\n",
       "      <td>m</td>\n",
       "      <td>5a2f3cbe64c34f3941eb18e050a9fbef33b902bb</td>\n",
       "    </tr>\n",
       "    <tr>\n",
       "      <th>233276</th>\n",
       "      <td>22</td>\n",
       "      <td>NaN</td>\n",
       "      <td>Russian Federation</td>\n",
       "      <td>NaN</td>\n",
       "      <td>m</td>\n",
       "      <td>b8916697b5fecb4de815c8a265c9e1a6ea5f5f7c</td>\n",
       "    </tr>\n",
       "    <tr>\n",
       "      <th>233277</th>\n",
       "      <td>24</td>\n",
       "      <td>NaN</td>\n",
       "      <td>Sri Lanka</td>\n",
       "      <td>NaN</td>\n",
       "      <td>m</td>\n",
       "      <td>8b583d8dac0c25313f1564c25b6f74693a0db2cc</td>\n",
       "    </tr>\n",
       "    <tr>\n",
       "      <th>233278</th>\n",
       "      <td>18</td>\n",
       "      <td>NaN</td>\n",
       "      <td>Sweden</td>\n",
       "      <td>NaN</td>\n",
       "      <td>f</td>\n",
       "      <td>7b32f67a47cb8ff53c2d0f6297b2329182828751</td>\n",
       "    </tr>\n",
       "    <tr>\n",
       "      <th>233279</th>\n",
       "      <td>31</td>\n",
       "      <td>NaN</td>\n",
       "      <td>United States</td>\n",
       "      <td>NaN</td>\n",
       "      <td>f</td>\n",
       "      <td>7e528097def0a178be1208993c4e9963b0a26c0c</td>\n",
       "    </tr>\n",
       "    <tr>\n",
       "      <th>233280</th>\n",
       "      <td>26</td>\n",
       "      <td>NaN</td>\n",
       "      <td>Poland</td>\n",
       "      <td>NaN</td>\n",
       "      <td>m</td>\n",
       "      <td>99dbcbb090e46947efc47be63a7dd654466f6f00</td>\n",
       "    </tr>\n",
       "    <tr>\n",
       "      <th>233281</th>\n",
       "      <td>26</td>\n",
       "      <td>NaN</td>\n",
       "      <td>United Kingdom</td>\n",
       "      <td>NaN</td>\n",
       "      <td>m</td>\n",
       "      <td>1e0f096b96d437429f87bb69d4d9ec47846b2d9d</td>\n",
       "    </tr>\n",
       "    <tr>\n",
       "      <th>233282</th>\n",
       "      <td>19</td>\n",
       "      <td>NaN</td>\n",
       "      <td>United States</td>\n",
       "      <td>NaN</td>\n",
       "      <td>f</td>\n",
       "      <td>5b35a58cb51f890507c30d086121ef66b92b35f1</td>\n",
       "    </tr>\n",
       "    <tr>\n",
       "      <th>233283</th>\n",
       "      <td>22</td>\n",
       "      <td>NaN</td>\n",
       "      <td>United Kingdom</td>\n",
       "      <td>NaN</td>\n",
       "      <td>NaN</td>\n",
       "      <td>ebda8b6e7d5787c31bddbb4d4c08af80af2cdf3a</td>\n",
       "    </tr>\n",
       "    <tr>\n",
       "      <th>233284</th>\n",
       "      <td>17</td>\n",
       "      <td>NaN</td>\n",
       "      <td>Portugal</td>\n",
       "      <td>NaN</td>\n",
       "      <td>m</td>\n",
       "      <td>bc2eaff609707b14bca23e06fb5979ccd4994af1</td>\n",
       "    </tr>\n",
       "    <tr>\n",
       "      <th>233285</th>\n",
       "      <td>21</td>\n",
       "      <td>NaN</td>\n",
       "      <td>Germany</td>\n",
       "      <td>NaN</td>\n",
       "      <td>m</td>\n",
       "      <td>118276dbaf61bc28a11bfc5abca1042de1990d83</td>\n",
       "    </tr>\n",
       "  </tbody>\n",
       "</table>\n",
       "<p>235286 rows × 6 columns</p>\n",
       "</div>"
      ],
      "text/plain": [
       "        age                                artist             country  \\\n",
       "0       NaN  03098741-08b3-4dd7-b3f6-1b0bfa2c879c                 NaN   \n",
       "1       NaN  69c4cc43-8163-41c5-ac81-30946d27bb69                 NaN   \n",
       "2       NaN  7a2e6b55-f149-4e74-be6a-30a1b1a387bb                 NaN   \n",
       "3       NaN  7002bf88-1269-4965-a772-4ba1e7a91eaa                 NaN   \n",
       "4       NaN  dbf7c761-e332-467b-b4d9-aafe06bbcf8f                 NaN   \n",
       "5       NaN  a3cb23fc-acd3-4ce0-8f36-1e5aa6a18432                 NaN   \n",
       "6       NaN  8b0f05ce-354e-4121-9e0b-8b4732ea844f                 NaN   \n",
       "7       NaN  8363f94f-fd86-41b8-a56b-26eacb34f499                 NaN   \n",
       "8       NaN  2e41ae9c-afd2-4f20-8f1e-17281ce9b472                 NaN   \n",
       "9       NaN  c17f08f4-2542-46fb-97f3-3202d60c225a                 NaN   \n",
       "10      NaN  4bd95eea-b9f6-4d70-a36c-cfea77431553                 NaN   \n",
       "11      NaN  f467181e-d5e0-4285-b47e-e853dcc89ee7                 NaN   \n",
       "12      NaN  4d9fb84a-8104-48c1-aa16-21f53c9053cc                 NaN   \n",
       "13      NaN  3ff72a59-f39d-411d-9f93-2d4a86413013                 NaN   \n",
       "14      NaN  5f58803e-8c4c-478e-8b51-477f38483ede                 NaN   \n",
       "15      NaN  ff9deaae-da4f-42b7-a19e-36fedd3fc706                 NaN   \n",
       "16      NaN  3231d12a-c42d-4977-b2a4-a6e4d87978e1                 NaN   \n",
       "17      NaN  756cf672-d4ae-4470-a3af-a43d776a211d                 NaN   \n",
       "18      NaN  8ca01f46-53ac-4af2-8516-55a909c0905e                 NaN   \n",
       "19      NaN  a0ef7e1d-44ff-4039-9435-7d5fefdeecc9                 NaN   \n",
       "20      NaN  c83907ee-8b5a-4547-8f68-96572243ea7f                 NaN   \n",
       "21      NaN  dbbc47a5-1338-4830-9298-a8d0b11c0a46                 NaN   \n",
       "22      NaN  f4a31f0a-51dd-4fa7-986d-3095c40c5ed9                 NaN   \n",
       "23      NaN  a9965383-6bdd-49a3-a4bb-4f8008b9d80e                 NaN   \n",
       "24      NaN  c1e5344e-1bff-4727-9417-a4f55e41b5ff                 NaN   \n",
       "25      NaN  b5a31e9b-1fa2-45f9-91f5-b3a25fb38038                 NaN   \n",
       "26      NaN  96c1edac-1011-4cb8-882c-27248de35071                 NaN   \n",
       "27      NaN  370bd5a3-4abf-4356-8576-3a8fc0c11d65                 NaN   \n",
       "28      NaN  1a120ec5-35b3-4f3e-aa49-7201550d9feb                 NaN   \n",
       "29      NaN  2819834e-4e08-47b0-a2c4-b7672318e8f0                 NaN   \n",
       "...     ...                                   ...                 ...   \n",
       "233256   29                                   NaN            Portugal   \n",
       "233257   21                                   NaN  Russian Federation   \n",
       "233258   36                                   NaN             Austria   \n",
       "233259   24                                   NaN  Russian Federation   \n",
       "233260   21                                   NaN              France   \n",
       "233261   23                                   NaN       United States   \n",
       "233262   18                                   NaN              Brazil   \n",
       "233263   29                                   NaN         Switzerland   \n",
       "233264   24                                   NaN  Russian Federation   \n",
       "233265   23                                   NaN              Sweden   \n",
       "233266   29                                   NaN       United States   \n",
       "233267   16                                   NaN               Spain   \n",
       "233268   17                                   NaN      United Kingdom   \n",
       "233269   35                                   NaN         Netherlands   \n",
       "233270   18                                   NaN       United States   \n",
       "233271   20                                   NaN             Finland   \n",
       "233272   18                                   NaN       United States   \n",
       "233273   30                                   NaN             Germany   \n",
       "233274   44                                   NaN      United Kingdom   \n",
       "233275  NaN                                   NaN              Sweden   \n",
       "233276   22                                   NaN  Russian Federation   \n",
       "233277   24                                   NaN           Sri Lanka   \n",
       "233278   18                                   NaN              Sweden   \n",
       "233279   31                                   NaN       United States   \n",
       "233280   26                                   NaN              Poland   \n",
       "233281   26                                   NaN      United Kingdom   \n",
       "233282   19                                   NaN       United States   \n",
       "233283   22                                   NaN      United Kingdom   \n",
       "233284   17                                   NaN            Portugal   \n",
       "233285   21                                   NaN             Germany   \n",
       "\n",
       "                           name  sex                                      user  \n",
       "0                         Liars  NaN                                       NaN  \n",
       "1               CunninLynguists  NaN                                       NaN  \n",
       "2           The Desert Sessions  NaN                                       NaN  \n",
       "3                   Glenn Gould  NaN                                       NaN  \n",
       "4       G. Love & Special Sauce  NaN                                       NaN  \n",
       "5                            U2  NaN                                       NaN  \n",
       "6                        Juanes  NaN                                       NaN  \n",
       "7                     Summoning  NaN                                       NaN  \n",
       "8                  Gwen Stefani  NaN                                       NaN  \n",
       "9                  Fear Factory  NaN                                       NaN  \n",
       "10              Alice in Chains  NaN                                       NaN  \n",
       "11                      Ratatat  NaN                                       NaN  \n",
       "12                       Ignite  NaN                                       NaN  \n",
       "13          The Magnetic Fields  NaN                                       NaN  \n",
       "14                      Madness  NaN                                       NaN  \n",
       "15                  Ben Kweller  NaN                                       NaN  \n",
       "16                        Tosca  NaN                                       NaN  \n",
       "17                Saul Williams  NaN                                       NaN  \n",
       "18          My Bloody Valentine  NaN                                       NaN  \n",
       "19                    [theatre]  NaN                                       NaN  \n",
       "20              Hot Water Music  NaN                                       NaN  \n",
       "21                   Joss Stone  NaN                                       NaN  \n",
       "22                  Evanescence  NaN                                       NaN  \n",
       "23                Stephen Lynch  NaN                                       NaN  \n",
       "24            Loreena McKennitt  NaN                                       NaN  \n",
       "25              Municipal Waste  NaN                                       NaN  \n",
       "26                   The Cramps  NaN                                       NaN  \n",
       "27               Above & Beyond  NaN                                       NaN  \n",
       "28                         RJD2  NaN                                       NaN  \n",
       "29                    The Byrds  NaN                                       NaN  \n",
       "...                         ...  ...                                       ...  \n",
       "233256                      NaN    m  9763fda96d905176c4aef9f8ba5549f2938ff97e  \n",
       "233257                      NaN    m  2a7a65fc6d743f81956485f43ccd4d72a5ca9324  \n",
       "233258                      NaN    m  15d0c77f89cf2660d46308d412ffdabf80b43835  \n",
       "233259                      NaN    m  eb0020cb410f62cfef052cd1951dbd680f359e40  \n",
       "233260                      NaN    m  523a97417d2ac77d4079810379aa6414bed8eb19  \n",
       "233261                      NaN    m  d7a1831a862edf517051ea43677a5a6298e4ae49  \n",
       "233262                      NaN    m  57d74bc9ef431c86170e7cdcacc4f494f7bdef37  \n",
       "233263                      NaN    m  db33ebd706f4745ce31b97b7f441aeb3ce0d8dee  \n",
       "233264                      NaN    m  a9fedc220ffeed2516e103d96012509379dbaf9d  \n",
       "233265                      NaN    m  8330012ab9314d1f2a549801b98e63c6eea06161  \n",
       "233266                      NaN    m  3444ce714ab8abda550465246c92d13676862219  \n",
       "233267                      NaN    f  2ae06ef75de38d510312a1c1117815f1cc79a84a  \n",
       "233268                      NaN    m  cb3122a7fbdea01b39d04bdfd2e981d8df0b3820  \n",
       "233269                      NaN    f  2a15098ad4075186809c614b521358ee853e4010  \n",
       "233270                      NaN    m  5963c9aed160a05607efcdae29209a90fae0f7bf  \n",
       "233271                      NaN    m  9c34997e5b77219785b9c34fc7733bc4612a53c8  \n",
       "233272                      NaN    f  bcdb72cc8c5c0109eaaeed326ff6f2d8205b2283  \n",
       "233273                      NaN    f  a1bca71ebc26a6374bee683d6bc6f50bda31c0cd  \n",
       "233274                      NaN    m  7574ac82d225d8c09e0fa56efb805b4cc44ca4dc  \n",
       "233275                      NaN    m  5a2f3cbe64c34f3941eb18e050a9fbef33b902bb  \n",
       "233276                      NaN    m  b8916697b5fecb4de815c8a265c9e1a6ea5f5f7c  \n",
       "233277                      NaN    m  8b583d8dac0c25313f1564c25b6f74693a0db2cc  \n",
       "233278                      NaN    f  7b32f67a47cb8ff53c2d0f6297b2329182828751  \n",
       "233279                      NaN    f  7e528097def0a178be1208993c4e9963b0a26c0c  \n",
       "233280                      NaN    m  99dbcbb090e46947efc47be63a7dd654466f6f00  \n",
       "233281                      NaN    m  1e0f096b96d437429f87bb69d4d9ec47846b2d9d  \n",
       "233282                      NaN    f  5b35a58cb51f890507c30d086121ef66b92b35f1  \n",
       "233283                      NaN  NaN  ebda8b6e7d5787c31bddbb4d4c08af80af2cdf3a  \n",
       "233284                      NaN    m  bc2eaff609707b14bca23e06fb5979ccd4994af1  \n",
       "233285                      NaN    m  118276dbaf61bc28a11bfc5abca1042de1990d83  \n",
       "\n",
       "[235286 rows x 6 columns]"
      ]
     },
     "execution_count": 19,
     "metadata": {},
     "output_type": "execute_result"
    }
   ],
   "source": [
    "pd.concat([artists, profiles])"
   ]
  },
  {
   "cell_type": "code",
   "execution_count": 20,
   "metadata": {
    "collapsed": false
   },
   "outputs": [
    {
     "data": {
      "text/html": [
       "<div>\n",
       "<table border=\"1\" class=\"dataframe\">\n",
       "  <thead>\n",
       "    <tr style=\"text-align: right;\">\n",
       "      <th></th>\n",
       "      <th>artist</th>\n",
       "      <th>name</th>\n",
       "    </tr>\n",
       "  </thead>\n",
       "  <tbody>\n",
       "    <tr>\n",
       "      <th>0</th>\n",
       "      <td>03098741-08b3-4dd7-b3f6-1b0bfa2c879c</td>\n",
       "      <td>Liars</td>\n",
       "    </tr>\n",
       "    <tr>\n",
       "      <th>1</th>\n",
       "      <td>69c4cc43-8163-41c5-ac81-30946d27bb69</td>\n",
       "      <td>CunninLynguists</td>\n",
       "    </tr>\n",
       "    <tr>\n",
       "      <th>2</th>\n",
       "      <td>7a2e6b55-f149-4e74-be6a-30a1b1a387bb</td>\n",
       "      <td>The Desert Sessions</td>\n",
       "    </tr>\n",
       "    <tr>\n",
       "      <th>3</th>\n",
       "      <td>7002bf88-1269-4965-a772-4ba1e7a91eaa</td>\n",
       "      <td>Glenn Gould</td>\n",
       "    </tr>\n",
       "    <tr>\n",
       "      <th>4</th>\n",
       "      <td>dbf7c761-e332-467b-b4d9-aafe06bbcf8f</td>\n",
       "      <td>G. Love &amp; Special Sauce</td>\n",
       "    </tr>\n",
       "  </tbody>\n",
       "</table>\n",
       "</div>"
      ],
      "text/plain": [
       "                                 artist                     name\n",
       "0  03098741-08b3-4dd7-b3f6-1b0bfa2c879c                    Liars\n",
       "1  69c4cc43-8163-41c5-ac81-30946d27bb69          CunninLynguists\n",
       "2  7a2e6b55-f149-4e74-be6a-30a1b1a387bb      The Desert Sessions\n",
       "3  7002bf88-1269-4965-a772-4ba1e7a91eaa              Glenn Gould\n",
       "4  dbf7c761-e332-467b-b4d9-aafe06bbcf8f  G. Love & Special Sauce"
      ]
     },
     "execution_count": 20,
     "metadata": {},
     "output_type": "execute_result"
    }
   ],
   "source": [
    "artists.head()"
   ]
  },
  {
   "cell_type": "code",
   "execution_count": 41,
   "metadata": {
    "collapsed": false,
    "scrolled": true
   },
   "outputs": [
    {
     "data": {
      "text/plain": [
       "set()"
      ]
     },
     "execution_count": 41,
     "metadata": {},
     "output_type": "execute_result"
    }
   ],
   "source": [
    "set(test['artist'].unique())-set(train['artist'].unique())"
   ]
  },
  {
   "cell_type": "markdown",
   "metadata": {},
   "source": [
    "### So no difference between the artists in the training and test sets.  "
   ]
  },
  {
   "cell_type": "code",
   "execution_count": 49,
   "metadata": {
    "collapsed": false
   },
   "outputs": [
    {
     "data": {
      "text/plain": [
       "<matplotlib.axes._subplots.AxesSubplot at 0x127573cd0>"
      ]
     },
     "execution_count": 49,
     "metadata": {},
     "output_type": "execute_result"
    },
    {
     "data": {
      "image/png": "[encoded data removed]",
      "text/plain": [
       "<matplotlib.figure.Figure at 0x130ece210>"
      ]
     },
     "metadata": {},
     "output_type": "display_data"
    }
   ],
   "source": [
    "train['plays'][train['plays']<2000].hist(bins=100)"
   ]
  },
  {
   "cell_type": "code",
   "execution_count": 50,
   "metadata": {
    "collapsed": false
   },
   "outputs": [
    {
     "data": {
      "text/plain": [
       "419157"
      ]
     },
     "execution_count": 50,
     "metadata": {},
     "output_type": "execute_result"
    }
   ],
   "source": [
    "max(train['plays'])"
   ]
  },
  {
   "cell_type": "code",
   "execution_count": 51,
   "metadata": {
    "collapsed": false
   },
   "outputs": [
    {
     "data": {
      "text/html": [
       "<div>\n",
       "<table border=\"1\" class=\"dataframe\">\n",
       "  <thead>\n",
       "    <tr style=\"text-align: right;\">\n",
       "      <th></th>\n",
       "      <th>user</th>\n",
       "      <th>artist</th>\n",
       "      <th>plays</th>\n",
       "    </tr>\n",
       "  </thead>\n",
       "  <tbody>\n",
       "    <tr>\n",
       "      <th>644582</th>\n",
       "      <td>8d0384537845e7f2b1b8b3e8a9f67eb8d9439794</td>\n",
       "      <td>dcaa4f81-bfb7-44eb-8594-4e74f004b6e4</td>\n",
       "      <td>419157</td>\n",
       "    </tr>\n",
       "  </tbody>\n",
       "</table>\n",
       "</div>"
      ],
      "text/plain": [
       "                                            user  \\\n",
       "644582  8d0384537845e7f2b1b8b3e8a9f67eb8d9439794   \n",
       "\n",
       "                                      artist   plays  \n",
       "644582  dcaa4f81-bfb7-44eb-8594-4e74f004b6e4  419157  "
      ]
     },
     "execution_count": 51,
     "metadata": {},
     "output_type": "execute_result"
    }
   ],
   "source": [
    "train[train['plays']>400000]"
   ]
  },
  {
   "cell_type": "code",
   "execution_count": 52,
   "metadata": {
    "collapsed": false
   },
   "outputs": [
    {
     "data": {
      "text/html": [
       "<div>\n",
       "<table border=\"1\" class=\"dataframe\">\n",
       "  <thead>\n",
       "    <tr style=\"text-align: right;\">\n",
       "      <th></th>\n",
       "      <th>artist</th>\n",
       "      <th>name</th>\n",
       "    </tr>\n",
       "  </thead>\n",
       "  <tbody>\n",
       "    <tr>\n",
       "      <th>1881</th>\n",
       "      <td>dcaa4f81-bfb7-44eb-8594-4e74f004b6e4</td>\n",
       "      <td>NOFX</td>\n",
       "    </tr>\n",
       "  </tbody>\n",
       "</table>\n",
       "</div>"
      ],
      "text/plain": [
       "                                    artist  name\n",
       "1881  dcaa4f81-bfb7-44eb-8594-4e74f004b6e4  NOFX"
      ]
     },
     "execution_count": 52,
     "metadata": {},
     "output_type": "execute_result"
    }
   ],
   "source": [
    "artists[artists['artist']=='dcaa4f81-bfb7-44eb-8594-4e74f004b6e4']"
   ]
  },
  {
   "cell_type": "markdown",
   "metadata": {},
   "source": [
    "### One user really likes NOFX"
   ]
  },
  {
   "cell_type": "code",
   "execution_count": 53,
   "metadata": {
    "collapsed": false
   },
   "outputs": [
    {
     "data": {
      "text/plain": [
       "1978"
      ]
     },
     "execution_count": 53,
     "metadata": {},
     "output_type": "execute_result"
    }
   ],
   "source": [
    "len(artists['name'].unique())"
   ]
  },
  {
   "cell_type": "code",
   "execution_count": 54,
   "metadata": {
    "collapsed": false
   },
   "outputs": [
    {
     "data": {
      "text/plain": [
       "2000"
      ]
     },
     "execution_count": 54,
     "metadata": {},
     "output_type": "execute_result"
    }
   ],
   "source": [
    "len(artists)"
   ]
  },
  {
   "cell_type": "markdown",
   "metadata": {},
   "source": [
    "### So there are redundant artists"
   ]
  },
  {
   "cell_type": "code",
   "execution_count": 59,
   "metadata": {
    "collapsed": false
   },
   "outputs": [
    {
     "data": {
      "text/plain": [
       "233286"
      ]
     },
     "execution_count": 59,
     "metadata": {},
     "output_type": "execute_result"
    }
   ],
   "source": [
    "len(train['user'].unique())"
   ]
  },
  {
   "cell_type": "code",
   "execution_count": 60,
   "metadata": {
    "collapsed": false
   },
   "outputs": [
    {
     "data": {
      "text/plain": [
       "4154804"
      ]
     },
     "execution_count": 60,
     "metadata": {},
     "output_type": "execute_result"
    }
   ],
   "source": [
    "len(train)"
   ]
  },
  {
   "cell_type": "markdown",
   "metadata": {},
   "source": [
    "### 4,154,804 entries in the training set.  \n",
    "### 233,286 unique users in the training set.  "
   ]
  },
  {
   "cell_type": "code",
   "execution_count": 61,
   "metadata": {
    "collapsed": false
   },
   "outputs": [
    {
     "data": {
      "text/plain": [
       "2000"
      ]
     },
     "execution_count": 61,
     "metadata": {},
     "output_type": "execute_result"
    }
   ],
   "source": [
    "len(train['artist'].unique())"
   ]
  },
  {
   "cell_type": "markdown",
   "metadata": {},
   "source": [
    "### 2,000 unique artists in the training set, as there are 2,000 artists in the artists df.  "
   ]
  },
  {
   "cell_type": "code",
   "execution_count": 62,
   "metadata": {
    "collapsed": false
   },
   "outputs": [
    {
     "data": {
      "text/plain": [
       "2000"
      ]
     },
     "execution_count": 62,
     "metadata": {},
     "output_type": "execute_result"
    }
   ],
   "source": [
    "len(test['artist'].unique())"
   ]
  },
  {
   "cell_type": "code",
   "execution_count": 66,
   "metadata": {
    "collapsed": false
   },
   "outputs": [
    {
     "name": "stdout",
     "output_type": "stream",
     "text": [
      "min age: -1337.0\n",
      "max age: 1002.0\n"
     ]
    }
   ],
   "source": [
    "print \"min age:\", min(profiles['age'])\n",
    "print \"max age:\", max(profiles['age'])"
   ]
  },
  {
   "cell_type": "code",
   "execution_count": 69,
   "metadata": {
    "collapsed": false
   },
   "outputs": [
    {
     "data": {
      "text/plain": [
       "<matplotlib.axes._subplots.AxesSubplot at 0x131497450>"
      ]
     },
     "execution_count": 69,
     "metadata": {},
     "output_type": "execute_result"
    },
    {
     "data": {
      "image/png": "[encoded data removed]",
      "text/plain": [
       "<matplotlib.figure.Figure at 0x1320c7190>"
      ]
     },
     "metadata": {},
     "output_type": "display_data"
    }
   ],
   "source": [
    "profiles['age'].hist()"
   ]
  },
  {
   "cell_type": "code",
   "execution_count": 77,
   "metadata": {
    "collapsed": false
   },
   "outputs": [
    {
     "data": {
      "image/png": "[encoded data removed]",
      "text/plain": [
       "<matplotlib.figure.Figure at 0x132656ed0>"
      ]
     },
     "metadata": {},
     "output_type": "display_data"
    }
   ],
   "source": [
    "ax = profiles['age'].hist(bins=400)\n",
    "ax.set_xlim((0,120));"
   ]
  },
  {
   "cell_type": "code",
   "execution_count": 85,
   "metadata": {
    "collapsed": false
   },
   "outputs": [
    {
     "data": {
      "text/plain": [
       "0"
      ]
     },
     "execution_count": 85,
     "metadata": {},
     "output_type": "execute_result"
    }
   ],
   "source": [
    "### No missing countries\n",
    "len(profiles['country'][profiles['country']=='nan'])"
   ]
  },
  {
   "cell_type": "code",
   "execution_count": 89,
   "metadata": {
    "collapsed": false
   },
   "outputs": [
    {
     "data": {
      "text/plain": [
       "44842"
      ]
     },
     "execution_count": 89,
     "metadata": {},
     "output_type": "execute_result"
    }
   ],
   "source": [
    "### 44,842 missing ages\n",
    "sum(np.isnan(profiles['age']))"
   ]
  },
  {
   "cell_type": "code",
   "execution_count": 106,
   "metadata": {
    "collapsed": false
   },
   "outputs": [
    {
     "data": {
      "text/plain": [
       "19535"
      ]
     },
     "execution_count": 106,
     "metadata": {},
     "output_type": "execute_result"
    }
   ],
   "source": [
    "### 19,535 missing sexes\n",
    "sum(profiles['sex'].isnull())"
   ]
  },
  {
   "cell_type": "code",
   "execution_count": 107,
   "metadata": {
    "collapsed": false
   },
   "outputs": [
    {
     "data": {
      "text/html": [
       "<div>\n",
       "<table border=\"1\" class=\"dataframe\">\n",
       "  <thead>\n",
       "    <tr style=\"text-align: right;\">\n",
       "      <th></th>\n",
       "      <th>user</th>\n",
       "      <th>sex</th>\n",
       "      <th>age</th>\n",
       "      <th>country</th>\n",
       "    </tr>\n",
       "  </thead>\n",
       "  <tbody>\n",
       "    <tr>\n",
       "      <th>0</th>\n",
       "      <td>fa40b43298ba3f8aa52e8e8863faf2e2171e0b5d</td>\n",
       "      <td>f</td>\n",
       "      <td>25</td>\n",
       "      <td>Sweden</td>\n",
       "    </tr>\n",
       "    <tr>\n",
       "      <th>1</th>\n",
       "      <td>5909125332c108365a26ccf0ee62636eee08215c</td>\n",
       "      <td>m</td>\n",
       "      <td>29</td>\n",
       "      <td>Iceland</td>\n",
       "    </tr>\n",
       "    <tr>\n",
       "      <th>2</th>\n",
       "      <td>d1867cbda35e0d48e9a8390d9f5e079c9d99ea96</td>\n",
       "      <td>m</td>\n",
       "      <td>30</td>\n",
       "      <td>United States</td>\n",
       "    </tr>\n",
       "    <tr>\n",
       "      <th>3</th>\n",
       "      <td>63268cce0d68127729890c1691f62d5be5abd87c</td>\n",
       "      <td>m</td>\n",
       "      <td>21</td>\n",
       "      <td>Germany</td>\n",
       "    </tr>\n",
       "    <tr>\n",
       "      <th>4</th>\n",
       "      <td>02871cd952d607ba69b64e2e107773012c708113</td>\n",
       "      <td>m</td>\n",
       "      <td>24</td>\n",
       "      <td>Netherlands</td>\n",
       "    </tr>\n",
       "  </tbody>\n",
       "</table>\n",
       "</div>"
      ],
      "text/plain": [
       "                                       user sex  age        country\n",
       "0  fa40b43298ba3f8aa52e8e8863faf2e2171e0b5d   f   25         Sweden\n",
       "1  5909125332c108365a26ccf0ee62636eee08215c   m   29        Iceland\n",
       "2  d1867cbda35e0d48e9a8390d9f5e079c9d99ea96   m   30  United States\n",
       "3  63268cce0d68127729890c1691f62d5be5abd87c   m   21        Germany\n",
       "4  02871cd952d607ba69b64e2e107773012c708113   m   24    Netherlands"
      ]
     },
     "execution_count": 107,
     "metadata": {},
     "output_type": "execute_result"
    }
   ],
   "source": [
    "profiles.head()"
   ]
  },
  {
   "cell_type": "code",
   "execution_count": 109,
   "metadata": {
    "collapsed": false
   },
   "outputs": [],
   "source": [
    "profiles['male'] = (profiles['sex']=='m')"
   ]
  },
  {
   "cell_type": "code",
   "execution_count": 113,
   "metadata": {
    "collapsed": false
   },
   "outputs": [],
   "source": [
    "profiles['female'] = (profiles['sex']=='f')"
   ]
  },
  {
   "cell_type": "code",
   "execution_count": 115,
   "metadata": {
    "collapsed": false
   },
   "outputs": [
    {
     "data": {
      "text/plain": [
       "154360"
      ]
     },
     "execution_count": 115,
     "metadata": {},
     "output_type": "execute_result"
    }
   ],
   "source": [
    "sum(profiles['male'])"
   ]
  },
  {
   "cell_type": "code",
   "execution_count": 116,
   "metadata": {
    "collapsed": false
   },
   "outputs": [
    {
     "data": {
      "text/plain": [
       "59391"
      ]
     },
     "execution_count": 116,
     "metadata": {},
     "output_type": "execute_result"
    }
   ],
   "source": [
    "sum(profiles['female'])"
   ]
  },
  {
   "cell_type": "code",
   "execution_count": 119,
   "metadata": {
    "collapsed": false
   },
   "outputs": [
    {
     "name": "stdout",
     "output_type": "stream",
     "text": [
      "Proportion Male: 0.72214866831\n"
     ]
    }
   ],
   "source": [
    "print \"Proportion Male:\", np.float(sum(profiles['male']))/(sum(profiles['male'])+sum(profiles['female']))"
   ]
  },
  {
   "cell_type": "code",
   "execution_count": null,
   "metadata": {
    "collapsed": true
   },
   "outputs": [],
   "source": []
  },
  {
   "cell_type": "code",
   "execution_count": null,
   "metadata": {
    "collapsed": true
   },
   "outputs": [],
   "source": []
  },
  {
   "cell_type": "code",
   "execution_count": 120,
   "metadata": {
    "collapsed": true
   },
   "outputs": [],
   "source": [
    "## Copied from data-exploration.ipynb"
   ]
  },
  {
   "cell_type": "code",
   "execution_count": 137,
   "metadata": {
    "collapsed": true
   },
   "outputs": [],
   "source": [
    "train_merge = train.merge(profiles,left_on='user', right_on='user', how='inner')"
   ]
  },
  {
   "cell_type": "code",
   "execution_count": 122,
   "metadata": {
    "collapsed": true
   },
   "outputs": [],
   "source": [
    "unique_countries = sorted(pd.unique(train_merge['country']))\n",
    "unique_sex = pd.unique(train_merge['sex'])\n",
    "unique_sex = [x for x in unique_sex if str(x) != 'nan']\n",
    "mean_age = np.mean(train_merge['age'])\n",
    "max_age = 121.0"
   ]
  },
  {
   "cell_type": "code",
   "execution_count": 126,
   "metadata": {
    "collapsed": false
   },
   "outputs": [],
   "source": [
    "#Generating distribution for sex\n",
    "sex_dist = []\n",
    "for sex in unique_sex:\n",
    "    sex_dist.append(float(len(train_merge[train_merge['sex'] == sex])))\n",
    "sex_dist = sex_dist/np.sum(sex_dist)"
   ]
  },
  {
   "cell_type": "code",
   "execution_count": 128,
   "metadata": {
    "collapsed": false
   },
   "outputs": [],
   "source": [
    "metadata = {}\n",
    "metadata['countries'] = unique_countries\n",
    "metadata['sex'] = unique_sex\n",
    "metadata['mean_age'] = mean_age\n",
    "metadata['max_age'] = max_age\n",
    "metadata['sex_dist'] = sex_dist"
   ]
  },
  {
   "cell_type": "code",
   "execution_count": 131,
   "metadata": {
    "collapsed": false
   },
   "outputs": [],
   "source": [
    "def create_vector(row,metadata=metadata):\n",
    "    countries = metadata['countries']\n",
    "    num_countries = len(countries)\n",
    "    country_num = countries.index(row['country'])\n",
    "    #initialization of empty country array\n",
    "    country_array = np.zeros(num_countries)\n",
    "    country_array[country_num] = 1.\n",
    "    #adding to return list\n",
    "    return_list = list(country_array)\n",
    "    #adding a one hot vector for sex\n",
    "    sexes = metadata['sex']\n",
    "    num_sexes = len(metadata['sex'])\n",
    "    if row['sex'] not in sexes:\n",
    "        sex = np.random.choice(sexes, size=1, p=metadata['sex_dist'])[0]\n",
    "    else:\n",
    "        sex = row['sex']\n",
    "    sex_num = sexes.index(sex)\n",
    "    sex_array = np.zeros(num_sexes)\n",
    "    sex_array[sex_num] = 1.\n",
    "    #adding to return list\n",
    "    return_list = return_list + list(sex_array)\n",
    "    #checking for age\n",
    "    lower_bound = 0\n",
    "    upper_bound = 150\n",
    "    age = row['age']\n",
    "    if age < lower_bound or age > upper_bound:\n",
    "        age = metadata['mean_age']/metadata['max_age']\n",
    "    elif str(age) == 'nan':\n",
    "        age = metadata['mean_age']/metadata['max_age']\n",
    "    else:\n",
    "        age = age/metadata['max_age']\n",
    "    return_list = return_list + [age]\n",
    "    return return_list"
   ]
  },
  {
   "cell_type": "code",
   "execution_count": 132,
   "metadata": {
    "collapsed": true
   },
   "outputs": [],
   "source": [
    "# train_merge_test = train_merge.head()"
   ]
  },
  {
   "cell_type": "code",
   "execution_count": 138,
   "metadata": {
    "collapsed": false
   },
   "outputs": [],
   "source": [
    "train_merge['vec'] = train_merge.apply(create_vector, axis=1)"
   ]
  },
  {
   "cell_type": "code",
   "execution_count": 146,
   "metadata": {
    "collapsed": false
   },
   "outputs": [
    {
     "data": {
      "text/plain": [
       "0    [0.0, 0.0, 0.0, 0.0, 0.0, 0.0, 0.0, 0.0, 0.0, ...\n",
       "1    [0.0, 0.0, 0.0, 0.0, 0.0, 0.0, 0.0, 0.0, 0.0, ...\n",
       "2    [0.0, 0.0, 0.0, 0.0, 0.0, 0.0, 0.0, 0.0, 0.0, ...\n",
       "3    [0.0, 0.0, 0.0, 0.0, 0.0, 0.0, 0.0, 0.0, 0.0, ...\n",
       "4    [0.0, 0.0, 0.0, 0.0, 0.0, 0.0, 0.0, 0.0, 0.0, ...\n",
       "Name: vec, dtype: object"
      ]
     },
     "execution_count": 146,
     "metadata": {},
     "output_type": "execute_result"
    }
   ],
   "source": [
    "train_merge['vec'].head()"
   ]
  },
  {
   "cell_type": "code",
   "execution_count": 140,
   "metadata": {
    "collapsed": false
   },
   "outputs": [
    {
     "data": {
      "text/html": [
       "<div>\n",
       "<table border=\"1\" class=\"dataframe\">\n",
       "  <thead>\n",
       "    <tr style=\"text-align: right;\">\n",
       "      <th></th>\n",
       "      <th>user</th>\n",
       "      <th>artist</th>\n",
       "      <th>plays</th>\n",
       "      <th>sex</th>\n",
       "      <th>age</th>\n",
       "      <th>country</th>\n",
       "      <th>male</th>\n",
       "      <th>female</th>\n",
       "      <th>vec</th>\n",
       "    </tr>\n",
       "  </thead>\n",
       "  <tbody>\n",
       "    <tr>\n",
       "      <th>0</th>\n",
       "      <td>eb1c57ddc9e0e2d005169d3a1a96e8dd95e3af03</td>\n",
       "      <td>5a8e07d5-d932-4484-a7f7-e700793a9c94</td>\n",
       "      <td>554</td>\n",
       "      <td>m</td>\n",
       "      <td>25</td>\n",
       "      <td>Sweden</td>\n",
       "      <td>True</td>\n",
       "      <td>False</td>\n",
       "      <td>[0.0, 0.0, 0.0, 0.0, 0.0, 0.0, 0.0, 0.0, 0.0, ...</td>\n",
       "    </tr>\n",
       "    <tr>\n",
       "      <th>1</th>\n",
       "      <td>eb1c57ddc9e0e2d005169d3a1a96e8dd95e3af03</td>\n",
       "      <td>f83781c8-64f9-4657-85bd-51f74d195cfd</td>\n",
       "      <td>1217</td>\n",
       "      <td>m</td>\n",
       "      <td>25</td>\n",
       "      <td>Sweden</td>\n",
       "      <td>True</td>\n",
       "      <td>False</td>\n",
       "      <td>[0.0, 0.0, 0.0, 0.0, 0.0, 0.0, 0.0, 0.0, 0.0, ...</td>\n",
       "    </tr>\n",
       "    <tr>\n",
       "      <th>2</th>\n",
       "      <td>eb1c57ddc9e0e2d005169d3a1a96e8dd95e3af03</td>\n",
       "      <td>c485632c-b784-4ee9-8ea1-c5fb365681fc</td>\n",
       "      <td>509</td>\n",
       "      <td>m</td>\n",
       "      <td>25</td>\n",
       "      <td>Sweden</td>\n",
       "      <td>True</td>\n",
       "      <td>False</td>\n",
       "      <td>[0.0, 0.0, 0.0, 0.0, 0.0, 0.0, 0.0, 0.0, 0.0, ...</td>\n",
       "    </tr>\n",
       "    <tr>\n",
       "      <th>3</th>\n",
       "      <td>eb1c57ddc9e0e2d005169d3a1a96e8dd95e3af03</td>\n",
       "      <td>f1b525b4-ddd0-4d39-85b2-d8fa26a7f279</td>\n",
       "      <td>2497</td>\n",
       "      <td>m</td>\n",
       "      <td>25</td>\n",
       "      <td>Sweden</td>\n",
       "      <td>True</td>\n",
       "      <td>False</td>\n",
       "      <td>[0.0, 0.0, 0.0, 0.0, 0.0, 0.0, 0.0, 0.0, 0.0, ...</td>\n",
       "    </tr>\n",
       "    <tr>\n",
       "      <th>4</th>\n",
       "      <td>eb1c57ddc9e0e2d005169d3a1a96e8dd95e3af03</td>\n",
       "      <td>88679ca2-2080-4cea-8669-41ab4b8d865d</td>\n",
       "      <td>377</td>\n",
       "      <td>m</td>\n",
       "      <td>25</td>\n",
       "      <td>Sweden</td>\n",
       "      <td>True</td>\n",
       "      <td>False</td>\n",
       "      <td>[0.0, 0.0, 0.0, 0.0, 0.0, 0.0, 0.0, 0.0, 0.0, ...</td>\n",
       "    </tr>\n",
       "  </tbody>\n",
       "</table>\n",
       "</div>"
      ],
      "text/plain": [
       "                                       user  \\\n",
       "0  eb1c57ddc9e0e2d005169d3a1a96e8dd95e3af03   \n",
       "1  eb1c57ddc9e0e2d005169d3a1a96e8dd95e3af03   \n",
       "2  eb1c57ddc9e0e2d005169d3a1a96e8dd95e3af03   \n",
       "3  eb1c57ddc9e0e2d005169d3a1a96e8dd95e3af03   \n",
       "4  eb1c57ddc9e0e2d005169d3a1a96e8dd95e3af03   \n",
       "\n",
       "                                 artist  plays sex  age country  male female  \\\n",
       "0  5a8e07d5-d932-4484-a7f7-e700793a9c94    554   m   25  Sweden  True  False   \n",
       "1  f83781c8-64f9-4657-85bd-51f74d195cfd   1217   m   25  Sweden  True  False   \n",
       "2  c485632c-b784-4ee9-8ea1-c5fb365681fc    509   m   25  Sweden  True  False   \n",
       "3  f1b525b4-ddd0-4d39-85b2-d8fa26a7f279   2497   m   25  Sweden  True  False   \n",
       "4  88679ca2-2080-4cea-8669-41ab4b8d865d    377   m   25  Sweden  True  False   \n",
       "\n",
       "                                                 vec  \n",
       "0  [0.0, 0.0, 0.0, 0.0, 0.0, 0.0, 0.0, 0.0, 0.0, ...  \n",
       "1  [0.0, 0.0, 0.0, 0.0, 0.0, 0.0, 0.0, 0.0, 0.0, ...  \n",
       "2  [0.0, 0.0, 0.0, 0.0, 0.0, 0.0, 0.0, 0.0, 0.0, ...  \n",
       "3  [0.0, 0.0, 0.0, 0.0, 0.0, 0.0, 0.0, 0.0, 0.0, ...  \n",
       "4  [0.0, 0.0, 0.0, 0.0, 0.0, 0.0, 0.0, 0.0, 0.0, ...  "
      ]
     },
     "execution_count": 140,
     "metadata": {},
     "output_type": "execute_result"
    }
   ],
   "source": [
    "train_merge.head()"
   ]
  },
  {
   "cell_type": "code",
   "execution_count": 142,
   "metadata": {
    "collapsed": false
   },
   "outputs": [],
   "source": [
    "profile_lists = profiles.apply(create_vector, axis=1)"
   ]
  },
  {
   "cell_type": "code",
   "execution_count": 159,
   "metadata": {
    "collapsed": true
   },
   "outputs": [],
   "source": [
    "metadata['min_age']=0\n",
    "metadata['max_age']=121."
   ]
  },
  {
   "cell_type": "code",
   "execution_count": 160,
   "metadata": {
    "collapsed": false
   },
   "outputs": [],
   "source": [
    "def normalize_age(age):\n",
    "    if age < metadata['min_age'] or age > metadata['max_age']:\n",
    "        age = metadata['mean_age']/metadata['max_age']\n",
    "    elif str(age) == 'nan':\n",
    "        age = metadata['mean_age']/metadata['max_age']\n",
    "    else:\n",
    "        age = age/metadata['max_age']\n",
    "    return age"
   ]
  },
  {
   "cell_type": "code",
   "execution_count": 167,
   "metadata": {
    "collapsed": false
   },
   "outputs": [],
   "source": [
    "profiles['Normed_age']=profiles['age'].apply(normalize_age)"
   ]
  },
  {
   "cell_type": "code",
   "execution_count": 176,
   "metadata": {
    "collapsed": false
   },
   "outputs": [
    {
     "data": {
      "text/plain": [
       "True"
      ]
     },
     "execution_count": 176,
     "metadata": {},
     "output_type": "execute_result"
    }
   ],
   "source": [
    "profiles.iloc[0]['country']=='Sweden'"
   ]
  },
  {
   "cell_type": "code",
   "execution_count": 223,
   "metadata": {
    "collapsed": true
   },
   "outputs": [],
   "source": [
    "def countries(country):\n",
    "    countries = metadata['countries']\n",
    "    num_countries = len(countries)\n",
    "    country_num = countries.index(country)\n",
    "    #initialization of empty country array\n",
    "    country_array = np.zeros(num_countries)\n",
    "    country_array[country_num] = 1.\n",
    "    return pd.Series(country_array)"
   ]
  },
  {
   "cell_type": "code",
   "execution_count": 227,
   "metadata": {
    "collapsed": false
   },
   "outputs": [],
   "source": [
    "df_to_merge = pd.DataFrame(profiles['country'].apply(countries))"
   ]
  },
  {
   "cell_type": "code",
   "execution_count": 228,
   "metadata": {
    "collapsed": false
   },
   "outputs": [],
   "source": [
    "df_to_merge.columns = metadata['countries']"
   ]
  },
  {
   "cell_type": "code",
   "execution_count": 232,
   "metadata": {
    "collapsed": false
   },
   "outputs": [],
   "source": [
    "profiles = profiles.join(df_to_merge)"
   ]
  },
  {
   "cell_type": "code",
   "execution_count": 239,
   "metadata": {
    "collapsed": false
   },
   "outputs": [],
   "source": [
    "def sexer(sex):\n",
    "    sexes = metadata['sex']\n",
    "    num_sexes = len(metadata['sex'])\n",
    "    if sex not in sexes:\n",
    "        sex_id = np.random.choice(sexes, size=1, p=metadata['sex_dist'])[0]\n",
    "    else:\n",
    "        sex_id = sex\n",
    "    sex_num = sexes.index(sex_id)\n",
    "    sex_array = np.zeros(num_sexes)\n",
    "    sex_array[sex_num] = 1.\n",
    "    return pd.Series(sex_array)"
   ]
  },
  {
   "cell_type": "code",
   "execution_count": 241,
   "metadata": {
    "collapsed": false
   },
   "outputs": [],
   "source": [
    "df_to_merge = profiles['sex'].apply(sexer)"
   ]
  },
  {
   "cell_type": "code",
   "execution_count": 242,
   "metadata": {
    "collapsed": true
   },
   "outputs": [],
   "source": [
    "df_to_merge.columns = ['Male','Female']"
   ]
  },
  {
   "cell_type": "code",
   "execution_count": 243,
   "metadata": {
    "collapsed": true
   },
   "outputs": [],
   "source": [
    "profiles = profiles.join(df_to_merge)"
   ]
  },
  {
   "cell_type": "code",
   "execution_count": 244,
   "metadata": {
    "collapsed": false
   },
   "outputs": [
    {
     "data": {
      "text/html": [
       "<div>\n",
       "<table border=\"1\" class=\"dataframe\">\n",
       "  <thead>\n",
       "    <tr style=\"text-align: right;\">\n",
       "      <th></th>\n",
       "      <th>user</th>\n",
       "      <th>sex</th>\n",
       "      <th>age</th>\n",
       "      <th>country</th>\n",
       "      <th>Normed_age</th>\n",
       "      <th>Afghanistan</th>\n",
       "      <th>Albania</th>\n",
       "      <th>Algeria</th>\n",
       "      <th>American Samoa</th>\n",
       "      <th>Andorra</th>\n",
       "      <th>...</th>\n",
       "      <th>Viet Nam</th>\n",
       "      <th>Virgin Islands, British</th>\n",
       "      <th>Virgin Islands, U.s.</th>\n",
       "      <th>Wallis and Futuna</th>\n",
       "      <th>Western Sahara</th>\n",
       "      <th>Yemen</th>\n",
       "      <th>Zambia</th>\n",
       "      <th>Zimbabwe</th>\n",
       "      <th>Male</th>\n",
       "      <th>Female</th>\n",
       "    </tr>\n",
       "  </thead>\n",
       "  <tbody>\n",
       "    <tr>\n",
       "      <th>0</th>\n",
       "      <td>fa40b43298ba3f8aa52e8e8863faf2e2171e0b5d</td>\n",
       "      <td>f</td>\n",
       "      <td>25</td>\n",
       "      <td>Sweden</td>\n",
       "      <td>0.206612</td>\n",
       "      <td>0</td>\n",
       "      <td>0</td>\n",
       "      <td>0</td>\n",
       "      <td>0</td>\n",
       "      <td>0</td>\n",
       "      <td>...</td>\n",
       "      <td>0</td>\n",
       "      <td>0</td>\n",
       "      <td>0</td>\n",
       "      <td>0</td>\n",
       "      <td>0</td>\n",
       "      <td>0</td>\n",
       "      <td>0</td>\n",
       "      <td>0</td>\n",
       "      <td>0</td>\n",
       "      <td>1</td>\n",
       "    </tr>\n",
       "    <tr>\n",
       "      <th>1</th>\n",
       "      <td>5909125332c108365a26ccf0ee62636eee08215c</td>\n",
       "      <td>m</td>\n",
       "      <td>29</td>\n",
       "      <td>Iceland</td>\n",
       "      <td>0.239669</td>\n",
       "      <td>0</td>\n",
       "      <td>0</td>\n",
       "      <td>0</td>\n",
       "      <td>0</td>\n",
       "      <td>0</td>\n",
       "      <td>...</td>\n",
       "      <td>0</td>\n",
       "      <td>0</td>\n",
       "      <td>0</td>\n",
       "      <td>0</td>\n",
       "      <td>0</td>\n",
       "      <td>0</td>\n",
       "      <td>0</td>\n",
       "      <td>0</td>\n",
       "      <td>1</td>\n",
       "      <td>0</td>\n",
       "    </tr>\n",
       "    <tr>\n",
       "      <th>2</th>\n",
       "      <td>d1867cbda35e0d48e9a8390d9f5e079c9d99ea96</td>\n",
       "      <td>m</td>\n",
       "      <td>30</td>\n",
       "      <td>United States</td>\n",
       "      <td>0.247934</td>\n",
       "      <td>0</td>\n",
       "      <td>0</td>\n",
       "      <td>0</td>\n",
       "      <td>0</td>\n",
       "      <td>0</td>\n",
       "      <td>...</td>\n",
       "      <td>0</td>\n",
       "      <td>0</td>\n",
       "      <td>0</td>\n",
       "      <td>0</td>\n",
       "      <td>0</td>\n",
       "      <td>0</td>\n",
       "      <td>0</td>\n",
       "      <td>0</td>\n",
       "      <td>1</td>\n",
       "      <td>0</td>\n",
       "    </tr>\n",
       "    <tr>\n",
       "      <th>3</th>\n",
       "      <td>63268cce0d68127729890c1691f62d5be5abd87c</td>\n",
       "      <td>m</td>\n",
       "      <td>21</td>\n",
       "      <td>Germany</td>\n",
       "      <td>0.173554</td>\n",
       "      <td>0</td>\n",
       "      <td>0</td>\n",
       "      <td>0</td>\n",
       "      <td>0</td>\n",
       "      <td>0</td>\n",
       "      <td>...</td>\n",
       "      <td>0</td>\n",
       "      <td>0</td>\n",
       "      <td>0</td>\n",
       "      <td>0</td>\n",
       "      <td>0</td>\n",
       "      <td>0</td>\n",
       "      <td>0</td>\n",
       "      <td>0</td>\n",
       "      <td>1</td>\n",
       "      <td>0</td>\n",
       "    </tr>\n",
       "    <tr>\n",
       "      <th>4</th>\n",
       "      <td>02871cd952d607ba69b64e2e107773012c708113</td>\n",
       "      <td>m</td>\n",
       "      <td>24</td>\n",
       "      <td>Netherlands</td>\n",
       "      <td>0.198347</td>\n",
       "      <td>0</td>\n",
       "      <td>0</td>\n",
       "      <td>0</td>\n",
       "      <td>0</td>\n",
       "      <td>0</td>\n",
       "      <td>...</td>\n",
       "      <td>0</td>\n",
       "      <td>0</td>\n",
       "      <td>0</td>\n",
       "      <td>0</td>\n",
       "      <td>0</td>\n",
       "      <td>0</td>\n",
       "      <td>0</td>\n",
       "      <td>0</td>\n",
       "      <td>1</td>\n",
       "      <td>0</td>\n",
       "    </tr>\n",
       "  </tbody>\n",
       "</table>\n",
       "<p>5 rows × 246 columns</p>\n",
       "</div>"
      ],
      "text/plain": [
       "                                       user sex  age        country  \\\n",
       "0  fa40b43298ba3f8aa52e8e8863faf2e2171e0b5d   f   25         Sweden   \n",
       "1  5909125332c108365a26ccf0ee62636eee08215c   m   29        Iceland   \n",
       "2  d1867cbda35e0d48e9a8390d9f5e079c9d99ea96   m   30  United States   \n",
       "3  63268cce0d68127729890c1691f62d5be5abd87c   m   21        Germany   \n",
       "4  02871cd952d607ba69b64e2e107773012c708113   m   24    Netherlands   \n",
       "\n",
       "   Normed_age  Afghanistan  Albania  Algeria  American Samoa  Andorra   ...    \\\n",
       "0    0.206612            0        0        0               0        0   ...     \n",
       "1    0.239669            0        0        0               0        0   ...     \n",
       "2    0.247934            0        0        0               0        0   ...     \n",
       "3    0.173554            0        0        0               0        0   ...     \n",
       "4    0.198347            0        0        0               0        0   ...     \n",
       "\n",
       "   Viet Nam  Virgin Islands, British  Virgin Islands, U.s.  Wallis and Futuna  \\\n",
       "0         0                        0                     0                  0   \n",
       "1         0                        0                     0                  0   \n",
       "2         0                        0                     0                  0   \n",
       "3         0                        0                     0                  0   \n",
       "4         0                        0                     0                  0   \n",
       "\n",
       "   Western Sahara  Yemen  Zambia  Zimbabwe  Male  Female  \n",
       "0               0      0       0         0     0       1  \n",
       "1               0      0       0         0     1       0  \n",
       "2               0      0       0         0     1       0  \n",
       "3               0      0       0         0     1       0  \n",
       "4               0      0       0         0     1       0  \n",
       "\n",
       "[5 rows x 246 columns]"
      ]
     },
     "execution_count": 244,
     "metadata": {},
     "output_type": "execute_result"
    }
   ],
   "source": [
    "profiles.head()"
   ]
  },
  {
   "cell_type": "code",
   "execution_count": 245,
   "metadata": {
    "collapsed": true
   },
   "outputs": [],
   "source": [
    "profiles.to_pickle('../data/profiles_Junge.pkl')"
   ]
  },
  {
   "cell_type": "code",
   "execution_count": 306,
   "metadata": {
    "collapsed": false
   },
   "outputs": [],
   "source": [
    "profiles = pd.read_pickle('../data/profiles_Junge.pkl')"
   ]
  },
  {
   "cell_type": "code",
   "execution_count": 253,
   "metadata": {
    "collapsed": false
   },
   "outputs": [],
   "source": [
    "columns_to_cluster = profiles.columns[4:]"
   ]
  },
  {
   "cell_type": "code",
   "execution_count": 256,
   "metadata": {
    "collapsed": false
   },
   "outputs": [],
   "source": [
    "from sklearn.cluster import MiniBatchKMeans"
   ]
  },
  {
   "cell_type": "code",
   "execution_count": 288,
   "metadata": {
    "collapsed": true
   },
   "outputs": [],
   "source": [
    "clusterer = MiniBatchKMeans(n_clusters=100)"
   ]
  },
  {
   "cell_type": "code",
   "execution_count": 289,
   "metadata": {
    "collapsed": false
   },
   "outputs": [],
   "source": [
    "predicted_clusters = clusterer.fit_predict(profiles[columns_to_cluster])"
   ]
  },
  {
   "cell_type": "code",
   "execution_count": 290,
   "metadata": {
    "collapsed": false
   },
   "outputs": [],
   "source": [
    "user_cluster = pd.DataFrame(np.vstack([profiles['user'],predicted_clusters]).T)"
   ]
  },
  {
   "cell_type": "code",
   "execution_count": 291,
   "metadata": {
    "collapsed": false
   },
   "outputs": [],
   "source": [
    "user_cluster.columns = ['user','cluster']"
   ]
  },
  {
   "cell_type": "code",
   "execution_count": 292,
   "metadata": {
    "collapsed": false
   },
   "outputs": [
    {
     "data": {
      "text/html": [
       "<div>\n",
       "<table border=\"1\" class=\"dataframe\">\n",
       "  <thead>\n",
       "    <tr style=\"text-align: right;\">\n",
       "      <th></th>\n",
       "      <th>user</th>\n",
       "      <th>cluster</th>\n",
       "    </tr>\n",
       "  </thead>\n",
       "  <tbody>\n",
       "    <tr>\n",
       "      <th>0</th>\n",
       "      <td>fa40b43298ba3f8aa52e8e8863faf2e2171e0b5d</td>\n",
       "      <td>68</td>\n",
       "    </tr>\n",
       "    <tr>\n",
       "      <th>1</th>\n",
       "      <td>5909125332c108365a26ccf0ee62636eee08215c</td>\n",
       "      <td>0</td>\n",
       "    </tr>\n",
       "    <tr>\n",
       "      <th>2</th>\n",
       "      <td>d1867cbda35e0d48e9a8390d9f5e079c9d99ea96</td>\n",
       "      <td>90</td>\n",
       "    </tr>\n",
       "    <tr>\n",
       "      <th>3</th>\n",
       "      <td>63268cce0d68127729890c1691f62d5be5abd87c</td>\n",
       "      <td>72</td>\n",
       "    </tr>\n",
       "    <tr>\n",
       "      <th>4</th>\n",
       "      <td>02871cd952d607ba69b64e2e107773012c708113</td>\n",
       "      <td>88</td>\n",
       "    </tr>\n",
       "  </tbody>\n",
       "</table>\n",
       "</div>"
      ],
      "text/plain": [
       "                                       user cluster\n",
       "0  fa40b43298ba3f8aa52e8e8863faf2e2171e0b5d      68\n",
       "1  5909125332c108365a26ccf0ee62636eee08215c       0\n",
       "2  d1867cbda35e0d48e9a8390d9f5e079c9d99ea96      90\n",
       "3  63268cce0d68127729890c1691f62d5be5abd87c      72\n",
       "4  02871cd952d607ba69b64e2e107773012c708113      88"
      ]
     },
     "execution_count": 292,
     "metadata": {},
     "output_type": "execute_result"
    }
   ],
   "source": [
    "user_cluster.head()"
   ]
  },
  {
   "cell_type": "code",
   "execution_count": 295,
   "metadata": {
    "collapsed": false
   },
   "outputs": [],
   "source": [
    "# train_merge=train_merge.drop(['male','female','vec'],axis=1)"
   ]
  },
  {
   "cell_type": "code",
   "execution_count": 296,
   "metadata": {
    "collapsed": false
   },
   "outputs": [],
   "source": [
    "# Now the cluster is connected to the user\n",
    "\n",
    "train_merge = train_merge.merge(user_cluster,on='user')"
   ]
  },
  {
   "cell_type": "code",
   "execution_count": 297,
   "metadata": {
    "collapsed": false
   },
   "outputs": [],
   "source": [
    "from sklearn.ensemble import RandomForestRegressor"
   ]
  },
  {
   "cell_type": "code",
   "execution_count": 298,
   "metadata": {
    "collapsed": true
   },
   "outputs": [],
   "source": [
    "RF = RandomForestRegressor()"
   ]
  },
  {
   "cell_type": "code",
   "execution_count": 312,
   "metadata": {
    "collapsed": false
   },
   "outputs": [
    {
     "data": {
      "text/html": [
       "<div>\n",
       "<table border=\"1\" class=\"dataframe\">\n",
       "  <thead>\n",
       "    <tr style=\"text-align: right;\">\n",
       "      <th></th>\n",
       "      <th>user</th>\n",
       "      <th>artist</th>\n",
       "      <th>plays</th>\n",
       "      <th>sex</th>\n",
       "      <th>age</th>\n",
       "      <th>country</th>\n",
       "      <th>cluster</th>\n",
       "    </tr>\n",
       "  </thead>\n",
       "  <tbody>\n",
       "    <tr>\n",
       "      <th>0</th>\n",
       "      <td>eb1c57ddc9e0e2d005169d3a1a96e8dd95e3af03</td>\n",
       "      <td>5a8e07d5-d932-4484-a7f7-e700793a9c94</td>\n",
       "      <td>554</td>\n",
       "      <td>m</td>\n",
       "      <td>25</td>\n",
       "      <td>Sweden</td>\n",
       "      <td>73</td>\n",
       "    </tr>\n",
       "    <tr>\n",
       "      <th>1</th>\n",
       "      <td>eb1c57ddc9e0e2d005169d3a1a96e8dd95e3af03</td>\n",
       "      <td>f83781c8-64f9-4657-85bd-51f74d195cfd</td>\n",
       "      <td>1217</td>\n",
       "      <td>m</td>\n",
       "      <td>25</td>\n",
       "      <td>Sweden</td>\n",
       "      <td>73</td>\n",
       "    </tr>\n",
       "    <tr>\n",
       "      <th>2</th>\n",
       "      <td>eb1c57ddc9e0e2d005169d3a1a96e8dd95e3af03</td>\n",
       "      <td>c485632c-b784-4ee9-8ea1-c5fb365681fc</td>\n",
       "      <td>509</td>\n",
       "      <td>m</td>\n",
       "      <td>25</td>\n",
       "      <td>Sweden</td>\n",
       "      <td>73</td>\n",
       "    </tr>\n",
       "    <tr>\n",
       "      <th>3</th>\n",
       "      <td>eb1c57ddc9e0e2d005169d3a1a96e8dd95e3af03</td>\n",
       "      <td>f1b525b4-ddd0-4d39-85b2-d8fa26a7f279</td>\n",
       "      <td>2497</td>\n",
       "      <td>m</td>\n",
       "      <td>25</td>\n",
       "      <td>Sweden</td>\n",
       "      <td>73</td>\n",
       "    </tr>\n",
       "    <tr>\n",
       "      <th>4</th>\n",
       "      <td>eb1c57ddc9e0e2d005169d3a1a96e8dd95e3af03</td>\n",
       "      <td>88679ca2-2080-4cea-8669-41ab4b8d865d</td>\n",
       "      <td>377</td>\n",
       "      <td>m</td>\n",
       "      <td>25</td>\n",
       "      <td>Sweden</td>\n",
       "      <td>73</td>\n",
       "    </tr>\n",
       "  </tbody>\n",
       "</table>\n",
       "</div>"
      ],
      "text/plain": [
       "                                       user  \\\n",
       "0  eb1c57ddc9e0e2d005169d3a1a96e8dd95e3af03   \n",
       "1  eb1c57ddc9e0e2d005169d3a1a96e8dd95e3af03   \n",
       "2  eb1c57ddc9e0e2d005169d3a1a96e8dd95e3af03   \n",
       "3  eb1c57ddc9e0e2d005169d3a1a96e8dd95e3af03   \n",
       "4  eb1c57ddc9e0e2d005169d3a1a96e8dd95e3af03   \n",
       "\n",
       "                                 artist  plays sex  age country cluster  \n",
       "0  5a8e07d5-d932-4484-a7f7-e700793a9c94    554   m   25  Sweden      73  \n",
       "1  f83781c8-64f9-4657-85bd-51f74d195cfd   1217   m   25  Sweden      73  \n",
       "2  c485632c-b784-4ee9-8ea1-c5fb365681fc    509   m   25  Sweden      73  \n",
       "3  f1b525b4-ddd0-4d39-85b2-d8fa26a7f279   2497   m   25  Sweden      73  \n",
       "4  88679ca2-2080-4cea-8669-41ab4b8d865d    377   m   25  Sweden      73  "
      ]
     },
     "execution_count": 312,
     "metadata": {},
     "output_type": "execute_result"
    }
   ],
   "source": [
    "train_merge.head()"
   ]
  },
  {
   "cell_type": "code",
   "execution_count": 322,
   "metadata": {
    "collapsed": false,
    "scrolled": true
   },
   "outputs": [
    {
     "data": {
      "text/plain": [
       "RandomForestRegressor(bootstrap=True, criterion='mse', max_depth=None,\n",
       "           max_features='auto', max_leaf_nodes=None, min_samples_leaf=1,\n",
       "           min_samples_split=2, min_weight_fraction_leaf=0.0,\n",
       "           n_estimators=10, n_jobs=1, oob_score=False, random_state=None,\n",
       "           verbose=0, warm_start=False)"
      ]
     },
     "execution_count": 322,
     "metadata": {},
     "output_type": "execute_result"
    }
   ],
   "source": [
    "RF.fit(train_merge['cluster'][:,None], train_merge['plays'])"
   ]
  },
  {
   "cell_type": "code",
   "execution_count": 324,
   "metadata": {
    "collapsed": false
   },
   "outputs": [
    {
     "data": {
      "text/plain": [
       "array([ 295.82279208,  295.82279208,  295.82279208, ...,  193.46444284,\n",
       "        193.46444284,  193.46444284])"
      ]
     },
     "execution_count": 324,
     "metadata": {},
     "output_type": "execute_result"
    }
   ],
   "source": [
    "RF.predict(train_merge['cluster'][:,None])"
   ]
  },
  {
   "cell_type": "code",
   "execution_count": 325,
   "metadata": {
    "collapsed": false
   },
   "outputs": [
    {
     "data": {
      "text/plain": [
       "732.5"
      ]
     },
     "execution_count": 325,
     "metadata": {},
     "output_type": "execute_result"
    }
   ],
   "source": [
    "np.mean(train_merge['plays'][train_merge['user']=='eb1c57ddc9e0e2d005169d3a1a96e8dd95e3af03'])"
   ]
  },
  {
   "cell_type": "code",
   "execution_count": null,
   "metadata": {
    "collapsed": true
   },
   "outputs": [],
   "source": []
  },
  {
   "cell_type": "code",
   "execution_count": 2,
   "metadata": {
    "collapsed": true
   },
   "outputs": [],
   "source": []
  },
  {
   "cell_type": "markdown",
   "metadata": {},
   "source": [
    "# Don't regenerate the notebook, just load this:"
   ]
  },
  {
   "cell_type": "code",
   "execution_count": 3,
   "metadata": {
    "collapsed": false
   },
   "outputs": [],
   "source": [
    "profiles = pd.read_pickle('../data/profiles_Junge.pkl')"
   ]
  },
  {
   "cell_type": "code",
   "execution_count": null,
   "metadata": {
    "collapsed": true
   },
   "outputs": [],
   "source": []
  }
 ],
 "metadata": {
  "kernelspec": {
   "display_name": "Python 2",
   "language": "python",
   "name": "python2"
  },
  "language_info": {
   "codemirror_mode": {
    "name": "ipython",
    "version": 2
   },
   "file_extension": ".py",
   "mimetype": "text/x-python",
   "name": "python",
   "nbconvert_exporter": "python",
   "pygments_lexer": "ipython2",
   "version": "2.7.10"
  }
 },
 "nbformat": 4,
 "nbformat_minor": 0
}
