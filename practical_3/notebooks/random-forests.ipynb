{
 "cells": [
  {
   "cell_type": "code",
   "execution_count": 1,
   "metadata": {
    "collapsed": true
   },
   "outputs": [],
   "source": [
    "import numpy as np\n",
    "import pandas as pd\n",
    "from sklearn.ensemble import RandomForestRegressor"
   ]
  },
  {
   "cell_type": "code",
   "execution_count": 2,
   "metadata": {
    "collapsed": false
   },
   "outputs": [],
   "source": [
    "artists_df = pd.read_csv('../output/artists_with_genres_single_stars.csv')"
   ]
  },
  {
   "cell_type": "code",
   "execution_count": 3,
   "metadata": {
    "collapsed": false
   },
   "outputs": [],
   "source": [
    "artists_df = artists_df.drop(['Unnamed: 0'], axis=1)"
   ]
  },
  {
   "cell_type": "code",
   "execution_count": 4,
   "metadata": {
    "collapsed": true
   },
   "outputs": [],
   "source": [
    "genres_list = sorted(list(pd.unique(artists_df['genres'])))\n",
    "def genres_num_gen(row, genres_list=genres_list):\n",
    "    genre = row['genres']\n",
    "    return genres_list.index(genre)\n",
    "artists_df['genre_num'] = artists_df.apply(genres_num_gen, axis=1)"
   ]
  },
  {
   "cell_type": "markdown",
   "metadata": {},
   "source": [
    "Merging user_profiles with train and artists"
   ]
  },
  {
   "cell_type": "code",
   "execution_count": 5,
   "metadata": {
    "collapsed": true
   },
   "outputs": [],
   "source": [
    "train = pd.read_csv('../data/train.csv')\n",
    "profiles = pd.read_csv('../data/profiles.csv')"
   ]
  },
  {
   "cell_type": "code",
   "execution_count": 6,
   "metadata": {
    "collapsed": false
   },
   "outputs": [],
   "source": [
    "countries_list = sorted(list(pd.unique(profiles['country'])))\n",
    "genders = sorted(list(pd.unique(profiles['sex'])))\n",
    "age_mean = np.mean(profiles['age'])\n",
    "def country_num_gen(row, countries_list=countries_list):\n",
    "    country = row['country']\n",
    "    return countries_list.index(country)\n",
    "def gender_num_gen(row, genders=genders):\n",
    "    sex = row['sex']\n",
    "    return genders.index(sex)\n",
    "def age_num_gen(row, age_mean=age_mean):\n",
    "    lower_bound = 0\n",
    "    upper_bound = 150\n",
    "    age = row['age']\n",
    "    if age < lower_bound or age > upper_bound:\n",
    "        age = age_mean/upper_bound\n",
    "    elif str(age) == 'nan':\n",
    "        age = age_mean/upper_bound\n",
    "    else:\n",
    "        age = age/upper_bound\n",
    "    return age\n",
    "    \n",
    "profiles['country_num'] = profiles.apply(country_num_gen, axis=1)\n",
    "profiles['gender_num'] = profiles.apply(gender_num_gen, axis=1)\n",
    "profiles['age_num'] = profiles.apply(age_num_gen, axis=1)"
   ]
  },
  {
   "cell_type": "code",
   "execution_count": 7,
   "metadata": {
    "collapsed": true
   },
   "outputs": [],
   "source": [
    "train_merge = train.merge(profiles,left_on='user', right_on='user', how='inner')\n",
    "train_merge = train_merge.merge(artists_df,left_on='artist', \\\n",
    "                                right_on='artist', how='inner')"
   ]
  },
  {
   "cell_type": "code",
   "execution_count": 8,
   "metadata": {
    "collapsed": false,
    "scrolled": true
   },
   "outputs": [
    {
     "data": {
      "text/html": [
       "<div>\n",
       "<table border=\"1\" class=\"dataframe\">\n",
       "  <thead>\n",
       "    <tr style=\"text-align: right;\">\n",
       "      <th></th>\n",
       "      <th>user</th>\n",
       "      <th>artist</th>\n",
       "      <th>plays</th>\n",
       "      <th>sex</th>\n",
       "      <th>age</th>\n",
       "      <th>country</th>\n",
       "      <th>country_num</th>\n",
       "      <th>gender_num</th>\n",
       "      <th>age_num</th>\n",
       "      <th>name</th>\n",
       "      <th>genres</th>\n",
       "      <th>stars</th>\n",
       "      <th>genre_num</th>\n",
       "    </tr>\n",
       "  </thead>\n",
       "  <tbody>\n",
       "    <tr>\n",
       "      <th>0</th>\n",
       "      <td>eb1c57ddc9e0e2d005169d3a1a96e8dd95e3af03</td>\n",
       "      <td>5a8e07d5-d932-4484-a7f7-e700793a9c94</td>\n",
       "      <td>554</td>\n",
       "      <td>m</td>\n",
       "      <td>25</td>\n",
       "      <td>Sweden</td>\n",
       "      <td>204</td>\n",
       "      <td>2</td>\n",
       "      <td>0.166667</td>\n",
       "      <td>Robyn</td>\n",
       "      <td>european</td>\n",
       "      <td>4.65</td>\n",
       "      <td>168</td>\n",
       "    </tr>\n",
       "    <tr>\n",
       "      <th>1</th>\n",
       "      <td>0ff4166398f035b5fcb8824cc16c8daeb4643911</td>\n",
       "      <td>5a8e07d5-d932-4484-a7f7-e700793a9c94</td>\n",
       "      <td>169</td>\n",
       "      <td>f</td>\n",
       "      <td>18</td>\n",
       "      <td>United Kingdom</td>\n",
       "      <td>224</td>\n",
       "      <td>1</td>\n",
       "      <td>0.120000</td>\n",
       "      <td>Robyn</td>\n",
       "      <td>european</td>\n",
       "      <td>4.65</td>\n",
       "      <td>168</td>\n",
       "    </tr>\n",
       "    <tr>\n",
       "      <th>2</th>\n",
       "      <td>b3f9fa56429c3b7fd348c471452e65747ba9ed50</td>\n",
       "      <td>5a8e07d5-d932-4484-a7f7-e700793a9c94</td>\n",
       "      <td>292</td>\n",
       "      <td>m</td>\n",
       "      <td>23</td>\n",
       "      <td>United Kingdom</td>\n",
       "      <td>224</td>\n",
       "      <td>2</td>\n",
       "      <td>0.153333</td>\n",
       "      <td>Robyn</td>\n",
       "      <td>european</td>\n",
       "      <td>4.65</td>\n",
       "      <td>168</td>\n",
       "    </tr>\n",
       "    <tr>\n",
       "      <th>3</th>\n",
       "      <td>0ffff52af79555e8fe72289c429b2fdfc8ea684b</td>\n",
       "      <td>5a8e07d5-d932-4484-a7f7-e700793a9c94</td>\n",
       "      <td>92</td>\n",
       "      <td>m</td>\n",
       "      <td>26</td>\n",
       "      <td>Germany</td>\n",
       "      <td>79</td>\n",
       "      <td>2</td>\n",
       "      <td>0.173333</td>\n",
       "      <td>Robyn</td>\n",
       "      <td>european</td>\n",
       "      <td>4.65</td>\n",
       "      <td>168</td>\n",
       "    </tr>\n",
       "    <tr>\n",
       "      <th>4</th>\n",
       "      <td>985253be0dc82ffa15a0ad006d0284aa4b7d1e3d</td>\n",
       "      <td>5a8e07d5-d932-4484-a7f7-e700793a9c94</td>\n",
       "      <td>159</td>\n",
       "      <td>m</td>\n",
       "      <td>19</td>\n",
       "      <td>Sweden</td>\n",
       "      <td>204</td>\n",
       "      <td>2</td>\n",
       "      <td>0.126667</td>\n",
       "      <td>Robyn</td>\n",
       "      <td>european</td>\n",
       "      <td>4.65</td>\n",
       "      <td>168</td>\n",
       "    </tr>\n",
       "  </tbody>\n",
       "</table>\n",
       "</div>"
      ],
      "text/plain": [
       "                                       user  \\\n",
       "0  eb1c57ddc9e0e2d005169d3a1a96e8dd95e3af03   \n",
       "1  0ff4166398f035b5fcb8824cc16c8daeb4643911   \n",
       "2  b3f9fa56429c3b7fd348c471452e65747ba9ed50   \n",
       "3  0ffff52af79555e8fe72289c429b2fdfc8ea684b   \n",
       "4  985253be0dc82ffa15a0ad006d0284aa4b7d1e3d   \n",
       "\n",
       "                                 artist  plays sex  age         country  \\\n",
       "0  5a8e07d5-d932-4484-a7f7-e700793a9c94    554   m   25          Sweden   \n",
       "1  5a8e07d5-d932-4484-a7f7-e700793a9c94    169   f   18  United Kingdom   \n",
       "2  5a8e07d5-d932-4484-a7f7-e700793a9c94    292   m   23  United Kingdom   \n",
       "3  5a8e07d5-d932-4484-a7f7-e700793a9c94     92   m   26         Germany   \n",
       "4  5a8e07d5-d932-4484-a7f7-e700793a9c94    159   m   19          Sweden   \n",
       "\n",
       "   country_num  gender_num   age_num   name    genres  stars  genre_num  \n",
       "0          204           2  0.166667  Robyn  european   4.65        168  \n",
       "1          224           1  0.120000  Robyn  european   4.65        168  \n",
       "2          224           2  0.153333  Robyn  european   4.65        168  \n",
       "3           79           2  0.173333  Robyn  european   4.65        168  \n",
       "4          204           2  0.126667  Robyn  european   4.65        168  "
      ]
     },
     "execution_count": 8,
     "metadata": {},
     "output_type": "execute_result"
    }
   ],
   "source": [
    "train_merge.head()"
   ]
  },
  {
   "cell_type": "code",
   "execution_count": 9,
   "metadata": {
    "collapsed": false
   },
   "outputs": [],
   "source": [
    "train_set = train_merge[['gender_num','age_num','country_num','genre_num','stars']]\n",
    "response = train_merge['plays']"
   ]
  },
  {
   "cell_type": "code",
   "execution_count": 10,
   "metadata": {
    "collapsed": true
   },
   "outputs": [],
   "source": [
    "RF =  RandomForestRegressor(n_estimators=50, n_jobs=4)"
   ]
  },
  {
   "cell_type": "code",
   "execution_count": 11,
   "metadata": {
    "collapsed": false
   },
   "outputs": [
    {
     "data": {
      "text/plain": [
       "RandomForestRegressor(bootstrap=True, criterion='mse', max_depth=None,\n",
       "           max_features='auto', max_leaf_nodes=None, min_samples_leaf=1,\n",
       "           min_samples_split=2, min_weight_fraction_leaf=0.0,\n",
       "           n_estimators=50, n_jobs=4, oob_score=False, random_state=None,\n",
       "           verbose=0, warm_start=False)"
      ]
     },
     "execution_count": 11,
     "metadata": {},
     "output_type": "execute_result"
    }
   ],
   "source": [
    "RF.fit(train_set,response)"
   ]
  },
  {
   "cell_type": "markdown",
   "metadata": {},
   "source": [
    "Running on a test set"
   ]
  },
  {
   "cell_type": "code",
   "execution_count": 12,
   "metadata": {
    "collapsed": true
   },
   "outputs": [],
   "source": [
    "test = pd.read_csv('../data/test.csv')\n",
    "test_merge = test.merge(profiles,left_on='user', right_on='user', how='inner')\n",
    "test_merge = test_merge.merge(artists_df,left_on='artist', \\\n",
    "                                right_on='artist', how='inner')"
   ]
  },
  {
   "cell_type": "code",
   "execution_count": 13,
   "metadata": {
    "collapsed": false
   },
   "outputs": [],
   "source": [
    "test_pred = RF.predict(test_merge[['gender_num','age_num',\\\n",
    "                                   'country_num','genre_num','stars']])"
   ]
  },
  {
   "cell_type": "code",
   "execution_count": 14,
   "metadata": {
    "collapsed": false
   },
   "outputs": [],
   "source": [
    "test_merge['plays'] = test_pred"
   ]
  },
  {
   "cell_type": "code",
   "execution_count": 15,
   "metadata": {
    "collapsed": false
   },
   "outputs": [],
   "source": [
    "out = test_merge[['Id','plays']]\n",
    "out = out.set_index('Id')\n",
    "out.to_csv('../output/submission_RF_stars.csv')"
   ]
  },
  {
   "cell_type": "code",
   "execution_count": null,
   "metadata": {
    "collapsed": true
   },
   "outputs": [],
   "source": []
  }
 ],
 "metadata": {
  "kernelspec": {
   "display_name": "Python 2",
   "language": "python",
   "name": "python2"
  },
  "language_info": {
   "codemirror_mode": {
    "name": "ipython",
    "version": 2
   },
   "file_extension": ".py",
   "mimetype": "text/x-python",
   "name": "python",
   "nbconvert_exporter": "python",
   "pygments_lexer": "ipython2",
   "version": "2.7.11"
  }
 },
 "nbformat": 4,
 "nbformat_minor": 0
}
