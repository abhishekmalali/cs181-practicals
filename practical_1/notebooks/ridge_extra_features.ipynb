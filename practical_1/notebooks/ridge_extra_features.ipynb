{
 "cells": [
  {
   "cell_type": "markdown",
   "metadata": {},
   "source": [
    "This Notebook is for testing ridge regression against a dataset and validate using the performance against standard RF Regressor."
   ]
  },
  {
   "cell_type": "code",
   "execution_count": 1,
   "metadata": {
    "collapsed": true
   },
   "outputs": [],
   "source": [
    "import pandas as pd\n",
    "import numpy as np\n",
    "import matplotlib.pyplot as plt\n",
    "%matplotlib inline\n",
    "from sklearn.linear_model import LinearRegression\n",
    "from sklearn.ensemble import RandomForestRegressor\n",
    "from sklearn.cross_validation import train_test_split\n",
    "from harness import RMSE"
   ]
  },
  {
   "cell_type": "markdown",
   "metadata": {},
   "source": [
    "#### Exploratory data analysis"
   ]
  },
  {
   "cell_type": "code",
   "execution_count": 29,
   "metadata": {
    "collapsed": false
   },
   "outputs": [
    {
     "data": {
      "text/plain": [
       "array([['c1ccc(o1)-c1ccc(s1)-c1cnc(-c2scc3[se]ccc23)c2nsnc12', 1.19],\n",
       "       ['C1=CC=C(C1)c1cc2ncc3c4[SiH2]C=Cc4ncc3c2c2=C[SiH2]C=c12', 1.6],\n",
       "       ['[nH]1c-2c([SiH2]c3cc(-c4scc5C=CCc45)c4nsnc4c-23)c2ccccc12', 1.49],\n",
       "       ['[nH]1c2-c3occc3Cc2c2c1cc(-c1cccc3=C[SiH2]C=c13)c1=C[SiH2]C=c21',\n",
       "        1.36],\n",
       "       ['c1cnc2c3oc4cc(-c5ncncn5)c5nsnc5c4c3c3cocc3c2c1', 1.98],\n",
       "       ['C1=Cc2cnc3cc4cc(-c5scc6[nH]ccc56)c5ccccc5c4cc3c2[SiH2]1', 1.81],\n",
       "       ['c1ncc(s1)-c1cnc2c(c1)oc1c2ccc2ccccc12', 2.91],\n",
       "       ['c1sc(-c2ccc3c(c2)sc2c3c3=CCC=c3c3cccnc23)c2[se]ccc12', 2.17],\n",
       "       ['c1ccc(o1)-c1cc2cc3cc4c5c[nH]cc5ccc4cc3cc2o1', 2.19],\n",
       "       ['[nH]1ccc2c3c[nH]cc3c3cc(-c4cncs4)c4=CCC=c4c3c12', 1.71],\n",
       "       ['[nH]1c(cc2c3cocc3c3c(ccc4ccc5=CCC=c5c34)c12)-c1cccs1', 2.08],\n",
       "       ['c1cc2oc3c(sc4cc([se]c34)-c3cncc4nsnc34)c2o1', 1.42],\n",
       "       ['[nH]1c(cc2cnc3cc4ccoc4cc3c12)-c1ccccc1', 2.96],\n",
       "       ['[nH]1ccc2ccc3c4ncc(cc4[nH]c3c12)-c1scc2occc12', 2.59],\n",
       "       ['c1sc(-c2sc(-c3sc(-c4ncncn4)c4nccnc34)c3cc[nH]c23)c2ccCc12', 1.14],\n",
       "       ['c1cc2ncc(cc2s1)-c1cc2c(ccc3ccccc23)c2c[nH]cc12', 2.54],\n",
       "       ['c1ccc(-c2cc3oc4ccc5c[nH]cc5c4c3cn2)c2cscc12', 2.37],\n",
       "       ['[nH]1c2-c3ncc(cc3Cc2c2[se]ccc12)-c1scc2ccoc12', 2.4],\n",
       "       ['c1cnc(s1)-c1ccc(cc1)-c1sc(c2Cccc12)-c1scc2occc12', 2.08],\n",
       "       ['c1[SiH2]c(cc1)-c1sc(-c2Cc(cc2)-c2cncc3nsnc23)c2[SiH2]ccc12', 1.34],\n",
       "       ['c1cc2c(s1)c1sc3cc(cnc3c1c1=CCC=c21)-c1scc2C=C[SiH2]c12', 1.98],\n",
       "       ['c1cnc(s1)-c1cnc(-c2ncc(s2)-c2scc3ccsc23)c2nsnc12', 1.35],\n",
       "       ['c1ccc(cn1)C1=Cc2c(C1)c1ncc3ccc4c[nH]cc4c3c1c1c[nH]cc21', 2.17],\n",
       "       ['[nH]1cccc1-c1cnc2c(c1)c1cocc1c1c3sccc3ccc21', 2.68],\n",
       "       ['[nH]1c2cc(-c3scc4nccnc34)c3nsnc3c2c2[se]c3ccc4cocc4c3c12', 1.62],\n",
       "       ['c1Cc(cc1)-c1sc(-c2sc(-c3scc4ccoc34)c3nccnc23)c2ccCc12', 1.22],\n",
       "       ['c1Cc-2c([SiH2]c-3c-2[s]-c2ccc4ccccc4c-32)-c1', 2.43],\n",
       "       ['[nH]1c2cc(-c3scc4[SiH2]C=Cc34)c3c[nH]cc3c2c2c1c1ccccc1c1=CCC=c21',\n",
       "        2.15],\n",
       "       ['c1sc(-c2[SiH2]c(cc2)-c2ccc(nc2)-c2scc3[se]ccc23)c2[SiH2]ccc12',\n",
       "        1.7],\n",
       "       ['c1cc2cc3c4c[nH]cc4c(cc3cc2o1)-c1cccc2=C[SiH2]C=c12', 1.77],\n",
       "       ['c1Cc(cc1)-c1sc(-c2sc(c3[SiH2]ccc23)-c2ccccc2)c2ccoc12', 1.84],\n",
       "       ['c1ccc2c(ccc3cc4cc([se]c4cc23)-c2cccc3c[nH]cc23)c1', 2.49],\n",
       "       ['[nH]1c(ccc1-c1cccc2c[SiH2]cc12)-c1ccc(nc1)-c1scc2nccnc12', 1.5],\n",
       "       ['c1sc(-c2cc3c(s2)c2ccc4ccncc4c2c2ccccc32)c2ccsc12', 2.24],\n",
       "       ['C1=Cc2cc3c(cc2[SiH2]1)c1cnc(cc1c1=C[SiH2]C=c31)-c1cccnc1', 2.19],\n",
       "       ['c1sc(-c2cc3cc4cnc5ccc6cocc6c5c4cc3[se]2)c2[SiH2]C=Cc12', 2.18],\n",
       "       ['[nH]1cccc1-c1cc2ncc3c4c5cscc5ccc4c4=C[SiH2]C=c4c3c2s1', 1.69],\n",
       "       ['c1sc(-c2sc(-c3ncc(s3)-c3cccc4c[SiH2]cc34)c3Cccc23)c2cc[nH]c12',\n",
       "        1.29],\n",
       "       ['[nH]1c(cc2Cc3c(cnc4ccc5cocc5c34)-c12)-c1cccnc1', 2.51],\n",
       "       ['C1=Cc2ncc3c4sc(cc4c4=C[SiH2]C=c4c3c2C1)-c1scc2ccoc12', 1.81],\n",
       "       ['c1cnc(s1)-c1cc2c3cocc3c3c4ccccc4c4ccccc4c3c2o1', 2.21],\n",
       "       ['[nH]1c(cc2c1c1sc3cc[se]c3c1c1=C[SiH2]C=c21)-c1cccs1', 1.76],\n",
       "       ['C1=Cc2[se]c3c4sc(cc4c4ccccc4c3c2C1)-c1scc2[se]ccc12', 2.07],\n",
       "       ['C1=Cc2ncc3c(sc4cc(-c5cccc6cscc56)c5=C[SiH2]C=c5c34)c2[SiH2]1',\n",
       "        1.74],\n",
       "       ['c1ccc(s1)-c1sc(-c2ccc(-c3cccc4cscc34)c3cCcc23)c2occc12', 1.59],\n",
       "       ['c1cc2c3c[nH]cc3c3c4cnc(cc4c4cscc4c3c2[se]1)-c1scc2[se]ccc12', 2.01],\n",
       "       ['c1sc(-c2ncc(s2)-c2ccc(o2)-c2cccc3c[nH]cc23)c2nccnc12', 1.29],\n",
       "       ['c1cc2c3nsnc3c3C=C([SiH2]c3c2[se]1)c1ncncn1', 2.05],\n",
       "       ['C1=Cc2c(C1)c1cnc3cc(sc3c1c1ccccc21)-c1scc2C=C[SiH2]c12', 2.38],\n",
       "       ['c1sc(-c2cc3cc4[se]c5ccc6cocc6c5c4cc3cn2)c2sccc12', 2.01],\n",
       "       ['c1ccc(o1)-c1cc2c3cscc3c3c(cnc4cccnc34)c2cn1', 2.41],\n",
       "       ['c1cc2sc3cc4cc(ncc4cc3c2[se]1)-c1cccc2cocc12', 2.1],\n",
       "       ['C1=Cc2[se]c3c(c2C1)c1=C[SiH2]C=c1c1cc(ncc31)-c1scc2CC=Cc12', 1.72],\n",
       "       ['c1ccc(s1)-c1sc(-c2ccc(cn2)-c2cncc3nsnc23)c2[se]ccc12', 1.34],\n",
       "       ['c1cnc(s1)-c1cc2cc3[se]c4ccc5=CCC=c5c4c3cc2c2nsnc12', 1.79],\n",
       "       ['[nH]1cccc1-c1cc2c3cscc3c3c4[nH]ccc4[nH]c3c2[se]1', 2.18],\n",
       "       ['c1ccc([se]1)-c1cc2ncc3c(cnc4ccc5cscc5c34)c2s1', 2.39],\n",
       "       ['[nH]1ccc2c3nsnc3c3c4sc(cc4cnc3c12)-c1cccc2c[nH]cc12', 2.12],\n",
       "       ['c1cc2ncc3c([se]c4cc(-c5scc6ccoc56)c5cocc5c34)c2[se]1', 2.09],\n",
       "       ['[nH]1ccc2[se]c3c(c12)c1=CCC=c1c1cc(-c2scc4ccoc24)c2=C[SiH2]C=c2c31',\n",
       "        1.16],\n",
       "       ['c1ccc(cn1)-c1ccc2c(c1)[se]c1c2c2nsnc2c2ccc3=C[SiH2]C=c3c12', 1.59],\n",
       "       ['c1cc2[SiH2]C(=Cc2s1)c1cc2c3c[nH]cc3ccc2c2=C[SiH2]C=c12', 1.55],\n",
       "       ['[nH]1cccc1-c1ccc(-c2ccc(o2)-c2scc3[se]ccc23)c2nsnc12', 1.32],\n",
       "       ['c1cc2cc3c4cocc4c4cc(cnc4c3cc2o1)-c1cccc2=CCC=c12', 2.13],\n",
       "       ['c1cc2ncc3c4[se]c(cc4ncc3c2s1)-c1scc2sccc12', 2.32],\n",
       "       ['c1cnc(s1)-c1ccc(s1)-c1sc(c2[SiH2]ccc12)-c1scc2ccsc12', 2.05],\n",
       "       ['c1sc(-c2ncc(s2)-c2ccc(-c3cccnc3)c3cocc23)c2Cccc12', 2.15],\n",
       "       ['[nH]1c2C=CCc2c2cnc3cc(cnc3c12)-c1ccccc1', 2.86],\n",
       "       ['c1ccc(s1)-c1cc2oc3c(c4cscc4c4ccc5nsnc5c34)c2c2cocc12', 1.66],\n",
       "       ['c1cc2ccc3c4ncc(cc4[se]c3c2cn1)-c1cccc2cscc12', 2.6],\n",
       "       ['c1Cc(cc1)-c1ccc(-c2sc(-c3cccc4c[nH]cc34)c3sccc23)c2cocc12', 1.72],\n",
       "       ['c1ccc([se]1)-c1cc2ncc3c(c2s1)c1=CCC=c1c1ccc2=C[SiH2]C=c2c31', 1.48],\n",
       "       ['[nH]1ccc2[nH]c3cc4cc(cnc4cc3c12)-c1cncs1', 2.41],\n",
       "       ['c1cc2sc3c(c2o1)c1=CCC=c1c1cc(ncc31)-c1cccs1', 2.18],\n",
       "       ['[nH]1ccc2[SiH2]c3c(-c12)c1c[nH]cc1c1cc(ncc31)C1=CC=CC1', 2.15],\n",
       "       ['c1ncc(s1)-c1ccc([se]1)-c1ncc(-c2cccc3cCcc23)c2nsnc12', 1.21],\n",
       "       ['[nH]1c2ccsc2c2c3c[nH]cc3c3cc(-c4scc5nccnc45)c4nsnc4c3c12', 1.29],\n",
       "       ['[nH]1c(cc2c3cscc3c3c4occc4sc3c12)-c1scc2[se]ccc12', 2.14],\n",
       "       ['C1=Cc2[se]c3c(ncc4cc(ccc34)-c3scc4C=CCc34)c2[SiH2]1', 2.49],\n",
       "       ['C1=CC=C([SiH2]1)C1=Cc2cc3ccc4ccc5cocc5c4c3cc2[SiH2]1', 2.12],\n",
       "       ['c1ncc(s1)C1=Cc2sc3c(cnc4ccc5c[nH]cc5c34)c2[SiH2]1', 1.95],\n",
       "       ['c1[SiH2]c-2c(Cc-3c-2Cc2ccc4c[SiH2]cc4c-32)-c1', 1.43],\n",
       "       ['C1=Cc2cnc3c(c2C1)c1nsnc1c1cc(-c2nccs2)c2ccccc2c31', 2.22],\n",
       "       ['Cn1c(ccc1-c1scc2cc[SiH2]c12)-c1Cccc1', 2.6],\n",
       "       ['[nH]1ccc2[se]c3c([se]c4cc(-c5scc6ccoc56)c5nsnc5c34)c12', 1.69],\n",
       "       ['[nH]1c2cc([se]c2c2c1c1CC=Cc1c1=CCC=c21)-c1ccco1', 1.77],\n",
       "       ['[nH]1cccc1C1=Cc2[se]c3c(sc4cc[se]c34)c2C1', 2.14],\n",
       "       ['C1=Cc2c([SiH2]1)c1cc3CC(=Cc3cc1c1=C[SiH2]C=c21)c1scc2[SiH2]C=Cc12',\n",
       "        1.67],\n",
       "       ['c1ccc2-c3c(-ncc2c1)c1cnccc1c1cocc31', 2.84],\n",
       "       ['[nH]1c(cc2[SiH2]c3c([se]c4ccncc34)-c12)-c1scc2cc[nH]c12', 2.2],\n",
       "       ['C1=Cc2ccc3C=C(Cc3c2[SiH2]1)c1cccnc1', 2.64],\n",
       "       ['c1ccc(s1)-c1sc(c2[SiH2]ccc12)-c1ccc(-c2cccc3cocc23)c2cocc12', 2.13],\n",
       "       ['c1ccc(-c2cc3c(o2)c2[se]c4ccc5nsnc5c4c2c2=C[SiH2]C=c32)c2cscc12',\n",
       "        1.55],\n",
       "       ['[nH]1cccc1-c1ccc(-c2sc(-c3ccco3)c3ccoc23)c2cCcc12', 1.41],\n",
       "       ['c1cc2sc3cc4cc(-c5cncc6nsnc56)c5ccccc5c4cc3c2s1', 1.81],\n",
       "       ['[nH]1cccc1-c1cc2[SiH2]c3c(-c2[nH]1)c1=CCC=c1c1ccc2cocc2c31', 1.45],\n",
       "       ['[nH]1c(ccc1-c1cccc2c[nH]cc12)-c1sc(-c2cccc3cocc23)c2sccc12', 1.83],\n",
       "       ['c1cc2c3c[nH]cc3c3c(ncc4cc(-c5cncc6nsnc56)c5cscc5c34)c2s1', 1.5],\n",
       "       ['[nH]1c(cc2c1ccc1c[nH]cc21)-c1cc2ccccc2c2=CCC=c12', 1.87],\n",
       "       ['[nH]1c2cc(sc2c2c1ccc1ccccc21)-c1ccccc1', 2.67]], dtype=object)"
      ]
     },
     "execution_count": 29,
     "metadata": {},
     "output_type": "execute_result"
    }
   ],
   "source": [
    "np.array(train_df[['smiles','gap']].head(100))"
   ]
  },
  {
   "cell_type": "markdown",
   "metadata": {},
   "source": [
    "#### Training dataset operations - Prepping for training"
   ]
  },
  {
   "cell_type": "code",
   "execution_count": 2,
   "metadata": {
    "collapsed": true
   },
   "outputs": [],
   "source": [
    "##Loading training set\n",
    "train_df = pd.read_csv('../data/train_new_features.csv')"
   ]
  },
  {
   "cell_type": "code",
   "execution_count": 3,
   "metadata": {
    "collapsed": true
   },
   "outputs": [],
   "source": [
    "def elem_counts(df):\n",
    "    df['len_smiles'] = df['smiles'].str.len()\n",
    "    elements = ['nH', 'n', 'c', 'c1', 'Si', 'SiH2', '=', '-', 'CC', 'ncc', 'C1', 'C', 'H', 'cc', 'ccc', 'cccc', 'cc1',\\\n",
    "           '(C1)', '(c1)', '(o1)', '(s1)', 'nc', 'c12', 'c2', 'c1cc', '(cc1)', 'c2C', 'cc3', 'oc', 'ncc', 'C1=C',\\\n",
    "                'C=c', 'C=C', 'ccn', 'c3', '[se]', '=CCC=', 'c21', 'c1c', 'cn', 'c4c', 'c3c', 'coc',\\\n",
    "               'ccccc', '[SiH2]C', 'cc4', 'sc', 'cccnc', 'cnc', 'scc', 'c1s', 'cc4', 'sc2', '2c2', 'c5', 'c6',\\\n",
    "               'c2c', '[nH]c', 'cnc4', 'C1=C', 'Cc', 'nsnc', 'sccc', 'cocc', '(o2)', '(cn1)']\n",
    "    for elem in elements:\n",
    "        col_name = 'count_' + elem\n",
    "        df[col_name] = df['smiles'].str.count(elem)\n",
    "    return df"
   ]
  },
  {
   "cell_type": "code",
   "execution_count": 4,
   "metadata": {
    "collapsed": false
   },
   "outputs": [],
   "source": [
    "train_df = elem_counts(train_df)"
   ]
  },
  {
   "cell_type": "code",
   "execution_count": 5,
   "metadata": {
    "collapsed": false
   },
   "outputs": [
    {
     "data": {
      "text/plain": [
       "Index([u'Unnamed: 0', u'feat_001', u'feat_005', u'feat_006', u'feat_007',\n",
       "       u'feat_025', u'feat_037', u'feat_044', u'feat_068', u'feat_069',\n",
       "       ...\n",
       "       u'count_c6', u'count_c2c', u'count_[nH]c', u'count_cnc4', u'count_Cc',\n",
       "       u'count_nsnc', u'count_sccc', u'count_cocc', u'count_(o2)',\n",
       "       u'count_(cn1)'],\n",
       "      dtype='object', length=108)"
      ]
     },
     "execution_count": 5,
     "metadata": {},
     "output_type": "execute_result"
    }
   ],
   "source": [
    "train_df.columns"
   ]
  },
  {
   "cell_type": "code",
   "execution_count": 6,
   "metadata": {
    "collapsed": false
   },
   "outputs": [
    {
     "name": "stdout",
     "output_type": "stream",
     "text": [
      "(900000, 105) (100000, 105)\n"
     ]
    }
   ],
   "source": [
    "train_cols = train_df.columns\n",
    "train_cols = train_cols.difference(['smiles', 'gap', 'Unnamed: 0'])\n",
    "X = train_df[train_cols]\n",
    "y = train_df['gap']\n",
    "X_train, X_test, y_train, y_test = train_test_split(X, y, test_size=0.10, random_state=1)\n",
    "print X_train.shape, X_test.shape"
   ]
  },
  {
   "cell_type": "code",
   "execution_count": 7,
   "metadata": {
    "collapsed": false
   },
   "outputs": [
    {
     "data": {
      "text/plain": [
       "RandomForestRegressor(bootstrap=True, criterion='mse', max_depth=None,\n",
       "           max_features='auto', max_leaf_nodes=None, min_samples_leaf=1,\n",
       "           min_samples_split=2, min_weight_fraction_leaf=0.0,\n",
       "           n_estimators=10, n_jobs=1, oob_score=False, random_state=None,\n",
       "           verbose=0, warm_start=False)"
      ]
     },
     "execution_count": 7,
     "metadata": {},
     "output_type": "execute_result"
    }
   ],
   "source": [
    "RF = RandomForestRegressor(n_estimators=10)\n",
    "RF.fit(X_train, y_train)"
   ]
  },
  {
   "cell_type": "markdown",
   "metadata": {},
   "source": [
    "RMSE Values:\n",
    "run1 - 0.1363\n",
    "run2 - 0.9637\n",
    "run3 - 0.9084"
   ]
  },
  {
   "cell_type": "code",
   "execution_count": 8,
   "metadata": {
    "collapsed": false
   },
   "outputs": [
    {
     "name": "stdout",
     "output_type": "stream",
     "text": [
      "RMSE =  0.0908123872994\n",
      "0.0908123872994\n"
     ]
    }
   ],
   "source": [
    "#Checking RMSE for training test set\n",
    "pred = RF.predict(X_test)\n",
    "print(RMSE(y_test, pred))"
   ]
  },
  {
   "cell_type": "code",
   "execution_count": 9,
   "metadata": {
    "collapsed": true
   },
   "outputs": [],
   "source": [
    "###Calculating feature importances and visualizing\n",
    "importances = RF.feature_importances_"
   ]
  },
  {
   "cell_type": "code",
   "execution_count": 42,
   "metadata": {
    "collapsed": false
   },
   "outputs": [],
   "source": [
    "#zip(X_train.columns[np.argsort(importances)],importances[np.argsort(importances)])"
   ]
  },
  {
   "cell_type": "code",
   "execution_count": 11,
   "metadata": {
    "collapsed": false
   },
   "outputs": [],
   "source": [
    "num_features = 10\n",
    "x_val = importances[np.argsort(importances)[::-1][:num_features]]\n",
    "x_ticks = X_train.columns[np.argsort(importances)[::-1][:num_features]]"
   ]
  },
  {
   "cell_type": "code",
   "execution_count": 32,
   "metadata": {
    "collapsed": false
   },
   "outputs": [
    {
     "data": {
      "image/png": "[encoded data removed]",
      "text/plain": [
       "<matplotlib.figure.Figure at 0x11234a150>"
      ]
     },
     "metadata": {},
     "output_type": "display_data"
    }
   ],
   "source": [
    "fig, ax = plt.subplots(figsize=(10,10))\n",
    "ax = pd.Series(x_val).plot(kind='bar')\n",
    "ax.set_xticklabels(x_ticks)\n",
    "ax.set_title('Feature Importances')\n",
    "ax.set_xlabel('Features')\n",
    "ax.set_ylabel('Importances')\n",
    "plt.savefig('FeatureImportances.png', bbox_inches='tight')"
   ]
  },
  {
   "cell_type": "markdown",
   "metadata": {},
   "source": [
    "#### To produce the submission file (including the test set preprocessing)"
   ]
  },
  {
   "cell_type": "code",
   "execution_count": 62,
   "metadata": {
    "collapsed": true
   },
   "outputs": [],
   "source": [
    "##Load training set\n",
    "test_df = pd.read_csv('../data/test_new_features.csv')"
   ]
  },
  {
   "cell_type": "code",
   "execution_count": 63,
   "metadata": {
    "collapsed": true
   },
   "outputs": [],
   "source": [
    "test_df = elem_counts(test_df)"
   ]
  },
  {
   "cell_type": "code",
   "execution_count": 64,
   "metadata": {
    "collapsed": false
   },
   "outputs": [
    {
     "data": {
      "text/plain": [
       "Index([u'Unnamed: 0', u'smiles', u'feat_001', u'feat_005', u'feat_006',\n",
       "       u'feat_007', u'feat_025', u'feat_037', u'feat_044', u'feat_068',\n",
       "       ...\n",
       "       u'count_c6', u'count_c2c', u'count_[nH]c', u'count_cnc4', u'count_Cc',\n",
       "       u'count_nsnc', u'count_sccc', u'count_cocc', u'count_(o2)',\n",
       "       u'count_(cn1)'],\n",
       "      dtype='object', length=108)"
      ]
     },
     "execution_count": 64,
     "metadata": {},
     "output_type": "execute_result"
    }
   ],
   "source": [
    "test_df.columns"
   ]
  },
  {
   "cell_type": "code",
   "execution_count": 65,
   "metadata": {
    "collapsed": false
   },
   "outputs": [
    {
     "data": {
      "text/plain": [
       "(824230, 105)"
      ]
     },
     "execution_count": 65,
     "metadata": {},
     "output_type": "execute_result"
    }
   ],
   "source": [
    "test_cols = test_df.columns\n",
    "test_cols = test_cols.difference(['smiles', 'smiles_mol', 'Unnamed: 0'])\n",
    "test_data = test_df[train_cols]\n",
    "test_data.shape"
   ]
  },
  {
   "cell_type": "code",
   "execution_count": 66,
   "metadata": {
    "collapsed": true
   },
   "outputs": [],
   "source": [
    "##Predicting through Random Forests\n",
    "test_pred = RF.predict(test_data)"
   ]
  },
  {
   "cell_type": "code",
   "execution_count": 67,
   "metadata": {
    "collapsed": false
   },
   "outputs": [],
   "source": [
    "#Saving to file\n",
    "out_df = pd.DataFrame({'Id':np.array(test_df.index), 'Prediction': test_pred})\n",
    "out_df['Id'] = out_df['Id'] + 1\n",
    "out_df = out_df.set_index('Id')\n",
    "out_df.Prediction = out_df.Prediction.astype(float)"
   ]
  },
  {
   "cell_type": "code",
   "execution_count": 68,
   "metadata": {
    "collapsed": false
   },
   "outputs": [],
   "source": [
    "out_df.to_csv('../data/abhi_trial_4.csv')"
   ]
  },
  {
   "cell_type": "markdown",
   "metadata": {},
   "source": [
    "#### Attempting neural networks"
   ]
  },
  {
   "cell_type": "code",
   "execution_count": 78,
   "metadata": {
    "collapsed": true
   },
   "outputs": [],
   "source": [
    "from pybrain.structure import FeedForwardNetwork\n",
    "from pybrain.structure import LinearLayer, SigmoidLayer\n",
    "from pybrain.structure import TanhLayer\n",
    "from pybrain.structure import FullConnection\n",
    "from pybrain.supervised.trainers import BackpropTrainer\n",
    "from pybrain.datasets import SupervisedDataSet"
   ]
  },
  {
   "cell_type": "code",
   "execution_count": 79,
   "metadata": {
    "collapsed": true
   },
   "outputs": [],
   "source": [
    "hidden_layer_size = 500\n",
    "n = FeedForwardNetwork()\n",
    "inLayer = LinearLayer(X_train.shape[1])\n",
    "hiddenLayer = SigmoidLayer(hidden_layer_size)\n",
    "outLayer = LinearLayer(1)"
   ]
  },
  {
   "cell_type": "code",
   "execution_count": 80,
   "metadata": {
    "collapsed": false
   },
   "outputs": [
    {
     "name": "stdout",
     "output_type": "stream",
     "text": [
      "FeedForwardNetwork-6\n",
      "   Modules:\n",
      "    [<LinearLayer 'LinearLayer-3'>, <SigmoidLayer 'SigmoidLayer-7'>, <LinearLayer 'LinearLayer-8'>]\n",
      "   Connections:\n",
      "    [<FullConnection 'FullConnection-4': 'LinearLayer-3' -> 'SigmoidLayer-7'>, <FullConnection 'FullConnection-5': 'SigmoidLayer-7' -> 'LinearLayer-8'>]\n",
      "\n"
     ]
    }
   ],
   "source": [
    "n.addInputModule(inLayer)\n",
    "n.addModule(hiddenLayer)\n",
    "n.addOutputModule(outLayer)\n",
    "in_to_hidden = FullConnection(inLayer, hiddenLayer)\n",
    "hidden_to_out = FullConnection(hiddenLayer, outLayer)\n",
    "n.addConnection(in_to_hidden)\n",
    "n.addConnection(hidden_to_out)\n",
    "n.sortModules()\n",
    "print n"
   ]
  },
  {
   "cell_type": "code",
   "execution_count": 81,
   "metadata": {
    "collapsed": true
   },
   "outputs": [],
   "source": [
    "ds = SupervisedDataSet(X_train.shape[1],1)\n",
    "tr_cols = X_train.columns\n",
    "for index, row in X_train.iterrows():\n",
    "    ds.addSample(tuple(row), y_train.loc[index])"
   ]
  },
  {
   "cell_type": "code",
   "execution_count": 82,
   "metadata": {
    "collapsed": false
   },
   "outputs": [
    {
     "data": {
      "text/plain": [
       "111308.75453877273"
      ]
     },
     "execution_count": 82,
     "metadata": {},
     "output_type": "execute_result"
    }
   ],
   "source": [
    "trainer = BackpropTrainer(n, ds)\n",
    "trainer.train()"
   ]
  },
  {
   "cell_type": "code",
   "execution_count": null,
   "metadata": {
    "collapsed": true
   },
   "outputs": [],
   "source": []
  }
 ],
 "metadata": {
  "kernelspec": {
   "display_name": "Python 2",
   "language": "python",
   "name": "python2"
  },
  "language_info": {
   "codemirror_mode": {
    "name": "ipython",
    "version": 2
   },
   "file_extension": ".py",
   "mimetype": "text/x-python",
   "name": "python",
   "nbconvert_exporter": "python",
   "pygments_lexer": "ipython2",
   "version": "2.7.11"
  }
 },
 "nbformat": 4,
 "nbformat_minor": 0
}
