{
 "cells": [
  {
   "cell_type": "markdown",
   "metadata": {},
   "source": [
    "This Notebook is for testing ridge regression against a dataset and validate using the performance against standard RF Regressor."
   ]
  },
  {
   "cell_type": "code",
   "execution_count": 40,
   "metadata": {
    "collapsed": true
   },
   "outputs": [],
   "source": [
    "import pandas as pd\n",
    "import numpy as np\n",
    "import matplotlib.pyplot as plt\n",
    "%matplotlib inline\n",
    "from sklearn.linear_model import LinearRegression\n",
    "from sklearn.ensemble import RandomForestRegressor\n",
    "from sklearn.cross_validation import train_test_split\n",
    "from harness import RMSE"
   ]
  },
  {
   "cell_type": "markdown",
   "metadata": {},
   "source": [
    "#### Exploratory data analysis"
   ]
  },
  {
   "cell_type": "code",
   "execution_count": 63,
   "metadata": {
    "collapsed": false
   },
   "outputs": [
    {
     "data": {
      "text/plain": [
       "array([['c1ccc(o1)-c1ccc(s1)-c1cnc(-c2scc3[se]ccc23)c2nsnc12', 1.19],\n",
       "       ['C1=CC=C(C1)c1cc2ncc3c4[SiH2]C=Cc4ncc3c2c2=C[SiH2]C=c12', 1.6],\n",
       "       ['[nH]1c-2c([SiH2]c3cc(-c4scc5C=CCc45)c4nsnc4c-23)c2ccccc12', 1.49],\n",
       "       ['[nH]1c2-c3occc3Cc2c2c1cc(-c1cccc3=C[SiH2]C=c13)c1=C[SiH2]C=c21',\n",
       "        1.36],\n",
       "       ['c1cnc2c3oc4cc(-c5ncncn5)c5nsnc5c4c3c3cocc3c2c1', 1.98],\n",
       "       ['C1=Cc2cnc3cc4cc(-c5scc6[nH]ccc56)c5ccccc5c4cc3c2[SiH2]1', 1.81],\n",
       "       ['c1ncc(s1)-c1cnc2c(c1)oc1c2ccc2ccccc12', 2.91],\n",
       "       ['c1sc(-c2ccc3c(c2)sc2c3c3=CCC=c3c3cccnc23)c2[se]ccc12', 2.17],\n",
       "       ['c1ccc(o1)-c1cc2cc3cc4c5c[nH]cc5ccc4cc3cc2o1', 2.19],\n",
       "       ['[nH]1ccc2c3c[nH]cc3c3cc(-c4cncs4)c4=CCC=c4c3c12', 1.71],\n",
       "       ['[nH]1c(cc2c3cocc3c3c(ccc4ccc5=CCC=c5c34)c12)-c1cccs1', 2.08],\n",
       "       ['c1cc2oc3c(sc4cc([se]c34)-c3cncc4nsnc34)c2o1', 1.42],\n",
       "       ['[nH]1c(cc2cnc3cc4ccoc4cc3c12)-c1ccccc1', 2.96],\n",
       "       ['[nH]1ccc2ccc3c4ncc(cc4[nH]c3c12)-c1scc2occc12', 2.59],\n",
       "       ['c1sc(-c2sc(-c3sc(-c4ncncn4)c4nccnc34)c3cc[nH]c23)c2ccCc12', 1.14],\n",
       "       ['c1cc2ncc(cc2s1)-c1cc2c(ccc3ccccc23)c2c[nH]cc12', 2.54],\n",
       "       ['c1ccc(-c2cc3oc4ccc5c[nH]cc5c4c3cn2)c2cscc12', 2.37],\n",
       "       ['[nH]1c2-c3ncc(cc3Cc2c2[se]ccc12)-c1scc2ccoc12', 2.4],\n",
       "       ['c1cnc(s1)-c1ccc(cc1)-c1sc(c2Cccc12)-c1scc2occc12', 2.08],\n",
       "       ['c1[SiH2]c(cc1)-c1sc(-c2Cc(cc2)-c2cncc3nsnc23)c2[SiH2]ccc12', 1.34],\n",
       "       ['c1cc2c(s1)c1sc3cc(cnc3c1c1=CCC=c21)-c1scc2C=C[SiH2]c12', 1.98],\n",
       "       ['c1cnc(s1)-c1cnc(-c2ncc(s2)-c2scc3ccsc23)c2nsnc12', 1.35],\n",
       "       ['c1ccc(cn1)C1=Cc2c(C1)c1ncc3ccc4c[nH]cc4c3c1c1c[nH]cc21', 2.17],\n",
       "       ['[nH]1cccc1-c1cnc2c(c1)c1cocc1c1c3sccc3ccc21', 2.68],\n",
       "       ['[nH]1c2cc(-c3scc4nccnc34)c3nsnc3c2c2[se]c3ccc4cocc4c3c12', 1.62],\n",
       "       ['c1Cc(cc1)-c1sc(-c2sc(-c3scc4ccoc34)c3nccnc23)c2ccCc12', 1.22],\n",
       "       ['c1Cc-2c([SiH2]c-3c-2[s]-c2ccc4ccccc4c-32)-c1', 2.43],\n",
       "       ['[nH]1c2cc(-c3scc4[SiH2]C=Cc34)c3c[nH]cc3c2c2c1c1ccccc1c1=CCC=c21',\n",
       "        2.15],\n",
       "       ['c1sc(-c2[SiH2]c(cc2)-c2ccc(nc2)-c2scc3[se]ccc23)c2[SiH2]ccc12',\n",
       "        1.7],\n",
       "       ['c1cc2cc3c4c[nH]cc4c(cc3cc2o1)-c1cccc2=C[SiH2]C=c12', 1.77],\n",
       "       ['c1Cc(cc1)-c1sc(-c2sc(c3[SiH2]ccc23)-c2ccccc2)c2ccoc12', 1.84],\n",
       "       ['c1ccc2c(ccc3cc4cc([se]c4cc23)-c2cccc3c[nH]cc23)c1', 2.49],\n",
       "       ['[nH]1c(ccc1-c1cccc2c[SiH2]cc12)-c1ccc(nc1)-c1scc2nccnc12', 1.5],\n",
       "       ['c1sc(-c2cc3c(s2)c2ccc4ccncc4c2c2ccccc32)c2ccsc12', 2.24],\n",
       "       ['C1=Cc2cc3c(cc2[SiH2]1)c1cnc(cc1c1=C[SiH2]C=c31)-c1cccnc1', 2.19],\n",
       "       ['c1sc(-c2cc3cc4cnc5ccc6cocc6c5c4cc3[se]2)c2[SiH2]C=Cc12', 2.18],\n",
       "       ['[nH]1cccc1-c1cc2ncc3c4c5cscc5ccc4c4=C[SiH2]C=c4c3c2s1', 1.69],\n",
       "       ['c1sc(-c2sc(-c3ncc(s3)-c3cccc4c[SiH2]cc34)c3Cccc23)c2cc[nH]c12',\n",
       "        1.29],\n",
       "       ['[nH]1c(cc2Cc3c(cnc4ccc5cocc5c34)-c12)-c1cccnc1', 2.51],\n",
       "       ['C1=Cc2ncc3c4sc(cc4c4=C[SiH2]C=c4c3c2C1)-c1scc2ccoc12', 1.81]], dtype=object)"
      ]
     },
     "execution_count": 63,
     "metadata": {},
     "output_type": "execute_result"
    }
   ],
   "source": [
    "np.array(train_df[['smiles','gap']].head(40))"
   ]
  },
  {
   "cell_type": "markdown",
   "metadata": {},
   "source": [
    "#### Training dataset operations - Prepping for training"
   ]
  },
  {
   "cell_type": "code",
   "execution_count": 60,
   "metadata": {
    "collapsed": true
   },
   "outputs": [],
   "source": [
    "##Loading training set\n",
    "train_df = pd.read_csv('../data/train_new_features.csv')"
   ]
  },
  {
   "cell_type": "code",
   "execution_count": 64,
   "metadata": {
    "collapsed": true
   },
   "outputs": [],
   "source": [
    "def elem_counts(df):\n",
    "    df['len_smiles'] = df['smiles'].str.len()\n",
    "    elements = ['nH', 'n', 'c', 'c1', 'Si', 'SiH2', '=', '-', 'CC', 'ncc', 'C1', 'C', 'H', 'cc', 'ccc', 'cccc', 'cc1',\\\n",
    "           '(C1)', '(c1)', '(o1)', '(s1)', 'nc', 'c12', 'c2', 'c1cc', '(cc1)', 'c2C', 'cc3', 'oc', 'ncc', 'C1=C',\\\n",
    "                'C=c', 'C=C', 'ccn', 'c3', '[se]', '=CCC=', 'c21', 'c1c', 'cn', 'c4c', 'c3c', 'coc',\\\n",
    "               'ccccc', '[SiH2]C', 'cc4']\n",
    "    for elem in elements:\n",
    "        col_name = 'count_' + elem\n",
    "        df[col_name] = df['smiles'].str.count(elem)\n",
    "    return df"
   ]
  },
  {
   "cell_type": "code",
   "execution_count": 65,
   "metadata": {
    "collapsed": false
   },
   "outputs": [],
   "source": [
    "train_df = elem_counts(train_df)"
   ]
  },
  {
   "cell_type": "code",
   "execution_count": 66,
   "metadata": {
    "collapsed": false
   },
   "outputs": [
    {
     "data": {
      "text/plain": [
       "Index([u'Unnamed: 0', u'feat_001', u'feat_005', u'feat_006', u'feat_007',\n",
       "       u'feat_025', u'feat_037', u'feat_044', u'feat_068', u'feat_069',\n",
       "       u'feat_072', u'feat_087', u'feat_090', u'feat_102', u'feat_119',\n",
       "       u'feat_123', u'feat_126', u'feat_132', u'feat_173', u'feat_176',\n",
       "       u'feat_187', u'feat_196', u'feat_199', u'feat_200', u'feat_208',\n",
       "       u'feat_218', u'feat_225', u'feat_226', u'feat_243', u'feat_248',\n",
       "       u'feat_251', u'feat_252', u'gap', u'smiles', u'MolLogP', u'NOCount',\n",
       "       u'NumHAcceptors', u'NumHDonors', u'NumHeteroAtoms',\n",
       "       u'NumRadicalElectrons', u'NumSaturatedRings', u'NumValenceElectrons',\n",
       "       u'RingCount', u'TPSA', u'len_smiles', u'count_nH', u'count_n',\n",
       "       u'count_c', u'count_c1', u'count_Si', u'count_SiH2', u'count_=',\n",
       "       u'count_-', u'count_CC', u'count_ncc', u'count_C1', u'count_C',\n",
       "       u'count_H', u'count_cc', u'count_ccc', u'count_cccc', u'count_cc1',\n",
       "       u'count_(C1)', u'count_(c1)', u'count_(o1)', u'count_(s1)', u'count_nc',\n",
       "       u'count_c12', u'count_c2', u'count_c1cc', u'count_(cc1)', u'count_c2C',\n",
       "       u'count_cc3', u'count_oc', u'count_C1=C', u'count_C=c', u'count_C=C',\n",
       "       u'count_ccn', u'count_c3', u'count_[se]', u'count_=CCC=', u'count_c21',\n",
       "       u'count_c1c', u'count_cn', u'count_c4c', u'count_c3c', u'count_coc',\n",
       "       u'count_ccccc', u'count_[SiH2]C', u'count_cc4'],\n",
       "      dtype='object')"
      ]
     },
     "execution_count": 66,
     "metadata": {},
     "output_type": "execute_result"
    }
   ],
   "source": [
    "train_df.columns"
   ]
  },
  {
   "cell_type": "code",
   "execution_count": 67,
   "metadata": {
    "collapsed": false
   },
   "outputs": [
    {
     "name": "stdout",
     "output_type": "stream",
     "text": [
      "(900000, 87) (100000, 87)\n"
     ]
    }
   ],
   "source": [
    "train_cols = train_df.columns\n",
    "train_cols = train_cols.difference(['smiles', 'gap', 'Unnamed: 0'])\n",
    "X = train_df[train_cols]\n",
    "y = train_df['gap']\n",
    "X_train, X_test, y_train, y_test = train_test_split(X, y, test_size=0.10, random_state=1)\n",
    "print X_train.shape, X_test.shape"
   ]
  },
  {
   "cell_type": "code",
   "execution_count": 68,
   "metadata": {
    "collapsed": false
   },
   "outputs": [
    {
     "data": {
      "text/plain": [
       "RandomForestRegressor(bootstrap=True, criterion='mse', max_depth=None,\n",
       "           max_features='auto', max_leaf_nodes=None, min_samples_leaf=1,\n",
       "           min_samples_split=2, min_weight_fraction_leaf=0.0,\n",
       "           n_estimators=10, n_jobs=1, oob_score=False, random_state=None,\n",
       "           verbose=0, warm_start=False)"
      ]
     },
     "execution_count": 68,
     "metadata": {},
     "output_type": "execute_result"
    }
   ],
   "source": [
    "RF = RandomForestRegressor(n_estimators=10)\n",
    "RF.fit(X_train, y_train)"
   ]
  },
  {
   "cell_type": "code",
   "execution_count": 69,
   "metadata": {
    "collapsed": false
   },
   "outputs": [
    {
     "name": "stdout",
     "output_type": "stream",
     "text": [
      "RMSE =  0.0943146098186\n",
      "0.0943146098186\n"
     ]
    }
   ],
   "source": [
    "#Checking RMSE for training test set\n",
    "pred = RF.predict(X_test)\n",
    "print(RMSE(y_test, pred))"
   ]
  },
  {
   "cell_type": "markdown",
   "metadata": {},
   "source": [
    "#### To produce the submission file (including the test set preprocessing)"
   ]
  },
  {
   "cell_type": "code",
   "execution_count": 70,
   "metadata": {
    "collapsed": true
   },
   "outputs": [],
   "source": [
    "##Load training set\n",
    "test_df = pd.read_csv('../data/test_new_features.csv')"
   ]
  },
  {
   "cell_type": "code",
   "execution_count": 71,
   "metadata": {
    "collapsed": true
   },
   "outputs": [],
   "source": [
    "test_df = elem_counts(test_df)"
   ]
  },
  {
   "cell_type": "code",
   "execution_count": 72,
   "metadata": {
    "collapsed": false
   },
   "outputs": [
    {
     "data": {
      "text/plain": [
       "Index([u'Unnamed: 0', u'smiles', u'feat_001', u'feat_005', u'feat_006',\n",
       "       u'feat_007', u'feat_025', u'feat_037', u'feat_044', u'feat_068',\n",
       "       u'feat_069', u'feat_072', u'feat_087', u'feat_090', u'feat_102',\n",
       "       u'feat_119', u'feat_123', u'feat_126', u'feat_132', u'feat_173',\n",
       "       u'feat_176', u'feat_187', u'feat_196', u'feat_199', u'feat_200',\n",
       "       u'feat_208', u'feat_218', u'feat_225', u'feat_226', u'feat_243',\n",
       "       u'feat_248', u'feat_251', u'feat_252', u'smiles_mol', u'MolLogP',\n",
       "       u'NOCount', u'NumHAcceptors', u'NumHDonors', u'NumHeteroAtoms',\n",
       "       u'NumValenceElectrons', u'RingCount', u'TPSA', u'NumRadicalElectrons',\n",
       "       u'NumSaturatedRings', u'len_smiles', u'count_nH', u'count_n',\n",
       "       u'count_c', u'count_c1', u'count_Si', u'count_SiH2', u'count_=',\n",
       "       u'count_-', u'count_CC', u'count_ncc', u'count_C1', u'count_C',\n",
       "       u'count_H', u'count_cc', u'count_ccc', u'count_cccc', u'count_cc1',\n",
       "       u'count_(C1)', u'count_(c1)', u'count_(o1)', u'count_(s1)', u'count_nc',\n",
       "       u'count_c12', u'count_c2', u'count_c1cc', u'count_(cc1)', u'count_c2C',\n",
       "       u'count_cc3', u'count_oc', u'count_C1=C', u'count_C=c', u'count_C=C',\n",
       "       u'count_ccn', u'count_c3', u'count_[se]', u'count_=CCC=', u'count_c21',\n",
       "       u'count_c1c', u'count_cn', u'count_c4c', u'count_c3c', u'count_coc',\n",
       "       u'count_ccccc', u'count_[SiH2]C', u'count_cc4'],\n",
       "      dtype='object')"
      ]
     },
     "execution_count": 72,
     "metadata": {},
     "output_type": "execute_result"
    }
   ],
   "source": [
    "test_df.columns"
   ]
  },
  {
   "cell_type": "code",
   "execution_count": 73,
   "metadata": {
    "collapsed": false
   },
   "outputs": [
    {
     "data": {
      "text/plain": [
       "(824230, 87)"
      ]
     },
     "execution_count": 73,
     "metadata": {},
     "output_type": "execute_result"
    }
   ],
   "source": [
    "test_cols = test_df.columns\n",
    "test_cols = test_cols.difference(['smiles', 'smiles_mol', 'Unnamed: 0'])\n",
    "test_data = test_df[train_cols]\n",
    "test_data.shape"
   ]
  },
  {
   "cell_type": "code",
   "execution_count": 74,
   "metadata": {
    "collapsed": true
   },
   "outputs": [],
   "source": [
    "##Predicting through Random Forests\n",
    "test_pred = RF.predict(test_data)"
   ]
  },
  {
   "cell_type": "code",
   "execution_count": 75,
   "metadata": {
    "collapsed": false
   },
   "outputs": [],
   "source": [
    "#Saving to file\n",
    "out_df = pd.DataFrame({'Id':np.array(test_df.index), 'Prediction': test_pred})\n",
    "out_df['Id'] = out_df['Id'] + 1\n",
    "out_df = out_df.set_index('Id')\n",
    "out_df.Prediction = out_df.Prediction.astype(float)"
   ]
  },
  {
   "cell_type": "code",
   "execution_count": 76,
   "metadata": {
    "collapsed": false
   },
   "outputs": [],
   "source": [
    "out_df.to_csv('../data/abhi_trial_2.csv')"
   ]
  },
  {
   "cell_type": "code",
   "execution_count": null,
   "metadata": {
    "collapsed": true
   },
   "outputs": [],
   "source": []
  }
 ],
 "metadata": {
  "kernelspec": {
   "display_name": "Python 2",
   "language": "python",
   "name": "python2"
  },
  "language_info": {
   "codemirror_mode": {
    "name": "ipython",
    "version": 2
   },
   "file_extension": ".py",
   "mimetype": "text/x-python",
   "name": "python",
   "nbconvert_exporter": "python",
   "pygments_lexer": "ipython2",
   "version": "2.7.11"
  }
 },
 "nbformat": 4,
 "nbformat_minor": 0
}
