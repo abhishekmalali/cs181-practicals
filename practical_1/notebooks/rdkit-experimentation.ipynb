{
 "cells": [
  {
   "cell_type": "code",
   "execution_count": 18,
   "metadata": {
    "collapsed": true
   },
   "outputs": [],
   "source": [
    "import numpy as np\n",
    "import matplotlib.pyplot as plt\n",
    "import pandas as pd\n",
    "import rdkit\n",
    "from rdkit import Chem"
   ]
  },
  {
   "cell_type": "code",
   "execution_count": 2,
   "metadata": {
    "collapsed": true
   },
   "outputs": [],
   "source": [
    "##Importing the training dataset\n",
    "train_df = pd.read_csv('../data/train.csv')"
   ]
  },
  {
   "cell_type": "code",
   "execution_count": 3,
   "metadata": {
    "collapsed": true
   },
   "outputs": [],
   "source": [
    "##Cleaning out the zero columns\n",
    "cols = train_df.columns\n",
    "nonzero_cols = cols[(train_df != 0).any(axis=0)]\n",
    "train_df = train_df[nonzero_cols]\n",
    "ncols = len(train_df.columns)"
   ]
  },
  {
   "cell_type": "code",
   "execution_count": 29,
   "metadata": {
    "collapsed": false
   },
   "outputs": [],
   "source": [
    "##Converting all smiles to strings\n",
    "train_df['smiles_str'] = train_df['smiles'].astype(str)"
   ]
  },
  {
   "cell_type": "code",
   "execution_count": 41,
   "metadata": {
    "collapsed": false
   },
   "outputs": [],
   "source": [
    "##Testing RDKIT features\n",
    "train_df['smiles_mol'] = train_df['smiles'].apply(lambda x: Chem.MolFromSmiles(str(x)))"
   ]
  },
  {
   "cell_type": "code",
   "execution_count": 53,
   "metadata": {
    "collapsed": true
   },
   "outputs": [],
   "source": [
    "##selecting columns without smiles_mol and smiles_str\n",
    "cols = train_df.columns\n",
    "select_cols = cols.difference(['smiles_mol', 'smiles_str'])\n",
    "train = train_df[select_cols]"
   ]
  },
  {
   "cell_type": "code",
   "execution_count": 62,
   "metadata": {
    "collapsed": false
   },
   "outputs": [],
   "source": [
    "##Applying the descriptors and appending to the train_df\n",
    "train = pd.concat([train,\\\n",
    "           train_df.smiles_mol.apply(lambda s: pd.Series(generate_rdk_features(s)))], axis=1)"
   ]
  },
  {
   "cell_type": "code",
   "execution_count": 61,
   "metadata": {
    "collapsed": false
   },
   "outputs": [
    {
     "data": {
      "text/html": [
       "<div>\n",
       "<table border=\"1\" class=\"dataframe\">\n",
       "  <thead>\n",
       "    <tr style=\"text-align: right;\">\n",
       "      <th></th>\n",
       "      <th>feat_001</th>\n",
       "      <th>feat_005</th>\n",
       "      <th>feat_006</th>\n",
       "      <th>feat_007</th>\n",
       "      <th>feat_025</th>\n",
       "      <th>feat_037</th>\n",
       "      <th>feat_044</th>\n",
       "      <th>feat_068</th>\n",
       "      <th>feat_069</th>\n",
       "      <th>feat_072</th>\n",
       "      <th>...</th>\n",
       "      <th>MolLogP</th>\n",
       "      <th>NOCount</th>\n",
       "      <th>NumHAcceptors</th>\n",
       "      <th>NumHDonors</th>\n",
       "      <th>NumHeteroAtoms</th>\n",
       "      <th>NumRadicalElectrons</th>\n",
       "      <th>NumSaturatedRings</th>\n",
       "      <th>NumValenceElectrons</th>\n",
       "      <th>RingCount</th>\n",
       "      <th>TPSA</th>\n",
       "    </tr>\n",
       "  </thead>\n",
       "  <tbody>\n",
       "    <tr>\n",
       "      <th>0</th>\n",
       "      <td>0</td>\n",
       "      <td>1</td>\n",
       "      <td>0</td>\n",
       "      <td>1</td>\n",
       "      <td>0</td>\n",
       "      <td>0</td>\n",
       "      <td>0</td>\n",
       "      <td>1</td>\n",
       "      <td>0</td>\n",
       "      <td>1</td>\n",
       "      <td>...</td>\n",
       "      <td>6.0135</td>\n",
       "      <td>4</td>\n",
       "      <td>7</td>\n",
       "      <td>0</td>\n",
       "      <td>8</td>\n",
       "      <td>0</td>\n",
       "      <td>0</td>\n",
       "      <td>130</td>\n",
       "      <td>6</td>\n",
       "      <td>51.81</td>\n",
       "    </tr>\n",
       "    <tr>\n",
       "      <th>1</th>\n",
       "      <td>1</td>\n",
       "      <td>1</td>\n",
       "      <td>0</td>\n",
       "      <td>1</td>\n",
       "      <td>1</td>\n",
       "      <td>1</td>\n",
       "      <td>0</td>\n",
       "      <td>0</td>\n",
       "      <td>1</td>\n",
       "      <td>1</td>\n",
       "      <td>...</td>\n",
       "      <td>0.5631</td>\n",
       "      <td>2</td>\n",
       "      <td>2</td>\n",
       "      <td>0</td>\n",
       "      <td>4</td>\n",
       "      <td>0</td>\n",
       "      <td>0</td>\n",
       "      <td>118</td>\n",
       "      <td>6</td>\n",
       "      <td>25.78</td>\n",
       "    </tr>\n",
       "    <tr>\n",
       "      <th>2</th>\n",
       "      <td>1</td>\n",
       "      <td>1</td>\n",
       "      <td>1</td>\n",
       "      <td>1</td>\n",
       "      <td>0</td>\n",
       "      <td>1</td>\n",
       "      <td>0</td>\n",
       "      <td>1</td>\n",
       "      <td>1</td>\n",
       "      <td>1</td>\n",
       "      <td>...</td>\n",
       "      <td>3.5704</td>\n",
       "      <td>3</td>\n",
       "      <td>4</td>\n",
       "      <td>1</td>\n",
       "      <td>6</td>\n",
       "      <td>0</td>\n",
       "      <td>0</td>\n",
       "      <td>128</td>\n",
       "      <td>7</td>\n",
       "      <td>41.57</td>\n",
       "    </tr>\n",
       "    <tr>\n",
       "      <th>3</th>\n",
       "      <td>1</td>\n",
       "      <td>1</td>\n",
       "      <td>1</td>\n",
       "      <td>1</td>\n",
       "      <td>1</td>\n",
       "      <td>0</td>\n",
       "      <td>0</td>\n",
       "      <td>1</td>\n",
       "      <td>0</td>\n",
       "      <td>0</td>\n",
       "      <td>...</td>\n",
       "      <td>0.3159</td>\n",
       "      <td>2</td>\n",
       "      <td>1</td>\n",
       "      <td>1</td>\n",
       "      <td>4</td>\n",
       "      <td>0</td>\n",
       "      <td>0</td>\n",
       "      <td>128</td>\n",
       "      <td>7</td>\n",
       "      <td>28.93</td>\n",
       "    </tr>\n",
       "    <tr>\n",
       "      <th>4</th>\n",
       "      <td>0</td>\n",
       "      <td>1</td>\n",
       "      <td>0</td>\n",
       "      <td>1</td>\n",
       "      <td>0</td>\n",
       "      <td>0</td>\n",
       "      <td>0</td>\n",
       "      <td>0</td>\n",
       "      <td>0</td>\n",
       "      <td>1</td>\n",
       "      <td>...</td>\n",
       "      <td>4.7371</td>\n",
       "      <td>8</td>\n",
       "      <td>9</td>\n",
       "      <td>0</td>\n",
       "      <td>9</td>\n",
       "      <td>0</td>\n",
       "      <td>0</td>\n",
       "      <td>136</td>\n",
       "      <td>7</td>\n",
       "      <td>103.62</td>\n",
       "    </tr>\n",
       "  </tbody>\n",
       "</table>\n",
       "<p>5 rows × 43 columns</p>\n",
       "</div>"
      ],
      "text/plain": [
       "   feat_001  feat_005  feat_006  feat_007  feat_025  feat_037  feat_044  \\\n",
       "0         0         1         0         1         0         0         0   \n",
       "1         1         1         0         1         1         1         0   \n",
       "2         1         1         1         1         0         1         0   \n",
       "3         1         1         1         1         1         0         0   \n",
       "4         0         1         0         1         0         0         0   \n",
       "\n",
       "   feat_068  feat_069  feat_072   ...    MolLogP  NOCount  NumHAcceptors  \\\n",
       "0         1         0         1   ...     6.0135        4              7   \n",
       "1         0         1         1   ...     0.5631        2              2   \n",
       "2         1         1         1   ...     3.5704        3              4   \n",
       "3         1         0         0   ...     0.3159        2              1   \n",
       "4         0         0         1   ...     4.7371        8              9   \n",
       "\n",
       "   NumHDonors  NumHeteroAtoms  NumRadicalElectrons  NumSaturatedRings  \\\n",
       "0           0               8                    0                  0   \n",
       "1           0               4                    0                  0   \n",
       "2           1               6                    0                  0   \n",
       "3           1               4                    0                  0   \n",
       "4           0               9                    0                  0   \n",
       "\n",
       "   NumValenceElectrons  RingCount    TPSA  \n",
       "0                  130          6   51.81  \n",
       "1                  118          6   25.78  \n",
       "2                  128          7   41.57  \n",
       "3                  128          7   28.93  \n",
       "4                  136          7  103.62  \n",
       "\n",
       "[5 rows x 43 columns]"
      ]
     },
     "execution_count": 61,
     "metadata": {},
     "output_type": "execute_result"
    }
   ],
   "source": [
    "pd.concat([train.head(),\\\n",
    "    train_df.head().smiles_mol.apply(lambda s: pd.Series(generate_rdk_features(s)))], axis=1)"
   ]
  },
  {
   "cell_type": "code",
   "execution_count": 60,
   "metadata": {
    "collapsed": false
   },
   "outputs": [],
   "source": [
    "from rdkit.Chem import Descriptors\n",
    "def generate_rdk_features(rdk):\n",
    "    return_dict ={}\n",
    "    return_dict['TPSA'] = Descriptors.TPSA(rdk)\n",
    "    return_dict['MolLogP'] = Descriptors.MolLogP(rdk)\n",
    "    return_dict['RingCount'] = Descriptors.RingCount(rdk)\n",
    "    return_dict['NumHAcceptors'] = Descriptors.NumHAcceptors(rdk)\n",
    "    return_dict['NumHDonors'] = Descriptors.NumHDonors(rdk)\n",
    "    return_dict['NumHeteroAtoms'] = Descriptors.NumHeteroatoms(rdk)\n",
    "    return_dict['NumValenceElectrons'] = Descriptors.NumValenceElectrons(rdk)\n",
    "    return_dict['NumRadicalElectrons'] = Descriptors.NumRadicalElectrons(rdk)\n",
    "    return_dict['NOCount'] = Descriptors.NOCount(rdk)\n",
    "    return_dict['NumSaturatedRings'] = Descriptors.NumSaturatedRings(rdk)\n",
    "    return return_dict"
   ]
  },
  {
   "cell_type": "code",
   "execution_count": 63,
   "metadata": {
    "collapsed": true
   },
   "outputs": [],
   "source": [
    "train.to_csv('../data/train_new_features.csv')"
   ]
  },
  {
   "cell_type": "code",
   "execution_count": 64,
   "metadata": {
    "collapsed": false
   },
   "outputs": [
    {
     "data": {
      "text/plain": [
       "Index([u'feat_001', u'feat_005', u'feat_006', u'feat_007', u'feat_025',\n",
       "       u'feat_037', u'feat_044', u'feat_068', u'feat_069', u'feat_072',\n",
       "       u'feat_087', u'feat_090', u'feat_102', u'feat_119', u'feat_123',\n",
       "       u'feat_126', u'feat_132', u'feat_173', u'feat_176', u'feat_187',\n",
       "       u'feat_196', u'feat_199', u'feat_200', u'feat_208', u'feat_218',\n",
       "       u'feat_225', u'feat_226', u'feat_243', u'feat_248', u'feat_251',\n",
       "       u'feat_252', u'gap', u'smiles', u'MolLogP', u'NOCount',\n",
       "       u'NumHAcceptors', u'NumHDonors', u'NumHeteroAtoms',\n",
       "       u'NumRadicalElectrons', u'NumSaturatedRings', u'NumValenceElectrons',\n",
       "       u'RingCount', u'TPSA'],\n",
       "      dtype='object')"
      ]
     },
     "execution_count": 64,
     "metadata": {},
     "output_type": "execute_result"
    }
   ],
   "source": [
    "train.columns"
   ]
  },
  {
   "cell_type": "markdown",
   "metadata": {},
   "source": [
    "#### Random Forest Regressor"
   ]
  },
  {
   "cell_type": "code",
   "execution_count": 65,
   "metadata": {
    "collapsed": true
   },
   "outputs": [],
   "source": [
    "##Setting up random forests for feature importance calculations\n",
    "from sklearn.ensemble import RandomForestRegressor\n",
    "from sklearn.cross_validation import train_test_split"
   ]
  },
  {
   "cell_type": "code",
   "execution_count": 66,
   "metadata": {
    "collapsed": false
   },
   "outputs": [
    {
     "name": "stdout",
     "output_type": "stream",
     "text": [
      "(900000, 41) (100000, 41)\n"
     ]
    }
   ],
   "source": [
    "##Splitting the training set into test and training set\n",
    "train_cols = train.columns\n",
    "train_cols = train_cols.difference(['smiles', 'gap'])\n",
    "X = train[train_cols]\n",
    "y = train['gap']\n",
    "X_train, X_test, y_train, y_test = train_test_split(X, y, test_size=0.10, random_state=1)\n",
    "print X_train.shape, X_test.shape"
   ]
  },
  {
   "cell_type": "code",
   "execution_count": 105,
   "metadata": {
    "collapsed": false
   },
   "outputs": [
    {
     "data": {
      "text/plain": [
       "RandomForestRegressor(bootstrap=True, criterion='mse', max_depth=None,\n",
       "           max_features='auto', max_leaf_nodes=None, min_samples_leaf=1,\n",
       "           min_samples_split=2, min_weight_fraction_leaf=0.0,\n",
       "           n_estimators=50, n_jobs=1, oob_score=False, random_state=None,\n",
       "           verbose=0, warm_start=False)"
      ]
     },
     "execution_count": 105,
     "metadata": {},
     "output_type": "execute_result"
    }
   ],
   "source": [
    "##Training the random forest regressor\n",
    "RF = RandomForestRegressor(n_estimators=50)\n",
    "RF.fit(X_train, y_train)"
   ]
  },
  {
   "cell_type": "code",
   "execution_count": 106,
   "metadata": {
    "collapsed": false
   },
   "outputs": [
    {
     "name": "stdout",
     "output_type": "stream",
     "text": [
      "RMSE =  0.159635039534\n"
     ]
    },
    {
     "data": {
      "text/plain": [
       "0.1596350395343179"
      ]
     },
     "execution_count": 106,
     "metadata": {},
     "output_type": "execute_result"
    }
   ],
   "source": [
    "from harness import RMSE\n",
    "predicted = RF.predict(X_test)\n",
    "RMSE(predicted, y_test)"
   ]
  },
  {
   "cell_type": "code",
   "execution_count": 73,
   "metadata": {
    "collapsed": true
   },
   "outputs": [],
   "source": [
    "##Prepping test set with the new features\n",
    "test_df = pd.read_csv('../data/test.csv')\n",
    "test_df['smiles_mol'] = test_df['smiles'].apply(lambda x: Chem.MolFromSmiles(str(x)))"
   ]
  },
  {
   "cell_type": "code",
   "execution_count": 74,
   "metadata": {
    "collapsed": true
   },
   "outputs": [],
   "source": [
    "test_df = pd.concat([test_df,\\\n",
    "           test_df.smiles_mol.apply(lambda s: pd.Series(generate_rdk_features(s)))], axis=1)"
   ]
  },
  {
   "cell_type": "code",
   "execution_count": 78,
   "metadata": {
    "collapsed": true
   },
   "outputs": [],
   "source": [
    "test_cols = test_df.columns\n",
    "test_cols = test_cols.difference(['smiles','smiles_mol'])"
   ]
  },
  {
   "cell_type": "markdown",
   "metadata": {},
   "source": [
    "#### Save test data"
   ]
  },
  {
   "cell_type": "code",
   "execution_count": 112,
   "metadata": {
    "collapsed": false
   },
   "outputs": [],
   "source": [
    "test_sv_cols = test_df.columns\n",
    "test_sv_cols = test_sv_cols.difference(['smiles_mol'])\n",
    "cols = test_df.columns\n",
    "nonzero_sv_cols = cols[(test_df != 0).any(axis=0)]\n",
    "test_pr_sv = test_df[nonzero_sv_cols]"
   ]
  },
  {
   "cell_type": "code",
   "execution_count": 122,
   "metadata": {
    "collapsed": false
   },
   "outputs": [
    {
     "name": "stderr",
     "output_type": "stream",
     "text": [
      "/Users/abhishek/anaconda/lib/python2.7/site-packages/ipykernel/__main__.py:1: SettingWithCopyWarning: \n",
      "A value is trying to be set on a copy of a slice from a DataFrame.\n",
      "Try using .loc[row_indexer,col_indexer] = value instead\n",
      "\n",
      "See the caveats in the documentation: http://pandas.pydata.org/pandas-docs/stable/indexing.html#indexing-view-versus-copy\n",
      "  if __name__ == '__main__':\n",
      "/Users/abhishek/anaconda/lib/python2.7/site-packages/ipykernel/__main__.py:2: SettingWithCopyWarning: \n",
      "A value is trying to be set on a copy of a slice from a DataFrame.\n",
      "Try using .loc[row_indexer,col_indexer] = value instead\n",
      "\n",
      "See the caveats in the documentation: http://pandas.pydata.org/pandas-docs/stable/indexing.html#indexing-view-versus-copy\n",
      "  from ipykernel import kernelapp as app\n",
      "/Users/abhishek/anaconda/lib/python2.7/site-packages/ipykernel/__main__.py:3: SettingWithCopyWarning: \n",
      "A value is trying to be set on a copy of a slice from a DataFrame\n",
      "\n",
      "See the caveats in the documentation: http://pandas.pydata.org/pandas-docs/stable/indexing.html#indexing-view-versus-copy\n",
      "  app.launch_new_instance()\n"
     ]
    }
   ],
   "source": [
    "test_pr_sv['NumRadicalElectrons'] = test_df['NumRadicalElectrons']\n",
    "test_pr_sv['NumSaturatedRings'] = test_df['NumSaturatedRings']\n",
    "test_pr_sv.drop('Id', axis=1, inplace=True)"
   ]
  },
  {
   "cell_type": "code",
   "execution_count": 124,
   "metadata": {
    "collapsed": false
   },
   "outputs": [],
   "source": [
    "test_pr_sv.to_csv('../data/test_new_features.csv')"
   ]
  },
  {
   "cell_type": "code",
   "execution_count": 125,
   "metadata": {
    "collapsed": false
   },
   "outputs": [
    {
     "data": {
      "text/html": [
       "<div>\n",
       "<table border=\"1\" class=\"dataframe\">\n",
       "  <thead>\n",
       "    <tr style=\"text-align: right;\">\n",
       "      <th></th>\n",
       "      <th>smiles</th>\n",
       "      <th>feat_001</th>\n",
       "      <th>feat_005</th>\n",
       "      <th>feat_006</th>\n",
       "      <th>feat_007</th>\n",
       "      <th>feat_025</th>\n",
       "      <th>feat_037</th>\n",
       "      <th>feat_044</th>\n",
       "      <th>feat_068</th>\n",
       "      <th>feat_069</th>\n",
       "      <th>...</th>\n",
       "      <th>MolLogP</th>\n",
       "      <th>NOCount</th>\n",
       "      <th>NumHAcceptors</th>\n",
       "      <th>NumHDonors</th>\n",
       "      <th>NumHeteroAtoms</th>\n",
       "      <th>NumValenceElectrons</th>\n",
       "      <th>RingCount</th>\n",
       "      <th>TPSA</th>\n",
       "      <th>NumRadicalElectrons</th>\n",
       "      <th>NumSaturatedRings</th>\n",
       "    </tr>\n",
       "  </thead>\n",
       "  <tbody>\n",
       "    <tr>\n",
       "      <th>0</th>\n",
       "      <td>c1sc(-c2cnc3c(c2)c2nsnc2c2cc4cccnc4cc32)c2cc[n...</td>\n",
       "      <td>0</td>\n",
       "      <td>1</td>\n",
       "      <td>1</td>\n",
       "      <td>1</td>\n",
       "      <td>0</td>\n",
       "      <td>0</td>\n",
       "      <td>0</td>\n",
       "      <td>1</td>\n",
       "      <td>0</td>\n",
       "      <td>...</td>\n",
       "      <td>6.1507</td>\n",
       "      <td>5</td>\n",
       "      <td>6</td>\n",
       "      <td>1</td>\n",
       "      <td>7</td>\n",
       "      <td>136</td>\n",
       "      <td>7</td>\n",
       "      <td>67.35</td>\n",
       "      <td>0</td>\n",
       "      <td>0</td>\n",
       "    </tr>\n",
       "    <tr>\n",
       "      <th>1</th>\n",
       "      <td>[nH]1cccc1-c1cc2c3nsnc3c3c4sccc4[nH]c3c2s1</td>\n",
       "      <td>0</td>\n",
       "      <td>1</td>\n",
       "      <td>1</td>\n",
       "      <td>1</td>\n",
       "      <td>0</td>\n",
       "      <td>0</td>\n",
       "      <td>0</td>\n",
       "      <td>1</td>\n",
       "      <td>0</td>\n",
       "      <td>...</td>\n",
       "      <td>5.5971</td>\n",
       "      <td>4</td>\n",
       "      <td>5</td>\n",
       "      <td>2</td>\n",
       "      <td>7</td>\n",
       "      <td>110</td>\n",
       "      <td>6</td>\n",
       "      <td>57.36</td>\n",
       "      <td>0</td>\n",
       "      <td>0</td>\n",
       "    </tr>\n",
       "    <tr>\n",
       "      <th>2</th>\n",
       "      <td>[nH]1c2cc(-c3ccc[se]3)c3nsnc3c2c2c3cscc3c3ccc4...</td>\n",
       "      <td>1</td>\n",
       "      <td>1</td>\n",
       "      <td>1</td>\n",
       "      <td>1</td>\n",
       "      <td>1</td>\n",
       "      <td>0</td>\n",
       "      <td>0</td>\n",
       "      <td>0</td>\n",
       "      <td>0</td>\n",
       "      <td>...</td>\n",
       "      <td>4.0761</td>\n",
       "      <td>3</td>\n",
       "      <td>4</td>\n",
       "      <td>1</td>\n",
       "      <td>7</td>\n",
       "      <td>146</td>\n",
       "      <td>8</td>\n",
       "      <td>41.57</td>\n",
       "      <td>0</td>\n",
       "      <td>0</td>\n",
       "    </tr>\n",
       "    <tr>\n",
       "      <th>3</th>\n",
       "      <td>[nH]1c(cc2cnc3c(c12)c1=C[SiH2]C=c1c1ccc2=CCC=c...</td>\n",
       "      <td>1</td>\n",
       "      <td>1</td>\n",
       "      <td>1</td>\n",
       "      <td>1</td>\n",
       "      <td>1</td>\n",
       "      <td>0</td>\n",
       "      <td>0</td>\n",
       "      <td>1</td>\n",
       "      <td>0</td>\n",
       "      <td>...</td>\n",
       "      <td>1.7524</td>\n",
       "      <td>3</td>\n",
       "      <td>2</td>\n",
       "      <td>1</td>\n",
       "      <td>4</td>\n",
       "      <td>132</td>\n",
       "      <td>7</td>\n",
       "      <td>41.82</td>\n",
       "      <td>0</td>\n",
       "      <td>0</td>\n",
       "    </tr>\n",
       "    <tr>\n",
       "      <th>4</th>\n",
       "      <td>c1sc(-c2sc(-c3sc(-c4scc5[se]ccc45)c4ccoc34)c3c...</td>\n",
       "      <td>0</td>\n",
       "      <td>1</td>\n",
       "      <td>0</td>\n",
       "      <td>1</td>\n",
       "      <td>0</td>\n",
       "      <td>0</td>\n",
       "      <td>0</td>\n",
       "      <td>1</td>\n",
       "      <td>0</td>\n",
       "      <td>...</td>\n",
       "      <td>9.8509</td>\n",
       "      <td>2</td>\n",
       "      <td>7</td>\n",
       "      <td>0</td>\n",
       "      <td>8</td>\n",
       "      <td>154</td>\n",
       "      <td>8</td>\n",
       "      <td>26.28</td>\n",
       "      <td>0</td>\n",
       "      <td>0</td>\n",
       "    </tr>\n",
       "  </tbody>\n",
       "</table>\n",
       "<p>5 rows × 43 columns</p>\n",
       "</div>"
      ],
      "text/plain": [
       "                                              smiles  feat_001  feat_005  \\\n",
       "0  c1sc(-c2cnc3c(c2)c2nsnc2c2cc4cccnc4cc32)c2cc[n...         0         1   \n",
       "1         [nH]1cccc1-c1cc2c3nsnc3c3c4sccc4[nH]c3c2s1         0         1   \n",
       "2  [nH]1c2cc(-c3ccc[se]3)c3nsnc3c2c2c3cscc3c3ccc4...         1         1   \n",
       "3  [nH]1c(cc2cnc3c(c12)c1=C[SiH2]C=c1c1ccc2=CCC=c...         1         1   \n",
       "4  c1sc(-c2sc(-c3sc(-c4scc5[se]ccc45)c4ccoc34)c3c...         0         1   \n",
       "\n",
       "   feat_006  feat_007  feat_025  feat_037  feat_044  feat_068  feat_069  \\\n",
       "0         1         1         0         0         0         1         0   \n",
       "1         1         1         0         0         0         1         0   \n",
       "2         1         1         1         0         0         0         0   \n",
       "3         1         1         1         0         0         1         0   \n",
       "4         0         1         0         0         0         1         0   \n",
       "\n",
       "         ...          MolLogP  NOCount  NumHAcceptors  NumHDonors  \\\n",
       "0        ...           6.1507        5              6           1   \n",
       "1        ...           5.5971        4              5           2   \n",
       "2        ...           4.0761        3              4           1   \n",
       "3        ...           1.7524        3              2           1   \n",
       "4        ...           9.8509        2              7           0   \n",
       "\n",
       "   NumHeteroAtoms  NumValenceElectrons  RingCount   TPSA  NumRadicalElectrons  \\\n",
       "0               7                  136          7  67.35                    0   \n",
       "1               7                  110          6  57.36                    0   \n",
       "2               7                  146          8  41.57                    0   \n",
       "3               4                  132          7  41.82                    0   \n",
       "4               8                  154          8  26.28                    0   \n",
       "\n",
       "   NumSaturatedRings  \n",
       "0                  0  \n",
       "1                  0  \n",
       "2                  0  \n",
       "3                  0  \n",
       "4                  0  \n",
       "\n",
       "[5 rows x 43 columns]"
      ]
     },
     "execution_count": 125,
     "metadata": {},
     "output_type": "execute_result"
    }
   ],
   "source": [
    "test_pr_sv.head()"
   ]
  },
  {
   "cell_type": "code",
   "execution_count": 121,
   "metadata": {
    "collapsed": false
   },
   "outputs": [
    {
     "data": {
      "text/plain": [
       "Index([u'Id', u'smiles_mol'], dtype='object')"
      ]
     },
     "execution_count": 121,
     "metadata": {},
     "output_type": "execute_result"
    }
   ],
   "source": [
    "nonzero_sv_cols.difference(train.columns)"
   ]
  },
  {
   "cell_type": "code",
   "execution_count": 79,
   "metadata": {
    "collapsed": true
   },
   "outputs": [],
   "source": [
    "test = test_df[test_cols]"
   ]
  },
  {
   "cell_type": "code",
   "execution_count": 95,
   "metadata": {
    "collapsed": false
   },
   "outputs": [],
   "source": [
    "##Cleaning out the zero columns\n",
    "cols = test.columns\n",
    "nonzero_cols = cols[(test != 0).any(axis=0)]\n",
    "test_pr = test[nonzero_cols]"
   ]
  },
  {
   "cell_type": "code",
   "execution_count": 98,
   "metadata": {
    "collapsed": false
   },
   "outputs": [
    {
     "name": "stderr",
     "output_type": "stream",
     "text": [
      "/Users/abhishek/anaconda/lib/python2.7/site-packages/ipykernel/__main__.py:1: SettingWithCopyWarning: \n",
      "A value is trying to be set on a copy of a slice from a DataFrame.\n",
      "Try using .loc[row_indexer,col_indexer] = value instead\n",
      "\n",
      "See the caveats in the documentation: http://pandas.pydata.org/pandas-docs/stable/indexing.html#indexing-view-versus-copy\n",
      "  if __name__ == '__main__':\n",
      "/Users/abhishek/anaconda/lib/python2.7/site-packages/ipykernel/__main__.py:2: SettingWithCopyWarning: \n",
      "A value is trying to be set on a copy of a slice from a DataFrame.\n",
      "Try using .loc[row_indexer,col_indexer] = value instead\n",
      "\n",
      "See the caveats in the documentation: http://pandas.pydata.org/pandas-docs/stable/indexing.html#indexing-view-versus-copy\n",
      "  from ipykernel import kernelapp as app\n",
      "/Users/abhishek/anaconda/lib/python2.7/site-packages/ipykernel/__main__.py:3: SettingWithCopyWarning: \n",
      "A value is trying to be set on a copy of a slice from a DataFrame\n",
      "\n",
      "See the caveats in the documentation: http://pandas.pydata.org/pandas-docs/stable/indexing.html#indexing-view-versus-copy\n",
      "  app.launch_new_instance()\n"
     ]
    }
   ],
   "source": [
    "test_pr['NumRadicalElectrons'] = test['NumRadicalElectrons']\n",
    "test_pr['NumSaturatedRings'] = test['NumSaturatedRings']\n",
    "test_pr.drop('Id', axis=1, inplace=True)"
   ]
  },
  {
   "cell_type": "code",
   "execution_count": 100,
   "metadata": {
    "collapsed": false
   },
   "outputs": [
    {
     "data": {
      "text/html": [
       "<div>\n",
       "<table border=\"1\" class=\"dataframe\">\n",
       "  <thead>\n",
       "    <tr style=\"text-align: right;\">\n",
       "      <th></th>\n",
       "      <th>MolLogP</th>\n",
       "      <th>NOCount</th>\n",
       "      <th>NumHAcceptors</th>\n",
       "      <th>NumHDonors</th>\n",
       "      <th>NumHeteroAtoms</th>\n",
       "      <th>NumValenceElectrons</th>\n",
       "      <th>RingCount</th>\n",
       "      <th>TPSA</th>\n",
       "      <th>feat_001</th>\n",
       "      <th>feat_005</th>\n",
       "      <th>...</th>\n",
       "      <th>feat_208</th>\n",
       "      <th>feat_218</th>\n",
       "      <th>feat_225</th>\n",
       "      <th>feat_226</th>\n",
       "      <th>feat_243</th>\n",
       "      <th>feat_248</th>\n",
       "      <th>feat_251</th>\n",
       "      <th>feat_252</th>\n",
       "      <th>NumRadicalElectrons</th>\n",
       "      <th>NumSaturatedRings</th>\n",
       "    </tr>\n",
       "  </thead>\n",
       "  <tbody>\n",
       "    <tr>\n",
       "      <th>0</th>\n",
       "      <td>6.1507</td>\n",
       "      <td>5</td>\n",
       "      <td>6</td>\n",
       "      <td>1</td>\n",
       "      <td>7</td>\n",
       "      <td>136</td>\n",
       "      <td>7</td>\n",
       "      <td>67.35</td>\n",
       "      <td>0</td>\n",
       "      <td>1</td>\n",
       "      <td>...</td>\n",
       "      <td>0</td>\n",
       "      <td>0</td>\n",
       "      <td>1</td>\n",
       "      <td>1</td>\n",
       "      <td>1</td>\n",
       "      <td>1</td>\n",
       "      <td>0</td>\n",
       "      <td>0</td>\n",
       "      <td>0</td>\n",
       "      <td>0</td>\n",
       "    </tr>\n",
       "    <tr>\n",
       "      <th>1</th>\n",
       "      <td>5.5971</td>\n",
       "      <td>4</td>\n",
       "      <td>5</td>\n",
       "      <td>2</td>\n",
       "      <td>7</td>\n",
       "      <td>110</td>\n",
       "      <td>6</td>\n",
       "      <td>57.36</td>\n",
       "      <td>0</td>\n",
       "      <td>1</td>\n",
       "      <td>...</td>\n",
       "      <td>0</td>\n",
       "      <td>0</td>\n",
       "      <td>1</td>\n",
       "      <td>1</td>\n",
       "      <td>1</td>\n",
       "      <td>1</td>\n",
       "      <td>0</td>\n",
       "      <td>0</td>\n",
       "      <td>0</td>\n",
       "      <td>0</td>\n",
       "    </tr>\n",
       "    <tr>\n",
       "      <th>2</th>\n",
       "      <td>4.0761</td>\n",
       "      <td>3</td>\n",
       "      <td>4</td>\n",
       "      <td>1</td>\n",
       "      <td>7</td>\n",
       "      <td>146</td>\n",
       "      <td>8</td>\n",
       "      <td>41.57</td>\n",
       "      <td>1</td>\n",
       "      <td>1</td>\n",
       "      <td>...</td>\n",
       "      <td>0</td>\n",
       "      <td>1</td>\n",
       "      <td>0</td>\n",
       "      <td>1</td>\n",
       "      <td>1</td>\n",
       "      <td>1</td>\n",
       "      <td>0</td>\n",
       "      <td>0</td>\n",
       "      <td>0</td>\n",
       "      <td>0</td>\n",
       "    </tr>\n",
       "    <tr>\n",
       "      <th>3</th>\n",
       "      <td>1.7524</td>\n",
       "      <td>3</td>\n",
       "      <td>2</td>\n",
       "      <td>1</td>\n",
       "      <td>4</td>\n",
       "      <td>132</td>\n",
       "      <td>7</td>\n",
       "      <td>41.82</td>\n",
       "      <td>1</td>\n",
       "      <td>1</td>\n",
       "      <td>...</td>\n",
       "      <td>0</td>\n",
       "      <td>1</td>\n",
       "      <td>0</td>\n",
       "      <td>1</td>\n",
       "      <td>1</td>\n",
       "      <td>1</td>\n",
       "      <td>0</td>\n",
       "      <td>0</td>\n",
       "      <td>0</td>\n",
       "      <td>0</td>\n",
       "    </tr>\n",
       "    <tr>\n",
       "      <th>4</th>\n",
       "      <td>9.8509</td>\n",
       "      <td>2</td>\n",
       "      <td>7</td>\n",
       "      <td>0</td>\n",
       "      <td>8</td>\n",
       "      <td>154</td>\n",
       "      <td>8</td>\n",
       "      <td>26.28</td>\n",
       "      <td>0</td>\n",
       "      <td>1</td>\n",
       "      <td>...</td>\n",
       "      <td>0</td>\n",
       "      <td>0</td>\n",
       "      <td>0</td>\n",
       "      <td>1</td>\n",
       "      <td>0</td>\n",
       "      <td>1</td>\n",
       "      <td>0</td>\n",
       "      <td>0</td>\n",
       "      <td>0</td>\n",
       "      <td>0</td>\n",
       "    </tr>\n",
       "  </tbody>\n",
       "</table>\n",
       "<p>5 rows × 41 columns</p>\n",
       "</div>"
      ],
      "text/plain": [
       "   MolLogP  NOCount  NumHAcceptors  NumHDonors  NumHeteroAtoms  \\\n",
       "0   6.1507        5              6           1               7   \n",
       "1   5.5971        4              5           2               7   \n",
       "2   4.0761        3              4           1               7   \n",
       "3   1.7524        3              2           1               4   \n",
       "4   9.8509        2              7           0               8   \n",
       "\n",
       "   NumValenceElectrons  RingCount   TPSA  feat_001  feat_005  \\\n",
       "0                  136          7  67.35         0         1   \n",
       "1                  110          6  57.36         0         1   \n",
       "2                  146          8  41.57         1         1   \n",
       "3                  132          7  41.82         1         1   \n",
       "4                  154          8  26.28         0         1   \n",
       "\n",
       "         ...          feat_208  feat_218  feat_225  feat_226  feat_243  \\\n",
       "0        ...                 0         0         1         1         1   \n",
       "1        ...                 0         0         1         1         1   \n",
       "2        ...                 0         1         0         1         1   \n",
       "3        ...                 0         1         0         1         1   \n",
       "4        ...                 0         0         0         1         0   \n",
       "\n",
       "   feat_248  feat_251  feat_252  NumRadicalElectrons  NumSaturatedRings  \n",
       "0         1         0         0                    0                  0  \n",
       "1         1         0         0                    0                  0  \n",
       "2         1         0         0                    0                  0  \n",
       "3         1         0         0                    0                  0  \n",
       "4         1         0         0                    0                  0  \n",
       "\n",
       "[5 rows x 41 columns]"
      ]
     },
     "execution_count": 100,
     "metadata": {},
     "output_type": "execute_result"
    }
   ],
   "source": [
    "test_pr.head()"
   ]
  },
  {
   "cell_type": "code",
   "execution_count": 83,
   "metadata": {
    "collapsed": false
   },
   "outputs": [
    {
     "data": {
      "text/html": [
       "<div>\n",
       "<table border=\"1\" class=\"dataframe\">\n",
       "  <thead>\n",
       "    <tr style=\"text-align: right;\">\n",
       "      <th></th>\n",
       "      <th>feat_001</th>\n",
       "      <th>feat_005</th>\n",
       "      <th>feat_006</th>\n",
       "      <th>feat_007</th>\n",
       "      <th>feat_025</th>\n",
       "      <th>feat_037</th>\n",
       "      <th>feat_044</th>\n",
       "      <th>feat_068</th>\n",
       "      <th>feat_069</th>\n",
       "      <th>feat_072</th>\n",
       "      <th>...</th>\n",
       "      <th>MolLogP</th>\n",
       "      <th>NOCount</th>\n",
       "      <th>NumHAcceptors</th>\n",
       "      <th>NumHDonors</th>\n",
       "      <th>NumHeteroAtoms</th>\n",
       "      <th>NumRadicalElectrons</th>\n",
       "      <th>NumSaturatedRings</th>\n",
       "      <th>NumValenceElectrons</th>\n",
       "      <th>RingCount</th>\n",
       "      <th>TPSA</th>\n",
       "    </tr>\n",
       "  </thead>\n",
       "  <tbody>\n",
       "    <tr>\n",
       "      <th>0</th>\n",
       "      <td>0</td>\n",
       "      <td>1</td>\n",
       "      <td>0</td>\n",
       "      <td>1</td>\n",
       "      <td>0</td>\n",
       "      <td>0</td>\n",
       "      <td>0</td>\n",
       "      <td>1</td>\n",
       "      <td>0</td>\n",
       "      <td>1</td>\n",
       "      <td>...</td>\n",
       "      <td>6.0135</td>\n",
       "      <td>4</td>\n",
       "      <td>7</td>\n",
       "      <td>0</td>\n",
       "      <td>8</td>\n",
       "      <td>0</td>\n",
       "      <td>0</td>\n",
       "      <td>130</td>\n",
       "      <td>6</td>\n",
       "      <td>51.81</td>\n",
       "    </tr>\n",
       "    <tr>\n",
       "      <th>1</th>\n",
       "      <td>1</td>\n",
       "      <td>1</td>\n",
       "      <td>0</td>\n",
       "      <td>1</td>\n",
       "      <td>1</td>\n",
       "      <td>1</td>\n",
       "      <td>0</td>\n",
       "      <td>0</td>\n",
       "      <td>1</td>\n",
       "      <td>1</td>\n",
       "      <td>...</td>\n",
       "      <td>0.5631</td>\n",
       "      <td>2</td>\n",
       "      <td>2</td>\n",
       "      <td>0</td>\n",
       "      <td>4</td>\n",
       "      <td>0</td>\n",
       "      <td>0</td>\n",
       "      <td>118</td>\n",
       "      <td>6</td>\n",
       "      <td>25.78</td>\n",
       "    </tr>\n",
       "    <tr>\n",
       "      <th>2</th>\n",
       "      <td>1</td>\n",
       "      <td>1</td>\n",
       "      <td>1</td>\n",
       "      <td>1</td>\n",
       "      <td>0</td>\n",
       "      <td>1</td>\n",
       "      <td>0</td>\n",
       "      <td>1</td>\n",
       "      <td>1</td>\n",
       "      <td>1</td>\n",
       "      <td>...</td>\n",
       "      <td>3.5704</td>\n",
       "      <td>3</td>\n",
       "      <td>4</td>\n",
       "      <td>1</td>\n",
       "      <td>6</td>\n",
       "      <td>0</td>\n",
       "      <td>0</td>\n",
       "      <td>128</td>\n",
       "      <td>7</td>\n",
       "      <td>41.57</td>\n",
       "    </tr>\n",
       "    <tr>\n",
       "      <th>3</th>\n",
       "      <td>1</td>\n",
       "      <td>1</td>\n",
       "      <td>1</td>\n",
       "      <td>1</td>\n",
       "      <td>1</td>\n",
       "      <td>0</td>\n",
       "      <td>0</td>\n",
       "      <td>1</td>\n",
       "      <td>0</td>\n",
       "      <td>0</td>\n",
       "      <td>...</td>\n",
       "      <td>0.3159</td>\n",
       "      <td>2</td>\n",
       "      <td>1</td>\n",
       "      <td>1</td>\n",
       "      <td>4</td>\n",
       "      <td>0</td>\n",
       "      <td>0</td>\n",
       "      <td>128</td>\n",
       "      <td>7</td>\n",
       "      <td>28.93</td>\n",
       "    </tr>\n",
       "    <tr>\n",
       "      <th>4</th>\n",
       "      <td>0</td>\n",
       "      <td>1</td>\n",
       "      <td>0</td>\n",
       "      <td>1</td>\n",
       "      <td>0</td>\n",
       "      <td>0</td>\n",
       "      <td>0</td>\n",
       "      <td>0</td>\n",
       "      <td>0</td>\n",
       "      <td>1</td>\n",
       "      <td>...</td>\n",
       "      <td>4.7371</td>\n",
       "      <td>8</td>\n",
       "      <td>9</td>\n",
       "      <td>0</td>\n",
       "      <td>9</td>\n",
       "      <td>0</td>\n",
       "      <td>0</td>\n",
       "      <td>136</td>\n",
       "      <td>7</td>\n",
       "      <td>103.62</td>\n",
       "    </tr>\n",
       "  </tbody>\n",
       "</table>\n",
       "<p>5 rows × 43 columns</p>\n",
       "</div>"
      ],
      "text/plain": [
       "   feat_001  feat_005  feat_006  feat_007  feat_025  feat_037  feat_044  \\\n",
       "0         0         1         0         1         0         0         0   \n",
       "1         1         1         0         1         1         1         0   \n",
       "2         1         1         1         1         0         1         0   \n",
       "3         1         1         1         1         1         0         0   \n",
       "4         0         1         0         1         0         0         0   \n",
       "\n",
       "   feat_068  feat_069  feat_072   ...    MolLogP  NOCount  NumHAcceptors  \\\n",
       "0         1         0         1   ...     6.0135        4              7   \n",
       "1         0         1         1   ...     0.5631        2              2   \n",
       "2         1         1         1   ...     3.5704        3              4   \n",
       "3         1         0         0   ...     0.3159        2              1   \n",
       "4         0         0         1   ...     4.7371        8              9   \n",
       "\n",
       "   NumHDonors  NumHeteroAtoms  NumRadicalElectrons  NumSaturatedRings  \\\n",
       "0           0               8                    0                  0   \n",
       "1           0               4                    0                  0   \n",
       "2           1               6                    0                  0   \n",
       "3           1               4                    0                  0   \n",
       "4           0               9                    0                  0   \n",
       "\n",
       "   NumValenceElectrons  RingCount    TPSA  \n",
       "0                  130          6   51.81  \n",
       "1                  118          6   25.78  \n",
       "2                  128          7   41.57  \n",
       "3                  128          7   28.93  \n",
       "4                  136          7  103.62  \n",
       "\n",
       "[5 rows x 43 columns]"
      ]
     },
     "execution_count": 83,
     "metadata": {},
     "output_type": "execute_result"
    }
   ],
   "source": [
    "train.head()"
   ]
  },
  {
   "cell_type": "code",
   "execution_count": 102,
   "metadata": {
    "collapsed": false
   },
   "outputs": [],
   "source": [
    "test_predictions = RF.predict(test_pr)"
   ]
  },
  {
   "cell_type": "code",
   "execution_count": 103,
   "metadata": {
    "collapsed": true
   },
   "outputs": [],
   "source": [
    "out_df = pd.DataFrame({'Id':range(1,len(test_predictions)+1), 'Prediction': test_predictions})\n",
    "out_df = out_df.set_index('Id')\n",
    "out_df.Prediction = out_df.Prediction.astype(float)"
   ]
  },
  {
   "cell_type": "code",
   "execution_count": 104,
   "metadata": {
    "collapsed": true
   },
   "outputs": [],
   "source": [
    "out_df.to_csv('../output/RF_new_features_abhi.csv')"
   ]
  },
  {
   "cell_type": "code",
   "execution_count": 126,
   "metadata": {
    "collapsed": true
   },
   "outputs": [],
   "source": [
    "##Implementing Lasso Regression\n",
    "from sklearn.linear_model import Lasso\n",
    "from sklearn.grid_search import GridSearchCV"
   ]
  },
  {
   "cell_type": "code",
   "execution_count": 127,
   "metadata": {
    "collapsed": false
   },
   "outputs": [
    {
     "name": "stderr",
     "output_type": "stream",
     "text": [
      "/Users/abhishek/anaconda/lib/python2.7/site-packages/sklearn/linear_model/coordinate_descent.py:466: ConvergenceWarning: Objective did not converge. You might want to increase the number of iterations\n",
      "  ConvergenceWarning)\n"
     ]
    },
    {
     "data": {
      "text/plain": [
       "GridSearchCV(cv=None, error_score='raise',\n",
       "       estimator=Lasso(alpha=1.0, copy_X=True, fit_intercept=True, max_iter=1000,\n",
       "   normalize=False, positive=False, precompute=False, random_state=None,\n",
       "   selection='cyclic', tol=0.0001, warm_start=False),\n",
       "       fit_params={}, iid=True, n_jobs=1,\n",
       "       param_grid={'alpha': array([  1.00000e-07,   5.99484e-07,   3.59381e-06,   2.15443e-05,\n",
       "         1.29155e-04,   7.74264e-04,   4.64159e-03,   2.78256e-02,\n",
       "         1.66810e-01,   1.00000e+00])},\n",
       "       pre_dispatch='2*n_jobs', refit=True, scoring=None, verbose=0)"
      ]
     },
     "execution_count": 127,
     "metadata": {},
     "output_type": "execute_result"
    }
   ],
   "source": [
    "lasso = GridSearchCV(Lasso(), {'alpha': np.logspace(-7, 0, 10)})\n",
    "lasso.fit(X_train, y_train)"
   ]
  },
  {
   "cell_type": "code",
   "execution_count": 129,
   "metadata": {
    "collapsed": false
   },
   "outputs": [],
   "source": [
    "lasso_run = lasso.best_estimator_"
   ]
  },
  {
   "cell_type": "code",
   "execution_count": 160,
   "metadata": {
    "collapsed": false
   },
   "outputs": [],
   "source": [
    "lasso_run = Lasso(alpha=1e-8, normalize=True)"
   ]
  },
  {
   "cell_type": "code",
   "execution_count": 161,
   "metadata": {
    "collapsed": false
   },
   "outputs": [
    {
     "data": {
      "text/plain": [
       "Lasso(alpha=1e-08, copy_X=True, fit_intercept=True, max_iter=1000,\n",
       "   normalize=True, positive=False, precompute=False, random_state=None,\n",
       "   selection='cyclic', tol=0.0001, warm_start=False)"
      ]
     },
     "execution_count": 161,
     "metadata": {},
     "output_type": "execute_result"
    }
   ],
   "source": [
    "lasso_run.fit(X_train, y_train)"
   ]
  },
  {
   "cell_type": "code",
   "execution_count": 162,
   "metadata": {
    "collapsed": false
   },
   "outputs": [
    {
     "name": "stdout",
     "output_type": "stream",
     "text": [
      "RMSE =  0.232473118212\n"
     ]
    },
    {
     "data": {
      "text/plain": [
       "0.23247311821163075"
      ]
     },
     "execution_count": 162,
     "metadata": {},
     "output_type": "execute_result"
    }
   ],
   "source": [
    "predicted_lasso = lasso_run.predict(X_test)\n",
    "RMSE(predicted_lasso, y_test)"
   ]
  },
  {
   "cell_type": "code",
   "execution_count": 163,
   "metadata": {
    "collapsed": true
   },
   "outputs": [],
   "source": [
    "test_predictions = lasso_run.predict(test_pr)\n",
    "out_df = pd.DataFrame({'Id':np.array(test_df.Id), 'Prediction': test_predictions})\n",
    "out_df = out_df.set_index('Id')\n",
    "out_df.Prediction = out_df.Prediction.astype(float)"
   ]
  },
  {
   "cell_type": "code",
   "execution_count": 164,
   "metadata": {
    "collapsed": false
   },
   "outputs": [
    {
     "data": {
      "text/plain": [
       "(array([  5.20000000e+01,   1.75400000e+03,   1.98590000e+04,\n",
       "          7.45370000e+04,   1.56101000e+05,   2.22972000e+05,\n",
       "          2.11901000e+05,   1.14584000e+05,   2.21420000e+04,\n",
       "          3.28000000e+02]),\n",
       " array([ 1.02969167,  1.31486082,  1.60002997,  1.88519912,  2.17036827,\n",
       "         2.45553742,  2.74070657,  3.02587572,  3.31104487,  3.59621402,\n",
       "         3.88138317]),\n",
       " <a list of 10 Patch objects>)"
      ]
     },
     "execution_count": 164,
     "metadata": {},
     "output_type": "execute_result"
    },
    {
     "data": {
      "image/png": "[encoded data removed]",
      "text/plain": [
       "<matplotlib.figure.Figure at 0x6c2d64f50>"
      ]
     },
     "metadata": {},
     "output_type": "display_data"
    }
   ],
   "source": [
    "%matplotlib inline\n",
    "plt.hist(out_df.Prediction)"
   ]
  },
  {
   "cell_type": "code",
   "execution_count": 165,
   "metadata": {
    "collapsed": false
   },
   "outputs": [
    {
     "data": {
      "text/plain": [
       "(array([ 575412.,  418246.,    3333.]),\n",
       " array([1, 2, 3, 4]),\n",
       " <a list of 3 Patch objects>)"
      ]
     },
     "execution_count": 165,
     "metadata": {},
     "output_type": "execute_result"
    },
    {
     "data": {
      "image/png": "[encoded data removed]",
      "text/plain": [
       "<matplotlib.figure.Figure at 0x6c2de6650>"
      ]
     },
     "metadata": {},
     "output_type": "display_data"
    }
   ],
   "source": [
    "plt.hist(train_df.gap,bins=range(1,5))"
   ]
  },
  {
   "cell_type": "code",
   "execution_count": 166,
   "metadata": {
    "collapsed": false
   },
   "outputs": [
    {
     "data": {
      "text/html": [
       "<div>\n",
       "<table border=\"1\" class=\"dataframe\">\n",
       "  <thead>\n",
       "    <tr style=\"text-align: right;\">\n",
       "      <th></th>\n",
       "      <th>Prediction</th>\n",
       "    </tr>\n",
       "    <tr>\n",
       "      <th>Id</th>\n",
       "      <th></th>\n",
       "    </tr>\n",
       "  </thead>\n",
       "  <tbody>\n",
       "    <tr>\n",
       "      <th>1</th>\n",
       "      <td>2.181191</td>\n",
       "    </tr>\n",
       "    <tr>\n",
       "      <th>2</th>\n",
       "      <td>1.956786</td>\n",
       "    </tr>\n",
       "    <tr>\n",
       "      <th>3</th>\n",
       "      <td>1.851210</td>\n",
       "    </tr>\n",
       "    <tr>\n",
       "      <th>4</th>\n",
       "      <td>2.316023</td>\n",
       "    </tr>\n",
       "    <tr>\n",
       "      <th>5</th>\n",
       "      <td>2.101556</td>\n",
       "    </tr>\n",
       "    <tr>\n",
       "      <th>6</th>\n",
       "      <td>2.991449</td>\n",
       "    </tr>\n",
       "    <tr>\n",
       "      <th>7</th>\n",
       "      <td>2.661796</td>\n",
       "    </tr>\n",
       "    <tr>\n",
       "      <th>8</th>\n",
       "      <td>2.831410</td>\n",
       "    </tr>\n",
       "    <tr>\n",
       "      <th>9</th>\n",
       "      <td>2.293709</td>\n",
       "    </tr>\n",
       "    <tr>\n",
       "      <th>10</th>\n",
       "      <td>2.106839</td>\n",
       "    </tr>\n",
       "    <tr>\n",
       "      <th>11</th>\n",
       "      <td>2.886271</td>\n",
       "    </tr>\n",
       "    <tr>\n",
       "      <th>12</th>\n",
       "      <td>2.883523</td>\n",
       "    </tr>\n",
       "    <tr>\n",
       "      <th>13</th>\n",
       "      <td>2.587230</td>\n",
       "    </tr>\n",
       "    <tr>\n",
       "      <th>14</th>\n",
       "      <td>2.557038</td>\n",
       "    </tr>\n",
       "    <tr>\n",
       "      <th>15</th>\n",
       "      <td>2.659667</td>\n",
       "    </tr>\n",
       "    <tr>\n",
       "      <th>16</th>\n",
       "      <td>2.473910</td>\n",
       "    </tr>\n",
       "    <tr>\n",
       "      <th>17</th>\n",
       "      <td>2.411951</td>\n",
       "    </tr>\n",
       "    <tr>\n",
       "      <th>18</th>\n",
       "      <td>2.528032</td>\n",
       "    </tr>\n",
       "    <tr>\n",
       "      <th>19</th>\n",
       "      <td>2.831961</td>\n",
       "    </tr>\n",
       "    <tr>\n",
       "      <th>20</th>\n",
       "      <td>2.775946</td>\n",
       "    </tr>\n",
       "    <tr>\n",
       "      <th>21</th>\n",
       "      <td>2.290888</td>\n",
       "    </tr>\n",
       "    <tr>\n",
       "      <th>22</th>\n",
       "      <td>2.467446</td>\n",
       "    </tr>\n",
       "    <tr>\n",
       "      <th>23</th>\n",
       "      <td>2.388506</td>\n",
       "    </tr>\n",
       "    <tr>\n",
       "      <th>24</th>\n",
       "      <td>3.190486</td>\n",
       "    </tr>\n",
       "    <tr>\n",
       "      <th>25</th>\n",
       "      <td>2.706236</td>\n",
       "    </tr>\n",
       "    <tr>\n",
       "      <th>26</th>\n",
       "      <td>3.122187</td>\n",
       "    </tr>\n",
       "    <tr>\n",
       "      <th>27</th>\n",
       "      <td>2.142370</td>\n",
       "    </tr>\n",
       "    <tr>\n",
       "      <th>28</th>\n",
       "      <td>2.904303</td>\n",
       "    </tr>\n",
       "    <tr>\n",
       "      <th>29</th>\n",
       "      <td>2.681624</td>\n",
       "    </tr>\n",
       "    <tr>\n",
       "      <th>30</th>\n",
       "      <td>2.269247</td>\n",
       "    </tr>\n",
       "    <tr>\n",
       "      <th>...</th>\n",
       "      <td>...</td>\n",
       "    </tr>\n",
       "    <tr>\n",
       "      <th>824201</th>\n",
       "      <td>2.379467</td>\n",
       "    </tr>\n",
       "    <tr>\n",
       "      <th>824202</th>\n",
       "      <td>2.877585</td>\n",
       "    </tr>\n",
       "    <tr>\n",
       "      <th>824203</th>\n",
       "      <td>3.065031</td>\n",
       "    </tr>\n",
       "    <tr>\n",
       "      <th>824204</th>\n",
       "      <td>2.311612</td>\n",
       "    </tr>\n",
       "    <tr>\n",
       "      <th>824205</th>\n",
       "      <td>2.889871</td>\n",
       "    </tr>\n",
       "    <tr>\n",
       "      <th>824206</th>\n",
       "      <td>2.593644</td>\n",
       "    </tr>\n",
       "    <tr>\n",
       "      <th>824207</th>\n",
       "      <td>1.598938</td>\n",
       "    </tr>\n",
       "    <tr>\n",
       "      <th>824208</th>\n",
       "      <td>2.748345</td>\n",
       "    </tr>\n",
       "    <tr>\n",
       "      <th>824209</th>\n",
       "      <td>2.615127</td>\n",
       "    </tr>\n",
       "    <tr>\n",
       "      <th>824210</th>\n",
       "      <td>2.787952</td>\n",
       "    </tr>\n",
       "    <tr>\n",
       "      <th>824211</th>\n",
       "      <td>2.774388</td>\n",
       "    </tr>\n",
       "    <tr>\n",
       "      <th>824212</th>\n",
       "      <td>2.833115</td>\n",
       "    </tr>\n",
       "    <tr>\n",
       "      <th>824213</th>\n",
       "      <td>2.861311</td>\n",
       "    </tr>\n",
       "    <tr>\n",
       "      <th>824214</th>\n",
       "      <td>2.528089</td>\n",
       "    </tr>\n",
       "    <tr>\n",
       "      <th>824215</th>\n",
       "      <td>2.174690</td>\n",
       "    </tr>\n",
       "    <tr>\n",
       "      <th>824216</th>\n",
       "      <td>2.365935</td>\n",
       "    </tr>\n",
       "    <tr>\n",
       "      <th>824217</th>\n",
       "      <td>2.751087</td>\n",
       "    </tr>\n",
       "    <tr>\n",
       "      <th>824218</th>\n",
       "      <td>3.164133</td>\n",
       "    </tr>\n",
       "    <tr>\n",
       "      <th>824219</th>\n",
       "      <td>2.005410</td>\n",
       "    </tr>\n",
       "    <tr>\n",
       "      <th>824220</th>\n",
       "      <td>2.827531</td>\n",
       "    </tr>\n",
       "    <tr>\n",
       "      <th>824221</th>\n",
       "      <td>2.820674</td>\n",
       "    </tr>\n",
       "    <tr>\n",
       "      <th>824222</th>\n",
       "      <td>2.293989</td>\n",
       "    </tr>\n",
       "    <tr>\n",
       "      <th>824223</th>\n",
       "      <td>2.267681</td>\n",
       "    </tr>\n",
       "    <tr>\n",
       "      <th>824224</th>\n",
       "      <td>3.179130</td>\n",
       "    </tr>\n",
       "    <tr>\n",
       "      <th>824225</th>\n",
       "      <td>2.845669</td>\n",
       "    </tr>\n",
       "    <tr>\n",
       "      <th>824226</th>\n",
       "      <td>2.043538</td>\n",
       "    </tr>\n",
       "    <tr>\n",
       "      <th>824227</th>\n",
       "      <td>3.238800</td>\n",
       "    </tr>\n",
       "    <tr>\n",
       "      <th>824228</th>\n",
       "      <td>2.047378</td>\n",
       "    </tr>\n",
       "    <tr>\n",
       "      <th>824229</th>\n",
       "      <td>2.805781</td>\n",
       "    </tr>\n",
       "    <tr>\n",
       "      <th>824230</th>\n",
       "      <td>2.006188</td>\n",
       "    </tr>\n",
       "  </tbody>\n",
       "</table>\n",
       "<p>824230 rows × 1 columns</p>\n",
       "</div>"
      ],
      "text/plain": [
       "        Prediction\n",
       "Id                \n",
       "1         2.181191\n",
       "2         1.956786\n",
       "3         1.851210\n",
       "4         2.316023\n",
       "5         2.101556\n",
       "6         2.991449\n",
       "7         2.661796\n",
       "8         2.831410\n",
       "9         2.293709\n",
       "10        2.106839\n",
       "11        2.886271\n",
       "12        2.883523\n",
       "13        2.587230\n",
       "14        2.557038\n",
       "15        2.659667\n",
       "16        2.473910\n",
       "17        2.411951\n",
       "18        2.528032\n",
       "19        2.831961\n",
       "20        2.775946\n",
       "21        2.290888\n",
       "22        2.467446\n",
       "23        2.388506\n",
       "24        3.190486\n",
       "25        2.706236\n",
       "26        3.122187\n",
       "27        2.142370\n",
       "28        2.904303\n",
       "29        2.681624\n",
       "30        2.269247\n",
       "...            ...\n",
       "824201    2.379467\n",
       "824202    2.877585\n",
       "824203    3.065031\n",
       "824204    2.311612\n",
       "824205    2.889871\n",
       "824206    2.593644\n",
       "824207    1.598938\n",
       "824208    2.748345\n",
       "824209    2.615127\n",
       "824210    2.787952\n",
       "824211    2.774388\n",
       "824212    2.833115\n",
       "824213    2.861311\n",
       "824214    2.528089\n",
       "824215    2.174690\n",
       "824216    2.365935\n",
       "824217    2.751087\n",
       "824218    3.164133\n",
       "824219    2.005410\n",
       "824220    2.827531\n",
       "824221    2.820674\n",
       "824222    2.293989\n",
       "824223    2.267681\n",
       "824224    3.179130\n",
       "824225    2.845669\n",
       "824226    2.043538\n",
       "824227    3.238800\n",
       "824228    2.047378\n",
       "824229    2.805781\n",
       "824230    2.006188\n",
       "\n",
       "[824230 rows x 1 columns]"
      ]
     },
     "execution_count": 166,
     "metadata": {},
     "output_type": "execute_result"
    }
   ],
   "source": [
    "out_df"
   ]
  },
  {
   "cell_type": "code",
   "execution_count": 171,
   "metadata": {
    "collapsed": false
   },
   "outputs": [],
   "source": [
    "from pybrain.structure import FeedForwardNetwork\n",
    "from pybrain.structure import LinearLayer, SigmoidLayer\n",
    "from pybrain.structure import FullConnection\n",
    "from pybrain.supervised.trainers import BackpropTrainer\n",
    "from pybrain.datasets import SupervisedDataSet"
   ]
  },
  {
   "cell_type": "code",
   "execution_count": 172,
   "metadata": {
    "collapsed": true
   },
   "outputs": [],
   "source": [
    "hidden_layer_size = 500\n",
    "n = FeedForwardNetwork()\n",
    "inLayer = LinearLayer(X_train.shape[1])\n",
    "hiddenLayer = SigmoidLayer(hidden_layer_size)\n",
    "outLayer = LinearLayer(1)"
   ]
  },
  {
   "cell_type": "code",
   "execution_count": 173,
   "metadata": {
    "collapsed": false
   },
   "outputs": [
    {
     "name": "stdout",
     "output_type": "stream",
     "text": [
      "FeedForwardNetwork-6\n",
      "   Modules:\n",
      "    [<LinearLayer 'LinearLayer-3'>, <SigmoidLayer 'SigmoidLayer-7'>, <LinearLayer 'LinearLayer-8'>]\n",
      "   Connections:\n",
      "    [<FullConnection 'FullConnection-4': 'LinearLayer-3' -> 'SigmoidLayer-7'>, <FullConnection 'FullConnection-5': 'SigmoidLayer-7' -> 'LinearLayer-8'>]\n",
      "\n"
     ]
    }
   ],
   "source": [
    "n.addInputModule(inLayer)\n",
    "n.addModule(hiddenLayer)\n",
    "n.addOutputModule(outLayer)\n",
    "in_to_hidden = FullConnection(inLayer, hiddenLayer)\n",
    "hidden_to_out = FullConnection(hiddenLayer, outLayer)\n",
    "n.addConnection(in_to_hidden)\n",
    "n.addConnection(hidden_to_out)\n",
    "n.sortModules()\n",
    "print n"
   ]
  },
  {
   "cell_type": "code",
   "execution_count": 174,
   "metadata": {
    "collapsed": true
   },
   "outputs": [],
   "source": [
    "ds = SupervisedDataSet(X_train.shape[1],1)\n",
    "tr_cols = X_train.columns\n",
    "for index, row in X_train.iterrows():\n",
    "    ds.addSample(tuple(row), y_train.loc[index])"
   ]
  },
  {
   "cell_type": "code",
   "execution_count": 179,
   "metadata": {
    "collapsed": false
   },
   "outputs": [
    {
     "data": {
      "text/plain": [
       "Index([u'MolLogP', u'NOCount', u'NumHAcceptors', u'NumHDonors',\n",
       "       u'NumHeteroAtoms', u'NumRadicalElectrons', u'NumSaturatedRings',\n",
       "       u'NumValenceElectrons', u'RingCount', u'TPSA', u'feat_001', u'feat_005',\n",
       "       u'feat_006', u'feat_007', u'feat_025', u'feat_037', u'feat_044',\n",
       "       u'feat_068', u'feat_069', u'feat_072', u'feat_087', u'feat_090',\n",
       "       u'feat_102', u'feat_119', u'feat_123', u'feat_126', u'feat_132',\n",
       "       u'feat_173', u'feat_176', u'feat_187', u'feat_196', u'feat_199',\n",
       "       u'feat_200', u'feat_208', u'feat_218', u'feat_225', u'feat_226',\n",
       "       u'feat_243', u'feat_248', u'feat_251', u'feat_252'],\n",
       "      dtype='object')"
      ]
     },
     "execution_count": 179,
     "metadata": {},
     "output_type": "execute_result"
    }
   ],
   "source": [
    "X_test.columns"
   ]
  },
  {
   "cell_type": "code",
   "execution_count": 175,
   "metadata": {
    "collapsed": false
   },
   "outputs": [
    {
     "data": {
      "text/plain": [
       "22690246362.236774"
      ]
     },
     "execution_count": 175,
     "metadata": {},
     "output_type": "execute_result"
    }
   ],
   "source": [
    "trainer = BackpropTrainer(n, ds)\n",
    "trainer.train()"
   ]
  },
  {
   "cell_type": "code",
   "execution_count": 176,
   "metadata": {
    "collapsed": true
   },
   "outputs": [],
   "source": [
    "squared_error = 0.0\n",
    "for index, row in X_test.iterrows():\n",
    "    y_pred = n.activate(tuple(row))\n",
    "    y_actual = y_test.loc[index]\n",
    "    squared_error += (y_pred - y_actual)**2\n",
    "RMSE_val = np.sqrt(squared_error/len(X_test))"
   ]
  },
  {
   "cell_type": "code",
   "execution_count": 177,
   "metadata": {
    "collapsed": false
   },
   "outputs": [
    {
     "data": {
      "text/plain": [
       "array([ 3.25214746])"
      ]
     },
     "execution_count": 177,
     "metadata": {},
     "output_type": "execute_result"
    }
   ],
   "source": [
    "RMSE_val"
   ]
  },
  {
   "cell_type": "code",
   "execution_count": null,
   "metadata": {
    "collapsed": true
   },
   "outputs": [],
   "source": []
  }
 ],
 "metadata": {
  "kernelspec": {
   "display_name": "Python 2",
   "language": "python",
   "name": "python2"
  },
  "language_info": {
   "codemirror_mode": {
    "name": "ipython",
    "version": 2
   },
   "file_extension": ".py",
   "mimetype": "text/x-python",
   "name": "python",
   "nbconvert_exporter": "python",
   "pygments_lexer": "ipython2",
   "version": "2.7.11"
  }
 },
 "nbformat": 4,
 "nbformat_minor": 0
}
