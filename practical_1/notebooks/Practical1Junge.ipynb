{
 "cells": [
  {
   "cell_type": "code",
   "execution_count": 1,
   "metadata": {
    "collapsed": false
   },
   "outputs": [],
   "source": [
    "import pandas as pd\n",
    "import numpy as np\n",
    "import matplotlib.pyplot as plt\n",
    "from sklearn.linear_model import LinearRegression\n",
    "from sklearn.ensemble import RandomForestRegressor\n",
    "from sklearn.metrics import mean_squared_error\n",
    "from sklearn.decomposition import PCA\n",
    "\n",
    "import matplotlib.pyplot as plt\n",
    "%matplotlib inline"
   ]
  },
  {
   "cell_type": "code",
   "execution_count": 2,
   "metadata": {
    "collapsed": false
   },
   "outputs": [],
   "source": [
    "from rdkit import Chem"
   ]
  },
  {
   "cell_type": "code",
   "execution_count": 3,
   "metadata": {
    "collapsed": true
   },
   "outputs": [],
   "source": [
    "## To avoid using up submissions, we create our own test set out of the training data.  This allows us to experiment\n",
    "##    wildly and estimate error on various models.  "
   ]
  },
  {
   "cell_type": "code",
   "execution_count": 4,
   "metadata": {
    "collapsed": false,
    "scrolled": true
   },
   "outputs": [
    {
     "name": "stdout",
     "output_type": "stream",
     "text": [
      "Loading Training Data...\n",
      "Splitting Data...\n"
     ]
    }
   ],
   "source": [
    "from harness import RMSE, train_test, write_to_file\n",
    "xtrain, xtest, ytrain, ytest=train_test()"
   ]
  },
  {
   "cell_type": "code",
   "execution_count": 5,
   "metadata": {
    "collapsed": false,
    "scrolled": true
   },
   "outputs": [
    {
     "data": {
      "text/html": [
       "<div>\n",
       "<table border=\"1\" class=\"dataframe\">\n",
       "  <thead>\n",
       "    <tr style=\"text-align: right;\">\n",
       "      <th></th>\n",
       "      <th>smiles</th>\n",
       "      <th>feat_001</th>\n",
       "      <th>feat_002</th>\n",
       "      <th>feat_003</th>\n",
       "      <th>feat_004</th>\n",
       "      <th>feat_005</th>\n",
       "      <th>feat_006</th>\n",
       "      <th>feat_007</th>\n",
       "      <th>feat_008</th>\n",
       "      <th>feat_009</th>\n",
       "      <th>...</th>\n",
       "      <th>feat_247</th>\n",
       "      <th>feat_248</th>\n",
       "      <th>feat_249</th>\n",
       "      <th>feat_250</th>\n",
       "      <th>feat_251</th>\n",
       "      <th>feat_252</th>\n",
       "      <th>feat_253</th>\n",
       "      <th>feat_254</th>\n",
       "      <th>feat_255</th>\n",
       "      <th>feat_256</th>\n",
       "    </tr>\n",
       "  </thead>\n",
       "  <tbody>\n",
       "    <tr>\n",
       "      <th>276826</th>\n",
       "      <td>[nH]1cccc1-c1ccc(cn1)-c1sc(-c2nccs2)c2cc[nH]c12</td>\n",
       "      <td>0</td>\n",
       "      <td>0</td>\n",
       "      <td>0</td>\n",
       "      <td>0</td>\n",
       "      <td>1</td>\n",
       "      <td>1</td>\n",
       "      <td>1</td>\n",
       "      <td>0</td>\n",
       "      <td>0</td>\n",
       "      <td>...</td>\n",
       "      <td>0</td>\n",
       "      <td>1</td>\n",
       "      <td>0</td>\n",
       "      <td>0</td>\n",
       "      <td>0</td>\n",
       "      <td>0</td>\n",
       "      <td>0</td>\n",
       "      <td>0</td>\n",
       "      <td>0</td>\n",
       "      <td>0</td>\n",
       "    </tr>\n",
       "    <tr>\n",
       "      <th>849425</th>\n",
       "      <td>c1sc(-c2ccc(cc2)-c2sc(-c3cccc4c[nH]cc34)c3[se]...</td>\n",
       "      <td>0</td>\n",
       "      <td>0</td>\n",
       "      <td>0</td>\n",
       "      <td>0</td>\n",
       "      <td>1</td>\n",
       "      <td>1</td>\n",
       "      <td>1</td>\n",
       "      <td>0</td>\n",
       "      <td>0</td>\n",
       "      <td>...</td>\n",
       "      <td>0</td>\n",
       "      <td>1</td>\n",
       "      <td>0</td>\n",
       "      <td>0</td>\n",
       "      <td>0</td>\n",
       "      <td>0</td>\n",
       "      <td>0</td>\n",
       "      <td>0</td>\n",
       "      <td>0</td>\n",
       "      <td>0</td>\n",
       "    </tr>\n",
       "    <tr>\n",
       "      <th>504499</th>\n",
       "      <td>c1sc(-c2cc3[se]c4c(oc5ccc6cscc6c45)c3cn2)c2cc[...</td>\n",
       "      <td>0</td>\n",
       "      <td>0</td>\n",
       "      <td>0</td>\n",
       "      <td>0</td>\n",
       "      <td>1</td>\n",
       "      <td>1</td>\n",
       "      <td>1</td>\n",
       "      <td>0</td>\n",
       "      <td>0</td>\n",
       "      <td>...</td>\n",
       "      <td>0</td>\n",
       "      <td>1</td>\n",
       "      <td>0</td>\n",
       "      <td>0</td>\n",
       "      <td>0</td>\n",
       "      <td>0</td>\n",
       "      <td>0</td>\n",
       "      <td>0</td>\n",
       "      <td>0</td>\n",
       "      <td>0</td>\n",
       "    </tr>\n",
       "    <tr>\n",
       "      <th>601054</th>\n",
       "      <td>[nH]1c2C=C[SiH2]c2c2[nH]c3cc([se]c3c12)-c1cccc...</td>\n",
       "      <td>1</td>\n",
       "      <td>0</td>\n",
       "      <td>0</td>\n",
       "      <td>0</td>\n",
       "      <td>1</td>\n",
       "      <td>1</td>\n",
       "      <td>1</td>\n",
       "      <td>0</td>\n",
       "      <td>0</td>\n",
       "      <td>...</td>\n",
       "      <td>0</td>\n",
       "      <td>0</td>\n",
       "      <td>0</td>\n",
       "      <td>0</td>\n",
       "      <td>0</td>\n",
       "      <td>0</td>\n",
       "      <td>0</td>\n",
       "      <td>0</td>\n",
       "      <td>0</td>\n",
       "      <td>0</td>\n",
       "    </tr>\n",
       "    <tr>\n",
       "      <th>980221</th>\n",
       "      <td>[nH]1c(cc2c3cocc3c3c4ccccc4sc3c12)-c1cccc2cocc12</td>\n",
       "      <td>0</td>\n",
       "      <td>0</td>\n",
       "      <td>0</td>\n",
       "      <td>0</td>\n",
       "      <td>1</td>\n",
       "      <td>1</td>\n",
       "      <td>1</td>\n",
       "      <td>0</td>\n",
       "      <td>0</td>\n",
       "      <td>...</td>\n",
       "      <td>0</td>\n",
       "      <td>1</td>\n",
       "      <td>0</td>\n",
       "      <td>0</td>\n",
       "      <td>0</td>\n",
       "      <td>0</td>\n",
       "      <td>0</td>\n",
       "      <td>0</td>\n",
       "      <td>0</td>\n",
       "      <td>0</td>\n",
       "    </tr>\n",
       "  </tbody>\n",
       "</table>\n",
       "<p>5 rows × 257 columns</p>\n",
       "</div>"
      ],
      "text/plain": [
       "                                                   smiles  feat_001  feat_002  \\\n",
       "276826    [nH]1cccc1-c1ccc(cn1)-c1sc(-c2nccs2)c2cc[nH]c12         0         0   \n",
       "849425  c1sc(-c2ccc(cc2)-c2sc(-c3cccc4c[nH]cc34)c3[se]...         0         0   \n",
       "504499  c1sc(-c2cc3[se]c4c(oc5ccc6cscc6c45)c3cn2)c2cc[...         0         0   \n",
       "601054  [nH]1c2C=C[SiH2]c2c2[nH]c3cc([se]c3c12)-c1cccc...         1         0   \n",
       "980221   [nH]1c(cc2c3cocc3c3c4ccccc4sc3c12)-c1cccc2cocc12         0         0   \n",
       "\n",
       "        feat_003  feat_004  feat_005  feat_006  feat_007  feat_008  feat_009  \\\n",
       "276826         0         0         1         1         1         0         0   \n",
       "849425         0         0         1         1         1         0         0   \n",
       "504499         0         0         1         1         1         0         0   \n",
       "601054         0         0         1         1         1         0         0   \n",
       "980221         0         0         1         1         1         0         0   \n",
       "\n",
       "          ...     feat_247  feat_248  feat_249  feat_250  feat_251  feat_252  \\\n",
       "276826    ...            0         1         0         0         0         0   \n",
       "849425    ...            0         1         0         0         0         0   \n",
       "504499    ...            0         1         0         0         0         0   \n",
       "601054    ...            0         0         0         0         0         0   \n",
       "980221    ...            0         1         0         0         0         0   \n",
       "\n",
       "        feat_253  feat_254  feat_255  feat_256  \n",
       "276826         0         0         0         0  \n",
       "849425         0         0         0         0  \n",
       "504499         0         0         0         0  \n",
       "601054         0         0         0         0  \n",
       "980221         0         0         0         0  \n",
       "\n",
       "[5 rows x 257 columns]"
      ]
     },
     "execution_count": 5,
     "metadata": {},
     "output_type": "execute_result"
    }
   ],
   "source": [
    "xtest.head()"
   ]
  },
  {
   "cell_type": "code",
   "execution_count": 6,
   "metadata": {
    "collapsed": false
   },
   "outputs": [],
   "source": [
    "xtest_smiles = xtest['smiles']\n",
    "xtest = xtest.drop(['smiles'], axis=1)\n",
    "xtrain_smiles = xtrain['smiles']\n",
    "xtrain = xtrain.drop(['smiles'], axis=1)"
   ]
  },
  {
   "cell_type": "code",
   "execution_count": 7,
   "metadata": {
    "collapsed": false
   },
   "outputs": [
    {
     "data": {
      "text/plain": [
       "'\\nExample Feature Engineering\\n\\nthis calculates the length of each smile string and adds a feature column with those lengths\\nNote: this is NOT a good feature and will result in a lower score!\\n'"
      ]
     },
     "execution_count": 7,
     "metadata": {},
     "output_type": "execute_result"
    }
   ],
   "source": [
    "\"\"\"\n",
    "Example Feature Engineering\n",
    "\n",
    "this calculates the length of each smile string and adds a feature column with those lengths\n",
    "Note: this is NOT a good feature and will result in a lower score!\n",
    "\"\"\"\n",
    "#smiles_len = np.vstack(df_all.smiles.astype(str).apply(lambda x: len(x)))\n",
    "#df_all['smiles_len'] = pd.DataFrame(smiles_len)\n"
   ]
  },
  {
   "cell_type": "code",
   "execution_count": null,
   "metadata": {
    "collapsed": true
   },
   "outputs": [],
   "source": []
  },
  {
   "cell_type": "code",
   "execution_count": 12,
   "metadata": {
    "collapsed": false
   },
   "outputs": [
    {
     "name": "stdout",
     "output_type": "stream",
     "text": [
      "CPU times: user 11.9 s, sys: 2.85 s, total: 14.7 s\n",
      "Wall time: 11.4 s\n"
     ]
    }
   ],
   "source": [
    "%%time\n",
    "LR1 = LinearRegression()\n",
    "LR1.fit(xtrain, ytrain)\n",
    "# Prediction of LR on our test set\n",
    "LR_pred1 = LR1.predict(xtest)"
   ]
  },
  {
   "cell_type": "code",
   "execution_count": 13,
   "metadata": {
    "collapsed": false,
    "scrolled": true
   },
   "outputs": [
    {
     "name": "stdout",
     "output_type": "stream",
     "text": [
      "RMSE =  0.298502133902\n"
     ]
    }
   ],
   "source": [
    "rmse1 = RMSE(LR_pred1, ytest)"
   ]
  },
  {
   "cell_type": "code",
   "execution_count": null,
   "metadata": {
    "collapsed": false,
    "scrolled": true
   },
   "outputs": [],
   "source": []
  },
  {
   "cell_type": "code",
   "execution_count": 14,
   "metadata": {
    "collapsed": false
   },
   "outputs": [
    {
     "name": "stdout",
     "output_type": "stream",
     "text": [
      "CPU times: user 30.8 s, sys: 844 ms, total: 31.6 s\n",
      "Wall time: 31.7 s\n"
     ]
    }
   ],
   "source": [
    "%%time\n",
    "RF1 = RandomForestRegressor()\n",
    "RF1.fit(xtrain, ytrain)\n",
    "# Prediction of RF on the training set\n",
    "RF_pred1 = RF1.predict(xtest)"
   ]
  },
  {
   "cell_type": "code",
   "execution_count": 15,
   "metadata": {
    "collapsed": false,
    "scrolled": true
   },
   "outputs": [
    {
     "name": "stdout",
     "output_type": "stream",
     "text": [
      "RMSE =  0.271381164183\n"
     ]
    }
   ],
   "source": [
    "rmse2 = RMSE(RF_pred1, ytest)"
   ]
  },
  {
   "cell_type": "code",
   "execution_count": null,
   "metadata": {
    "collapsed": true
   },
   "outputs": [],
   "source": [
    "## In the provided code, the RF predictor performs better than LR on the training set, but the \n",
    "##     LR predictor performs better than RF on the actual uploaded test set.  "
   ]
  },
  {
   "cell_type": "code",
   "execution_count": null,
   "metadata": {
    "collapsed": true
   },
   "outputs": [],
   "source": []
  },
  {
   "cell_type": "code",
   "execution_count": 25,
   "metadata": {
    "collapsed": true
   },
   "outputs": [],
   "source": [
    "## We will use these error values as baselines for our model tweaks.\n",
    "def LRimprovement(prediction, test=ytest):\n",
    "    imp = rmse1 - RMSE(prediction, test)\n",
    "    print \"Improvement on original Linear Regression: \", imp\n",
    "    return imp\n",
    "\n",
    "def RFimprovement(prediction, test=ytest):\n",
    "    imp = rmse2 - RMSE(prediction, test)\n",
    "    print \"Improvement on original Random Forest: \", imp\n",
    "    return imp"
   ]
  },
  {
   "cell_type": "code",
   "execution_count": null,
   "metadata": {
    "collapsed": true
   },
   "outputs": [],
   "source": [
    "## To beat the baseline, we will want to do some exploratory analysis to get some intuition on the features.  "
   ]
  },
  {
   "cell_type": "code",
   "execution_count": 37,
   "metadata": {
    "collapsed": false,
    "scrolled": false
   },
   "outputs": [
    {
     "name": "stdout",
     "output_type": "stream",
     "text": [
      "Maximum gap in training set:  3.8\n",
      "Maximum gap in test set:      3.43\n",
      "Minimum gap in training set:  -1.44\n",
      "Minimum gap in test set:      0.75\n"
     ]
    }
   ],
   "source": [
    "print \"Maximum gap in training set: \", np.max(ytrain)\n",
    "print \"Maximum gap in test set:     \", np.max(ytest)\n",
    "print \"Minimum gap in training set: \", np.min(ytrain)\n",
    "print \"Minimum gap in test set:     \", np.min(ytest)"
   ]
  },
  {
   "cell_type": "code",
   "execution_count": 92,
   "metadata": {
    "collapsed": false
   },
   "outputs": [
    {
     "data": {
      "text/plain": [
       "1.9137797000000099"
      ]
     },
     "execution_count": 92,
     "metadata": {},
     "output_type": "execute_result"
    }
   ],
   "source": [
    "np.mean(ytest)"
   ]
  },
  {
   "cell_type": "code",
   "execution_count": null,
   "metadata": {
    "collapsed": true
   },
   "outputs": [],
   "source": [
    "## Notice the anomalous value in the training set.  Let's look at the distribution of gap values in each set.  "
   ]
  },
  {
   "cell_type": "code",
   "execution_count": 90,
   "metadata": {
    "collapsed": false,
    "scrolled": false
   },
   "outputs": [
    {
     "data": {
      "text/plain": [
       "(-2, 4)"
      ]
     },
     "execution_count": 90,
     "metadata": {},
     "output_type": "execute_result"
    },
    {
     "data": {
      "image/png": "[encoded data removed]",
      "text/plain": [
       "<matplotlib.figure.Figure at 0x146b38250>"
      ]
     },
     "metadata": {},
     "output_type": "display_data"
    }
   ],
   "source": [
    "plt.hist(ytest, bins=np.linspace(-2,4,20))\n",
    "plt.title(\"Distribution of Gap Values\")\n",
    "plt.xlabel(\"Gap Value\")\n",
    "plt.ylabel(\"Count\")\n",
    "plt.xlim([-2,4])"
   ]
  },
  {
   "cell_type": "code",
   "execution_count": 54,
   "metadata": {
    "collapsed": false,
    "scrolled": true
   },
   "outputs": [
    {
     "data": {
      "text/plain": [
       "(-2, 4)"
      ]
     },
     "execution_count": 54,
     "metadata": {},
     "output_type": "execute_result"
    },
    {
     "data": {
      "image/png": "[encoded data removed]",
      "text/plain": [
       "<matplotlib.figure.Figure at 0x1156d2650>"
      ]
     },
     "metadata": {},
     "output_type": "display_data"
    }
   ],
   "source": [
    "plt.hist(ytrain, bins=np.linspace(-2,4,20))\n",
    "plt.xlim([-2,4])"
   ]
  },
  {
   "cell_type": "code",
   "execution_count": 55,
   "metadata": {
    "collapsed": false
   },
   "outputs": [
    {
     "data": {
      "text/plain": [
       "3"
      ]
     },
     "execution_count": 55,
     "metadata": {},
     "output_type": "execute_result"
    }
   ],
   "source": [
    "## The distributions are the same shape, but there are three values in the test set that are clearly erroneous:\n",
    "np.sum(ytrain<0)"
   ]
  },
  {
   "cell_type": "code",
   "execution_count": 17,
   "metadata": {
    "collapsed": false
   },
   "outputs": [],
   "source": [
    "## Let's drop those three rows out, because they can't be helping our models:\n",
    "xtrain = xtrain[ytrain>0]\n",
    "ytrain = ytrain[ytrain>0]"
   ]
  },
  {
   "cell_type": "code",
   "execution_count": null,
   "metadata": {
    "collapsed": true
   },
   "outputs": [],
   "source": []
  },
  {
   "cell_type": "code",
   "execution_count": 27,
   "metadata": {
    "collapsed": false
   },
   "outputs": [
    {
     "name": "stdout",
     "output_type": "stream",
     "text": [
      "RMSE =  0.298501403843\n",
      "Improvement on original Linear Regression:  7.30058257015e-07\n",
      "CPU times: user 13.4 s, sys: 3.73 s, total: 17.1 s\n",
      "Wall time: 13.9 s\n"
     ]
    }
   ],
   "source": [
    "%%time\n",
    "LR = LinearRegression()\n",
    "LR.fit(xtrain, ytrain)\n",
    "# Prediction of LR on our test set\n",
    "LR_pred = LR.predict(xtest)\n",
    "LRimprovement(LR_pred)\n",
    "# RMSE(LR_pred, ytest)"
   ]
  },
  {
   "cell_type": "code",
   "execution_count": 28,
   "metadata": {
    "collapsed": false
   },
   "outputs": [
    {
     "name": "stdout",
     "output_type": "stream",
     "text": [
      "RMSE =  0.271364949307\n",
      "Improvement on original Random Forest:  1.62148765907e-05\n",
      "CPU times: user 30.7 s, sys: 767 ms, total: 31.5 s\n",
      "Wall time: 31.3 s\n"
     ]
    }
   ],
   "source": [
    "%%time\n",
    "RF = RandomForestRegressor()\n",
    "RF.fit(xtrain, ytrain)\n",
    "# Prediction of RF on the training set\n",
    "RF_pred = RF.predict(xtest)\n",
    "RFimprovement(RF_pred)\n",
    "# RMSE(RF_pred, ytest)"
   ]
  },
  {
   "cell_type": "code",
   "execution_count": null,
   "metadata": {
    "collapsed": true
   },
   "outputs": [],
   "source": [
    "## This didn't make much difference, but there is no reason to keep the rows with implausible gap values in our \n",
    "#      training set, so we will stick with this.  \n",
    "\n",
    "## Next, let's take a look at the features themselves.  \n"
   ]
  },
  {
   "cell_type": "code",
   "execution_count": 32,
   "metadata": {
    "collapsed": false
   },
   "outputs": [
    {
     "data": {
      "text/html": [
       "<div>\n",
       "<table border=\"1\" class=\"dataframe\">\n",
       "  <thead>\n",
       "    <tr style=\"text-align: right;\">\n",
       "      <th></th>\n",
       "      <th>feat_001</th>\n",
       "      <th>feat_002</th>\n",
       "      <th>feat_003</th>\n",
       "      <th>feat_004</th>\n",
       "      <th>feat_005</th>\n",
       "      <th>feat_006</th>\n",
       "      <th>feat_007</th>\n",
       "      <th>feat_008</th>\n",
       "      <th>feat_009</th>\n",
       "      <th>feat_010</th>\n",
       "      <th>...</th>\n",
       "      <th>feat_247</th>\n",
       "      <th>feat_248</th>\n",
       "      <th>feat_249</th>\n",
       "      <th>feat_250</th>\n",
       "      <th>feat_251</th>\n",
       "      <th>feat_252</th>\n",
       "      <th>feat_253</th>\n",
       "      <th>feat_254</th>\n",
       "      <th>feat_255</th>\n",
       "      <th>feat_256</th>\n",
       "    </tr>\n",
       "  </thead>\n",
       "  <tbody>\n",
       "    <tr>\n",
       "      <th>count</th>\n",
       "      <td>899997.000000</td>\n",
       "      <td>899997</td>\n",
       "      <td>899997</td>\n",
       "      <td>899997</td>\n",
       "      <td>899997.000000</td>\n",
       "      <td>899997.000000</td>\n",
       "      <td>899997.000000</td>\n",
       "      <td>899997</td>\n",
       "      <td>899997</td>\n",
       "      <td>899997</td>\n",
       "      <td>...</td>\n",
       "      <td>899997</td>\n",
       "      <td>899997.000000</td>\n",
       "      <td>899997</td>\n",
       "      <td>899997</td>\n",
       "      <td>899997.000000</td>\n",
       "      <td>899997.000000</td>\n",
       "      <td>899997</td>\n",
       "      <td>899997</td>\n",
       "      <td>899997</td>\n",
       "      <td>899997</td>\n",
       "    </tr>\n",
       "    <tr>\n",
       "      <th>mean</th>\n",
       "      <td>0.641930</td>\n",
       "      <td>0</td>\n",
       "      <td>0</td>\n",
       "      <td>0</td>\n",
       "      <td>0.999986</td>\n",
       "      <td>0.477699</td>\n",
       "      <td>0.975871</td>\n",
       "      <td>0</td>\n",
       "      <td>0</td>\n",
       "      <td>0</td>\n",
       "      <td>...</td>\n",
       "      <td>0</td>\n",
       "      <td>0.917416</td>\n",
       "      <td>0</td>\n",
       "      <td>0</td>\n",
       "      <td>0.218753</td>\n",
       "      <td>0.037247</td>\n",
       "      <td>0</td>\n",
       "      <td>0</td>\n",
       "      <td>0</td>\n",
       "      <td>0</td>\n",
       "    </tr>\n",
       "    <tr>\n",
       "      <th>std</th>\n",
       "      <td>0.479433</td>\n",
       "      <td>0</td>\n",
       "      <td>0</td>\n",
       "      <td>0</td>\n",
       "      <td>0.003801</td>\n",
       "      <td>0.499503</td>\n",
       "      <td>0.153450</td>\n",
       "      <td>0</td>\n",
       "      <td>0</td>\n",
       "      <td>0</td>\n",
       "      <td>...</td>\n",
       "      <td>0</td>\n",
       "      <td>0.275252</td>\n",
       "      <td>0</td>\n",
       "      <td>0</td>\n",
       "      <td>0.413401</td>\n",
       "      <td>0.189366</td>\n",
       "      <td>0</td>\n",
       "      <td>0</td>\n",
       "      <td>0</td>\n",
       "      <td>0</td>\n",
       "    </tr>\n",
       "    <tr>\n",
       "      <th>min</th>\n",
       "      <td>0.000000</td>\n",
       "      <td>0</td>\n",
       "      <td>0</td>\n",
       "      <td>0</td>\n",
       "      <td>0.000000</td>\n",
       "      <td>0.000000</td>\n",
       "      <td>0.000000</td>\n",
       "      <td>0</td>\n",
       "      <td>0</td>\n",
       "      <td>0</td>\n",
       "      <td>...</td>\n",
       "      <td>0</td>\n",
       "      <td>0.000000</td>\n",
       "      <td>0</td>\n",
       "      <td>0</td>\n",
       "      <td>0.000000</td>\n",
       "      <td>0.000000</td>\n",
       "      <td>0</td>\n",
       "      <td>0</td>\n",
       "      <td>0</td>\n",
       "      <td>0</td>\n",
       "    </tr>\n",
       "    <tr>\n",
       "      <th>25%</th>\n",
       "      <td>0.000000</td>\n",
       "      <td>0</td>\n",
       "      <td>0</td>\n",
       "      <td>0</td>\n",
       "      <td>1.000000</td>\n",
       "      <td>0.000000</td>\n",
       "      <td>1.000000</td>\n",
       "      <td>0</td>\n",
       "      <td>0</td>\n",
       "      <td>0</td>\n",
       "      <td>...</td>\n",
       "      <td>0</td>\n",
       "      <td>1.000000</td>\n",
       "      <td>0</td>\n",
       "      <td>0</td>\n",
       "      <td>0.000000</td>\n",
       "      <td>0.000000</td>\n",
       "      <td>0</td>\n",
       "      <td>0</td>\n",
       "      <td>0</td>\n",
       "      <td>0</td>\n",
       "    </tr>\n",
       "    <tr>\n",
       "      <th>50%</th>\n",
       "      <td>1.000000</td>\n",
       "      <td>0</td>\n",
       "      <td>0</td>\n",
       "      <td>0</td>\n",
       "      <td>1.000000</td>\n",
       "      <td>0.000000</td>\n",
       "      <td>1.000000</td>\n",
       "      <td>0</td>\n",
       "      <td>0</td>\n",
       "      <td>0</td>\n",
       "      <td>...</td>\n",
       "      <td>0</td>\n",
       "      <td>1.000000</td>\n",
       "      <td>0</td>\n",
       "      <td>0</td>\n",
       "      <td>0.000000</td>\n",
       "      <td>0.000000</td>\n",
       "      <td>0</td>\n",
       "      <td>0</td>\n",
       "      <td>0</td>\n",
       "      <td>0</td>\n",
       "    </tr>\n",
       "    <tr>\n",
       "      <th>75%</th>\n",
       "      <td>1.000000</td>\n",
       "      <td>0</td>\n",
       "      <td>0</td>\n",
       "      <td>0</td>\n",
       "      <td>1.000000</td>\n",
       "      <td>1.000000</td>\n",
       "      <td>1.000000</td>\n",
       "      <td>0</td>\n",
       "      <td>0</td>\n",
       "      <td>0</td>\n",
       "      <td>...</td>\n",
       "      <td>0</td>\n",
       "      <td>1.000000</td>\n",
       "      <td>0</td>\n",
       "      <td>0</td>\n",
       "      <td>0.000000</td>\n",
       "      <td>0.000000</td>\n",
       "      <td>0</td>\n",
       "      <td>0</td>\n",
       "      <td>0</td>\n",
       "      <td>0</td>\n",
       "    </tr>\n",
       "    <tr>\n",
       "      <th>max</th>\n",
       "      <td>1.000000</td>\n",
       "      <td>0</td>\n",
       "      <td>0</td>\n",
       "      <td>0</td>\n",
       "      <td>1.000000</td>\n",
       "      <td>1.000000</td>\n",
       "      <td>1.000000</td>\n",
       "      <td>0</td>\n",
       "      <td>0</td>\n",
       "      <td>0</td>\n",
       "      <td>...</td>\n",
       "      <td>0</td>\n",
       "      <td>1.000000</td>\n",
       "      <td>0</td>\n",
       "      <td>0</td>\n",
       "      <td>1.000000</td>\n",
       "      <td>1.000000</td>\n",
       "      <td>0</td>\n",
       "      <td>0</td>\n",
       "      <td>0</td>\n",
       "      <td>0</td>\n",
       "    </tr>\n",
       "  </tbody>\n",
       "</table>\n",
       "<p>8 rows × 256 columns</p>\n",
       "</div>"
      ],
      "text/plain": [
       "            feat_001  feat_002  feat_003  feat_004       feat_005  \\\n",
       "count  899997.000000    899997    899997    899997  899997.000000   \n",
       "mean        0.641930         0         0         0       0.999986   \n",
       "std         0.479433         0         0         0       0.003801   \n",
       "min         0.000000         0         0         0       0.000000   \n",
       "25%         0.000000         0         0         0       1.000000   \n",
       "50%         1.000000         0         0         0       1.000000   \n",
       "75%         1.000000         0         0         0       1.000000   \n",
       "max         1.000000         0         0         0       1.000000   \n",
       "\n",
       "            feat_006       feat_007  feat_008  feat_009  feat_010    ...     \\\n",
       "count  899997.000000  899997.000000    899997    899997    899997    ...      \n",
       "mean        0.477699       0.975871         0         0         0    ...      \n",
       "std         0.499503       0.153450         0         0         0    ...      \n",
       "min         0.000000       0.000000         0         0         0    ...      \n",
       "25%         0.000000       1.000000         0         0         0    ...      \n",
       "50%         0.000000       1.000000         0         0         0    ...      \n",
       "75%         1.000000       1.000000         0         0         0    ...      \n",
       "max         1.000000       1.000000         0         0         0    ...      \n",
       "\n",
       "       feat_247       feat_248  feat_249  feat_250       feat_251  \\\n",
       "count    899997  899997.000000    899997    899997  899997.000000   \n",
       "mean          0       0.917416         0         0       0.218753   \n",
       "std           0       0.275252         0         0       0.413401   \n",
       "min           0       0.000000         0         0       0.000000   \n",
       "25%           0       1.000000         0         0       0.000000   \n",
       "50%           0       1.000000         0         0       0.000000   \n",
       "75%           0       1.000000         0         0       0.000000   \n",
       "max           0       1.000000         0         0       1.000000   \n",
       "\n",
       "            feat_252  feat_253  feat_254  feat_255  feat_256  \n",
       "count  899997.000000    899997    899997    899997    899997  \n",
       "mean        0.037247         0         0         0         0  \n",
       "std         0.189366         0         0         0         0  \n",
       "min         0.000000         0         0         0         0  \n",
       "25%         0.000000         0         0         0         0  \n",
       "50%         0.000000         0         0         0         0  \n",
       "75%         0.000000         0         0         0         0  \n",
       "max         1.000000         0         0         0         0  \n",
       "\n",
       "[8 rows x 256 columns]"
      ]
     },
     "execution_count": 32,
     "metadata": {},
     "output_type": "execute_result"
    }
   ],
   "source": [
    "train_descrip = xtrain.describe()\n",
    "## Notice that some features have 0 values for all observations.  These columns contain no information, so perhaps\n",
    "##     we should remove these from the model.  We could remove these columns from the training set, train the model, \n",
    "##     then remove the same columns from the test set before making the predictions.  \n",
    "train_descrip"
   ]
  },
  {
   "cell_type": "code",
   "execution_count": 33,
   "metadata": {
    "collapsed": false
   },
   "outputs": [
    {
     "data": {
      "text/plain": [
       "225"
      ]
     },
     "execution_count": 33,
     "metadata": {},
     "output_type": "execute_result"
    }
   ],
   "source": [
    "## In fact, 225 features have zero mean\n",
    "sum(train_descrip.loc['mean']==0)"
   ]
  },
  {
   "cell_type": "code",
   "execution_count": 34,
   "metadata": {
    "collapsed": false
   },
   "outputs": [
    {
     "data": {
      "text/plain": [
       "0"
      ]
     },
     "execution_count": 34,
     "metadata": {},
     "output_type": "execute_result"
    }
   ],
   "source": [
    "## But none have a mean of 1\n",
    "sum(train_descrip.loc['mean']==1)"
   ]
  },
  {
   "cell_type": "code",
   "execution_count": 36,
   "metadata": {
    "collapsed": false
   },
   "outputs": [],
   "source": [
    "## Names of all the features that are all zeroes in the training set\n",
    "zeros = train_descrip.columns.values[np.array(train_descrip.loc['mean']==0)]"
   ]
  },
  {
   "cell_type": "code",
   "execution_count": 37,
   "metadata": {
    "collapsed": false
   },
   "outputs": [],
   "source": [
    "# Drop the columns that are filled with all zeroes\n",
    "xtrain = xtrain.drop(zeros, axis=1)\n",
    "xtest = xtest.drop(zeros, axis=1)"
   ]
  },
  {
   "cell_type": "code",
   "execution_count": 38,
   "metadata": {
    "collapsed": false
   },
   "outputs": [
    {
     "name": "stdout",
     "output_type": "stream",
     "text": [
      "RMSE =  0.298501008236\n",
      "Improvement on original Linear Regression:  1.12566556459e-06\n",
      "CPU times: user 1.66 s, sys: 281 ms, total: 1.94 s\n",
      "Wall time: 1.53 s\n"
     ]
    }
   ],
   "source": [
    "%%time\n",
    "# Fit a new linear regression on just these columns.  Note that the error is nearly identical.  This makes sense\n",
    "#    because presumably the coefficients for those columns are zero, or the values for those columns in the \n",
    "#    validation set are still zero.  \n",
    "LR = LinearRegression()\n",
    "LR.fit(xtrain, ytrain)\n",
    "LR_pred = LR.predict(xtest)\n",
    "LRimprovement(LR_pred)"
   ]
  },
  {
   "cell_type": "code",
   "execution_count": 39,
   "metadata": {
    "collapsed": false
   },
   "outputs": [
    {
     "name": "stdout",
     "output_type": "stream",
     "text": [
      "RMSE =  0.271354984236\n",
      "Improvement on original Random Forest:  2.61799471774e-05\n",
      "CPU times: user 22.1 s, sys: 182 ms, total: 22.2 s\n",
      "Wall time: 22 s\n"
     ]
    }
   ],
   "source": [
    "%%time\n",
    "## Let's see if this pattern holds for the Random Forest Regression.  \n",
    "RF = RandomForestRegressor()\n",
    "RF.fit(xtrain, ytrain)\n",
    "# Prediction of RF on the training set\n",
    "RF_pred = RF.predict(xtest)\n",
    "RFimprovement(RF_pred)"
   ]
  },
  {
   "cell_type": "code",
   "execution_count": 43,
   "metadata": {
    "collapsed": false,
    "scrolled": true
   },
   "outputs": [
    {
     "data": {
      "text/plain": [
       "array([  2.21173353e-02,   1.81377490e-01,  -3.65069424e+08,\n",
       "         2.67643705e-01,  -5.96347809e-02,   2.24324275e-01,\n",
       "         3.27869629e-01,  -2.20768335e-01,  -2.88212524e-01,\n",
       "        -1.82282045e-02,  -6.23139020e-02,  -9.47358714e-02,\n",
       "        -1.44188097e+08,  -4.31476123e-01,  -2.96213518e-02,\n",
       "         1.82046149e-02,  -1.78602675e-01,   4.05439338e-02,\n",
       "        -2.12827565e-02,  -6.59596074e-02,  -3.12987580e-01,\n",
       "         9.91659977e+10,  -9.91659977e+10,   1.90318568e-01,\n",
       "         1.44188097e+08,  -1.36830584e-01,   1.43435332e-01,\n",
       "         3.65069424e+08,  -7.13867052e-02,  -3.18902486e-01,\n",
       "        -7.33442063e-02])"
      ]
     },
     "execution_count": 43,
     "metadata": {},
     "output_type": "execute_result"
    }
   ],
   "source": [
    "## This didn't significantly improve the RMSE value of either model, but there is still no reason to keep those \n",
    "##    columns around as they are not informing any model that we develop.  \n",
    "\n",
    "## Look at the regression coefficients.  Notice that 6 of them have massive absolute values, on the order of 1e08-1e11.  \n",
    "##    Next, notice that the element in the 3rd and 28th position are exactly the opposite, as are the 13th and 25th,\n",
    "#     and 22nd and 23rd.  \n",
    "LR.coef_"
   ]
  },
  {
   "cell_type": "code",
   "execution_count": 44,
   "metadata": {
    "collapsed": true
   },
   "outputs": [],
   "source": [
    "## We can show that these features have identical values, and the regression simply assigns coefficients to cancel\n",
    "##    each other out.  "
   ]
  },
  {
   "cell_type": "code",
   "execution_count": 45,
   "metadata": {
    "collapsed": false,
    "scrolled": true
   },
   "outputs": [
    {
     "data": {
      "text/plain": [
       "0.0"
      ]
     },
     "execution_count": 45,
     "metadata": {},
     "output_type": "execute_result"
    }
   ],
   "source": [
    "np.sum(xtrain.iloc[:,21] - xtrain.iloc[:,22])"
   ]
  },
  {
   "cell_type": "code",
   "execution_count": 48,
   "metadata": {
    "collapsed": false,
    "scrolled": true
   },
   "outputs": [
    {
     "data": {
      "text/plain": [
       "0.0"
      ]
     },
     "execution_count": 48,
     "metadata": {},
     "output_type": "execute_result"
    }
   ],
   "source": [
    "np.sum(xtrain.iloc[:,27] - xtrain.iloc[:,2])"
   ]
  },
  {
   "cell_type": "code",
   "execution_count": 49,
   "metadata": {
    "collapsed": false
   },
   "outputs": [
    {
     "data": {
      "text/plain": [
       "0.0"
      ]
     },
     "execution_count": 49,
     "metadata": {},
     "output_type": "execute_result"
    }
   ],
   "source": [
    "np.sum(xtrain.iloc[:,12] - xtrain.iloc[:,24])"
   ]
  },
  {
   "cell_type": "code",
   "execution_count": 56,
   "metadata": {
    "collapsed": false
   },
   "outputs": [
    {
     "data": {
      "text/plain": [
       "Index([u'feat_200', u'feat_006', u'feat_218'], dtype='object')"
      ]
     },
     "execution_count": 56,
     "metadata": {},
     "output_type": "execute_result"
    }
   ],
   "source": []
  },
  {
   "cell_type": "code",
   "execution_count": 57,
   "metadata": {
    "collapsed": false
   },
   "outputs": [],
   "source": [
    "## These are the names of the columns that have LR coefficients less than one.  This includes the features that are\n",
    "###    assigned low importance and the redundant features.\n",
    "dropcols = xtrain.columns[[22,2,24]]\n",
    "xtrain_reduced = xtrain.drop(dropcols, axis=1)"
   ]
  },
  {
   "cell_type": "code",
   "execution_count": 60,
   "metadata": {
    "collapsed": false,
    "scrolled": true
   },
   "outputs": [
    {
     "name": "stdout",
     "output_type": "stream",
     "text": [
      "RMSE =  0.298500632144\n",
      "Improvement on original Linear Regression:  1.5017577622e-06\n",
      "CPU times: user 1.53 s, sys: 268 ms, total: 1.8 s\n",
      "Wall time: 1.45 s\n"
     ]
    }
   ],
   "source": [
    "%%time\n",
    "## Now we do the same column removal to the validation set and test its effect on the models.  \n",
    "xtest_reduced = xtest.drop(dropcols, axis=1)\n",
    "\n",
    "LR = LinearRegression()\n",
    "LR.fit(xtrain_reduced, ytrain)\n",
    "LR_pred = LR.predict(xtest_reduced)\n",
    "LRimprovement(LR_pred)"
   ]
  },
  {
   "cell_type": "code",
   "execution_count": 66,
   "metadata": {
    "collapsed": false
   },
   "outputs": [
    {
     "name": "stdout",
     "output_type": "stream",
     "text": [
      "RMSE =  0.271369101421\n",
      "Improvement on original Random Forest:  1.20627623686e-05\n",
      "CPU times: user 20.9 s, sys: 194 ms, total: 21.1 s\n",
      "Wall time: 21.1 s\n"
     ]
    }
   ],
   "source": [
    "%%time\n",
    "RF = RandomForestRegressor()\n",
    "RF.fit(xtrain_reduced, ytrain)\n",
    "RF_pred = RF.predict(xtest_reduced)\n",
    "RFimprovement(RF_pred)"
   ]
  },
  {
   "cell_type": "code",
   "execution_count": null,
   "metadata": {
    "collapsed": true
   },
   "outputs": [],
   "source": []
  },
  {
   "cell_type": "code",
   "execution_count": null,
   "metadata": {
    "collapsed": true
   },
   "outputs": [],
   "source": [
    "## Next, we look at how PCA changes the performance of the models:"
   ]
  },
  {
   "cell_type": "code",
   "execution_count": 86,
   "metadata": {
    "collapsed": true
   },
   "outputs": [],
   "source": [
    "# Make two lists to store improvement values of the models on pca-transformed data\n",
    "lr_pca = [10] # 0th element has nonsense value\n",
    "rf_pca = [10]"
   ]
  },
  {
   "cell_type": "code",
   "execution_count": 87,
   "metadata": {
    "collapsed": false,
    "scrolled": true
   },
   "outputs": [
    {
     "name": "stdout",
     "output_type": "stream",
     "text": [
      "RMSE =  0.400562973676\n",
      "Improvement on original Linear Regression:  -0.102060839775\n",
      "RMSE =  0.271489329173\n",
      "Improvement on original Random Forest:  -0.000108164990031\n",
      "RMSE =  0.400184814218\n",
      "Improvement on original Linear Regression:  -0.101682680316\n",
      "RMSE =  0.271408440308\n",
      "Improvement on original Random Forest:  -2.72761247125e-05\n",
      "RMSE =  0.376814983764\n",
      "Improvement on original Linear Regression:  -0.0783128498626\n",
      "RMSE =  0.271395940436\n",
      "Improvement on original Random Forest:  -1.47762523914e-05\n",
      "RMSE =  0.376750152263\n",
      "Improvement on original Linear Regression:  -0.0782480183617\n",
      "RMSE =  0.271371323217\n",
      "Improvement on original Random Forest:  9.8409656869e-06\n",
      "RMSE =  0.346639600485\n",
      "Improvement on original Linear Regression:  -0.0481374665835\n",
      "RMSE =  0.271363220534\n",
      "Improvement on original Random Forest:  1.79436487533e-05\n",
      "RMSE =  0.34650256105\n",
      "Improvement on original Linear Regression:  -0.048000427148\n",
      "RMSE =  0.271347458613\n",
      "Improvement on original Random Forest:  3.37055702034e-05\n",
      "RMSE =  0.321184300739\n",
      "Improvement on original Linear Regression:  -0.0226821668374\n",
      "RMSE =  0.271366411624\n",
      "Improvement on original Random Forest:  1.47525595568e-05\n",
      "RMSE =  0.320022917739\n",
      "Improvement on original Linear Regression:  -0.0215207838371\n",
      "RMSE =  0.271383107801\n",
      "Improvement on original Random Forest:  -1.94361752232e-06\n",
      "RMSE =  0.312247966754\n",
      "Improvement on original Linear Regression:  -0.0137458328525\n",
      "RMSE =  0.271350589165\n",
      "Improvement on original Random Forest:  3.05750182688e-05\n",
      "RMSE =  0.312233224186\n",
      "Improvement on original Linear Regression:  -0.0137310902847\n",
      "RMSE =  0.271362969079\n",
      "Improvement on original Random Forest:  1.81951041801e-05\n",
      "RMSE =  0.312039128043\n",
      "Improvement on original Linear Regression:  -0.0135369941416\n",
      "RMSE =  0.271381465579\n",
      "Improvement on original Random Forest:  -3.01395505276e-07\n",
      "RMSE =  0.311637932931\n",
      "Improvement on original Linear Regression:  -0.0131357990292\n",
      "RMSE =  0.271376163541\n",
      "Improvement on original Random Forest:  5.00064168657e-06\n",
      "RMSE =  0.311632849393\n",
      "Improvement on original Linear Regression:  -0.0131307154911\n",
      "RMSE =  0.271363467743\n",
      "Improvement on original Random Forest:  1.76964405805e-05\n",
      "RMSE =  0.310529867254\n",
      "Improvement on original Linear Regression:  -0.0120277333528\n",
      "RMSE =  0.271357990503\n",
      "Improvement on original Random Forest:  2.31736801375e-05\n",
      "RMSE =  0.305042930976\n",
      "Improvement on original Linear Regression:  -0.00654079707387\n",
      "RMSE =  0.271362146062\n",
      "Improvement on original Random Forest:  1.90181215255e-05\n",
      "RMSE =  0.304740934844\n",
      "Improvement on original Linear Regression:  -0.00623880094191\n",
      "RMSE =  0.271353010667\n",
      "Improvement on original Random Forest:  2.81535158408e-05\n",
      "RMSE =  0.302330512434\n",
      "Improvement on original Linear Regression:  -0.0038283785323\n",
      "RMSE =  0.271352674638\n",
      "Improvement on original Random Forest:  2.84895447671e-05\n",
      "RMSE =  0.301784107931\n",
      "Improvement on original Linear Regression:  -0.00328197402957\n",
      "RMSE =  0.271398714601\n",
      "Improvement on original Random Forest:  -1.75504181838e-05\n",
      "RMSE =  0.30157412896\n",
      "Improvement on original Linear Regression:  -0.00307199505793\n",
      "RMSE =  0.271342385687\n",
      "Improvement on original Random Forest:  3.87784959234e-05\n",
      "RMSE =  0.301555580741\n",
      "Improvement on original Linear Regression:  -0.00305344683896\n",
      "RMSE =  0.27136592197\n",
      "Improvement on original Random Forest:  1.52422130487e-05\n",
      "RMSE =  0.301554465131\n",
      "Improvement on original Linear Regression:  -0.00305233122905\n",
      "RMSE =  0.271352843326\n",
      "Improvement on original Random Forest:  2.83208575531e-05\n",
      "RMSE =  0.299947677456\n",
      "Improvement on original Linear Regression:  -0.00144554355412\n",
      "RMSE =  0.271372765886\n",
      "Improvement on original Random Forest:  8.39829693183e-06\n",
      "RMSE =  0.299194741997\n",
      "Improvement on original Linear Regression:  -0.000692608095255\n",
      "RMSE =  0.271347971428\n",
      "Improvement on original Random Forest:  3.31927548398e-05\n",
      "RMSE =  0.298889043326\n",
      "Improvement on original Linear Regression:  -0.000386909423892\n",
      "RMSE =  0.271339788042\n",
      "Improvement on original Random Forest:  4.13761414352e-05\n",
      "RMSE =  0.298869731851\n",
      "Improvement on original Linear Regression:  -0.00036759794911\n",
      "RMSE =  0.271374094854\n",
      "Improvement on original Random Forest:  7.06932879602e-06\n",
      "RMSE =  0.298496159881\n",
      "Improvement on original Linear Regression:  5.97402079155e-06\n",
      "RMSE =  0.271387168063\n",
      "Improvement on original Random Forest:  -6.00387971011e-06\n",
      "RMSE =  0.298500892931\n",
      "Improvement on original Linear Regression:  1.24097023441e-06\n",
      "RMSE =  0.271375345695\n",
      "Improvement on original Random Forest:  5.81848854675e-06\n",
      "RMSE =  0.298500632144\n",
      "Improvement on original Linear Regression:  1.50175776126e-06\n",
      "RMSE =  0.271376966594\n",
      "Improvement on original Random Forest:  4.1975894845e-06\n",
      "RMSE =  0.298500575822\n",
      "Improvement on original Linear Regression:  1.55807956526e-06\n",
      "RMSE =  0.271347179276\n",
      "Improvement on original Random Forest:  3.39849072014e-05\n",
      "RMSE =  0.298500554661\n",
      "Improvement on original Linear Regression:  1.57924037952e-06\n",
      "RMSE =  0.27135325563\n",
      "Improvement on original Random Forest:  2.79085529087e-05\n",
      "RMSE =  0.29850099239\n",
      "Improvement on original Linear Regression:  1.14151135672e-06\n",
      "RMSE =  0.271382127759\n",
      "Improvement on original Random Forest:  -9.63575537971e-07\n",
      "CPU times: user 27min 1s, sys: 21.7 s, total: 27min 23s\n",
      "Wall time: 27min\n"
     ]
    }
   ],
   "source": [
    "%%time\n",
    "for i in range(1,32):\n",
    "    pca = PCA(n_components=i)\n",
    "    x_pca = pca.fit_transform(xtrain)\n",
    "    xtest_pca = pca.transform(xtest)\n",
    "    \n",
    "    LR = LinearRegression()\n",
    "    LR.fit(x_pca, ytrain)\n",
    "    LR_pred = LR.predict(xtest_pca)\n",
    "    lr_pca.append(LRimprovement(LR_pred))\n",
    "    \n",
    "    RF = RandomForestRegressor()\n",
    "    RF.fit(x_pca, ytrain)\n",
    "    RF_pred = RF.predict(xtest_pca)\n",
    "    rf_pca.append(RFimprovement(RF_pred))\n",
    "    "
   ]
  },
  {
   "cell_type": "code",
   "execution_count": 88,
   "metadata": {
    "collapsed": false,
    "scrolled": true
   },
   "outputs": [
    {
     "data": {
      "text/plain": [
       "[<matplotlib.lines.Line2D at 0x131848350>]"
      ]
     },
     "execution_count": 88,
     "metadata": {},
     "output_type": "execute_result"
    },
    {
     "data": {
      "image/png": "[encoded data removed]",
      "text/plain": [
       "<matplotlib.figure.Figure at 0x184992f10>"
      ]
     },
     "metadata": {},
     "output_type": "display_data"
    }
   ],
   "source": [
    "plt.plot(lr_pca[1:])"
   ]
  },
  {
   "cell_type": "code",
   "execution_count": 89,
   "metadata": {
    "collapsed": false,
    "scrolled": true
   },
   "outputs": [
    {
     "data": {
      "text/plain": [
       "[<matplotlib.lines.Line2D at 0x1848fabd0>]"
      ]
     },
     "execution_count": 89,
     "metadata": {},
     "output_type": "execute_result"
    },
    {
     "data": {
      "image/png": "[encoded data removed]",
      "text/plain": [
       "<matplotlib.figure.Figure at 0x146e40d10>"
      ]
     },
     "metadata": {},
     "output_type": "display_data"
    }
   ],
   "source": [
    "plt.plot(rf_pca[1:])"
   ]
  },
  {
   "cell_type": "code",
   "execution_count": 123,
   "metadata": {
    "collapsed": false
   },
   "outputs": [
    {
     "data": {
      "image/png": "[encoded data removed]",
      "text/plain": [
       "<matplotlib.figure.Figure at 0x113bc6410>"
      ]
     },
     "metadata": {},
     "output_type": "display_data"
    }
   ],
   "source": [
    "fig, axes = plt.subplots(nrows=1, ncols=2, figsize=(15,4))\n",
    "\n",
    "for ax, j, title in zip(axes.ravel(), [lr_pca, rf_pca], ['RMSE Improvement for LR', 'RMSE Improvement for RF']):\n",
    "    ax.plot(range(1,32),j[1:])\n",
    "    ax.set_title(title);\n",
    "    ax.set_xlabel('Number of Components')\n",
    "    ax.set_ylabel('RMSE Improvement over Baseline')\n",
    "    ax.set_xlim((1,31))\n"
   ]
  },
  {
   "cell_type": "code",
   "execution_count": 9,
   "metadata": {
    "collapsed": false
   },
   "outputs": [],
   "source": [
    "m = df_train['smiles'][0]"
   ]
  },
  {
   "cell_type": "code",
   "execution_count": null,
   "metadata": {
    "collapsed": true
   },
   "outputs": [],
   "source": []
  },
  {
   "cell_type": "code",
   "execution_count": null,
   "metadata": {
    "collapsed": true
   },
   "outputs": [],
   "source": []
  },
  {
   "cell_type": "code",
   "execution_count": null,
   "metadata": {
    "collapsed": true
   },
   "outputs": [],
   "source": []
  },
  {
   "cell_type": "code",
   "execution_count": null,
   "metadata": {
    "collapsed": true
   },
   "outputs": [],
   "source": []
  },
  {
   "cell_type": "code",
   "execution_count": null,
   "metadata": {
    "collapsed": true
   },
   "outputs": [],
   "source": []
  },
  {
   "cell_type": "code",
   "execution_count": null,
   "metadata": {
    "collapsed": true
   },
   "outputs": [],
   "source": [
    "### From the sample notebook:  "
   ]
  },
  {
   "cell_type": "code",
   "execution_count": 3,
   "metadata": {
    "collapsed": false
   },
   "outputs": [],
   "source": [
    "\"\"\"\n",
    "Read in train and test as Pandas DataFrames\n",
    "\"\"\"\n",
    "df_train = pd.read_csv(\"train.csv\")\n",
    "df_test = pd.read_csv(\"test.csv\")"
   ]
  },
  {
   "cell_type": "code",
   "execution_count": 6,
   "metadata": {
    "collapsed": false
   },
   "outputs": [
    {
     "data": {
      "text/html": [
       "<div>\n",
       "<table border=\"1\" class=\"dataframe\">\n",
       "  <thead>\n",
       "    <tr style=\"text-align: right;\">\n",
       "      <th></th>\n",
       "      <th>smiles</th>\n",
       "      <th>feat_001</th>\n",
       "      <th>feat_002</th>\n",
       "      <th>feat_003</th>\n",
       "      <th>feat_004</th>\n",
       "      <th>feat_005</th>\n",
       "      <th>feat_006</th>\n",
       "      <th>feat_007</th>\n",
       "      <th>feat_008</th>\n",
       "      <th>feat_009</th>\n",
       "      <th>...</th>\n",
       "      <th>feat_247</th>\n",
       "      <th>feat_248</th>\n",
       "      <th>feat_249</th>\n",
       "      <th>feat_250</th>\n",
       "      <th>feat_251</th>\n",
       "      <th>feat_252</th>\n",
       "      <th>feat_253</th>\n",
       "      <th>feat_254</th>\n",
       "      <th>feat_255</th>\n",
       "      <th>feat_256</th>\n",
       "    </tr>\n",
       "  </thead>\n",
       "  <tbody>\n",
       "    <tr>\n",
       "      <th>0</th>\n",
       "      <td>c1ccc(o1)-c1ccc(s1)-c1cnc(-c2scc3[se]ccc23)c2n...</td>\n",
       "      <td>0</td>\n",
       "      <td>0</td>\n",
       "      <td>0</td>\n",
       "      <td>0</td>\n",
       "      <td>1</td>\n",
       "      <td>0</td>\n",
       "      <td>1</td>\n",
       "      <td>0</td>\n",
       "      <td>0</td>\n",
       "      <td>...</td>\n",
       "      <td>0</td>\n",
       "      <td>1</td>\n",
       "      <td>0</td>\n",
       "      <td>0</td>\n",
       "      <td>0</td>\n",
       "      <td>0</td>\n",
       "      <td>0</td>\n",
       "      <td>0</td>\n",
       "      <td>0</td>\n",
       "      <td>0</td>\n",
       "    </tr>\n",
       "    <tr>\n",
       "      <th>1</th>\n",
       "      <td>C1=CC=C(C1)c1cc2ncc3c4[SiH2]C=Cc4ncc3c2c2=C[Si...</td>\n",
       "      <td>1</td>\n",
       "      <td>0</td>\n",
       "      <td>0</td>\n",
       "      <td>0</td>\n",
       "      <td>1</td>\n",
       "      <td>0</td>\n",
       "      <td>1</td>\n",
       "      <td>0</td>\n",
       "      <td>0</td>\n",
       "      <td>...</td>\n",
       "      <td>0</td>\n",
       "      <td>1</td>\n",
       "      <td>0</td>\n",
       "      <td>0</td>\n",
       "      <td>1</td>\n",
       "      <td>0</td>\n",
       "      <td>0</td>\n",
       "      <td>0</td>\n",
       "      <td>0</td>\n",
       "      <td>0</td>\n",
       "    </tr>\n",
       "    <tr>\n",
       "      <th>2</th>\n",
       "      <td>[nH]1c-2c([SiH2]c3cc(-c4scc5C=CCc45)c4nsnc4c-2...</td>\n",
       "      <td>1</td>\n",
       "      <td>0</td>\n",
       "      <td>0</td>\n",
       "      <td>0</td>\n",
       "      <td>1</td>\n",
       "      <td>1</td>\n",
       "      <td>1</td>\n",
       "      <td>0</td>\n",
       "      <td>0</td>\n",
       "      <td>...</td>\n",
       "      <td>0</td>\n",
       "      <td>1</td>\n",
       "      <td>0</td>\n",
       "      <td>0</td>\n",
       "      <td>0</td>\n",
       "      <td>1</td>\n",
       "      <td>0</td>\n",
       "      <td>0</td>\n",
       "      <td>0</td>\n",
       "      <td>0</td>\n",
       "    </tr>\n",
       "    <tr>\n",
       "      <th>3</th>\n",
       "      <td>[nH]1c2-c3occc3Cc2c2c1cc(-c1cccc3=C[SiH2]C=c13...</td>\n",
       "      <td>1</td>\n",
       "      <td>0</td>\n",
       "      <td>0</td>\n",
       "      <td>0</td>\n",
       "      <td>1</td>\n",
       "      <td>1</td>\n",
       "      <td>1</td>\n",
       "      <td>0</td>\n",
       "      <td>0</td>\n",
       "      <td>...</td>\n",
       "      <td>0</td>\n",
       "      <td>1</td>\n",
       "      <td>0</td>\n",
       "      <td>0</td>\n",
       "      <td>0</td>\n",
       "      <td>1</td>\n",
       "      <td>0</td>\n",
       "      <td>0</td>\n",
       "      <td>0</td>\n",
       "      <td>0</td>\n",
       "    </tr>\n",
       "    <tr>\n",
       "      <th>4</th>\n",
       "      <td>c1cnc2c3oc4cc(-c5ncncn5)c5nsnc5c4c3c3cocc3c2c1</td>\n",
       "      <td>0</td>\n",
       "      <td>0</td>\n",
       "      <td>0</td>\n",
       "      <td>0</td>\n",
       "      <td>1</td>\n",
       "      <td>0</td>\n",
       "      <td>1</td>\n",
       "      <td>0</td>\n",
       "      <td>0</td>\n",
       "      <td>...</td>\n",
       "      <td>0</td>\n",
       "      <td>1</td>\n",
       "      <td>0</td>\n",
       "      <td>0</td>\n",
       "      <td>0</td>\n",
       "      <td>0</td>\n",
       "      <td>0</td>\n",
       "      <td>0</td>\n",
       "      <td>0</td>\n",
       "      <td>0</td>\n",
       "    </tr>\n",
       "  </tbody>\n",
       "</table>\n",
       "<p>5 rows × 257 columns</p>\n",
       "</div>"
      ],
      "text/plain": [
       "                                              smiles  feat_001  feat_002  \\\n",
       "0  c1ccc(o1)-c1ccc(s1)-c1cnc(-c2scc3[se]ccc23)c2n...         0         0   \n",
       "1  C1=CC=C(C1)c1cc2ncc3c4[SiH2]C=Cc4ncc3c2c2=C[Si...         1         0   \n",
       "2  [nH]1c-2c([SiH2]c3cc(-c4scc5C=CCc45)c4nsnc4c-2...         1         0   \n",
       "3  [nH]1c2-c3occc3Cc2c2c1cc(-c1cccc3=C[SiH2]C=c13...         1         0   \n",
       "4     c1cnc2c3oc4cc(-c5ncncn5)c5nsnc5c4c3c3cocc3c2c1         0         0   \n",
       "\n",
       "   feat_003  feat_004  feat_005  feat_006  feat_007  feat_008  feat_009  \\\n",
       "0         0         0         1         0         1         0         0   \n",
       "1         0         0         1         0         1         0         0   \n",
       "2         0         0         1         1         1         0         0   \n",
       "3         0         0         1         1         1         0         0   \n",
       "4         0         0         1         0         1         0         0   \n",
       "\n",
       "     ...     feat_247  feat_248  feat_249  feat_250  feat_251  feat_252  \\\n",
       "0    ...            0         1         0         0         0         0   \n",
       "1    ...            0         1         0         0         1         0   \n",
       "2    ...            0         1         0         0         0         1   \n",
       "3    ...            0         1         0         0         0         1   \n",
       "4    ...            0         1         0         0         0         0   \n",
       "\n",
       "   feat_253  feat_254  feat_255  feat_256  \n",
       "0         0         0         0         0  \n",
       "1         0         0         0         0  \n",
       "2         0         0         0         0  \n",
       "3         0         0         0         0  \n",
       "4         0         0         0         0  \n",
       "\n",
       "[5 rows x 257 columns]"
      ]
     },
     "execution_count": 6,
     "metadata": {},
     "output_type": "execute_result"
    }
   ],
   "source": [
    "#DataFrame with all train and test examples so we can more easily apply feature engineering on\n",
    "df_all = pd.concat((df_train, df_test), axis=0)\n",
    "df_all.head()"
   ]
  },
  {
   "cell_type": "code",
   "execution_count": 8,
   "metadata": {
    "collapsed": false
   },
   "outputs": [
    {
     "name": "stdout",
     "output_type": "stream",
     "text": [
      "Train features: (1000000, 256)\n",
      "Train gap: (1000000,)\n",
      "Test features: (824230, 256)\n"
     ]
    }
   ],
   "source": [
    "#Drop the 'smiles' column\n",
    "df_all = df_all.drop(['smiles'], axis=1)\n",
    "vals = df_all.values\n",
    "X_train = vals[:test_idx]\n",
    "X_test = vals[test_idx:]\n",
    "print \"Train features:\", X_train.shape\n",
    "print \"Train gap:\", Y_train.shape\n",
    "print \"Test features:\", X_test.shape"
   ]
  },
  {
   "cell_type": "code",
   "execution_count": 48,
   "metadata": {
    "collapsed": true
   },
   "outputs": [],
   "source": [
    "write_to_file(\"sample1.csv\", LR_pred)\n",
    "write_to_file(\"sample2.csv\", RF_pred)"
   ]
  },
  {
   "cell_type": "code",
   "execution_count": 5,
   "metadata": {
    "collapsed": false
   },
   "outputs": [],
   "source": [
    "#store gap values\n",
    "Y_train = df_train.gap.values\n",
    "#row where testing examples start\n",
    "test_idx = df_train.shape[0]\n",
    "#delete 'Id' column\n",
    "df_test = df_test.drop(['Id'], axis=1)\n",
    "#delete 'gap' column\n",
    "df_train = df_train.drop(['gap'], axis=1)"
   ]
  },
  {
   "cell_type": "code",
   "execution_count": 12,
   "metadata": {
    "collapsed": false
   },
   "outputs": [],
   "source": [
    "def write_to_file(filename, predictions):\n",
    "    with open(filename, \"w\") as f:\n",
    "        f.write(\"Id,Prediction\\n\")\n",
    "        for i,p in enumerate(predictions):\n",
    "            f.write(str(i+1) + \",\" + str(p) + \"\\n\")"
   ]
  }
 ],
 "metadata": {
  "kernelspec": {
   "display_name": "Python 2",
   "language": "python",
   "name": "python2"
  },
  "language_info": {
   "codemirror_mode": {
    "name": "ipython",
    "version": 2
   },
   "file_extension": ".py",
   "mimetype": "text/x-python",
   "name": "python",
   "nbconvert_exporter": "python",
   "pygments_lexer": "ipython2",
   "version": "2.7.11"
  }
 },
 "nbformat": 4,
 "nbformat_minor": 0
}
