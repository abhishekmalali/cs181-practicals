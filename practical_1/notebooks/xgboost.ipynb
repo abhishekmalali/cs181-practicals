{
 "cells": [
  {
   "cell_type": "code",
   "execution_count": 34,
   "metadata": {
    "collapsed": true
   },
   "outputs": [],
   "source": [
    "import pandas as pd\n",
    "import numpy as np\n",
    "import matplotlib.pyplot as plt\n",
    "%matplotlib inline\n",
    "from harness import RMSE"
   ]
  },
  {
   "cell_type": "code",
   "execution_count": 2,
   "metadata": {
    "collapsed": true
   },
   "outputs": [],
   "source": [
    "from sklearn.cross_validation import train_test_split\n",
    "import xgboost as xgb"
   ]
  },
  {
   "cell_type": "code",
   "execution_count": 14,
   "metadata": {
    "collapsed": true
   },
   "outputs": [],
   "source": [
    "##Loading training set\n",
    "train_df = pd.read_csv('../data/train_new_features.csv')"
   ]
  },
  {
   "cell_type": "code",
   "execution_count": 15,
   "metadata": {
    "collapsed": true
   },
   "outputs": [],
   "source": [
    "def elem_counts(df):\n",
    "    df['len_smiles'] = df['smiles'].str.len()\n",
    "    elements = ['nH', 'n', 'c', 'c1', 'Si', 'SiH2', '=', '-', 'CC', 'ncc', 'C1', 'C', 'H', 'cc', 'ccc', 'cccc', 'cc1',\\\n",
    "           '(C1)', '(c1)', '(o1)', '(s1)', 'nc', 'c12', 'c2', 'c1cc', '(cc1)', 'c2C', 'cc3', 'oc', 'ncc', 'C1=C',\\\n",
    "                'C=c', 'C=C', 'ccn', 'c3', '[se]', '=CCC=', 'c21', 'c1c', 'cn', 'c4c', 'c3c', 'coc',\\\n",
    "               'ccccc', '[SiH2]C', 'cc4', 'sc', 'cccnc', 'cnc', 'scc', 'c1s', 'cc4', 'sc2', '2c2', 'c5', 'c6',\\\n",
    "               'c2c', '[nH]c', 'cnc4', 'C1=C', 'Cc', 'nsnc', 'sccc', 'cocc', '(o2)', '(cn1)']\n",
    "    iterator = 0\n",
    "    for elem in elements:\n",
    "        col_name = 'count_' + str(iterator)\n",
    "        df[col_name] = df['smiles'].str.count(elem)\n",
    "        iterator += 1\n",
    "    return df"
   ]
  },
  {
   "cell_type": "code",
   "execution_count": 16,
   "metadata": {
    "collapsed": true
   },
   "outputs": [],
   "source": [
    "train_df = elem_counts(train_df)"
   ]
  },
  {
   "cell_type": "code",
   "execution_count": 17,
   "metadata": {
    "collapsed": false
   },
   "outputs": [
    {
     "name": "stdout",
     "output_type": "stream",
     "text": [
      "(900000, 108) (100000, 108)\n"
     ]
    }
   ],
   "source": [
    "train_cols = train_df.columns\n",
    "train_cols = train_cols.difference(['smiles', 'gap', 'Unnamed: 0'])\n",
    "X = train_df[train_cols]\n",
    "y = train_df['gap']\n",
    "X_train, X_test, y_train, y_test = train_test_split(X, y, test_size=0.10, random_state=1)\n",
    "print X_train.shape, X_test.shape"
   ]
  },
  {
   "cell_type": "code",
   "execution_count": 25,
   "metadata": {
    "collapsed": true
   },
   "outputs": [],
   "source": [
    "####Split into validation and training list\n",
    "X_train, X_val, y_train, y_val = train_test_split(X_train, y_train, test_size=0.20, random_state=1)"
   ]
  },
  {
   "cell_type": "code",
   "execution_count": 26,
   "metadata": {
    "collapsed": false
   },
   "outputs": [],
   "source": [
    "dtrain = xgb.DMatrix(X_train, label=y_train)"
   ]
  },
  {
   "cell_type": "code",
   "execution_count": 27,
   "metadata": {
    "collapsed": false
   },
   "outputs": [],
   "source": [
    "dval = xgb.DMatrix(X_val, label=y_val)"
   ]
  },
  {
   "cell_type": "code",
   "execution_count": 84,
   "metadata": {
    "collapsed": true
   },
   "outputs": [],
   "source": [
    "param = {'bst:max_depth':10, 'bst:eta':1, 'bst:min_child_weight':0.9, 'silent':1, 'objective':'reg:linear', 'nthreads':4 }\n",
    "param['eval_metric'] = 'rmse'"
   ]
  },
  {
   "cell_type": "code",
   "execution_count": 85,
   "metadata": {
    "collapsed": true
   },
   "outputs": [],
   "source": [
    "evallist  = [(dval,'eval'), (dtrain,'train')]"
   ]
  },
  {
   "cell_type": "code",
   "execution_count": 86,
   "metadata": {
    "collapsed": false
   },
   "outputs": [
    {
     "name": "stderr",
     "output_type": "stream",
     "text": [
      "[0]\teval-rmse:0.185110\ttrain-rmse:0.183348\n",
      "[1]\teval-rmse:0.171535\ttrain-rmse:0.168855\n",
      "[2]\teval-rmse:0.160881\ttrain-rmse:0.157420\n",
      "[3]\teval-rmse:0.156310\ttrain-rmse:0.152266\n",
      "[4]\teval-rmse:0.150974\ttrain-rmse:0.146312\n",
      "[5]\teval-rmse:0.148647\ttrain-rmse:0.143514\n",
      "[6]\teval-rmse:0.145893\ttrain-rmse:0.140089\n",
      "[7]\teval-rmse:0.144890\ttrain-rmse:0.138681\n",
      "[8]\teval-rmse:0.142372\ttrain-rmse:0.135573\n",
      "[9]\teval-rmse:0.141279\ttrain-rmse:0.134160\n"
     ]
    }
   ],
   "source": [
    "num_round = 10\n",
    "bst = xgb.train( param, dtrain, num_round, evallist )"
   ]
  },
  {
   "cell_type": "code",
   "execution_count": 92,
   "metadata": {
    "collapsed": true
   },
   "outputs": [],
   "source": [
    "tree = xgb.XGBRegressor()"
   ]
  },
  {
   "cell_type": "code",
   "execution_count": 98,
   "metadata": {
    "collapsed": false
   },
   "outputs": [],
   "source": [
    "tree.fit(X_train,y_train, eval_metric=\"rmse\",early_stopping_rounds=10,eval_set=[(X_val, y_val)])"
   ]
  },
  {
   "cell_type": "code",
   "execution_count": 96,
   "metadata": {
    "collapsed": false
   },
   "outputs": [],
   "source": [
    "#dtest = xgb.DMatrix(X_test)\n",
    "ypred = tree.predict(X_test)"
   ]
  },
  {
   "cell_type": "code",
   "execution_count": 97,
   "metadata": {
    "collapsed": false
   },
   "outputs": [
    {
     "name": "stdout",
     "output_type": "stream",
     "text": [
      "RMSE =  0.185053335332\n"
     ]
    },
    {
     "data": {
      "text/plain": [
       "0.18505333533203822"
      ]
     },
     "execution_count": 97,
     "metadata": {},
     "output_type": "execute_result"
    }
   ],
   "source": [
    "RMSE(y_test, ypred)"
   ]
  },
  {
   "cell_type": "code",
   "execution_count": 75,
   "metadata": {
    "collapsed": true
   },
   "outputs": [],
   "source": [
    "## Readying test data\n",
    "test_df = pd.read_csv('../data/test_new_features.csv')\n",
    "test_df = elem_counts(test_df)\n",
    "test_cols = test_df.columns\n",
    "test_cols = test_cols.difference(['smiles', 'smiles_mol', 'Unnamed: 0'])\n",
    "test_data = test_df[train_cols]"
   ]
  },
  {
   "cell_type": "code",
   "execution_count": 76,
   "metadata": {
    "collapsed": true
   },
   "outputs": [],
   "source": [
    "test_pred = bst.predict(xgb.DMatrix(test_data))"
   ]
  },
  {
   "cell_type": "code",
   "execution_count": 78,
   "metadata": {
    "collapsed": true
   },
   "outputs": [],
   "source": [
    "#Saving to file\n",
    "out_df = pd.DataFrame({'Id':np.array(test_df.index), 'Prediction': test_pred})\n",
    "out_df['Id'] = out_df['Id'] + 1\n",
    "out_df = out_df.set_index('Id')\n",
    "out_df.Prediction = out_df.Prediction.astype(float)"
   ]
  },
  {
   "cell_type": "code",
   "execution_count": 79,
   "metadata": {
    "collapsed": true
   },
   "outputs": [],
   "source": [
    "out_df.to_csv('../data/abhi_trial_3.csv')"
   ]
  },
  {
   "cell_type": "code",
   "execution_count": null,
   "metadata": {
    "collapsed": true
   },
   "outputs": [],
   "source": []
  }
 ],
 "metadata": {
  "kernelspec": {
   "display_name": "Python 2",
   "language": "python",
   "name": "python2"
  },
  "language_info": {
   "codemirror_mode": {
    "name": "ipython",
    "version": 2
   },
   "file_extension": ".py",
   "mimetype": "text/x-python",
   "name": "python",
   "nbconvert_exporter": "python",
   "pygments_lexer": "ipython2",
   "version": "2.7.11"
  }
 },
 "nbformat": 4,
 "nbformat_minor": 0
}
